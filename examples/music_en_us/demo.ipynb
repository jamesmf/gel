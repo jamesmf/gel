{
 "cells": [
  {
   "cell_type": "code",
   "execution_count": 1,
   "metadata": {},
   "outputs": [],
   "source": [
    "import networkx as nx\n",
    "import pandas as pd\n",
    "import numpy as np\n",
    "import os\n",
    "import json\n",
    "import random\n",
    "from typing import List, Union, Dict\n",
    "from tqdm import tqdm"
   ]
  },
  {
   "cell_type": "code",
   "execution_count": 46,
   "metadata": {},
   "outputs": [],
   "source": [
    "%load_ext blackcellmagic"
   ]
  },
  {
   "cell_type": "code",
   "execution_count": null,
   "metadata": {},
   "outputs": [],
   "source": [
    "class Example:\n",
    "    \"\"\"\n",
    "    class for holding the data for our example.\n",
    "    \"\"\"\n",
    "    def __init__(self, path: str):\n",
    "        self.genres = pd.read_csv(os.path.join(path, \"band_genres.csv\"))\n",
    "        self.labels = pd.read_csv(os.path.join(path, \"band_labels.csv\"))\n",
    "        self.members = pd.read_csv(os.path.join(path, \"band_members.csv\"))\n",
    "\n",
    "    def graph_from_data(self) -> nx.Graph:\n",
    "        \"\"\"\n",
    "        Build a graph from our sparql queried wikidata music dataset\n",
    "        \"\"\"\n",
    "        g = nx.DiGraph()\n",
    "        for band, band_name, member, member_name in self.members.values:\n",
    "            g.add_node(band, name=band_name)\n",
    "            g.add_node(member, name=member_name)\n",
    "            g.add_edge(band, member, rel=\"has_member\")\n",
    "            g.add_edge(member, band, rel=\"member_of\")\n",
    "\n",
    "        for band, band_name, label in self.labels.values:\n",
    "            g.add_node(band, name=band_name)\n",
    "            g.add_node(label)\n",
    "            g.add_edge(label, band, rel=\"signed\")\n",
    "            g.add_edge(band, label, rel=\"signed_by\")\n",
    "\n",
    "        for band, band_name, genre, genre_name in self.genres.values:\n",
    "            g.add_node(band, name=band_name)\n",
    "            g.add_node(genre, name=genre_name)\n",
    "            g.add_edge(band, genre, rel=\"has_genre\")\n",
    "            g.add_edge(genre, band, rel=\"example_of\")\n",
    "\n",
    "        return g\n",
    "\n",
    "\n",
    "class Learner:\n",
    "    \"\"\"\n",
    "    Primary class for learning our graph embeddings.\n",
    "    \"\"\"\n",
    "    def __init__(self, graph, rel_name=\"rel\", min_relations=1, max_relations=6):\n",
    "        self.g: nx.Graph = graph\n",
    "        self.node_ids: Dict[str, int] = {\"\": 0}\n",
    "        self.node_id_inv: Dict[int, str] = {}\n",
    "        self.rel_ids: Dict[str, int] = {\"\": 0}\n",
    "        self.rel_id_inv: Dict[int, str] = {}\n",
    "        self.node_id_list = []\n",
    "        self.rel_name = rel_name\n",
    "        self.min_relations = min_relations\n",
    "        self.max_relations = max_relations\n",
    "\n",
    "    def fit_graph(self):\n",
    "        \"\"\"\n",
    "        Learn the mapping between nodes and their integer ids,\n",
    "        as well as relationship types and their ids\n",
    "        \"\"\"\n",
    "        for n1, n2, edge in self.g.edges(data=True):\n",
    "            rel = edge[self.rel_name]\n",
    "            if n1 not in self.node_ids:\n",
    "                self.node_ids[n1] = len(self.node_ids)\n",
    "            if n2 not in self.node_ids:\n",
    "                self.node_ids[n2] = len(self.node_ids)\n",
    "            if rel not in self.rel_ids:\n",
    "                self.rel_ids[rel] = len(self.rel_ids)\n",
    "        self.node_id_list = [i for i in self.node_ids.keys() if i != \"\"]\n",
    "        self.node_id_inv = {v: k for k, v in self.node_ids.items()}\n",
    "        self.rel_id_inv = {v: k for k, v in self.rel_ids.items()}\n",
    "\n",
    "    def node_to_features(self, node_id):\n",
    "        \"\"\"\n",
    "        Given a node on the graph, featurize its relations and\n",
    "        return its identity\n",
    "        \"\"\"\n",
    "        node = self.g[node_id]\n",
    "        node_ind = self.node_ids[node_id]\n",
    "        n_relations = np.random.randint(self.min_relations, self.max_relations + 1)\n",
    "        keys = list(node.keys())\n",
    "        random.shuffle(keys)\n",
    "        keys = keys[:n_relations]\n",
    "        key_ids = np.array([self.node_ids[n] for n in keys])\n",
    "        rel_ids = np.array([self.rel_ids[node[n2][self.rel_name]] for n2 in keys])\n",
    "        return (key_ids, rel_ids), node_ind\n",
    "\n",
    "    def get_batch(self, batch_size):\n",
    "        x_zero = []\n",
    "        x_one = []\n",
    "        y = []\n",
    "        for n in range(0, batch_size):\n",
    "            node_id = random.choice(self.node_id_list)\n",
    "            xsub, ysub = self.node_to_features(node_id)\n",
    "            x_zero.append(xsub[0])\n",
    "            x_one.append(xsub[1])\n",
    "            y.append(ysub)\n",
    "        mx = np.max([len(i) for i in x_zero])\n",
    "        return (\n",
    "            (\n",
    "                krs.preprocessing.sequence.pad_sequences(x_zero, mx),\n",
    "                krs.preprocessing.sequence.pad_sequences(x_one, mx),\n",
    "            ),\n",
    "            np.array(y),\n",
    "        )"
   ]
  },
  {
   "cell_type": "code",
   "execution_count": 4,
   "metadata": {},
   "outputs": [],
   "source": [
    "# load our example data\n",
    "ex = Example('data/')\n",
    "\n",
    "# turn it into a networkx graph\n",
    "music = ex.graph_from_data()\n",
    "\n",
    "# fit the Learner on our dataset\n",
    "l = Learner(music)\n",
    "l.fit_graph()"
   ]
  },
  {
   "cell_type": "code",
   "execution_count": 5,
   "metadata": {},
   "outputs": [],
   "source": [
    "\"\"\"\n",
    "Here we define our model. All of this will move to its own class with wrappers\n",
    "for training and running queries.\n",
    "\"\"\"\n",
    "import tensorflow as tf\n",
    "import tensorflow.keras as krs\n",
    "\n",
    "EMBEDDING_DIM = 128\n",
    "\n",
    "with tf.device(\"/GPU:0\"):\n",
    "    # embedding layers\n",
    "    node_embedding_in = krs.layers.Embedding(len(l.node_ids) + 1, EMBEDDING_DIM)\n",
    "    rel_embedding = krs.layers.Embedding(len(l.rel_ids) + 1, EMBEDDING_DIM)\n",
    "    # vars for loss\n",
    "    output_weights = tf.Variable(tf.random.normal([len(l.node_ids) + 1, EMBEDDING_DIM]))\n",
    "    output_biases = tf.Variable(tf.zeros([len(l.node_ids) + 1]))\n",
    "\n",
    "\n",
    "def get_embedding(x):\n",
    "    with tf.device(\"/GPU:0\"):\n",
    "        # Lookup the corresponding embedding vectors for each sample in X.\n",
    "        drop1 = krs.layers.Dropout(0.25)\n",
    "        drop2 = krs.layers.Dropout(0.25)\n",
    "        x_node_embed = drop1(node_embedding_in(x[0]))\n",
    "        x_rel_embed = drop2(rel_embedding(x[1]))\n",
    "        # multiply the relationship embeddings by the node embeddings\n",
    "        mul = tf.math.multiply(x_node_embed,x_rel_embed)\n",
    "        # max pool\n",
    "        out = tf.math.reduce_max(mul, axis=1)\n",
    "        return out\n",
    "\n",
    "\n",
    "def get_loss(x_inp, y):\n",
    "    with tf.device(\"/GPU:0\"):\n",
    "        # Compute the average NCE loss for the batch.\n",
    "        y_true = tf.cast(tf.reshape(y, [-1, 1]), tf.int64)\n",
    "        y = tf.cast(y, tf.int64)\n",
    "        samp = tf.random.uniform_candidate_sampler(y_true, 1, 128, True, len(l.node_ids) + 1)\n",
    "        loss = tf.reduce_mean(\n",
    "            tf.nn.sampled_softmax_loss(\n",
    "                weights=output_weights,\n",
    "                biases=output_biases,\n",
    "                labels=y_true,\n",
    "                inputs=x_inp,\n",
    "                num_sampled=128,\n",
    "                num_classes=len(l.node_ids) + 1,\n",
    "                num_true=1,\n",
    "                sampled_values = samp,\n",
    "            )\n",
    "        )\n",
    "        return loss\n",
    "\n",
    "\n",
    "def run_optimization(x, y, optimizer):\n",
    "    y = tf.convert_to_tensor(y)\n",
    "    with tf.device(\"/GPU:0\"):\n",
    "        # Wrap computation inside a GradientTape for automatic differentiation.\n",
    "        with tf.GradientTape() as g:\n",
    "            emb = get_embedding(x)\n",
    "            loss = get_loss(emb, y)\n",
    "\n",
    "        # Compute gradients.\n",
    "        to_diff = node_embedding_in.weights + rel_embedding.weights + [output_weights, output_biases]\n",
    "        gradients = g.gradient(loss, to_diff)\n",
    "\n",
    "        # Update W and b following gradients.\n",
    "        optimizer.apply_gradients(zip(gradients, to_diff))\n",
    "    return loss\n",
    "\n",
    "\n",
    "def evaluate(x_embed):\n",
    "    with tf.device(\"/GPU:0\"):\n",
    "        # Compute the cosine similarity between input data embedding and every embedding vectors\n",
    "        x_embed = tf.cast(x_embed, tf.float32)\n",
    "        x_embed_norm = x_embed / tf.sqrt(tf.reduce_sum(tf.square(x_embed)))\n",
    "        embedding_norm = output_weights / tf.sqrt(\n",
    "            tf.reduce_sum(tf.square(output_weights), 1, keepdims=True), tf.float32\n",
    "        )\n",
    "        cosine_sim_op = tf.matmul(x_embed_norm, embedding_norm, transpose_b=True)\n",
    "        return cosine_sim_op\n"
   ]
  },
  {
   "cell_type": "code",
   "execution_count": null,
   "metadata": {},
   "outputs": [],
   "source": [
    "\n"
   ]
  },
  {
   "cell_type": "code",
   "execution_count": 6,
   "metadata": {
    "scrolled": true
   },
   "outputs": [
    {
     "name": "stderr",
     "output_type": "stream",
     "text": [
      "  0%|          | 6/1000000 [00:00<65:16:17,  4.26it/s]"
     ]
    },
    {
     "name": "stdout",
     "output_type": "stream",
     "text": [
      "training loss at epoch 0: 4.857303142547607\n"
     ]
    },
    {
     "name": "stderr",
     "output_type": "stream",
     "text": [
      "  0%|          | 1009/1000000 [00:25<8:18:43, 33.38it/s]"
     ]
    },
    {
     "name": "stdout",
     "output_type": "stream",
     "text": [
      "training loss at epoch 1000: 4.853499889373779\n"
     ]
    },
    {
     "name": "stderr",
     "output_type": "stream",
     "text": [
      "  0%|          | 2009/1000000 [00:50<9:02:28, 30.66it/s] "
     ]
    },
    {
     "name": "stdout",
     "output_type": "stream",
     "text": [
      "training loss at epoch 2000: 4.733095169067383\n"
     ]
    },
    {
     "name": "stderr",
     "output_type": "stream",
     "text": [
      "  0%|          | 3009/1000000 [01:14<8:03:04, 34.40it/s]"
     ]
    },
    {
     "name": "stdout",
     "output_type": "stream",
     "text": [
      "training loss at epoch 3000: 4.347600936889648\n"
     ]
    },
    {
     "name": "stderr",
     "output_type": "stream",
     "text": [
      "  0%|          | 4008/1000000 [01:39<8:00:32, 34.54it/s] "
     ]
    },
    {
     "name": "stdout",
     "output_type": "stream",
     "text": [
      "training loss at epoch 4000: 3.8971526622772217\n"
     ]
    },
    {
     "name": "stderr",
     "output_type": "stream",
     "text": [
      "  1%|          | 5009/1000000 [02:04<7:59:55, 34.55it/s]"
     ]
    },
    {
     "name": "stdout",
     "output_type": "stream",
     "text": [
      "training loss at epoch 5000: 3.5046303272247314\n"
     ]
    },
    {
     "name": "stderr",
     "output_type": "stream",
     "text": [
      "  1%|          | 6005/1000000 [02:28<8:51:53, 31.15it/s]"
     ]
    },
    {
     "name": "stdout",
     "output_type": "stream",
     "text": [
      "training loss at epoch 6000: 3.0487353801727295\n"
     ]
    },
    {
     "name": "stderr",
     "output_type": "stream",
     "text": [
      "  1%|          | 7005/1000000 [02:53<8:22:49, 32.91it/s]"
     ]
    },
    {
     "name": "stdout",
     "output_type": "stream",
     "text": [
      "training loss at epoch 7000: 2.783026933670044\n"
     ]
    },
    {
     "name": "stderr",
     "output_type": "stream",
     "text": [
      "  1%|          | 8007/1000000 [03:17<7:52:21, 35.00it/s]"
     ]
    },
    {
     "name": "stdout",
     "output_type": "stream",
     "text": [
      "training loss at epoch 8000: 2.3970775604248047\n"
     ]
    },
    {
     "name": "stderr",
     "output_type": "stream",
     "text": [
      "  1%|          | 9007/1000000 [03:41<8:07:16, 33.90it/s]"
     ]
    },
    {
     "name": "stdout",
     "output_type": "stream",
     "text": [
      "training loss at epoch 9000: 2.190030336380005\n"
     ]
    },
    {
     "name": "stderr",
     "output_type": "stream",
     "text": [
      "  1%|          | 10007/1000000 [04:06<8:34:35, 32.06it/s]"
     ]
    },
    {
     "name": "stdout",
     "output_type": "stream",
     "text": [
      "training loss at epoch 10000: 2.054635763168335\n",
      "for node Q6163080- {'name': 'Jason McGerr'} closest are nodes:\n",
      "{'name': 'Michael Schorr'}\n",
      "{}\n",
      "{'name': 'Nathan Good'}\n",
      "for node Q7320591- {'name': 'Rhino 39'} closest are nodes:\n",
      "{'name': 'Rhino 39'}\n",
      "{'name': 'Black Randy and the Metrosquad'}\n",
      "{}\n",
      "for node Q1196752- {'name': 'traditional pop music'} closest are nodes:\n",
      "{'name': 'traditional pop music'}\n",
      "{}\n",
      "{}\n"
     ]
    },
    {
     "name": "stderr",
     "output_type": "stream",
     "text": [
      "  1%|          | 11006/1000000 [04:30<8:03:42, 34.08it/s]"
     ]
    },
    {
     "name": "stdout",
     "output_type": "stream",
     "text": [
      "training loss at epoch 11000: 1.8390018939971924\n"
     ]
    },
    {
     "name": "stderr",
     "output_type": "stream",
     "text": [
      "  1%|          | 12006/1000000 [04:54<8:27:49, 32.43it/s]"
     ]
    },
    {
     "name": "stdout",
     "output_type": "stream",
     "text": [
      "training loss at epoch 12000: 1.7343450784683228\n"
     ]
    },
    {
     "name": "stderr",
     "output_type": "stream",
     "text": [
      "  1%|▏         | 13009/1000000 [05:19<8:17:34, 33.06it/s]"
     ]
    },
    {
     "name": "stdout",
     "output_type": "stream",
     "text": [
      "training loss at epoch 13000: 1.5973201990127563\n"
     ]
    },
    {
     "name": "stderr",
     "output_type": "stream",
     "text": [
      "  1%|▏         | 14009/1000000 [05:44<8:20:42, 32.82it/s]"
     ]
    },
    {
     "name": "stdout",
     "output_type": "stream",
     "text": [
      "training loss at epoch 14000: 1.5594944953918457\n"
     ]
    },
    {
     "name": "stderr",
     "output_type": "stream",
     "text": [
      "  2%|▏         | 15007/1000000 [06:09<7:59:46, 34.22it/s]"
     ]
    },
    {
     "name": "stdout",
     "output_type": "stream",
     "text": [
      "training loss at epoch 15000: 1.452538251876831\n"
     ]
    },
    {
     "name": "stderr",
     "output_type": "stream",
     "text": [
      "  2%|▏         | 16008/1000000 [06:33<9:46:36, 27.96it/s] "
     ]
    },
    {
     "name": "stdout",
     "output_type": "stream",
     "text": [
      "training loss at epoch 16000: 1.401157021522522\n"
     ]
    },
    {
     "name": "stderr",
     "output_type": "stream",
     "text": [
      "  2%|▏         | 17009/1000000 [06:58<8:06:19, 33.69it/s]"
     ]
    },
    {
     "name": "stdout",
     "output_type": "stream",
     "text": [
      "training loss at epoch 17000: 1.3817846775054932\n"
     ]
    },
    {
     "name": "stderr",
     "output_type": "stream",
     "text": [
      "  2%|▏         | 18009/1000000 [07:22<7:57:12, 34.30it/s]"
     ]
    },
    {
     "name": "stdout",
     "output_type": "stream",
     "text": [
      "training loss at epoch 18000: 1.2411668300628662\n"
     ]
    },
    {
     "name": "stderr",
     "output_type": "stream",
     "text": [
      "  2%|▏         | 19008/1000000 [07:46<7:53:30, 34.53it/s]"
     ]
    },
    {
     "name": "stdout",
     "output_type": "stream",
     "text": [
      "training loss at epoch 19000: 1.2086803913116455\n"
     ]
    },
    {
     "name": "stderr",
     "output_type": "stream",
     "text": [
      "  2%|▏         | 20004/1000000 [08:11<8:52:17, 30.68it/s]"
     ]
    },
    {
     "name": "stdout",
     "output_type": "stream",
     "text": [
      "training loss at epoch 20000: 1.0924296379089355\n",
      "for node Q4913240- {'name': 'Billy Riker'} closest are nodes:\n",
      "{'name': 'Billy Riker'}\n",
      "{'name': 'Headlights'}\n",
      "{'name': 'The Memphis Horns'}\n",
      "for node Q7772862- {'name': 'The Visible Men'} closest are nodes:\n",
      "{'name': 'The Visible Men'}\n",
      "{}\n",
      "{'name': 'Psychotic Waltz'}\n",
      "for node Q64636606- {'name': 'Nathan Strejcek'} closest are nodes:\n",
      "{'name': 'Nathan Strejcek'}\n",
      "{'name': 'Geordie Grindle'}\n",
      "{'name': 'Brian Johnson'}\n"
     ]
    },
    {
     "name": "stderr",
     "output_type": "stream",
     "text": [
      "  2%|▏         | 21009/1000000 [08:37<7:55:15, 34.33it/s] "
     ]
    },
    {
     "name": "stdout",
     "output_type": "stream",
     "text": [
      "training loss at epoch 21000: 1.1362566947937012\n"
     ]
    },
    {
     "name": "stderr",
     "output_type": "stream",
     "text": [
      "  2%|▏         | 22008/1000000 [09:01<8:17:47, 32.74it/s]"
     ]
    },
    {
     "name": "stdout",
     "output_type": "stream",
     "text": [
      "training loss at epoch 22000: 1.0773870944976807\n"
     ]
    },
    {
     "name": "stderr",
     "output_type": "stream",
     "text": [
      "  2%|▏         | 23005/1000000 [09:27<8:17:41, 32.72it/s]"
     ]
    },
    {
     "name": "stdout",
     "output_type": "stream",
     "text": [
      "training loss at epoch 23000: 1.0724189281463623\n"
     ]
    },
    {
     "name": "stderr",
     "output_type": "stream",
     "text": [
      "  2%|▏         | 24008/1000000 [09:52<7:34:37, 35.78it/s]"
     ]
    },
    {
     "name": "stdout",
     "output_type": "stream",
     "text": [
      "training loss at epoch 24000: 0.9737849831581116\n"
     ]
    },
    {
     "name": "stderr",
     "output_type": "stream",
     "text": [
      "  3%|▎         | 25008/1000000 [10:15<7:08:25, 37.93it/s]"
     ]
    },
    {
     "name": "stdout",
     "output_type": "stream",
     "text": [
      "training loss at epoch 25000: 0.9771662950515747\n"
     ]
    },
    {
     "name": "stderr",
     "output_type": "stream",
     "text": [
      "  3%|▎         | 26008/1000000 [10:37<7:07:25, 37.98it/s]"
     ]
    },
    {
     "name": "stdout",
     "output_type": "stream",
     "text": [
      "training loss at epoch 26000: 0.8643559217453003\n"
     ]
    },
    {
     "name": "stderr",
     "output_type": "stream",
     "text": [
      "  3%|▎         | 27008/1000000 [11:00<7:25:41, 36.39it/s]"
     ]
    },
    {
     "name": "stdout",
     "output_type": "stream",
     "text": [
      "training loss at epoch 27000: 0.8527566194534302\n"
     ]
    },
    {
     "name": "stderr",
     "output_type": "stream",
     "text": [
      "  3%|▎         | 28008/1000000 [11:22<7:07:22, 37.91it/s]"
     ]
    },
    {
     "name": "stdout",
     "output_type": "stream",
     "text": [
      "training loss at epoch 28000: 0.8887431025505066\n"
     ]
    },
    {
     "name": "stderr",
     "output_type": "stream",
     "text": [
      "  3%|▎         | 29008/1000000 [11:45<7:19:56, 36.79it/s]"
     ]
    },
    {
     "name": "stdout",
     "output_type": "stream",
     "text": [
      "training loss at epoch 29000: 0.8134719133377075\n"
     ]
    },
    {
     "name": "stderr",
     "output_type": "stream",
     "text": [
      "  3%|▎         | 30008/1000000 [12:08<7:10:38, 37.54it/s]"
     ]
    },
    {
     "name": "stdout",
     "output_type": "stream",
     "text": [
      "training loss at epoch 30000: 0.8544434309005737\n",
      "for node Q3486668- {'name': 'Slightly Stoopid'} closest are nodes:\n",
      "{'name': 'Slightly Stoopid'}\n",
      "{'name': 'Flash Cadillac & the Continental Kids'}\n",
      "{'name': 'The Ziggens'}\n",
      "for node Q7759374- {'name': 'The Rambos'} closest are nodes:\n",
      "{'name': 'The Rambos'}\n",
      "{'name': 'David Hallyday'}\n",
      "{}\n",
      "for node Q6048241- {} closest are nodes:\n",
      "{}\n",
      "{'name': 'Earthstar'}\n",
      "{'name': 'Greg Gilmore'}\n"
     ]
    },
    {
     "name": "stderr",
     "output_type": "stream",
     "text": [
      "  3%|▎         | 31008/1000000 [12:30<7:23:43, 36.40it/s]"
     ]
    },
    {
     "name": "stdout",
     "output_type": "stream",
     "text": [
      "training loss at epoch 31000: 0.8504315614700317\n"
     ]
    },
    {
     "name": "stderr",
     "output_type": "stream",
     "text": [
      "  3%|▎         | 32008/1000000 [12:53<7:23:14, 36.40it/s]"
     ]
    },
    {
     "name": "stdout",
     "output_type": "stream",
     "text": [
      "training loss at epoch 32000: 0.8345663547515869\n"
     ]
    },
    {
     "name": "stderr",
     "output_type": "stream",
     "text": [
      "  3%|▎         | 33007/1000000 [13:15<7:04:51, 37.93it/s]"
     ]
    },
    {
     "name": "stdout",
     "output_type": "stream",
     "text": [
      "training loss at epoch 33000: 0.8118854761123657\n"
     ]
    },
    {
     "name": "stderr",
     "output_type": "stream",
     "text": [
      "  3%|▎         | 34007/1000000 [13:38<7:11:08, 37.34it/s]"
     ]
    },
    {
     "name": "stdout",
     "output_type": "stream",
     "text": [
      "training loss at epoch 34000: 0.7909411191940308\n"
     ]
    },
    {
     "name": "stderr",
     "output_type": "stream",
     "text": [
      "  4%|▎         | 35007/1000000 [14:01<7:27:30, 35.94it/s]"
     ]
    },
    {
     "name": "stdout",
     "output_type": "stream",
     "text": [
      "training loss at epoch 35000: 0.7384622693061829\n"
     ]
    },
    {
     "name": "stderr",
     "output_type": "stream",
     "text": [
      "  4%|▎         | 36007/1000000 [14:23<7:20:23, 36.48it/s]"
     ]
    },
    {
     "name": "stdout",
     "output_type": "stream",
     "text": [
      "training loss at epoch 36000: 0.7592824101448059\n"
     ]
    },
    {
     "name": "stderr",
     "output_type": "stream",
     "text": [
      "  4%|▎         | 37010/1000000 [14:46<7:04:15, 37.83it/s]"
     ]
    },
    {
     "name": "stdout",
     "output_type": "stream",
     "text": [
      "training loss at epoch 37000: 0.7012171149253845\n"
     ]
    },
    {
     "name": "stderr",
     "output_type": "stream",
     "text": [
      "  4%|▍         | 38010/1000000 [15:09<7:16:53, 36.70it/s]"
     ]
    },
    {
     "name": "stdout",
     "output_type": "stream",
     "text": [
      "training loss at epoch 38000: 0.6398487091064453\n"
     ]
    },
    {
     "name": "stderr",
     "output_type": "stream",
     "text": [
      "  4%|▍         | 39010/1000000 [15:31<7:05:36, 37.63it/s]"
     ]
    },
    {
     "name": "stdout",
     "output_type": "stream",
     "text": [
      "training loss at epoch 39000: 0.7097979784011841\n"
     ]
    },
    {
     "name": "stderr",
     "output_type": "stream",
     "text": [
      "  4%|▍         | 40005/1000000 [15:54<8:18:42, 32.08it/s]"
     ]
    },
    {
     "name": "stdout",
     "output_type": "stream",
     "text": [
      "training loss at epoch 40000: 0.7216888070106506\n",
      "for node Q911296- {'name': 'Dez Fafara'} closest are nodes:\n",
      "{'name': 'Dez Fafara'}\n",
      "{'name': 'Peter Blegvad'}\n",
      "{'name': 'Okkervil River'}\n",
      "for node Q5067734- {'name': 'Chai-Town'} closest are nodes:\n",
      "{'name': 'Straight No Chaser'}\n",
      "{'name': 'The Fairfield Four'}\n",
      "{'name': 'Nota'}\n",
      "for node Q19866485- {'name': 'Creative Adult'} closest are nodes:\n",
      "{'name': 'Down to Nothing'}\n",
      "{'name': 'Johnny Jewel'}\n",
      "{}\n"
     ]
    },
    {
     "name": "stderr",
     "output_type": "stream",
     "text": [
      "  4%|▍         | 41009/1000000 [16:16<7:12:32, 36.95it/s]"
     ]
    },
    {
     "name": "stdout",
     "output_type": "stream",
     "text": [
      "training loss at epoch 41000: 0.6991111040115356\n"
     ]
    },
    {
     "name": "stderr",
     "output_type": "stream",
     "text": [
      "  4%|▍         | 42009/1000000 [16:39<7:19:12, 36.35it/s]"
     ]
    },
    {
     "name": "stdout",
     "output_type": "stream",
     "text": [
      "training loss at epoch 42000: 0.6671674847602844\n"
     ]
    },
    {
     "name": "stderr",
     "output_type": "stream",
     "text": [
      "  4%|▍         | 43009/1000000 [17:01<7:01:33, 37.84it/s]"
     ]
    },
    {
     "name": "stdout",
     "output_type": "stream",
     "text": [
      "training loss at epoch 43000: 0.6918173432350159\n"
     ]
    },
    {
     "name": "stderr",
     "output_type": "stream",
     "text": [
      "  4%|▍         | 44009/1000000 [17:24<7:04:10, 37.56it/s]"
     ]
    },
    {
     "name": "stdout",
     "output_type": "stream",
     "text": [
      "training loss at epoch 44000: 0.6779109835624695\n"
     ]
    },
    {
     "name": "stderr",
     "output_type": "stream",
     "text": [
      "  5%|▍         | 45009/1000000 [17:46<7:01:52, 37.73it/s]"
     ]
    },
    {
     "name": "stdout",
     "output_type": "stream",
     "text": [
      "training loss at epoch 45000: 0.6838801503181458\n"
     ]
    },
    {
     "name": "stderr",
     "output_type": "stream",
     "text": [
      "  5%|▍         | 46009/1000000 [18:09<6:53:16, 38.47it/s]"
     ]
    },
    {
     "name": "stdout",
     "output_type": "stream",
     "text": [
      "training loss at epoch 46000: 0.6967547535896301\n"
     ]
    },
    {
     "name": "stderr",
     "output_type": "stream",
     "text": [
      "  5%|▍         | 47009/1000000 [18:32<7:18:37, 36.21it/s]"
     ]
    },
    {
     "name": "stdout",
     "output_type": "stream",
     "text": [
      "training loss at epoch 47000: 0.6591693758964539\n"
     ]
    },
    {
     "name": "stderr",
     "output_type": "stream",
     "text": [
      "  5%|▍         | 48009/1000000 [18:54<7:02:11, 37.58it/s]"
     ]
    },
    {
     "name": "stdout",
     "output_type": "stream",
     "text": [
      "training loss at epoch 48000: 0.6315545439720154\n"
     ]
    },
    {
     "name": "stderr",
     "output_type": "stream",
     "text": [
      "  5%|▍         | 49009/1000000 [19:17<6:52:03, 38.47it/s]"
     ]
    },
    {
     "name": "stdout",
     "output_type": "stream",
     "text": [
      "training loss at epoch 49000: 0.5862679481506348\n"
     ]
    },
    {
     "name": "stderr",
     "output_type": "stream",
     "text": [
      "  5%|▌         | 50009/1000000 [19:40<7:18:40, 36.09it/s]"
     ]
    },
    {
     "name": "stdout",
     "output_type": "stream",
     "text": [
      "training loss at epoch 50000: 0.5877987742424011\n",
      "for node Q36804- {'name': 'Eazy-E'} closest are nodes:\n",
      "{'name': 'Eazy-E'}\n",
      "{'name': 'MC Ren'}\n",
      "{'name': 'Randy Bradbury'}\n",
      "for node Q2272135- {'name': 'Nine Inch Nails live performances'} closest are nodes:\n",
      "{'name': 'Nine Inch Nails live performances'}\n",
      "{'name': 'Hungry Lucy'}\n",
      "{'name': 'Nine Inch Nails'}\n",
      "for node Q19270971- {'name': 'Heidi Severin'} closest are nodes:\n",
      "{'name': 'Heidi Severin'}\n",
      "{'name': 'Amy Severin'}\n",
      "{'name': 'Haley Severin'}\n"
     ]
    },
    {
     "name": "stderr",
     "output_type": "stream",
     "text": [
      "  5%|▌         | 51009/1000000 [20:02<7:02:03, 37.47it/s]"
     ]
    },
    {
     "name": "stdout",
     "output_type": "stream",
     "text": [
      "training loss at epoch 51000: 0.5542413592338562\n"
     ]
    },
    {
     "name": "stderr",
     "output_type": "stream",
     "text": [
      "  5%|▌         | 52009/1000000 [20:25<6:57:26, 37.85it/s]"
     ]
    },
    {
     "name": "stdout",
     "output_type": "stream",
     "text": [
      "training loss at epoch 52000: 0.5999811887741089\n"
     ]
    },
    {
     "name": "stderr",
     "output_type": "stream",
     "text": [
      "  5%|▌         | 53009/1000000 [20:47<7:08:07, 36.87it/s]"
     ]
    },
    {
     "name": "stdout",
     "output_type": "stream",
     "text": [
      "training loss at epoch 53000: 0.6008589863777161\n"
     ]
    },
    {
     "name": "stderr",
     "output_type": "stream",
     "text": [
      "  5%|▌         | 54009/1000000 [21:10<7:08:59, 36.75it/s]"
     ]
    },
    {
     "name": "stdout",
     "output_type": "stream",
     "text": [
      "training loss at epoch 54000: 0.6028769612312317\n"
     ]
    },
    {
     "name": "stderr",
     "output_type": "stream",
     "text": [
      "  6%|▌         | 55009/1000000 [21:32<7:13:14, 36.35it/s]"
     ]
    },
    {
     "name": "stdout",
     "output_type": "stream",
     "text": [
      "training loss at epoch 55000: 0.6183338761329651\n"
     ]
    },
    {
     "name": "stderr",
     "output_type": "stream",
     "text": [
      "  6%|▌         | 56009/1000000 [21:55<7:14:12, 36.23it/s]"
     ]
    },
    {
     "name": "stdout",
     "output_type": "stream",
     "text": [
      "training loss at epoch 56000: 0.5789632797241211\n"
     ]
    },
    {
     "name": "stderr",
     "output_type": "stream",
     "text": [
      "  6%|▌         | 57009/1000000 [22:17<7:13:06, 36.29it/s]"
     ]
    },
    {
     "name": "stdout",
     "output_type": "stream",
     "text": [
      "training loss at epoch 57000: 0.5278223156929016\n"
     ]
    },
    {
     "name": "stderr",
     "output_type": "stream",
     "text": [
      "  6%|▌         | 58008/1000000 [22:40<7:13:00, 36.26it/s]"
     ]
    },
    {
     "name": "stdout",
     "output_type": "stream",
     "text": [
      "training loss at epoch 58000: 0.6028578877449036\n"
     ]
    },
    {
     "name": "stderr",
     "output_type": "stream",
     "text": [
      "  6%|▌         | 59008/1000000 [23:02<7:16:19, 35.94it/s]"
     ]
    },
    {
     "name": "stdout",
     "output_type": "stream",
     "text": [
      "training loss at epoch 59000: 0.527962863445282\n"
     ]
    },
    {
     "name": "stderr",
     "output_type": "stream",
     "text": [
      "  6%|▌         | 60008/1000000 [23:25<6:57:12, 37.55it/s]"
     ]
    },
    {
     "name": "stdout",
     "output_type": "stream",
     "text": [
      "training loss at epoch 60000: 0.5617537498474121\n",
      "for node Q7375202- {'name': 'Royden'} closest are nodes:\n",
      "{}\n",
      "{'name': 'Against All Authority'}\n",
      "{'name': 'Heckle'}\n",
      "for node Q5501809- {'name': 'French Kicks'} closest are nodes:\n",
      "{'name': 'Bully'}\n",
      "{'name': 'Glenn Hughes'}\n",
      "{'name': 'Monk & Neagle'}\n",
      "for node Q15117480- {'name': 'Jona Bechtolt'} closest are nodes:\n",
      "{'name': 'Jona Bechtolt'}\n",
      "{'name': 'Jack Grisham'}\n",
      "{'name': 'Maria Azevedo'}\n"
     ]
    },
    {
     "name": "stderr",
     "output_type": "stream",
     "text": [
      "  6%|▌         | 61008/1000000 [23:47<7:01:02, 37.17it/s]"
     ]
    },
    {
     "name": "stdout",
     "output_type": "stream",
     "text": [
      "training loss at epoch 61000: 0.47178465127944946\n"
     ]
    },
    {
     "name": "stderr",
     "output_type": "stream",
     "text": [
      "  6%|▌         | 62008/1000000 [24:10<6:56:18, 37.55it/s]"
     ]
    },
    {
     "name": "stdout",
     "output_type": "stream",
     "text": [
      "training loss at epoch 62000: 0.5342383980751038\n"
     ]
    },
    {
     "name": "stderr",
     "output_type": "stream",
     "text": [
      "  6%|▋         | 63008/1000000 [24:32<7:10:07, 36.31it/s]"
     ]
    },
    {
     "name": "stdout",
     "output_type": "stream",
     "text": [
      "training loss at epoch 63000: 0.5360217094421387\n"
     ]
    },
    {
     "name": "stderr",
     "output_type": "stream",
     "text": [
      "  6%|▋         | 64008/1000000 [24:55<6:57:54, 37.33it/s]"
     ]
    },
    {
     "name": "stdout",
     "output_type": "stream",
     "text": [
      "training loss at epoch 64000: 0.5698844790458679\n"
     ]
    },
    {
     "name": "stderr",
     "output_type": "stream",
     "text": [
      "  7%|▋         | 65008/1000000 [25:17<6:46:41, 38.32it/s]"
     ]
    },
    {
     "name": "stdout",
     "output_type": "stream",
     "text": [
      "training loss at epoch 65000: 0.46105167269706726\n"
     ]
    },
    {
     "name": "stderr",
     "output_type": "stream",
     "text": [
      "  7%|▋         | 66008/1000000 [25:40<7:46:14, 33.39it/s]"
     ]
    },
    {
     "name": "stdout",
     "output_type": "stream",
     "text": [
      "training loss at epoch 66000: 0.508612871170044\n"
     ]
    },
    {
     "name": "stderr",
     "output_type": "stream",
     "text": [
      "  7%|▋         | 67008/1000000 [26:03<7:04:15, 36.65it/s]"
     ]
    },
    {
     "name": "stdout",
     "output_type": "stream",
     "text": [
      "training loss at epoch 67000: 0.491721510887146\n"
     ]
    },
    {
     "name": "stderr",
     "output_type": "stream",
     "text": [
      "  7%|▋         | 68008/1000000 [26:25<6:50:11, 37.87it/s]"
     ]
    },
    {
     "name": "stdout",
     "output_type": "stream",
     "text": [
      "training loss at epoch 68000: 0.5141831636428833\n"
     ]
    },
    {
     "name": "stderr",
     "output_type": "stream",
     "text": [
      "  7%|▋         | 69008/1000000 [26:48<6:51:54, 37.67it/s]"
     ]
    },
    {
     "name": "stdout",
     "output_type": "stream",
     "text": [
      "training loss at epoch 69000: 0.49723756313323975\n"
     ]
    },
    {
     "name": "stderr",
     "output_type": "stream",
     "text": [
      "  7%|▋         | 70008/1000000 [27:10<7:12:47, 35.81it/s]"
     ]
    },
    {
     "name": "stdout",
     "output_type": "stream",
     "text": [
      "training loss at epoch 70000: 0.5056448578834534\n",
      "for node Q5228414- {'name': 'Dave Brockie Experience'} closest are nodes:\n",
      "{'name': 'Dave Brockie Experience'}\n",
      "{}\n",
      "{'name': 'Bermuda Triangle Band'}\n",
      "for node Q1435522- {} closest are nodes:\n",
      "{}\n",
      "{'name': 'Vinny Appice'}\n",
      "{'name': 'Four Walls Falling'}\n",
      "for node Q338781- {'name': 'Dave Lambert'} closest are nodes:\n",
      "{'name': 'Dave Lambert'}\n",
      "{'name': 'Sean Foreman'}\n",
      "{'name': 'Chris Seefried'}\n"
     ]
    },
    {
     "name": "stderr",
     "output_type": "stream",
     "text": [
      "  7%|▋         | 71008/1000000 [27:33<6:44:24, 38.29it/s]"
     ]
    },
    {
     "name": "stdout",
     "output_type": "stream",
     "text": [
      "training loss at epoch 71000: 0.46763160824775696\n"
     ]
    },
    {
     "name": "stderr",
     "output_type": "stream",
     "text": [
      "  7%|▋         | 72008/1000000 [27:55<6:54:18, 37.33it/s]"
     ]
    },
    {
     "name": "stdout",
     "output_type": "stream",
     "text": [
      "training loss at epoch 72000: 0.5034396052360535\n"
     ]
    },
    {
     "name": "stderr",
     "output_type": "stream",
     "text": [
      "  7%|▋         | 73008/1000000 [28:18<6:51:27, 37.55it/s]"
     ]
    },
    {
     "name": "stdout",
     "output_type": "stream",
     "text": [
      "training loss at epoch 73000: 0.504160463809967\n"
     ]
    },
    {
     "name": "stderr",
     "output_type": "stream",
     "text": [
      "  7%|▋         | 74008/1000000 [28:40<6:53:04, 37.36it/s]"
     ]
    },
    {
     "name": "stdout",
     "output_type": "stream",
     "text": [
      "training loss at epoch 74000: 0.4766441583633423\n"
     ]
    },
    {
     "name": "stderr",
     "output_type": "stream",
     "text": [
      "  8%|▊         | 75008/1000000 [29:03<6:58:04, 36.88it/s]"
     ]
    },
    {
     "name": "stdout",
     "output_type": "stream",
     "text": [
      "training loss at epoch 75000: 0.4461003541946411\n"
     ]
    },
    {
     "name": "stderr",
     "output_type": "stream",
     "text": [
      "  8%|▊         | 76008/1000000 [29:25<6:56:15, 37.00it/s]"
     ]
    },
    {
     "name": "stdout",
     "output_type": "stream",
     "text": [
      "training loss at epoch 76000: 0.4718117415904999\n"
     ]
    },
    {
     "name": "stderr",
     "output_type": "stream",
     "text": [
      "  8%|▊         | 77008/1000000 [29:48<7:01:55, 36.46it/s]"
     ]
    },
    {
     "name": "stdout",
     "output_type": "stream",
     "text": [
      "training loss at epoch 77000: 0.47644469141960144\n"
     ]
    },
    {
     "name": "stderr",
     "output_type": "stream",
     "text": [
      "  8%|▊         | 78008/1000000 [30:10<6:50:25, 37.44it/s]"
     ]
    },
    {
     "name": "stdout",
     "output_type": "stream",
     "text": [
      "training loss at epoch 78000: 0.5142476558685303\n"
     ]
    },
    {
     "name": "stderr",
     "output_type": "stream",
     "text": [
      "  8%|▊         | 79008/1000000 [30:32<7:02:15, 36.35it/s]"
     ]
    },
    {
     "name": "stdout",
     "output_type": "stream",
     "text": [
      "training loss at epoch 79000: 0.5078102350234985\n"
     ]
    },
    {
     "name": "stderr",
     "output_type": "stream",
     "text": [
      "  8%|▊         | 80008/1000000 [30:55<6:55:53, 36.87it/s]"
     ]
    },
    {
     "name": "stdout",
     "output_type": "stream",
     "text": [
      "training loss at epoch 80000: 0.47794753313064575\n",
      "for node Q1579194- {'name': 'Radio Moscow'} closest are nodes:\n",
      "{'name': 'Radio Moscow'}\n",
      "{}\n",
      "{'name': 'Speedwolf'}\n",
      "for node Q313854- {'name': 'Eric Singer'} closest are nodes:\n",
      "{'name': 'Shelley Preston'}\n",
      "{'name': 'Eric Singer'}\n",
      "{'name': 'Spike Edney'}\n",
      "for node Q2140332- {'name': 'Alabama'} closest are nodes:\n",
      "{'name': 'Alabama'}\n",
      "{'name': 'The Rock Heroes'}\n",
      "{'name': 'Sarah Anderson'}\n"
     ]
    },
    {
     "name": "stderr",
     "output_type": "stream",
     "text": [
      "  8%|▊         | 81008/1000000 [31:17<7:09:12, 35.69it/s]"
     ]
    },
    {
     "name": "stdout",
     "output_type": "stream",
     "text": [
      "training loss at epoch 81000: 0.5028003454208374\n"
     ]
    },
    {
     "name": "stderr",
     "output_type": "stream",
     "text": [
      "  8%|▊         | 82008/1000000 [31:40<6:50:52, 37.24it/s]"
     ]
    },
    {
     "name": "stdout",
     "output_type": "stream",
     "text": [
      "training loss at epoch 82000: 0.43680521845817566\n"
     ]
    },
    {
     "name": "stderr",
     "output_type": "stream",
     "text": [
      "  8%|▊         | 83008/1000000 [32:02<6:54:29, 36.87it/s]"
     ]
    },
    {
     "name": "stdout",
     "output_type": "stream",
     "text": [
      "training loss at epoch 83000: 0.4546352028846741\n"
     ]
    },
    {
     "name": "stderr",
     "output_type": "stream",
     "text": [
      "  8%|▊         | 84008/1000000 [32:25<6:49:40, 37.27it/s]"
     ]
    },
    {
     "name": "stdout",
     "output_type": "stream",
     "text": [
      "training loss at epoch 84000: 0.48664551973342896\n"
     ]
    },
    {
     "name": "stderr",
     "output_type": "stream",
     "text": [
      "  9%|▊         | 85008/1000000 [32:47<6:45:50, 37.58it/s]"
     ]
    },
    {
     "name": "stdout",
     "output_type": "stream",
     "text": [
      "training loss at epoch 85000: 0.4702416658401489\n"
     ]
    },
    {
     "name": "stderr",
     "output_type": "stream",
     "text": [
      "  9%|▊         | 86008/1000000 [33:10<6:41:09, 37.97it/s]"
     ]
    },
    {
     "name": "stdout",
     "output_type": "stream",
     "text": [
      "training loss at epoch 86000: 0.4794278144836426\n"
     ]
    },
    {
     "name": "stderr",
     "output_type": "stream",
     "text": [
      "  9%|▊         | 87008/1000000 [33:32<6:45:51, 37.49it/s]"
     ]
    },
    {
     "name": "stdout",
     "output_type": "stream",
     "text": [
      "training loss at epoch 87000: 0.40115565061569214\n"
     ]
    },
    {
     "name": "stderr",
     "output_type": "stream",
     "text": [
      "  9%|▉         | 88008/1000000 [33:55<6:43:03, 37.71it/s]"
     ]
    },
    {
     "name": "stdout",
     "output_type": "stream",
     "text": [
      "training loss at epoch 88000: 0.4319412410259247\n"
     ]
    },
    {
     "name": "stderr",
     "output_type": "stream",
     "text": [
      "  9%|▉         | 89008/1000000 [34:17<7:03:56, 35.81it/s]"
     ]
    },
    {
     "name": "stdout",
     "output_type": "stream",
     "text": [
      "training loss at epoch 89000: 0.4646398425102234\n"
     ]
    },
    {
     "name": "stderr",
     "output_type": "stream",
     "text": [
      "  9%|▉         | 90008/1000000 [34:40<6:57:23, 36.34it/s]"
     ]
    },
    {
     "name": "stdout",
     "output_type": "stream",
     "text": [
      "training loss at epoch 90000: 0.458281934261322\n",
      "for node Q3394853- {} closest are nodes:\n",
      "{}\n",
      "{'name': 'Hour Glass'}\n",
      "{'name': 'Nyna Crawford'}\n",
      "for node Q15053782- {'name': 'Slave to the System'} closest are nodes:\n",
      "{'name': 'Slave to the System'}\n",
      "{'name': 'Game Theory'}\n",
      "{'name': 'Artists United Against Apartheid'}\n",
      "for node Q8036374- {'name': 'World Under Blood'} closest are nodes:\n",
      "{'name': 'World Under Blood'}\n",
      "{}\n",
      "{'name': 'Foreign Objects'}\n"
     ]
    },
    {
     "name": "stderr",
     "output_type": "stream",
     "text": [
      "  9%|▉         | 91008/1000000 [35:02<6:43:14, 37.57it/s]"
     ]
    },
    {
     "name": "stdout",
     "output_type": "stream",
     "text": [
      "training loss at epoch 91000: 0.4566514492034912\n"
     ]
    },
    {
     "name": "stderr",
     "output_type": "stream",
     "text": [
      "  9%|▉         | 92008/1000000 [35:25<6:40:51, 37.75it/s]"
     ]
    },
    {
     "name": "stdout",
     "output_type": "stream",
     "text": [
      "training loss at epoch 92000: 0.452778160572052\n"
     ]
    },
    {
     "name": "stderr",
     "output_type": "stream",
     "text": [
      "  9%|▉         | 93008/1000000 [35:47<6:46:51, 37.16it/s]"
     ]
    },
    {
     "name": "stdout",
     "output_type": "stream",
     "text": [
      "training loss at epoch 93000: 0.38890567421913147\n"
     ]
    },
    {
     "name": "stderr",
     "output_type": "stream",
     "text": [
      "  9%|▉         | 94007/1000000 [36:10<6:54:53, 36.39it/s]"
     ]
    },
    {
     "name": "stdout",
     "output_type": "stream",
     "text": [
      "training loss at epoch 94000: 0.41085997223854065\n"
     ]
    },
    {
     "name": "stderr",
     "output_type": "stream",
     "text": [
      " 10%|▉         | 95007/1000000 [36:33<6:48:40, 36.91it/s]"
     ]
    },
    {
     "name": "stdout",
     "output_type": "stream",
     "text": [
      "training loss at epoch 95000: 0.428704172372818\n"
     ]
    },
    {
     "name": "stderr",
     "output_type": "stream",
     "text": [
      " 10%|▉         | 96007/1000000 [36:55<6:57:04, 36.12it/s]"
     ]
    },
    {
     "name": "stdout",
     "output_type": "stream",
     "text": [
      "training loss at epoch 96000: 0.38003143668174744\n"
     ]
    },
    {
     "name": "stderr",
     "output_type": "stream",
     "text": [
      " 10%|▉         | 97007/1000000 [37:18<6:35:18, 38.07it/s]"
     ]
    },
    {
     "name": "stdout",
     "output_type": "stream",
     "text": [
      "training loss at epoch 97000: 0.4540506899356842\n"
     ]
    },
    {
     "name": "stderr",
     "output_type": "stream",
     "text": [
      " 10%|▉         | 98007/1000000 [37:40<6:35:25, 38.02it/s]"
     ]
    },
    {
     "name": "stdout",
     "output_type": "stream",
     "text": [
      "training loss at epoch 98000: 0.4479125738143921\n"
     ]
    },
    {
     "name": "stderr",
     "output_type": "stream",
     "text": [
      " 10%|▉         | 99007/1000000 [38:03<6:55:10, 36.17it/s]"
     ]
    },
    {
     "name": "stdout",
     "output_type": "stream",
     "text": [
      "training loss at epoch 99000: 0.43276751041412354\n"
     ]
    },
    {
     "name": "stderr",
     "output_type": "stream",
     "text": [
      " 10%|█         | 100007/1000000 [38:25<7:03:54, 35.38it/s]"
     ]
    },
    {
     "name": "stdout",
     "output_type": "stream",
     "text": [
      "training loss at epoch 100000: 0.4149131178855896\n",
      "for node Q2537857- {'name': 'The Mar-Keys'} closest are nodes:\n",
      "{'name': 'The Mad Lads'}\n",
      "{'name': 'The Memphis Horns'}\n",
      "{'name': 'Billy Kilson'}\n",
      "for node Q7525098- {'name': 'Sintanic'} closest are nodes:\n",
      "{'name': 'Sintanic'}\n",
      "{'name': 'Five Finger Death Punch'}\n",
      "{'name': 'The K.G.B.'}\n",
      "for node Q15927187- {'name': 'Premonition 13'} closest are nodes:\n",
      "{'name': 'Vaux'}\n",
      "{'name': 'Premonition 13'}\n",
      "{'name': 'Something Like Silas'}\n"
     ]
    },
    {
     "name": "stderr",
     "output_type": "stream",
     "text": [
      " 10%|█         | 101007/1000000 [38:48<6:51:51, 36.38it/s]"
     ]
    },
    {
     "name": "stdout",
     "output_type": "stream",
     "text": [
      "training loss at epoch 101000: 0.4152785837650299\n"
     ]
    },
    {
     "name": "stderr",
     "output_type": "stream",
     "text": [
      " 10%|█         | 102007/1000000 [39:10<6:47:54, 36.69it/s]"
     ]
    },
    {
     "name": "stdout",
     "output_type": "stream",
     "text": [
      "training loss at epoch 102000: 0.3967794179916382\n"
     ]
    },
    {
     "name": "stderr",
     "output_type": "stream",
     "text": [
      " 10%|█         | 103007/1000000 [39:33<6:41:10, 37.27it/s]"
     ]
    },
    {
     "name": "stdout",
     "output_type": "stream",
     "text": [
      "training loss at epoch 103000: 0.4072539210319519\n"
     ]
    },
    {
     "name": "stderr",
     "output_type": "stream",
     "text": [
      " 10%|█         | 104007/1000000 [39:55<6:49:24, 36.48it/s]"
     ]
    },
    {
     "name": "stdout",
     "output_type": "stream",
     "text": [
      "training loss at epoch 104000: 0.37631937861442566\n"
     ]
    },
    {
     "name": "stderr",
     "output_type": "stream",
     "text": [
      " 11%|█         | 105007/1000000 [40:18<6:33:54, 37.87it/s]"
     ]
    },
    {
     "name": "stdout",
     "output_type": "stream",
     "text": [
      "training loss at epoch 105000: 0.433225154876709\n"
     ]
    },
    {
     "name": "stderr",
     "output_type": "stream",
     "text": [
      " 11%|█         | 106007/1000000 [40:41<6:42:21, 37.03it/s]"
     ]
    },
    {
     "name": "stdout",
     "output_type": "stream",
     "text": [
      "training loss at epoch 106000: 0.4220637381076813\n"
     ]
    },
    {
     "name": "stderr",
     "output_type": "stream",
     "text": [
      " 11%|█         | 107007/1000000 [41:03<6:48:16, 36.45it/s]"
     ]
    },
    {
     "name": "stdout",
     "output_type": "stream",
     "text": [
      "training loss at epoch 107000: 0.4226180613040924\n"
     ]
    },
    {
     "name": "stderr",
     "output_type": "stream",
     "text": [
      " 11%|█         | 108007/1000000 [41:25<6:47:41, 36.46it/s]"
     ]
    },
    {
     "name": "stdout",
     "output_type": "stream",
     "text": [
      "training loss at epoch 108000: 0.39269378781318665\n"
     ]
    },
    {
     "name": "stderr",
     "output_type": "stream",
     "text": [
      " 11%|█         | 109007/1000000 [41:48<6:40:31, 37.08it/s]"
     ]
    },
    {
     "name": "stdout",
     "output_type": "stream",
     "text": [
      "training loss at epoch 109000: 0.46259135007858276\n"
     ]
    },
    {
     "name": "stderr",
     "output_type": "stream",
     "text": [
      " 11%|█         | 110007/1000000 [42:10<6:34:58, 37.56it/s]"
     ]
    },
    {
     "name": "stdout",
     "output_type": "stream",
     "text": [
      "training loss at epoch 110000: 0.4348033368587494\n",
      "for node Q1571382- {} closest are nodes:\n",
      "{}\n",
      "{'name': 'Explorers Club'}\n",
      "{'name': 'Plastic Eaters'}\n",
      "for node Q503264- {'name': 'Gregg Allman'} closest are nodes:\n",
      "{'name': 'Gregg Allman'}\n",
      "{'name': 'Chris Conley'}\n",
      "{'name': 'Circle II Circle'}\n",
      "for node Q7752337- {'name': 'The Mossie'} closest are nodes:\n",
      "{'name': 'The Mossie'}\n",
      "{'name': 'Funk Mobb'}\n",
      "{'name': 'L.A.P.D.'}\n"
     ]
    },
    {
     "name": "stderr",
     "output_type": "stream",
     "text": [
      " 11%|█         | 111007/1000000 [42:33<6:41:02, 36.95it/s]"
     ]
    },
    {
     "name": "stdout",
     "output_type": "stream",
     "text": [
      "training loss at epoch 111000: 0.4125998020172119\n"
     ]
    },
    {
     "name": "stderr",
     "output_type": "stream",
     "text": [
      " 11%|█         | 112007/1000000 [42:55<6:45:07, 36.53it/s]"
     ]
    },
    {
     "name": "stdout",
     "output_type": "stream",
     "text": [
      "training loss at epoch 112000: 0.4165998697280884\n"
     ]
    },
    {
     "name": "stderr",
     "output_type": "stream",
     "text": [
      " 11%|█▏        | 113007/1000000 [43:18<6:54:16, 35.68it/s]"
     ]
    },
    {
     "name": "stdout",
     "output_type": "stream",
     "text": [
      "training loss at epoch 113000: 0.4104869067668915\n"
     ]
    },
    {
     "name": "stderr",
     "output_type": "stream",
     "text": [
      " 11%|█▏        | 114007/1000000 [43:40<6:34:34, 37.42it/s]"
     ]
    },
    {
     "name": "stdout",
     "output_type": "stream",
     "text": [
      "training loss at epoch 114000: 0.3779735863208771\n"
     ]
    },
    {
     "name": "stderr",
     "output_type": "stream",
     "text": [
      " 12%|█▏        | 115007/1000000 [44:03<6:38:02, 37.06it/s]"
     ]
    },
    {
     "name": "stdout",
     "output_type": "stream",
     "text": [
      "training loss at epoch 115000: 0.433573454618454\n"
     ]
    },
    {
     "name": "stderr",
     "output_type": "stream",
     "text": [
      " 12%|█▏        | 116007/1000000 [44:25<6:23:07, 38.45it/s]"
     ]
    },
    {
     "name": "stdout",
     "output_type": "stream",
     "text": [
      "training loss at epoch 116000: 0.3793153464794159\n"
     ]
    },
    {
     "name": "stderr",
     "output_type": "stream",
     "text": [
      " 12%|█▏        | 117007/1000000 [44:48<6:33:42, 37.38it/s]"
     ]
    },
    {
     "name": "stdout",
     "output_type": "stream",
     "text": [
      "training loss at epoch 117000: 0.40865209698677063\n"
     ]
    },
    {
     "name": "stderr",
     "output_type": "stream",
     "text": [
      " 12%|█▏        | 118007/1000000 [45:10<6:46:35, 36.15it/s]"
     ]
    },
    {
     "name": "stdout",
     "output_type": "stream",
     "text": [
      "training loss at epoch 118000: 0.43196821212768555\n"
     ]
    },
    {
     "name": "stderr",
     "output_type": "stream",
     "text": [
      " 12%|█▏        | 119007/1000000 [45:32<6:44:25, 36.31it/s]"
     ]
    },
    {
     "name": "stdout",
     "output_type": "stream",
     "text": [
      "training loss at epoch 119000: 0.41496768593788147\n"
     ]
    },
    {
     "name": "stderr",
     "output_type": "stream",
     "text": [
      " 12%|█▏        | 120007/1000000 [45:55<6:38:31, 36.80it/s]"
     ]
    },
    {
     "name": "stdout",
     "output_type": "stream",
     "text": [
      "training loss at epoch 120000: 0.4098195731639862\n",
      "for node Q5120402- {'name': 'Cinder'} closest are nodes:\n",
      "{'name': 'Edie Brickell & New Bohemians'}\n",
      "{'name': 'Midlake'}\n",
      "{'name': 'TheStart'}\n",
      "for node Q16841989- {'name': 'Heartist'} closest are nodes:\n",
      "{'name': 'Heartist'}\n",
      "{'name': 'Texas Is the Reason'}\n",
      "{}\n",
      "for node Q4927821- {'name': 'Blood of Abraham'} closest are nodes:\n",
      "{'name': 'H.W.A.'}\n",
      "{'name': 'J. J. Fad'}\n",
      "{'name': 'Blood of Abraham'}\n"
     ]
    },
    {
     "name": "stderr",
     "output_type": "stream",
     "text": [
      " 12%|█▏        | 121006/1000000 [46:17<6:38:45, 36.74it/s]"
     ]
    },
    {
     "name": "stdout",
     "output_type": "stream",
     "text": [
      "training loss at epoch 121000: 0.3425382673740387\n"
     ]
    },
    {
     "name": "stderr",
     "output_type": "stream",
     "text": [
      " 12%|█▏        | 122006/1000000 [46:40<6:21:32, 38.35it/s]"
     ]
    },
    {
     "name": "stdout",
     "output_type": "stream",
     "text": [
      "training loss at epoch 122000: 0.3806504011154175\n"
     ]
    },
    {
     "name": "stderr",
     "output_type": "stream",
     "text": [
      " 12%|█▏        | 123006/1000000 [47:02<6:26:07, 37.85it/s]"
     ]
    },
    {
     "name": "stdout",
     "output_type": "stream",
     "text": [
      "training loss at epoch 123000: 0.4165690839290619\n"
     ]
    },
    {
     "name": "stderr",
     "output_type": "stream",
     "text": [
      " 12%|█▏        | 124006/1000000 [47:24<6:36:49, 36.79it/s]"
     ]
    },
    {
     "name": "stdout",
     "output_type": "stream",
     "text": [
      "training loss at epoch 124000: 0.3576153814792633\n"
     ]
    },
    {
     "name": "stderr",
     "output_type": "stream",
     "text": [
      " 13%|█▎        | 125006/1000000 [47:47<6:28:11, 37.57it/s]"
     ]
    },
    {
     "name": "stdout",
     "output_type": "stream",
     "text": [
      "training loss at epoch 125000: 0.3782716691493988\n"
     ]
    },
    {
     "name": "stderr",
     "output_type": "stream",
     "text": [
      " 13%|█▎        | 126006/1000000 [48:09<6:23:38, 37.97it/s]"
     ]
    },
    {
     "name": "stdout",
     "output_type": "stream",
     "text": [
      "training loss at epoch 126000: 0.3574915826320648\n"
     ]
    },
    {
     "name": "stderr",
     "output_type": "stream",
     "text": [
      " 13%|█▎        | 127006/1000000 [48:32<6:35:40, 36.77it/s]"
     ]
    },
    {
     "name": "stdout",
     "output_type": "stream",
     "text": [
      "training loss at epoch 127000: 0.36789149045944214\n"
     ]
    },
    {
     "name": "stderr",
     "output_type": "stream",
     "text": [
      " 13%|█▎        | 128006/1000000 [48:54<7:29:10, 32.36it/s]"
     ]
    },
    {
     "name": "stdout",
     "output_type": "stream",
     "text": [
      "training loss at epoch 128000: 0.4139801263809204\n"
     ]
    },
    {
     "name": "stderr",
     "output_type": "stream",
     "text": [
      " 13%|█▎        | 129006/1000000 [49:17<6:28:28, 37.37it/s]"
     ]
    },
    {
     "name": "stdout",
     "output_type": "stream",
     "text": [
      "training loss at epoch 129000: 0.39474254846572876\n"
     ]
    },
    {
     "name": "stderr",
     "output_type": "stream",
     "text": [
      " 13%|█▎        | 130006/1000000 [49:39<6:34:00, 36.80it/s]"
     ]
    },
    {
     "name": "stdout",
     "output_type": "stream",
     "text": [
      "training loss at epoch 130000: 0.39554113149642944\n",
      "for node Q2295716- {'name': 'Snake River Conspiracy'} closest are nodes:\n",
      "{'name': 'Snake River Conspiracy'}\n",
      "{'name': 'Single File'}\n",
      "{'name': '4 P.M.'}\n",
      "for node Q36489589- {'name': 'Matt Flinner'} closest are nodes:\n",
      "{'name': 'Jeff Sipe'}\n",
      "{'name': 'Vince Herman'}\n",
      "{'name': 'Bill Payne'}\n",
      "for node Q20687568- {'name': 'Daniel Weydant'} closest are nodes:\n",
      "{'name': 'Daniel Weydant'}\n",
      "{'name': 'Louiche Mayorga'}\n",
      "{'name': 'Refugee Camp All-Stars'}\n"
     ]
    },
    {
     "name": "stderr",
     "output_type": "stream",
     "text": [
      " 13%|█▎        | 131006/1000000 [50:01<6:25:28, 37.57it/s]"
     ]
    },
    {
     "name": "stdout",
     "output_type": "stream",
     "text": [
      "training loss at epoch 131000: 0.40624865889549255\n"
     ]
    },
    {
     "name": "stderr",
     "output_type": "stream",
     "text": [
      " 13%|█▎        | 132006/1000000 [50:24<6:33:02, 36.81it/s]"
     ]
    },
    {
     "name": "stdout",
     "output_type": "stream",
     "text": [
      "training loss at epoch 132000: 0.3940056562423706\n"
     ]
    },
    {
     "name": "stderr",
     "output_type": "stream",
     "text": [
      " 13%|█▎        | 133006/1000000 [50:46<6:29:26, 37.10it/s]"
     ]
    },
    {
     "name": "stdout",
     "output_type": "stream",
     "text": [
      "training loss at epoch 133000: 0.3537350296974182\n"
     ]
    },
    {
     "name": "stderr",
     "output_type": "stream",
     "text": [
      " 13%|█▎        | 134006/1000000 [51:08<6:31:40, 36.85it/s]"
     ]
    },
    {
     "name": "stdout",
     "output_type": "stream",
     "text": [
      "training loss at epoch 134000: 0.3702453374862671\n"
     ]
    },
    {
     "name": "stderr",
     "output_type": "stream",
     "text": [
      " 14%|█▎        | 135006/1000000 [51:31<6:42:09, 35.85it/s]"
     ]
    },
    {
     "name": "stdout",
     "output_type": "stream",
     "text": [
      "training loss at epoch 135000: 0.3733597993850708\n"
     ]
    },
    {
     "name": "stderr",
     "output_type": "stream",
     "text": [
      " 14%|█▎        | 136006/1000000 [51:53<6:25:36, 37.34it/s]"
     ]
    },
    {
     "name": "stdout",
     "output_type": "stream",
     "text": [
      "training loss at epoch 136000: 0.37178730964660645\n"
     ]
    },
    {
     "name": "stderr",
     "output_type": "stream",
     "text": [
      " 14%|█▎        | 137009/1000000 [52:16<6:28:31, 37.02it/s]"
     ]
    },
    {
     "name": "stdout",
     "output_type": "stream",
     "text": [
      "training loss at epoch 137000: 0.36363959312438965\n"
     ]
    },
    {
     "name": "stderr",
     "output_type": "stream",
     "text": [
      " 14%|█▍        | 138009/1000000 [52:38<6:17:08, 38.09it/s]"
     ]
    },
    {
     "name": "stdout",
     "output_type": "stream",
     "text": [
      "training loss at epoch 138000: 0.3392384946346283\n"
     ]
    },
    {
     "name": "stderr",
     "output_type": "stream",
     "text": [
      " 14%|█▍        | 139009/1000000 [53:01<6:11:52, 38.59it/s]"
     ]
    },
    {
     "name": "stdout",
     "output_type": "stream",
     "text": [
      "training loss at epoch 139000: 0.32206812500953674\n"
     ]
    },
    {
     "name": "stderr",
     "output_type": "stream",
     "text": [
      " 14%|█▍        | 140009/1000000 [53:23<6:25:49, 37.15it/s]"
     ]
    },
    {
     "name": "stdout",
     "output_type": "stream",
     "text": [
      "training loss at epoch 140000: 0.3686721622943878\n",
      "for node Q3487015- {'name': 'Con Funk Shun'} closest are nodes:\n",
      "{'name': 'Animal Bag'}\n",
      "{'name': 'Material Issue'}\n",
      "{'name': 'Rusted Root'}\n",
      "for node Q16829662- {'name': 'DII Band'} closest are nodes:\n",
      "{'name': 'DII Band'}\n",
      "{'name': 'Steel Train'}\n",
      "{'name': 'Tribal Tech'}\n",
      "for node Q54860- {} closest are nodes:\n",
      "{}\n",
      "{'name': 'The Head and the Heart'}\n",
      "{}\n"
     ]
    },
    {
     "name": "stderr",
     "output_type": "stream",
     "text": [
      " 14%|█▍        | 141009/1000000 [53:45<6:15:40, 38.11it/s]"
     ]
    },
    {
     "name": "stdout",
     "output_type": "stream",
     "text": [
      "training loss at epoch 141000: 0.3537602126598358\n"
     ]
    },
    {
     "name": "stderr",
     "output_type": "stream",
     "text": [
      " 14%|█▍        | 142009/1000000 [54:08<6:06:50, 38.98it/s]"
     ]
    },
    {
     "name": "stdout",
     "output_type": "stream",
     "text": [
      "training loss at epoch 142000: 0.3569829761981964\n"
     ]
    },
    {
     "name": "stderr",
     "output_type": "stream",
     "text": [
      " 14%|█▍        | 143009/1000000 [54:30<6:29:48, 36.64it/s]"
     ]
    },
    {
     "name": "stdout",
     "output_type": "stream",
     "text": [
      "training loss at epoch 143000: 0.3608354330062866\n"
     ]
    },
    {
     "name": "stderr",
     "output_type": "stream",
     "text": [
      " 14%|█▍        | 144009/1000000 [54:52<6:13:55, 38.15it/s]"
     ]
    },
    {
     "name": "stdout",
     "output_type": "stream",
     "text": [
      "training loss at epoch 144000: 0.34926778078079224\n"
     ]
    },
    {
     "name": "stderr",
     "output_type": "stream",
     "text": [
      " 15%|█▍        | 145009/1000000 [55:15<6:14:52, 38.01it/s]"
     ]
    },
    {
     "name": "stdout",
     "output_type": "stream",
     "text": [
      "training loss at epoch 145000: 0.3407980501651764\n"
     ]
    },
    {
     "name": "stderr",
     "output_type": "stream",
     "text": [
      " 15%|█▍        | 146009/1000000 [55:37<6:17:13, 37.73it/s]"
     ]
    },
    {
     "name": "stdout",
     "output_type": "stream",
     "text": [
      "training loss at epoch 146000: 0.330287367105484\n"
     ]
    },
    {
     "name": "stderr",
     "output_type": "stream",
     "text": [
      " 15%|█▍        | 147009/1000000 [56:00<6:10:06, 38.41it/s]"
     ]
    },
    {
     "name": "stdout",
     "output_type": "stream",
     "text": [
      "training loss at epoch 147000: 0.3765619099140167\n"
     ]
    },
    {
     "name": "stderr",
     "output_type": "stream",
     "text": [
      " 15%|█▍        | 148009/1000000 [56:22<6:12:57, 38.07it/s]"
     ]
    },
    {
     "name": "stdout",
     "output_type": "stream",
     "text": [
      "training loss at epoch 148000: 0.34460192918777466\n"
     ]
    },
    {
     "name": "stderr",
     "output_type": "stream",
     "text": [
      " 15%|█▍        | 149009/1000000 [56:45<6:23:54, 36.94it/s]"
     ]
    },
    {
     "name": "stdout",
     "output_type": "stream",
     "text": [
      "training loss at epoch 149000: 0.3996458351612091\n"
     ]
    },
    {
     "name": "stderr",
     "output_type": "stream",
     "text": [
      " 15%|█▌        | 150009/1000000 [57:07<6:21:49, 37.10it/s]"
     ]
    },
    {
     "name": "stdout",
     "output_type": "stream",
     "text": [
      "training loss at epoch 150000: 0.31486207246780396\n",
      "for node Q7733289- {'name': 'The Family'} closest are nodes:\n",
      "{'name': 'The Family'}\n",
      "{'name': 'Mark Hall'}\n",
      "{'name': 'Rock Master Scott & the Dynamic Three'}\n",
      "for node Q1001146- {'name': 'Buddy Cage'} closest are nodes:\n",
      "{'name': 'Spencer Dryden'}\n",
      "{'name': 'Buddy Cage'}\n",
      "{'name': 'David Nelson'}\n",
      "for node Q626818- {'name': 'Phil Ehart'} closest are nodes:\n",
      "{'name': 'Phil Ehart'}\n",
      "{'name': 'Bevan Davies'}\n",
      "{'name': '2nd Chapter of Acts'}\n"
     ]
    },
    {
     "name": "stderr",
     "output_type": "stream",
     "text": [
      " 15%|█▌        | 151009/1000000 [57:29<6:09:27, 38.30it/s]"
     ]
    },
    {
     "name": "stdout",
     "output_type": "stream",
     "text": [
      "training loss at epoch 151000: 0.329216331243515\n"
     ]
    },
    {
     "name": "stderr",
     "output_type": "stream",
     "text": [
      " 15%|█▌        | 152009/1000000 [57:52<6:18:59, 37.29it/s]"
     ]
    },
    {
     "name": "stdout",
     "output_type": "stream",
     "text": [
      "training loss at epoch 152000: 0.35518375039100647\n"
     ]
    },
    {
     "name": "stderr",
     "output_type": "stream",
     "text": [
      " 15%|█▌        | 153009/1000000 [58:14<6:09:52, 38.17it/s]"
     ]
    },
    {
     "name": "stdout",
     "output_type": "stream",
     "text": [
      "training loss at epoch 153000: 0.33069244027137756\n"
     ]
    },
    {
     "name": "stderr",
     "output_type": "stream",
     "text": [
      " 15%|█▌        | 154009/1000000 [58:36<6:10:26, 38.06it/s]"
     ]
    },
    {
     "name": "stdout",
     "output_type": "stream",
     "text": [
      "training loss at epoch 154000: 0.363084077835083\n"
     ]
    },
    {
     "name": "stderr",
     "output_type": "stream",
     "text": [
      " 16%|█▌        | 155009/1000000 [58:59<6:20:46, 36.99it/s]"
     ]
    },
    {
     "name": "stdout",
     "output_type": "stream",
     "text": [
      "training loss at epoch 155000: 0.3411364257335663\n"
     ]
    },
    {
     "name": "stderr",
     "output_type": "stream",
     "text": [
      " 16%|█▌        | 156009/1000000 [59:21<6:10:10, 38.00it/s]"
     ]
    },
    {
     "name": "stdout",
     "output_type": "stream",
     "text": [
      "training loss at epoch 156000: 0.3191235363483429\n"
     ]
    },
    {
     "name": "stderr",
     "output_type": "stream",
     "text": [
      " 16%|█▌        | 157009/1000000 [59:44<6:18:58, 37.07it/s]"
     ]
    },
    {
     "name": "stdout",
     "output_type": "stream",
     "text": [
      "training loss at epoch 157000: 0.3330998718738556\n"
     ]
    },
    {
     "name": "stderr",
     "output_type": "stream",
     "text": [
      " 16%|█▌        | 158009/1000000 [1:00:06<6:14:48, 37.44it/s]"
     ]
    },
    {
     "name": "stdout",
     "output_type": "stream",
     "text": [
      "training loss at epoch 158000: 0.3619815409183502\n"
     ]
    },
    {
     "name": "stderr",
     "output_type": "stream",
     "text": [
      " 16%|█▌        | 159009/1000000 [1:00:28<6:30:04, 35.93it/s]"
     ]
    },
    {
     "name": "stdout",
     "output_type": "stream",
     "text": [
      "training loss at epoch 159000: 0.3343890905380249\n"
     ]
    },
    {
     "name": "stderr",
     "output_type": "stream",
     "text": [
      " 16%|█▌        | 160009/1000000 [1:00:51<6:21:40, 36.68it/s]"
     ]
    },
    {
     "name": "stdout",
     "output_type": "stream",
     "text": [
      "training loss at epoch 160000: 0.3152839243412018\n",
      "for node Q3522431- {'name': 'The Ray-O-Vacs'} closest are nodes:\n",
      "{'name': 'Bloodstone'}\n",
      "{'name': 'The Free Movement'}\n",
      "{'name': 'John Andrew Fredrick'}\n",
      "for node Q17145048- {'name': 'Woe'} closest are nodes:\n",
      "{'name': 'Sourvein'}\n",
      "{'name': 'Woe'}\n",
      "{'name': 'MD.45'}\n",
      "for node Q16968239- {'name': 'Yesterdays Rising'} closest are nodes:\n",
      "{'name': 'Junction 18'}\n",
      "{'name': 'For All Those Sleeping'}\n",
      "{'name': 'Amely (band)'}\n"
     ]
    },
    {
     "name": "stderr",
     "output_type": "stream",
     "text": [
      " 16%|█▌        | 161008/1000000 [1:01:13<6:01:41, 38.66it/s]"
     ]
    },
    {
     "name": "stdout",
     "output_type": "stream",
     "text": [
      "training loss at epoch 161000: 0.3692738115787506\n"
     ]
    },
    {
     "name": "stderr",
     "output_type": "stream",
     "text": [
      " 16%|█▌        | 162008/1000000 [1:01:36<6:14:02, 37.34it/s]"
     ]
    },
    {
     "name": "stdout",
     "output_type": "stream",
     "text": [
      "training loss at epoch 162000: 0.3303435742855072\n"
     ]
    },
    {
     "name": "stderr",
     "output_type": "stream",
     "text": [
      " 16%|█▋        | 163008/1000000 [1:01:58<6:01:43, 38.56it/s]"
     ]
    },
    {
     "name": "stdout",
     "output_type": "stream",
     "text": [
      "training loss at epoch 163000: 0.36831483244895935\n"
     ]
    },
    {
     "name": "stderr",
     "output_type": "stream",
     "text": [
      " 16%|█▋        | 164008/1000000 [1:02:21<6:13:08, 37.34it/s]"
     ]
    },
    {
     "name": "stdout",
     "output_type": "stream",
     "text": [
      "training loss at epoch 164000: 0.2610272169113159\n"
     ]
    },
    {
     "name": "stderr",
     "output_type": "stream",
     "text": [
      " 17%|█▋        | 165008/1000000 [1:02:43<6:17:36, 36.85it/s]"
     ]
    },
    {
     "name": "stdout",
     "output_type": "stream",
     "text": [
      "training loss at epoch 165000: 0.35671570897102356\n"
     ]
    },
    {
     "name": "stderr",
     "output_type": "stream",
     "text": [
      " 17%|█▋        | 166008/1000000 [1:03:05<6:14:13, 37.14it/s]"
     ]
    },
    {
     "name": "stdout",
     "output_type": "stream",
     "text": [
      "training loss at epoch 166000: 0.36951902508735657\n"
     ]
    },
    {
     "name": "stderr",
     "output_type": "stream",
     "text": [
      " 17%|█▋        | 167008/1000000 [1:03:28<6:23:43, 36.18it/s]"
     ]
    },
    {
     "name": "stdout",
     "output_type": "stream",
     "text": [
      "training loss at epoch 167000: 0.3440338969230652\n"
     ]
    },
    {
     "name": "stderr",
     "output_type": "stream",
     "text": [
      " 17%|█▋        | 168007/1000000 [1:03:50<6:04:12, 38.07it/s]"
     ]
    },
    {
     "name": "stdout",
     "output_type": "stream",
     "text": [
      "training loss at epoch 168000: 0.2835609018802643\n"
     ]
    },
    {
     "name": "stderr",
     "output_type": "stream",
     "text": [
      " 17%|█▋        | 169007/1000000 [1:04:12<6:07:03, 37.73it/s]"
     ]
    },
    {
     "name": "stdout",
     "output_type": "stream",
     "text": [
      "training loss at epoch 169000: 0.38593193888664246\n"
     ]
    },
    {
     "name": "stderr",
     "output_type": "stream",
     "text": [
      " 17%|█▋        | 170007/1000000 [1:04:35<6:17:24, 36.65it/s]"
     ]
    },
    {
     "name": "stdout",
     "output_type": "stream",
     "text": [
      "training loss at epoch 170000: 0.33190324902534485\n",
      "for node Q8032562- {} closest are nodes:\n",
      "{}\n",
      "{'name': 'Steady Ground'}\n",
      "{}\n",
      "for node Q241716- {'name': 'Tash'} closest are nodes:\n",
      "{'name': 'Tash'}\n",
      "{'name': 'Eddie Vedder'}\n",
      "{'name': 'anarcho-punk'}\n",
      "for node Q5266189- {'name': 'Deus Invictus'} closest are nodes:\n",
      "{'name': 'Deus Invictus'}\n",
      "{'name': 'Nine Inch Nails'}\n",
      "{'name': 'Deadbolt'}\n"
     ]
    },
    {
     "name": "stderr",
     "output_type": "stream",
     "text": [
      " 17%|█▋        | 171007/1000000 [1:04:57<6:08:30, 37.49it/s]"
     ]
    },
    {
     "name": "stdout",
     "output_type": "stream",
     "text": [
      "training loss at epoch 171000: 0.3201768100261688\n"
     ]
    },
    {
     "name": "stderr",
     "output_type": "stream",
     "text": [
      " 17%|█▋        | 172007/1000000 [1:05:19<6:10:22, 37.26it/s]"
     ]
    },
    {
     "name": "stdout",
     "output_type": "stream",
     "text": [
      "training loss at epoch 172000: 0.3151111304759979\n"
     ]
    },
    {
     "name": "stderr",
     "output_type": "stream",
     "text": [
      " 17%|█▋        | 173007/1000000 [1:05:42<6:11:33, 37.10it/s]"
     ]
    },
    {
     "name": "stdout",
     "output_type": "stream",
     "text": [
      "training loss at epoch 173000: 0.36715561151504517\n"
     ]
    },
    {
     "name": "stderr",
     "output_type": "stream",
     "text": [
      " 17%|█▋        | 174007/1000000 [1:06:04<6:11:43, 37.03it/s]"
     ]
    },
    {
     "name": "stdout",
     "output_type": "stream",
     "text": [
      "training loss at epoch 174000: 0.31927233934402466\n"
     ]
    },
    {
     "name": "stderr",
     "output_type": "stream",
     "text": [
      " 18%|█▊        | 175007/1000000 [1:06:27<6:04:02, 37.77it/s]"
     ]
    },
    {
     "name": "stdout",
     "output_type": "stream",
     "text": [
      "training loss at epoch 175000: 0.30441367626190186\n"
     ]
    },
    {
     "name": "stderr",
     "output_type": "stream",
     "text": [
      " 18%|█▊        | 176007/1000000 [1:06:49<6:11:34, 36.96it/s]"
     ]
    },
    {
     "name": "stdout",
     "output_type": "stream",
     "text": [
      "training loss at epoch 176000: 0.29209062457084656\n"
     ]
    },
    {
     "name": "stderr",
     "output_type": "stream",
     "text": [
      " 18%|█▊        | 177007/1000000 [1:07:12<6:09:10, 37.15it/s]"
     ]
    },
    {
     "name": "stdout",
     "output_type": "stream",
     "text": [
      "training loss at epoch 177000: 0.34418556094169617\n"
     ]
    },
    {
     "name": "stderr",
     "output_type": "stream",
     "text": [
      " 18%|█▊        | 178007/1000000 [1:07:34<5:59:20, 38.12it/s]"
     ]
    },
    {
     "name": "stdout",
     "output_type": "stream",
     "text": [
      "training loss at epoch 178000: 0.3578159213066101\n"
     ]
    },
    {
     "name": "stderr",
     "output_type": "stream",
     "text": [
      " 18%|█▊        | 179007/1000000 [1:07:56<6:22:15, 35.80it/s]"
     ]
    },
    {
     "name": "stdout",
     "output_type": "stream",
     "text": [
      "training loss at epoch 179000: 0.3117181956768036\n"
     ]
    },
    {
     "name": "stderr",
     "output_type": "stream",
     "text": [
      " 18%|█▊        | 180007/1000000 [1:08:19<6:11:50, 36.75it/s]"
     ]
    },
    {
     "name": "stdout",
     "output_type": "stream",
     "text": [
      "training loss at epoch 180000: 0.31067097187042236\n",
      "for node Q22137996- {'name': 'Chandra Watson'} closest are nodes:\n",
      "{'name': 'Chandra Watson'}\n",
      "{'name': 'Classics IV'}\n",
      "{'name': 'Leigh Watson'}\n",
      "for node Q21089- {} closest are nodes:\n",
      "{}\n",
      "{}\n",
      "{'name': 'Via Audio'}\n",
      "for node Q6194154- {'name': 'Jim Cherry'} closest are nodes:\n",
      "{'name': 'Jim Cherry'}\n",
      "{'name': 'I Am Empire'}\n",
      "{'name': 'The Shelters'}\n"
     ]
    },
    {
     "name": "stderr",
     "output_type": "stream",
     "text": [
      " 18%|█▊        | 181007/1000000 [1:08:41<6:13:01, 36.59it/s]"
     ]
    },
    {
     "name": "stdout",
     "output_type": "stream",
     "text": [
      "training loss at epoch 181000: 0.32870209217071533\n"
     ]
    },
    {
     "name": "stderr",
     "output_type": "stream",
     "text": [
      " 18%|█▊        | 182007/1000000 [1:09:04<6:17:10, 36.15it/s]"
     ]
    },
    {
     "name": "stdout",
     "output_type": "stream",
     "text": [
      "training loss at epoch 182000: 0.28819096088409424\n"
     ]
    },
    {
     "name": "stderr",
     "output_type": "stream",
     "text": [
      " 18%|█▊        | 183007/1000000 [1:09:26<5:54:41, 38.39it/s]"
     ]
    },
    {
     "name": "stdout",
     "output_type": "stream",
     "text": [
      "training loss at epoch 183000: 0.3423630893230438\n"
     ]
    },
    {
     "name": "stderr",
     "output_type": "stream",
     "text": [
      " 18%|█▊        | 184007/1000000 [1:09:48<6:01:36, 37.61it/s]"
     ]
    },
    {
     "name": "stdout",
     "output_type": "stream",
     "text": [
      "training loss at epoch 184000: 0.2996539771556854\n"
     ]
    },
    {
     "name": "stderr",
     "output_type": "stream",
     "text": [
      " 19%|█▊        | 185007/1000000 [1:10:11<6:06:41, 37.04it/s]"
     ]
    },
    {
     "name": "stdout",
     "output_type": "stream",
     "text": [
      "training loss at epoch 185000: 0.31935587525367737\n"
     ]
    },
    {
     "name": "stderr",
     "output_type": "stream",
     "text": [
      " 19%|█▊        | 186007/1000000 [1:10:33<6:12:54, 36.38it/s]"
     ]
    },
    {
     "name": "stdout",
     "output_type": "stream",
     "text": [
      "training loss at epoch 186000: 0.2895219624042511\n"
     ]
    },
    {
     "name": "stderr",
     "output_type": "stream",
     "text": [
      " 19%|█▊        | 187010/1000000 [1:10:56<5:47:46, 38.96it/s]"
     ]
    },
    {
     "name": "stdout",
     "output_type": "stream",
     "text": [
      "training loss at epoch 187000: 0.3339654803276062\n"
     ]
    },
    {
     "name": "stderr",
     "output_type": "stream",
     "text": [
      " 19%|█▉        | 188010/1000000 [1:11:18<6:06:05, 36.97it/s]"
     ]
    },
    {
     "name": "stdout",
     "output_type": "stream",
     "text": [
      "training loss at epoch 188000: 0.3558278977870941\n"
     ]
    },
    {
     "name": "stderr",
     "output_type": "stream",
     "text": [
      " 19%|█▉        | 189010/1000000 [1:11:41<6:10:46, 36.45it/s]"
     ]
    },
    {
     "name": "stdout",
     "output_type": "stream",
     "text": [
      "training loss at epoch 189000: 0.2863829433917999\n"
     ]
    },
    {
     "name": "stderr",
     "output_type": "stream",
     "text": [
      " 19%|█▉        | 190005/1000000 [1:12:03<6:34:52, 34.19it/s]"
     ]
    },
    {
     "name": "stdout",
     "output_type": "stream",
     "text": [
      "training loss at epoch 190000: 0.286325067281723\n",
      "for node Q18326138- {'name': 'Traci Braxton'} closest are nodes:\n",
      "{'name': 'Toni Braxton'}\n",
      "{'name': 'Traci Braxton'}\n",
      "{'name': 'Tamar Estine Braxton'}\n",
      "for node Q3614176- {'name': 'Amery Smith'} closest are nodes:\n",
      "{'name': 'Jimmy DeGrasso'}\n",
      "{'name': 'Thundercat'}\n",
      "{'name': 'Amery Smith'}\n",
      "for node Q3623- {'name': 'Dukes of Dixieland'} closest are nodes:\n",
      "{'name': 'Dukes of Dixieland'}\n",
      "{'name': 'contemporary Christian music'}\n",
      "{'name': 'Dirty Looks'}\n"
     ]
    },
    {
     "name": "stderr",
     "output_type": "stream",
     "text": [
      " 19%|█▉        | 191010/1000000 [1:12:25<6:13:29, 36.10it/s]"
     ]
    },
    {
     "name": "stdout",
     "output_type": "stream",
     "text": [
      "training loss at epoch 191000: 0.2965957522392273\n"
     ]
    },
    {
     "name": "stderr",
     "output_type": "stream",
     "text": [
      " 19%|█▉        | 192010/1000000 [1:12:48<5:54:37, 37.97it/s]"
     ]
    },
    {
     "name": "stdout",
     "output_type": "stream",
     "text": [
      "training loss at epoch 192000: 0.2702024579048157\n"
     ]
    },
    {
     "name": "stderr",
     "output_type": "stream",
     "text": [
      " 19%|█▉        | 193010/1000000 [1:13:10<6:06:01, 36.75it/s]"
     ]
    },
    {
     "name": "stdout",
     "output_type": "stream",
     "text": [
      "training loss at epoch 193000: 0.29694291949272156\n"
     ]
    },
    {
     "name": "stderr",
     "output_type": "stream",
     "text": [
      " 19%|█▉        | 194010/1000000 [1:13:33<6:03:43, 36.93it/s]"
     ]
    },
    {
     "name": "stdout",
     "output_type": "stream",
     "text": [
      "training loss at epoch 194000: 0.27636265754699707\n"
     ]
    },
    {
     "name": "stderr",
     "output_type": "stream",
     "text": [
      " 20%|█▉        | 195010/1000000 [1:13:55<5:56:46, 37.61it/s]"
     ]
    },
    {
     "name": "stdout",
     "output_type": "stream",
     "text": [
      "training loss at epoch 195000: 0.3351929485797882\n"
     ]
    },
    {
     "name": "stderr",
     "output_type": "stream",
     "text": [
      " 20%|█▉        | 196010/1000000 [1:14:18<5:48:32, 38.45it/s]"
     ]
    },
    {
     "name": "stdout",
     "output_type": "stream",
     "text": [
      "training loss at epoch 196000: 0.2993856966495514\n"
     ]
    },
    {
     "name": "stderr",
     "output_type": "stream",
     "text": [
      " 20%|█▉        | 197010/1000000 [1:14:40<5:59:02, 37.27it/s]"
     ]
    },
    {
     "name": "stdout",
     "output_type": "stream",
     "text": [
      "training loss at epoch 197000: 0.33332398533821106\n"
     ]
    },
    {
     "name": "stderr",
     "output_type": "stream",
     "text": [
      " 20%|█▉        | 198005/1000000 [1:15:02<6:39:28, 33.46it/s]"
     ]
    },
    {
     "name": "stdout",
     "output_type": "stream",
     "text": [
      "training loss at epoch 198000: 0.341836541891098\n"
     ]
    },
    {
     "name": "stderr",
     "output_type": "stream",
     "text": [
      " 20%|█▉        | 199010/1000000 [1:15:25<6:03:29, 36.73it/s]"
     ]
    },
    {
     "name": "stdout",
     "output_type": "stream",
     "text": [
      "training loss at epoch 199000: 0.31473076343536377\n"
     ]
    },
    {
     "name": "stderr",
     "output_type": "stream",
     "text": [
      " 20%|██        | 200005/1000000 [1:15:47<6:48:46, 32.62it/s]"
     ]
    },
    {
     "name": "stdout",
     "output_type": "stream",
     "text": [
      "training loss at epoch 200000: 0.3574013411998749\n",
      "for node Q974795- {'name': 'Guru'} closest are nodes:\n",
      "{'name': 'Guru'}\n",
      "{'name': 'High on Fire'}\n",
      "{'name': 'hard rock'}\n",
      "for node Q591105- {'name': 'Impending Doom'} closest are nodes:\n",
      "{'name': 'Legion'}\n",
      "{'name': 'Dark Sermon'}\n",
      "{'name': 'Burn Halo'}\n",
      "for node Q5514644- {'name': 'GS Boyz'} closest are nodes:\n",
      "{'name': 'GS Boyz'}\n",
      "{'name': 'Corrosion of Conformity'}\n",
      "{}\n"
     ]
    },
    {
     "name": "stderr",
     "output_type": "stream",
     "text": [
      " 20%|██        | 201010/1000000 [1:16:10<6:05:20, 36.45it/s]"
     ]
    },
    {
     "name": "stdout",
     "output_type": "stream",
     "text": [
      "training loss at epoch 201000: 0.3028179705142975\n"
     ]
    },
    {
     "name": "stderr",
     "output_type": "stream",
     "text": [
      " 20%|██        | 202010/1000000 [1:16:32<5:59:30, 36.99it/s]"
     ]
    },
    {
     "name": "stdout",
     "output_type": "stream",
     "text": [
      "training loss at epoch 202000: 0.33854252099990845\n"
     ]
    },
    {
     "name": "stderr",
     "output_type": "stream",
     "text": [
      " 20%|██        | 203010/1000000 [1:16:55<5:58:39, 37.04it/s]"
     ]
    },
    {
     "name": "stdout",
     "output_type": "stream",
     "text": [
      "training loss at epoch 203000: 0.3770841062068939\n"
     ]
    },
    {
     "name": "stderr",
     "output_type": "stream",
     "text": [
      " 20%|██        | 204010/1000000 [1:17:17<6:01:00, 36.75it/s]"
     ]
    },
    {
     "name": "stdout",
     "output_type": "stream",
     "text": [
      "training loss at epoch 204000: 0.31110063195228577\n"
     ]
    },
    {
     "name": "stderr",
     "output_type": "stream",
     "text": [
      " 21%|██        | 205010/1000000 [1:17:39<5:47:57, 38.08it/s]"
     ]
    },
    {
     "name": "stdout",
     "output_type": "stream",
     "text": [
      "training loss at epoch 205000: 0.2959296703338623\n"
     ]
    },
    {
     "name": "stderr",
     "output_type": "stream",
     "text": [
      " 21%|██        | 206010/1000000 [1:18:02<5:54:27, 37.33it/s]"
     ]
    },
    {
     "name": "stdout",
     "output_type": "stream",
     "text": [
      "training loss at epoch 206000: 0.32460734248161316\n"
     ]
    },
    {
     "name": "stderr",
     "output_type": "stream",
     "text": [
      " 21%|██        | 207010/1000000 [1:18:24<5:46:28, 38.14it/s]"
     ]
    },
    {
     "name": "stdout",
     "output_type": "stream",
     "text": [
      "training loss at epoch 207000: 0.3473452627658844\n"
     ]
    },
    {
     "name": "stderr",
     "output_type": "stream",
     "text": [
      " 21%|██        | 208010/1000000 [1:18:47<5:44:41, 38.29it/s]"
     ]
    },
    {
     "name": "stdout",
     "output_type": "stream",
     "text": [
      "training loss at epoch 208000: 0.31033599376678467\n"
     ]
    },
    {
     "name": "stderr",
     "output_type": "stream",
     "text": [
      " 21%|██        | 209010/1000000 [1:19:09<5:48:53, 37.79it/s]"
     ]
    },
    {
     "name": "stdout",
     "output_type": "stream",
     "text": [
      "training loss at epoch 209000: 0.27389007806777954\n"
     ]
    },
    {
     "name": "stderr",
     "output_type": "stream",
     "text": [
      " 21%|██        | 210005/1000000 [1:19:31<6:18:03, 34.83it/s]"
     ]
    },
    {
     "name": "stdout",
     "output_type": "stream",
     "text": [
      "training loss at epoch 210000: 0.2924897372722626\n",
      "for node Q11895838- {} closest are nodes:\n",
      "{}\n",
      "{'name': 'Museum of Love'}\n",
      "{'name': 'The Prime Movers'}\n",
      "for node Q7138178- {} closest are nodes:\n",
      "{}\n",
      "{'name': 'Raymond Jones'}\n",
      "{'name': 'gospel music'}\n",
      "for node Q8035764- {'name': 'World Gang'} closest are nodes:\n",
      "{'name': 'World Gang'}\n",
      "{'name': 'Psychic Emperor'}\n",
      "{'name': 'Cupid Car Club'}\n"
     ]
    },
    {
     "name": "stderr",
     "output_type": "stream",
     "text": [
      " 21%|██        | 211005/1000000 [1:19:54<6:48:08, 32.22it/s]"
     ]
    },
    {
     "name": "stdout",
     "output_type": "stream",
     "text": [
      "training loss at epoch 211000: 0.3297397196292877\n"
     ]
    },
    {
     "name": "stderr",
     "output_type": "stream",
     "text": [
      " 21%|██        | 212010/1000000 [1:20:17<6:01:07, 36.37it/s]"
     ]
    },
    {
     "name": "stdout",
     "output_type": "stream",
     "text": [
      "training loss at epoch 212000: 0.29734867811203003\n"
     ]
    },
    {
     "name": "stderr",
     "output_type": "stream",
     "text": [
      " 21%|██▏       | 213010/1000000 [1:20:39<5:43:27, 38.19it/s]"
     ]
    },
    {
     "name": "stdout",
     "output_type": "stream",
     "text": [
      "training loss at epoch 213000: 0.3334209620952606\n"
     ]
    },
    {
     "name": "stderr",
     "output_type": "stream",
     "text": [
      " 21%|██▏       | 214010/1000000 [1:21:01<5:40:24, 38.48it/s]"
     ]
    },
    {
     "name": "stdout",
     "output_type": "stream",
     "text": [
      "training loss at epoch 214000: 0.3015218675136566\n"
     ]
    },
    {
     "name": "stderr",
     "output_type": "stream",
     "text": [
      " 22%|██▏       | 215010/1000000 [1:21:24<6:01:29, 36.19it/s]"
     ]
    },
    {
     "name": "stdout",
     "output_type": "stream",
     "text": [
      "training loss at epoch 215000: 0.2639237344264984\n"
     ]
    },
    {
     "name": "stderr",
     "output_type": "stream",
     "text": [
      " 22%|██▏       | 216010/1000000 [1:21:46<5:53:56, 36.92it/s]"
     ]
    },
    {
     "name": "stdout",
     "output_type": "stream",
     "text": [
      "training loss at epoch 216000: 0.27565300464630127\n"
     ]
    },
    {
     "name": "stderr",
     "output_type": "stream",
     "text": [
      " 22%|██▏       | 217010/1000000 [1:22:09<5:44:09, 37.92it/s]"
     ]
    },
    {
     "name": "stdout",
     "output_type": "stream",
     "text": [
      "training loss at epoch 217000: 0.30769622325897217\n"
     ]
    },
    {
     "name": "stderr",
     "output_type": "stream",
     "text": [
      " 22%|██▏       | 218010/1000000 [1:22:31<5:54:04, 36.81it/s]"
     ]
    },
    {
     "name": "stdout",
     "output_type": "stream",
     "text": [
      "training loss at epoch 218000: 0.32729318737983704\n"
     ]
    },
    {
     "name": "stderr",
     "output_type": "stream",
     "text": [
      " 22%|██▏       | 219010/1000000 [1:22:54<5:45:01, 37.73it/s]"
     ]
    },
    {
     "name": "stdout",
     "output_type": "stream",
     "text": [
      "training loss at epoch 219000: 0.28614357113838196\n"
     ]
    },
    {
     "name": "stderr",
     "output_type": "stream",
     "text": [
      " 22%|██▏       | 220005/1000000 [1:23:16<6:36:05, 32.82it/s]"
     ]
    },
    {
     "name": "stdout",
     "output_type": "stream",
     "text": [
      "training loss at epoch 220000: 0.3252645432949066\n",
      "for node Q1052952- {'name': 'Cell'} closest are nodes:\n",
      "{}\n",
      "{'name': 'War Babies'}\n",
      "{'name': 'Sweet Water'}\n",
      "for node Q2513752- {'name': 'This Bike Is a Pipe Bomb'} closest are nodes:\n",
      "{'name': 'This Bike Is a Pipe Bomb'}\n",
      "{'name': 'Defiance, Ohio'}\n",
      "{'name': 'The Devil Is Electric'}\n",
      "for node Q57599205- {'name': 'Patrick Miller'} closest are nodes:\n",
      "{'name': 'Anthony Evans'}\n",
      "{'name': 'Eddie Fountain'}\n",
      "{'name': 'Patrick Miller'}\n"
     ]
    },
    {
     "name": "stderr",
     "output_type": "stream",
     "text": [
      " 22%|██▏       | 221010/1000000 [1:23:39<5:53:19, 36.75it/s]"
     ]
    },
    {
     "name": "stdout",
     "output_type": "stream",
     "text": [
      "training loss at epoch 221000: 0.2941579818725586\n"
     ]
    },
    {
     "name": "stderr",
     "output_type": "stream",
     "text": [
      " 22%|██▏       | 222010/1000000 [1:24:01<5:50:29, 37.00it/s]"
     ]
    },
    {
     "name": "stdout",
     "output_type": "stream",
     "text": [
      "training loss at epoch 222000: 0.3251683712005615\n"
     ]
    },
    {
     "name": "stderr",
     "output_type": "stream",
     "text": [
      " 22%|██▏       | 223010/1000000 [1:24:23<5:55:00, 36.48it/s]"
     ]
    },
    {
     "name": "stdout",
     "output_type": "stream",
     "text": [
      "training loss at epoch 223000: 0.2859049439430237\n"
     ]
    },
    {
     "name": "stderr",
     "output_type": "stream",
     "text": [
      " 22%|██▏       | 224010/1000000 [1:24:46<5:48:42, 37.09it/s]"
     ]
    },
    {
     "name": "stdout",
     "output_type": "stream",
     "text": [
      "training loss at epoch 224000: 0.2826438248157501\n"
     ]
    },
    {
     "name": "stderr",
     "output_type": "stream",
     "text": [
      " 23%|██▎       | 225010/1000000 [1:25:08<5:47:46, 37.14it/s]"
     ]
    },
    {
     "name": "stdout",
     "output_type": "stream",
     "text": [
      "training loss at epoch 225000: 0.28323686122894287\n"
     ]
    },
    {
     "name": "stderr",
     "output_type": "stream",
     "text": [
      " 23%|██▎       | 226010/1000000 [1:25:31<5:41:13, 37.80it/s]"
     ]
    },
    {
     "name": "stdout",
     "output_type": "stream",
     "text": [
      "training loss at epoch 226000: 0.29614022374153137\n"
     ]
    },
    {
     "name": "stderr",
     "output_type": "stream",
     "text": [
      " 23%|██▎       | 227010/1000000 [1:25:53<5:52:54, 36.51it/s]"
     ]
    },
    {
     "name": "stdout",
     "output_type": "stream",
     "text": [
      "training loss at epoch 227000: 0.28620749711990356\n"
     ]
    },
    {
     "name": "stderr",
     "output_type": "stream",
     "text": [
      " 23%|██▎       | 228010/1000000 [1:26:16<5:45:30, 37.24it/s]"
     ]
    },
    {
     "name": "stdout",
     "output_type": "stream",
     "text": [
      "training loss at epoch 228000: 0.31243446469306946\n"
     ]
    },
    {
     "name": "stderr",
     "output_type": "stream",
     "text": [
      " 23%|██▎       | 229010/1000000 [1:26:38<5:42:50, 37.48it/s]"
     ]
    },
    {
     "name": "stdout",
     "output_type": "stream",
     "text": [
      "training loss at epoch 229000: 0.3361692428588867\n"
     ]
    },
    {
     "name": "stderr",
     "output_type": "stream",
     "text": [
      " 23%|██▎       | 230005/1000000 [1:27:00<6:33:49, 32.59it/s]"
     ]
    },
    {
     "name": "stdout",
     "output_type": "stream",
     "text": [
      "training loss at epoch 230000: 0.3095722198486328\n",
      "for node Q5144791- {} closest are nodes:\n",
      "{}\n",
      "{'name': 'punk rock'}\n",
      "{'name': 'Still Remains'}\n",
      "for node Q535350- {'name': 'John Tchicai'} closest are nodes:\n",
      "{'name': 'John Tchicai'}\n",
      "{'name': 'Ratatat'}\n",
      "{'name': 'Thee Shams'}\n",
      "for node Q66342594- {'name': 'The Highwomen'} closest are nodes:\n",
      "{'name': 'The Highwomen'}\n",
      "{'name': 'indie rock'}\n",
      "{'name': 'Duncan Arsenault'}\n"
     ]
    },
    {
     "name": "stderr",
     "output_type": "stream",
     "text": [
      " 23%|██▎       | 231010/1000000 [1:27:23<5:35:40, 38.18it/s]"
     ]
    },
    {
     "name": "stdout",
     "output_type": "stream",
     "text": [
      "training loss at epoch 231000: 0.2611530125141144\n"
     ]
    },
    {
     "name": "stderr",
     "output_type": "stream",
     "text": [
      " 23%|██▎       | 232010/1000000 [1:27:45<5:36:12, 38.07it/s]"
     ]
    },
    {
     "name": "stdout",
     "output_type": "stream",
     "text": [
      "training loss at epoch 232000: 0.2989751994609833\n"
     ]
    },
    {
     "name": "stderr",
     "output_type": "stream",
     "text": [
      " 23%|██▎       | 233010/1000000 [1:28:08<5:38:03, 37.81it/s]"
     ]
    },
    {
     "name": "stdout",
     "output_type": "stream",
     "text": [
      "training loss at epoch 233000: 0.26121965050697327\n"
     ]
    },
    {
     "name": "stderr",
     "output_type": "stream",
     "text": [
      " 23%|██▎       | 234010/1000000 [1:28:30<5:33:22, 38.30it/s]"
     ]
    },
    {
     "name": "stdout",
     "output_type": "stream",
     "text": [
      "training loss at epoch 234000: 0.27631309628486633\n"
     ]
    },
    {
     "name": "stderr",
     "output_type": "stream",
     "text": [
      " 24%|██▎       | 235010/1000000 [1:28:53<5:41:53, 37.29it/s]"
     ]
    },
    {
     "name": "stdout",
     "output_type": "stream",
     "text": [
      "training loss at epoch 235000: 0.23618806898593903\n"
     ]
    },
    {
     "name": "stderr",
     "output_type": "stream",
     "text": [
      " 24%|██▎       | 236010/1000000 [1:29:15<5:51:27, 36.23it/s]"
     ]
    },
    {
     "name": "stdout",
     "output_type": "stream",
     "text": [
      "training loss at epoch 236000: 0.2663803696632385\n"
     ]
    },
    {
     "name": "stderr",
     "output_type": "stream",
     "text": [
      " 24%|██▎       | 237010/1000000 [1:29:37<5:36:29, 37.79it/s]"
     ]
    },
    {
     "name": "stdout",
     "output_type": "stream",
     "text": [
      "training loss at epoch 237000: 0.2871170938014984\n"
     ]
    },
    {
     "name": "stderr",
     "output_type": "stream",
     "text": [
      " 24%|██▍       | 238010/1000000 [1:30:00<5:50:23, 36.25it/s]"
     ]
    },
    {
     "name": "stdout",
     "output_type": "stream",
     "text": [
      "training loss at epoch 238000: 0.2852548062801361\n"
     ]
    },
    {
     "name": "stderr",
     "output_type": "stream",
     "text": [
      " 24%|██▍       | 239010/1000000 [1:30:23<5:51:59, 36.03it/s]"
     ]
    },
    {
     "name": "stdout",
     "output_type": "stream",
     "text": [
      "training loss at epoch 239000: 0.3135342001914978\n"
     ]
    },
    {
     "name": "stderr",
     "output_type": "stream",
     "text": [
      " 24%|██▍       | 240005/1000000 [1:30:45<6:12:08, 34.04it/s]"
     ]
    },
    {
     "name": "stdout",
     "output_type": "stream",
     "text": [
      "training loss at epoch 240000: 0.296846479177475\n",
      "for node Q61747673- {'name': 'Jackie Brenston & His Delta Cats'} closest are nodes:\n",
      "{'name': 'Jackie Brenston & His Delta Cats'}\n",
      "{'name': 'Kings of Rhythm'}\n",
      "{'name': 'Grade 8'}\n",
      "for node Q5930675- {'name': 'Yomo & Maulkie'} closest are nodes:\n",
      "{'name': 'J. J. Fad'}\n",
      "{'name': 'Yomo & Maulkie'}\n",
      "{'name': 'Blues Image'}\n",
      "for node Q1685123- {'name': 'The Trammps'} closest are nodes:\n",
      "{'name': 'Apollonia 6'}\n",
      "{'name': 'The Impressions'}\n",
      "{'name': 'Lipps Inc.'}\n"
     ]
    },
    {
     "name": "stderr",
     "output_type": "stream",
     "text": [
      " 24%|██▍       | 241010/1000000 [1:31:07<5:35:21, 37.72it/s]"
     ]
    },
    {
     "name": "stdout",
     "output_type": "stream",
     "text": [
      "training loss at epoch 241000: 0.30093294382095337\n"
     ]
    },
    {
     "name": "stderr",
     "output_type": "stream",
     "text": [
      " 24%|██▍       | 242010/1000000 [1:31:30<5:37:15, 37.46it/s]"
     ]
    },
    {
     "name": "stdout",
     "output_type": "stream",
     "text": [
      "training loss at epoch 242000: 0.2973925471305847\n"
     ]
    },
    {
     "name": "stderr",
     "output_type": "stream",
     "text": [
      " 24%|██▍       | 243010/1000000 [1:31:52<5:29:54, 38.24it/s]"
     ]
    },
    {
     "name": "stdout",
     "output_type": "stream",
     "text": [
      "training loss at epoch 243000: 0.2837030291557312\n"
     ]
    },
    {
     "name": "stderr",
     "output_type": "stream",
     "text": [
      " 24%|██▍       | 244010/1000000 [1:32:15<5:32:16, 37.92it/s]"
     ]
    },
    {
     "name": "stdout",
     "output_type": "stream",
     "text": [
      "training loss at epoch 244000: 0.3159292936325073\n"
     ]
    },
    {
     "name": "stderr",
     "output_type": "stream",
     "text": [
      " 25%|██▍       | 245010/1000000 [1:32:37<5:29:24, 38.20it/s]"
     ]
    },
    {
     "name": "stdout",
     "output_type": "stream",
     "text": [
      "training loss at epoch 245000: 0.2872852683067322\n"
     ]
    },
    {
     "name": "stderr",
     "output_type": "stream",
     "text": [
      " 25%|██▍       | 246010/1000000 [1:32:59<5:50:28, 35.86it/s]"
     ]
    },
    {
     "name": "stdout",
     "output_type": "stream",
     "text": [
      "training loss at epoch 246000: 0.29434457421302795\n"
     ]
    },
    {
     "name": "stderr",
     "output_type": "stream",
     "text": [
      " 25%|██▍       | 247010/1000000 [1:33:22<5:32:34, 37.74it/s]"
     ]
    },
    {
     "name": "stdout",
     "output_type": "stream",
     "text": [
      "training loss at epoch 247000: 0.27576786279678345\n"
     ]
    },
    {
     "name": "stderr",
     "output_type": "stream",
     "text": [
      " 25%|██▍       | 248010/1000000 [1:33:44<5:23:23, 38.76it/s]"
     ]
    },
    {
     "name": "stdout",
     "output_type": "stream",
     "text": [
      "training loss at epoch 248000: 0.2955465614795685\n"
     ]
    },
    {
     "name": "stderr",
     "output_type": "stream",
     "text": [
      " 25%|██▍       | 249010/1000000 [1:34:07<6:18:25, 33.08it/s]"
     ]
    },
    {
     "name": "stdout",
     "output_type": "stream",
     "text": [
      "training loss at epoch 249000: 0.28215065598487854\n"
     ]
    },
    {
     "name": "stderr",
     "output_type": "stream",
     "text": [
      " 25%|██▌       | 250005/1000000 [1:34:29<6:06:19, 34.12it/s]"
     ]
    },
    {
     "name": "stdout",
     "output_type": "stream",
     "text": [
      "training loss at epoch 250000: 0.27389228343963623\n",
      "for node Q1789258- {'name': 'Om'} closest are nodes:\n",
      "{'name': 'Om'}\n",
      "{'name': 'Sleep'}\n",
      "{'name': 'Yomo & Maulkie'}\n",
      "for node Q6146524- {'name': \"Jamie's Elsewhere\"} closest are nodes:\n",
      "{'name': 'Hi-Fi and the Roadburners'}\n",
      "{'name': 'Beneath the Sky'}\n",
      "{'name': 'June'}\n",
      "for node Q7764149- {'name': 'The Sight Below'} closest are nodes:\n",
      "{'name': 'The Sight Below'}\n",
      "{'name': 'Big Business'}\n",
      "{'name': 'Richard Madenfort'}\n"
     ]
    },
    {
     "name": "stderr",
     "output_type": "stream",
     "text": [
      " 25%|██▌       | 251009/1000000 [1:34:52<5:39:53, 36.73it/s]"
     ]
    },
    {
     "name": "stdout",
     "output_type": "stream",
     "text": [
      "training loss at epoch 251000: 0.296737939119339\n"
     ]
    },
    {
     "name": "stderr",
     "output_type": "stream",
     "text": [
      " 25%|██▌       | 252009/1000000 [1:35:14<5:38:26, 36.83it/s]"
     ]
    },
    {
     "name": "stdout",
     "output_type": "stream",
     "text": [
      "training loss at epoch 252000: 0.2886655330657959\n"
     ]
    },
    {
     "name": "stderr",
     "output_type": "stream",
     "text": [
      " 25%|██▌       | 253009/1000000 [1:35:37<5:40:32, 36.56it/s]"
     ]
    },
    {
     "name": "stdout",
     "output_type": "stream",
     "text": [
      "training loss at epoch 253000: 0.25265711545944214\n"
     ]
    },
    {
     "name": "stderr",
     "output_type": "stream",
     "text": [
      " 25%|██▌       | 254009/1000000 [1:35:59<5:33:30, 37.28it/s]"
     ]
    },
    {
     "name": "stdout",
     "output_type": "stream",
     "text": [
      "training loss at epoch 254000: 0.2768394947052002\n"
     ]
    },
    {
     "name": "stderr",
     "output_type": "stream",
     "text": [
      " 26%|██▌       | 255009/1000000 [1:36:22<5:30:53, 37.52it/s]"
     ]
    },
    {
     "name": "stdout",
     "output_type": "stream",
     "text": [
      "training loss at epoch 255000: 0.2822228670120239\n"
     ]
    },
    {
     "name": "stderr",
     "output_type": "stream",
     "text": [
      " 26%|██▌       | 256009/1000000 [1:36:44<5:27:38, 37.85it/s]"
     ]
    },
    {
     "name": "stdout",
     "output_type": "stream",
     "text": [
      "training loss at epoch 256000: 0.26660358905792236\n"
     ]
    },
    {
     "name": "stderr",
     "output_type": "stream",
     "text": [
      " 26%|██▌       | 257009/1000000 [1:37:07<5:32:35, 37.23it/s]"
     ]
    },
    {
     "name": "stdout",
     "output_type": "stream",
     "text": [
      "training loss at epoch 257000: 0.2706212103366852\n"
     ]
    },
    {
     "name": "stderr",
     "output_type": "stream",
     "text": [
      " 26%|██▌       | 258009/1000000 [1:37:29<5:27:57, 37.71it/s]"
     ]
    },
    {
     "name": "stdout",
     "output_type": "stream",
     "text": [
      "training loss at epoch 258000: 0.31086474657058716\n"
     ]
    },
    {
     "name": "stderr",
     "output_type": "stream",
     "text": [
      " 26%|██▌       | 259009/1000000 [1:37:52<5:38:33, 36.48it/s]"
     ]
    },
    {
     "name": "stdout",
     "output_type": "stream",
     "text": [
      "training loss at epoch 259000: 0.2615034580230713\n"
     ]
    },
    {
     "name": "stderr",
     "output_type": "stream",
     "text": [
      " 26%|██▌       | 260009/1000000 [1:38:14<5:47:49, 35.46it/s]"
     ]
    },
    {
     "name": "stdout",
     "output_type": "stream",
     "text": [
      "training loss at epoch 260000: 0.2765349745750427\n",
      "for node Q7822577- {'name': 'Tony Hinnigan'} closest are nodes:\n",
      "{'name': 'Tony Hinnigan'}\n",
      "{'name': 'Shalamar'}\n",
      "{'name': 'Mark Robinson'}\n",
      "for node Q1157840- {'name': 'Dale Earnhardt Jr. Jr.'} closest are nodes:\n",
      "{'name': 'Dale Earnhardt Jr. Jr.'}\n",
      "{'name': 'Priory'}\n",
      "{'name': \"Flim & the BB's\"}\n",
      "for node Q1689190- {'name': 'Jim Peterik'} closest are nodes:\n",
      "{'name': 'Jim Peterik'}\n",
      "{'name': \"Andrew Bird's Bowl of Fire\"}\n",
      "{'name': 'Dufus'}\n"
     ]
    },
    {
     "name": "stderr",
     "output_type": "stream",
     "text": [
      " 26%|██▌       | 261009/1000000 [1:38:36<5:27:12, 37.64it/s]"
     ]
    },
    {
     "name": "stdout",
     "output_type": "stream",
     "text": [
      "training loss at epoch 261000: 0.2752701938152313\n"
     ]
    },
    {
     "name": "stderr",
     "output_type": "stream",
     "text": [
      " 26%|██▌       | 262009/1000000 [1:38:59<5:28:34, 37.43it/s]"
     ]
    },
    {
     "name": "stdout",
     "output_type": "stream",
     "text": [
      "training loss at epoch 262000: 0.2859601080417633\n"
     ]
    },
    {
     "name": "stderr",
     "output_type": "stream",
     "text": [
      " 26%|██▋       | 263009/1000000 [1:39:21<5:31:14, 37.08it/s]"
     ]
    },
    {
     "name": "stdout",
     "output_type": "stream",
     "text": [
      "training loss at epoch 263000: 0.25244051218032837\n"
     ]
    },
    {
     "name": "stderr",
     "output_type": "stream",
     "text": [
      " 26%|██▋       | 264009/1000000 [1:39:44<5:38:19, 36.26it/s]"
     ]
    },
    {
     "name": "stdout",
     "output_type": "stream",
     "text": [
      "training loss at epoch 264000: 0.26269835233688354\n"
     ]
    },
    {
     "name": "stderr",
     "output_type": "stream",
     "text": [
      " 27%|██▋       | 265009/1000000 [1:40:06<5:26:48, 37.48it/s]"
     ]
    },
    {
     "name": "stdout",
     "output_type": "stream",
     "text": [
      "training loss at epoch 265000: 0.23029129207134247\n"
     ]
    },
    {
     "name": "stderr",
     "output_type": "stream",
     "text": [
      " 27%|██▋       | 266009/1000000 [1:40:29<5:35:53, 36.42it/s]"
     ]
    },
    {
     "name": "stdout",
     "output_type": "stream",
     "text": [
      "training loss at epoch 266000: 0.2565438449382782\n"
     ]
    },
    {
     "name": "stderr",
     "output_type": "stream",
     "text": [
      " 27%|██▋       | 267008/1000000 [1:40:51<5:21:25, 38.01it/s]"
     ]
    },
    {
     "name": "stdout",
     "output_type": "stream",
     "text": [
      "training loss at epoch 267000: 0.2985067367553711\n"
     ]
    },
    {
     "name": "stderr",
     "output_type": "stream",
     "text": [
      " 27%|██▋       | 268008/1000000 [1:41:13<5:20:12, 38.10it/s]"
     ]
    },
    {
     "name": "stdout",
     "output_type": "stream",
     "text": [
      "training loss at epoch 268000: 0.26000910997390747\n"
     ]
    },
    {
     "name": "stderr",
     "output_type": "stream",
     "text": [
      " 27%|██▋       | 269008/1000000 [1:41:36<5:16:44, 38.46it/s]"
     ]
    },
    {
     "name": "stdout",
     "output_type": "stream",
     "text": [
      "training loss at epoch 269000: 0.2636878192424774\n"
     ]
    },
    {
     "name": "stderr",
     "output_type": "stream",
     "text": [
      " 27%|██▋       | 270008/1000000 [1:41:58<5:34:12, 36.40it/s]"
     ]
    },
    {
     "name": "stdout",
     "output_type": "stream",
     "text": [
      "training loss at epoch 270000: 0.24413655698299408\n",
      "for node Q1324871- {'name': 'Pleasure P'} closest are nodes:\n",
      "{'name': 'Pleasure P'}\n",
      "{'name': 'Bloodline Severed'}\n",
      "{'name': 'Ralph Saenz'}\n",
      "for node Q7095510- {'name': 'Opa'} closest are nodes:\n",
      "{'name': 'Opa'}\n",
      "{'name': 'Eric Friedman'}\n",
      "{'name': 'This Providence'}\n",
      "for node Q5190314- {} closest are nodes:\n",
      "{}\n",
      "{'name': 'deep funk'}\n",
      "{}\n"
     ]
    },
    {
     "name": "stderr",
     "output_type": "stream",
     "text": [
      " 27%|██▋       | 271007/1000000 [1:42:21<5:28:53, 36.94it/s]"
     ]
    },
    {
     "name": "stdout",
     "output_type": "stream",
     "text": [
      "training loss at epoch 271000: 0.24209918081760406\n"
     ]
    },
    {
     "name": "stderr",
     "output_type": "stream",
     "text": [
      " 27%|██▋       | 272007/1000000 [1:42:43<5:17:27, 38.22it/s]"
     ]
    },
    {
     "name": "stdout",
     "output_type": "stream",
     "text": [
      "training loss at epoch 272000: 0.2815687656402588\n"
     ]
    },
    {
     "name": "stderr",
     "output_type": "stream",
     "text": [
      " 27%|██▋       | 273007/1000000 [1:43:06<5:32:04, 36.49it/s]"
     ]
    },
    {
     "name": "stdout",
     "output_type": "stream",
     "text": [
      "training loss at epoch 273000: 0.2554783523082733\n"
     ]
    },
    {
     "name": "stderr",
     "output_type": "stream",
     "text": [
      " 27%|██▋       | 274007/1000000 [1:43:28<5:22:16, 37.55it/s]"
     ]
    },
    {
     "name": "stdout",
     "output_type": "stream",
     "text": [
      "training loss at epoch 274000: 0.29000166058540344\n"
     ]
    },
    {
     "name": "stderr",
     "output_type": "stream",
     "text": [
      " 28%|██▊       | 275007/1000000 [1:43:51<5:34:47, 36.09it/s]"
     ]
    },
    {
     "name": "stdout",
     "output_type": "stream",
     "text": [
      "training loss at epoch 275000: 0.2818610668182373\n"
     ]
    },
    {
     "name": "stderr",
     "output_type": "stream",
     "text": [
      " 28%|██▊       | 276007/1000000 [1:44:13<5:19:39, 37.75it/s]"
     ]
    },
    {
     "name": "stdout",
     "output_type": "stream",
     "text": [
      "training loss at epoch 276000: 0.24107618629932404\n"
     ]
    },
    {
     "name": "stderr",
     "output_type": "stream",
     "text": [
      " 28%|██▊       | 277007/1000000 [1:44:36<5:18:26, 37.84it/s]"
     ]
    },
    {
     "name": "stdout",
     "output_type": "stream",
     "text": [
      "training loss at epoch 277000: 0.2718055546283722\n"
     ]
    },
    {
     "name": "stderr",
     "output_type": "stream",
     "text": [
      " 28%|██▊       | 278007/1000000 [1:44:58<5:28:27, 36.64it/s]"
     ]
    },
    {
     "name": "stdout",
     "output_type": "stream",
     "text": [
      "training loss at epoch 278000: 0.25091639161109924\n"
     ]
    },
    {
     "name": "stderr",
     "output_type": "stream",
     "text": [
      " 28%|██▊       | 279007/1000000 [1:45:20<5:18:39, 37.71it/s]"
     ]
    },
    {
     "name": "stdout",
     "output_type": "stream",
     "text": [
      "training loss at epoch 279000: 0.2702884376049042\n"
     ]
    },
    {
     "name": "stderr",
     "output_type": "stream",
     "text": [
      " 28%|██▊       | 280006/1000000 [1:45:43<5:37:00, 35.61it/s]"
     ]
    },
    {
     "name": "stdout",
     "output_type": "stream",
     "text": [
      "training loss at epoch 280000: 0.2897312641143799\n",
      "for node Q7737321- {'name': 'The Goodwill'} closest are nodes:\n",
      "{'name': 'The Goodwill'}\n",
      "{'name': 'Yakuza'}\n",
      "{'name': 'Stick to Your Guns'}\n",
      "for node Q33109534- {'name': 'Jise One'} closest are nodes:\n",
      "{'name': 'Jise One'}\n",
      "{'name': 'D-Stroy'}\n",
      "{'name': 'Q-Unique'}\n",
      "for node Q2026288- {} closest are nodes:\n",
      "{}\n",
      "{'name': 'Michael Stipe'}\n",
      "{}\n"
     ]
    },
    {
     "name": "stderr",
     "output_type": "stream",
     "text": [
      " 28%|██▊       | 281006/1000000 [1:46:05<5:24:40, 36.91it/s]"
     ]
    },
    {
     "name": "stdout",
     "output_type": "stream",
     "text": [
      "training loss at epoch 281000: 0.27854427695274353\n"
     ]
    },
    {
     "name": "stderr",
     "output_type": "stream",
     "text": [
      " 28%|██▊       | 282006/1000000 [1:46:28<5:27:01, 36.59it/s]"
     ]
    },
    {
     "name": "stdout",
     "output_type": "stream",
     "text": [
      "training loss at epoch 282000: 0.25649750232696533\n"
     ]
    },
    {
     "name": "stderr",
     "output_type": "stream",
     "text": [
      " 28%|██▊       | 283006/1000000 [1:46:50<5:11:36, 38.35it/s]"
     ]
    },
    {
     "name": "stdout",
     "output_type": "stream",
     "text": [
      "training loss at epoch 283000: 0.24220269918441772\n"
     ]
    },
    {
     "name": "stderr",
     "output_type": "stream",
     "text": [
      " 28%|██▊       | 284006/1000000 [1:47:13<5:25:59, 36.61it/s]"
     ]
    },
    {
     "name": "stdout",
     "output_type": "stream",
     "text": [
      "training loss at epoch 284000: 0.27119025588035583\n"
     ]
    },
    {
     "name": "stderr",
     "output_type": "stream",
     "text": [
      " 29%|██▊       | 285006/1000000 [1:47:35<5:24:15, 36.75it/s]"
     ]
    },
    {
     "name": "stdout",
     "output_type": "stream",
     "text": [
      "training loss at epoch 285000: 0.2728080451488495\n"
     ]
    },
    {
     "name": "stderr",
     "output_type": "stream",
     "text": [
      " 29%|██▊       | 286006/1000000 [1:47:58<5:17:12, 37.51it/s]"
     ]
    },
    {
     "name": "stdout",
     "output_type": "stream",
     "text": [
      "training loss at epoch 286000: 0.22125448286533356\n"
     ]
    },
    {
     "name": "stderr",
     "output_type": "stream",
     "text": [
      " 29%|██▊       | 287006/1000000 [1:48:20<5:10:34, 38.26it/s]"
     ]
    },
    {
     "name": "stdout",
     "output_type": "stream",
     "text": [
      "training loss at epoch 287000: 0.27396103739738464\n"
     ]
    },
    {
     "name": "stderr",
     "output_type": "stream",
     "text": [
      " 29%|██▉       | 288006/1000000 [1:48:43<5:31:14, 35.82it/s]"
     ]
    },
    {
     "name": "stdout",
     "output_type": "stream",
     "text": [
      "training loss at epoch 288000: 0.2487478107213974\n"
     ]
    },
    {
     "name": "stderr",
     "output_type": "stream",
     "text": [
      " 29%|██▉       | 289006/1000000 [1:49:05<5:20:52, 36.93it/s]"
     ]
    },
    {
     "name": "stdout",
     "output_type": "stream",
     "text": [
      "training loss at epoch 289000: 0.27796071767807007\n"
     ]
    },
    {
     "name": "stderr",
     "output_type": "stream",
     "text": [
      " 29%|██▉       | 290006/1000000 [1:49:28<5:20:08, 36.96it/s]"
     ]
    },
    {
     "name": "stdout",
     "output_type": "stream",
     "text": [
      "training loss at epoch 290000: 0.27228811383247375\n",
      "for node Q694447- {'name': 'The Other Ones'} closest are nodes:\n",
      "{'name': 'The Other Ones'}\n",
      "{'name': 'Bobby and the Midnites'}\n",
      "{'name': 'Bon Jovi'}\n",
      "for node Q1421122- {'name': 'Fit for an Autopsy'} closest are nodes:\n",
      "{'name': \"'68\"}\n",
      "{'name': 'Winds of Plague'}\n",
      "{'name': 'The Contortionist'}\n",
      "for node Q7741516- {'name': 'The Impalas'} closest are nodes:\n",
      "{'name': 'The Impalas'}\n",
      "{'name': 'The Stereos'}\n",
      "{'name': 'The Harptones'}\n"
     ]
    },
    {
     "name": "stderr",
     "output_type": "stream",
     "text": [
      " 29%|██▉       | 291006/1000000 [1:49:50<5:17:32, 37.21it/s]"
     ]
    },
    {
     "name": "stdout",
     "output_type": "stream",
     "text": [
      "training loss at epoch 291000: 0.23754727840423584\n"
     ]
    },
    {
     "name": "stderr",
     "output_type": "stream",
     "text": [
      " 29%|██▉       | 292006/1000000 [1:50:13<5:14:01, 37.58it/s]"
     ]
    },
    {
     "name": "stdout",
     "output_type": "stream",
     "text": [
      "training loss at epoch 292000: 0.22885066270828247\n"
     ]
    },
    {
     "name": "stderr",
     "output_type": "stream",
     "text": [
      " 29%|██▉       | 293006/1000000 [1:50:35<5:08:10, 38.23it/s]"
     ]
    },
    {
     "name": "stdout",
     "output_type": "stream",
     "text": [
      "training loss at epoch 293000: 0.20271305739879608\n"
     ]
    },
    {
     "name": "stderr",
     "output_type": "stream",
     "text": [
      " 29%|██▉       | 294006/1000000 [1:50:58<5:26:01, 36.09it/s]"
     ]
    },
    {
     "name": "stdout",
     "output_type": "stream",
     "text": [
      "training loss at epoch 294000: 0.2586987614631653\n"
     ]
    },
    {
     "name": "stderr",
     "output_type": "stream",
     "text": [
      " 30%|██▉       | 295006/1000000 [1:51:20<5:17:50, 36.97it/s]"
     ]
    },
    {
     "name": "stdout",
     "output_type": "stream",
     "text": [
      "training loss at epoch 295000: 0.24330772459506989\n"
     ]
    },
    {
     "name": "stderr",
     "output_type": "stream",
     "text": [
      " 30%|██▉       | 296006/1000000 [1:51:43<5:07:54, 38.11it/s]"
     ]
    },
    {
     "name": "stdout",
     "output_type": "stream",
     "text": [
      "training loss at epoch 296000: 0.3101364076137543\n"
     ]
    },
    {
     "name": "stderr",
     "output_type": "stream",
     "text": [
      " 30%|██▉       | 297006/1000000 [1:52:05<5:18:48, 36.75it/s]"
     ]
    },
    {
     "name": "stdout",
     "output_type": "stream",
     "text": [
      "training loss at epoch 297000: 0.24448631703853607\n"
     ]
    },
    {
     "name": "stderr",
     "output_type": "stream",
     "text": [
      " 30%|██▉       | 298006/1000000 [1:52:28<5:11:33, 37.55it/s]"
     ]
    },
    {
     "name": "stdout",
     "output_type": "stream",
     "text": [
      "training loss at epoch 298000: 0.19810737669467926\n"
     ]
    },
    {
     "name": "stderr",
     "output_type": "stream",
     "text": [
      " 30%|██▉       | 299006/1000000 [1:52:50<5:19:53, 36.52it/s]"
     ]
    },
    {
     "name": "stdout",
     "output_type": "stream",
     "text": [
      "training loss at epoch 299000: 0.30012184381484985\n"
     ]
    },
    {
     "name": "stderr",
     "output_type": "stream",
     "text": [
      " 30%|███       | 300006/1000000 [1:53:13<5:06:52, 38.02it/s]"
     ]
    },
    {
     "name": "stdout",
     "output_type": "stream",
     "text": [
      "training loss at epoch 300000: 0.24822372198104858\n",
      "for node Q4803681- {} closest are nodes:\n",
      "{}\n",
      "{}\n",
      "{}\n",
      "for node Q5885740- {'name': 'Holy Molar'} closest are nodes:\n",
      "{'name': 'Unbroken'}\n",
      "{'name': 'Holy Molar'}\n",
      "{'name': 'Swing Kids'}\n",
      "for node Q252248- {'name': 'Link Wray'} closest are nodes:\n",
      "{'name': 'Lucky Wray'}\n",
      "{'name': 'Doug Wray'}\n",
      "{'name': 'Link Wray'}\n"
     ]
    },
    {
     "name": "stderr",
     "output_type": "stream",
     "text": [
      " 30%|███       | 301006/1000000 [1:53:35<5:16:32, 36.80it/s]"
     ]
    },
    {
     "name": "stdout",
     "output_type": "stream",
     "text": [
      "training loss at epoch 301000: 0.23896127939224243\n"
     ]
    },
    {
     "name": "stderr",
     "output_type": "stream",
     "text": [
      " 30%|███       | 302006/1000000 [1:53:58<5:00:10, 38.76it/s]"
     ]
    },
    {
     "name": "stdout",
     "output_type": "stream",
     "text": [
      "training loss at epoch 302000: 0.1944713294506073\n"
     ]
    },
    {
     "name": "stderr",
     "output_type": "stream",
     "text": [
      " 30%|███       | 303006/1000000 [1:54:20<5:19:12, 36.39it/s]"
     ]
    },
    {
     "name": "stdout",
     "output_type": "stream",
     "text": [
      "training loss at epoch 303000: 0.26619553565979004\n"
     ]
    },
    {
     "name": "stderr",
     "output_type": "stream",
     "text": [
      " 30%|███       | 304010/1000000 [1:54:43<5:25:50, 35.60it/s]"
     ]
    },
    {
     "name": "stdout",
     "output_type": "stream",
     "text": [
      "training loss at epoch 304000: 0.2410750389099121\n"
     ]
    },
    {
     "name": "stderr",
     "output_type": "stream",
     "text": [
      " 31%|███       | 305010/1000000 [1:55:05<5:00:31, 38.54it/s]"
     ]
    },
    {
     "name": "stdout",
     "output_type": "stream",
     "text": [
      "training loss at epoch 305000: 0.26492375135421753\n"
     ]
    },
    {
     "name": "stderr",
     "output_type": "stream",
     "text": [
      " 31%|███       | 306010/1000000 [1:55:28<5:09:23, 37.38it/s]"
     ]
    },
    {
     "name": "stdout",
     "output_type": "stream",
     "text": [
      "training loss at epoch 306000: 0.2894810140132904\n"
     ]
    },
    {
     "name": "stderr",
     "output_type": "stream",
     "text": [
      " 31%|███       | 307010/1000000 [1:55:50<5:15:32, 36.60it/s]"
     ]
    },
    {
     "name": "stdout",
     "output_type": "stream",
     "text": [
      "training loss at epoch 307000: 0.24740739166736603\n"
     ]
    },
    {
     "name": "stderr",
     "output_type": "stream",
     "text": [
      " 31%|███       | 308010/1000000 [1:56:13<5:16:57, 36.39it/s]"
     ]
    },
    {
     "name": "stdout",
     "output_type": "stream",
     "text": [
      "training loss at epoch 308000: 0.25428760051727295\n"
     ]
    },
    {
     "name": "stderr",
     "output_type": "stream",
     "text": [
      " 31%|███       | 309005/1000000 [1:56:35<5:41:46, 33.70it/s]"
     ]
    },
    {
     "name": "stdout",
     "output_type": "stream",
     "text": [
      "training loss at epoch 309000: 0.27925318479537964\n"
     ]
    },
    {
     "name": "stderr",
     "output_type": "stream",
     "text": [
      " 31%|███       | 310010/1000000 [1:56:58<5:13:35, 36.67it/s]"
     ]
    },
    {
     "name": "stdout",
     "output_type": "stream",
     "text": [
      "training loss at epoch 310000: 0.25540807843208313\n",
      "for node Q25405006- {'name': 'Metal Allegiance'} closest are nodes:\n",
      "{'name': 'Vektor'}\n",
      "{'name': 'Battlecross'}\n",
      "{'name': 'Generation Kill'}\n",
      "for node Q5125108- {'name': 'Clair De Lune'} closest are nodes:\n",
      "{'name': 'Camber'}\n",
      "{'name': 'Benton Falls'}\n",
      "{'name': 'Moving Mountains'}\n",
      "for node Q47094266- {'name': 'Jeff Babko'} closest are nodes:\n",
      "{'name': 'Cleto Escobedo Jr.'}\n",
      "{'name': 'Cleto Escobedo III'}\n",
      "{'name': 'Jimmy Earl'}\n"
     ]
    },
    {
     "name": "stderr",
     "output_type": "stream",
     "text": [
      " 31%|███       | 311010/1000000 [1:57:20<5:55:00, 32.35it/s]"
     ]
    },
    {
     "name": "stdout",
     "output_type": "stream",
     "text": [
      "training loss at epoch 311000: 0.2694142460823059\n"
     ]
    },
    {
     "name": "stderr",
     "output_type": "stream",
     "text": [
      " 31%|███       | 312009/1000000 [1:57:43<5:16:26, 36.24it/s]"
     ]
    },
    {
     "name": "stdout",
     "output_type": "stream",
     "text": [
      "training loss at epoch 312000: 0.2583529055118561\n"
     ]
    },
    {
     "name": "stderr",
     "output_type": "stream",
     "text": [
      " 31%|███▏      | 313009/1000000 [1:58:05<5:19:07, 35.88it/s]"
     ]
    },
    {
     "name": "stdout",
     "output_type": "stream",
     "text": [
      "training loss at epoch 313000: 0.24724026024341583\n"
     ]
    },
    {
     "name": "stderr",
     "output_type": "stream",
     "text": [
      " 31%|███▏      | 314008/1000000 [1:58:28<4:59:56, 38.12it/s]"
     ]
    },
    {
     "name": "stdout",
     "output_type": "stream",
     "text": [
      "training loss at epoch 314000: 0.2139027863740921\n"
     ]
    },
    {
     "name": "stderr",
     "output_type": "stream",
     "text": [
      " 32%|███▏      | 315008/1000000 [1:58:50<5:11:11, 36.69it/s]"
     ]
    },
    {
     "name": "stdout",
     "output_type": "stream",
     "text": [
      "training loss at epoch 315000: 0.23227117955684662\n"
     ]
    },
    {
     "name": "stderr",
     "output_type": "stream",
     "text": [
      " 32%|███▏      | 316008/1000000 [1:59:13<4:58:08, 38.24it/s]"
     ]
    },
    {
     "name": "stdout",
     "output_type": "stream",
     "text": [
      "training loss at epoch 316000: 0.2702874541282654\n"
     ]
    },
    {
     "name": "stderr",
     "output_type": "stream",
     "text": [
      " 32%|███▏      | 317008/1000000 [1:59:35<5:06:20, 37.16it/s]"
     ]
    },
    {
     "name": "stdout",
     "output_type": "stream",
     "text": [
      "training loss at epoch 317000: 0.28531384468078613\n"
     ]
    },
    {
     "name": "stderr",
     "output_type": "stream",
     "text": [
      " 32%|███▏      | 318008/1000000 [1:59:57<5:03:22, 37.47it/s]"
     ]
    },
    {
     "name": "stdout",
     "output_type": "stream",
     "text": [
      "training loss at epoch 318000: 0.2428230494260788\n"
     ]
    },
    {
     "name": "stderr",
     "output_type": "stream",
     "text": [
      " 32%|███▏      | 319008/1000000 [2:00:20<5:04:27, 37.28it/s]"
     ]
    },
    {
     "name": "stdout",
     "output_type": "stream",
     "text": [
      "training loss at epoch 319000: 0.24892055988311768\n"
     ]
    },
    {
     "name": "stderr",
     "output_type": "stream",
     "text": [
      " 32%|███▏      | 320008/1000000 [2:00:42<5:17:17, 35.72it/s]"
     ]
    },
    {
     "name": "stdout",
     "output_type": "stream",
     "text": [
      "training loss at epoch 320000: 0.2797406315803528\n",
      "for node Q1927874- {'name': 'Youth of Today'} closest are nodes:\n",
      "{'name': 'Youth of Today'}\n",
      "{'name': 'Widowspeak'}\n",
      "{'name': 'Digital Underground'}\n",
      "for node Q3675497- {'name': 'Chris Hakius'} closest are nodes:\n",
      "{'name': 'Chris Hakius'}\n",
      "{'name': 'Al Cisneros'}\n",
      "{'name': 'Anthony \"Tiny\" Biuso'}\n",
      "for node Q816452- {'name': 'Vampire Weekend'} closest are nodes:\n",
      "{'name': 'Vampire Weekend'}\n",
      "{'name': 'Discovery'}\n",
      "{}\n"
     ]
    },
    {
     "name": "stderr",
     "output_type": "stream",
     "text": [
      " 32%|███▏      | 321008/1000000 [2:01:05<5:03:24, 37.30it/s]"
     ]
    },
    {
     "name": "stdout",
     "output_type": "stream",
     "text": [
      "training loss at epoch 321000: 0.28477880358695984\n"
     ]
    },
    {
     "name": "stderr",
     "output_type": "stream",
     "text": [
      " 32%|███▏      | 322008/1000000 [2:01:27<4:59:27, 37.73it/s]"
     ]
    },
    {
     "name": "stdout",
     "output_type": "stream",
     "text": [
      "training loss at epoch 322000: 0.21704600751399994\n"
     ]
    },
    {
     "name": "stderr",
     "output_type": "stream",
     "text": [
      " 32%|███▏      | 323008/1000000 [2:01:50<4:58:04, 37.85it/s]"
     ]
    },
    {
     "name": "stdout",
     "output_type": "stream",
     "text": [
      "training loss at epoch 323000: 0.22060967981815338\n"
     ]
    },
    {
     "name": "stderr",
     "output_type": "stream",
     "text": [
      " 32%|███▏      | 324007/1000000 [2:02:12<5:07:32, 36.63it/s]"
     ]
    },
    {
     "name": "stdout",
     "output_type": "stream",
     "text": [
      "training loss at epoch 324000: 0.22874213755130768\n"
     ]
    },
    {
     "name": "stderr",
     "output_type": "stream",
     "text": [
      " 33%|███▎      | 325007/1000000 [2:02:35<4:55:32, 38.06it/s]"
     ]
    },
    {
     "name": "stdout",
     "output_type": "stream",
     "text": [
      "training loss at epoch 325000: 0.2299298644065857\n"
     ]
    },
    {
     "name": "stderr",
     "output_type": "stream",
     "text": [
      " 33%|███▎      | 326007/1000000 [2:02:57<4:58:46, 37.60it/s]"
     ]
    },
    {
     "name": "stdout",
     "output_type": "stream",
     "text": [
      "training loss at epoch 326000: 0.24858221411705017\n"
     ]
    },
    {
     "name": "stderr",
     "output_type": "stream",
     "text": [
      " 33%|███▎      | 327007/1000000 [2:03:20<4:59:43, 37.42it/s]"
     ]
    },
    {
     "name": "stdout",
     "output_type": "stream",
     "text": [
      "training loss at epoch 327000: 0.24380457401275635\n"
     ]
    },
    {
     "name": "stderr",
     "output_type": "stream",
     "text": [
      " 33%|███▎      | 328007/1000000 [2:03:42<5:02:07, 37.07it/s]"
     ]
    },
    {
     "name": "stdout",
     "output_type": "stream",
     "text": [
      "training loss at epoch 328000: 0.22539785504341125\n"
     ]
    },
    {
     "name": "stderr",
     "output_type": "stream",
     "text": [
      " 33%|███▎      | 329007/1000000 [2:04:05<4:52:25, 38.24it/s]"
     ]
    },
    {
     "name": "stdout",
     "output_type": "stream",
     "text": [
      "training loss at epoch 329000: 0.23362545669078827\n"
     ]
    },
    {
     "name": "stderr",
     "output_type": "stream",
     "text": [
      " 33%|███▎      | 330007/1000000 [2:04:27<5:04:05, 36.72it/s]"
     ]
    },
    {
     "name": "stdout",
     "output_type": "stream",
     "text": [
      "training loss at epoch 330000: 0.26137199997901917\n",
      "for node Q39052716- {'name': 'The Regrettes'} closest are nodes:\n",
      "{'name': 'Kylie and Garibay'}\n",
      "{'name': 'Field Trip'}\n",
      "{'name': 'Chris Couchois'}\n",
      "for node Q1144020- {'name': 'CunninLynguists'} closest are nodes:\n",
      "{'name': 'CunninLynguists'}\n",
      "{'name': 'NOFX'}\n",
      "{'name': 'Aspects of Physics'}\n",
      "for node Q830379- {'name': 'Modern Jazz Quartet'} closest are nodes:\n",
      "{'name': 'Joe Sib'}\n",
      "{'name': \"The Lovin' Spoonful\"}\n",
      "{'name': 'Modern Jazz Quartet'}\n"
     ]
    },
    {
     "name": "stderr",
     "output_type": "stream",
     "text": [
      " 33%|███▎      | 331007/1000000 [2:04:50<4:54:43, 37.83it/s]"
     ]
    },
    {
     "name": "stdout",
     "output_type": "stream",
     "text": [
      "training loss at epoch 331000: 0.2577807307243347\n"
     ]
    },
    {
     "name": "stderr",
     "output_type": "stream",
     "text": [
      " 33%|███▎      | 332007/1000000 [2:05:12<4:50:20, 38.34it/s]"
     ]
    },
    {
     "name": "stdout",
     "output_type": "stream",
     "text": [
      "training loss at epoch 332000: 0.24452218413352966\n"
     ]
    },
    {
     "name": "stderr",
     "output_type": "stream",
     "text": [
      " 33%|███▎      | 333007/1000000 [2:05:35<5:13:25, 35.47it/s]"
     ]
    },
    {
     "name": "stdout",
     "output_type": "stream",
     "text": [
      "training loss at epoch 333000: 0.24642720818519592\n"
     ]
    },
    {
     "name": "stderr",
     "output_type": "stream",
     "text": [
      " 33%|███▎      | 334007/1000000 [2:05:57<4:52:59, 37.88it/s]"
     ]
    },
    {
     "name": "stdout",
     "output_type": "stream",
     "text": [
      "training loss at epoch 334000: 0.2146521806716919\n"
     ]
    },
    {
     "name": "stderr",
     "output_type": "stream",
     "text": [
      " 34%|███▎      | 335007/1000000 [2:06:20<4:59:16, 37.03it/s]"
     ]
    },
    {
     "name": "stdout",
     "output_type": "stream",
     "text": [
      "training loss at epoch 335000: 0.23937006294727325\n"
     ]
    },
    {
     "name": "stderr",
     "output_type": "stream",
     "text": [
      " 34%|███▎      | 336007/1000000 [2:06:42<4:58:17, 37.10it/s]"
     ]
    },
    {
     "name": "stdout",
     "output_type": "stream",
     "text": [
      "training loss at epoch 336000: 0.2608645558357239\n"
     ]
    },
    {
     "name": "stderr",
     "output_type": "stream",
     "text": [
      " 34%|███▎      | 337007/1000000 [2:07:04<4:58:11, 37.06it/s]"
     ]
    },
    {
     "name": "stdout",
     "output_type": "stream",
     "text": [
      "training loss at epoch 337000: 0.2260155975818634\n"
     ]
    },
    {
     "name": "stderr",
     "output_type": "stream",
     "text": [
      " 34%|███▍      | 338007/1000000 [2:07:27<4:53:40, 37.57it/s]"
     ]
    },
    {
     "name": "stdout",
     "output_type": "stream",
     "text": [
      "training loss at epoch 338000: 0.246077299118042\n"
     ]
    },
    {
     "name": "stderr",
     "output_type": "stream",
     "text": [
      " 34%|███▍      | 339007/1000000 [2:07:49<4:46:50, 38.41it/s]"
     ]
    },
    {
     "name": "stdout",
     "output_type": "stream",
     "text": [
      "training loss at epoch 339000: 0.2597767114639282\n"
     ]
    },
    {
     "name": "stderr",
     "output_type": "stream",
     "text": [
      " 34%|███▍      | 340007/1000000 [2:08:12<4:50:44, 37.83it/s]"
     ]
    },
    {
     "name": "stdout",
     "output_type": "stream",
     "text": [
      "training loss at epoch 340000: 0.2476547509431839\n",
      "for node Q7774189- {'name': 'The Welcome Wagon'} closest are nodes:\n",
      "{'name': 'The Welcome Wagon'}\n",
      "{'name': 'Half-handed Cloud'}\n",
      "{'name': 'Cryptacize'}\n",
      "for node Q4820067- {'name': 'Audra'} closest are nodes:\n",
      "{'name': 'Audra'}\n",
      "{'name': 'Melodyguild'}\n",
      "{'name': \"Autumn's Grey Solace\"}\n",
      "for node Q5129177- {'name': 'Claudia Gonson'} closest are nodes:\n",
      "{'name': 'Stephin Merritt'}\n",
      "{'name': 'Claudia Gonson'}\n",
      "{'name': 'Sam Davol'}\n"
     ]
    },
    {
     "name": "stderr",
     "output_type": "stream",
     "text": [
      " 34%|███▍      | 341007/1000000 [2:08:34<4:59:49, 36.63it/s]"
     ]
    },
    {
     "name": "stdout",
     "output_type": "stream",
     "text": [
      "training loss at epoch 341000: 0.23122073709964752\n"
     ]
    },
    {
     "name": "stderr",
     "output_type": "stream",
     "text": [
      " 34%|███▍      | 342007/1000000 [2:08:57<4:52:24, 37.51it/s]"
     ]
    },
    {
     "name": "stdout",
     "output_type": "stream",
     "text": [
      "training loss at epoch 342000: 0.26140397787094116\n"
     ]
    },
    {
     "name": "stderr",
     "output_type": "stream",
     "text": [
      " 34%|███▍      | 343007/1000000 [2:09:19<4:57:06, 36.85it/s]"
     ]
    },
    {
     "name": "stdout",
     "output_type": "stream",
     "text": [
      "training loss at epoch 343000: 0.24625548720359802\n"
     ]
    },
    {
     "name": "stderr",
     "output_type": "stream",
     "text": [
      " 34%|███▍      | 344007/1000000 [2:09:42<4:49:22, 37.78it/s]"
     ]
    },
    {
     "name": "stdout",
     "output_type": "stream",
     "text": [
      "training loss at epoch 344000: 0.2539198100566864\n"
     ]
    },
    {
     "name": "stderr",
     "output_type": "stream",
     "text": [
      " 35%|███▍      | 345010/1000000 [2:10:04<4:54:40, 37.05it/s]"
     ]
    },
    {
     "name": "stdout",
     "output_type": "stream",
     "text": [
      "training loss at epoch 345000: 0.23284000158309937\n"
     ]
    },
    {
     "name": "stderr",
     "output_type": "stream",
     "text": [
      " 35%|███▍      | 346010/1000000 [2:10:27<4:49:11, 37.69it/s]"
     ]
    },
    {
     "name": "stdout",
     "output_type": "stream",
     "text": [
      "training loss at epoch 346000: 0.21473824977874756\n"
     ]
    },
    {
     "name": "stderr",
     "output_type": "stream",
     "text": [
      " 35%|███▍      | 347010/1000000 [2:10:50<4:55:27, 36.84it/s]"
     ]
    },
    {
     "name": "stdout",
     "output_type": "stream",
     "text": [
      "training loss at epoch 347000: 0.21798346936702728\n"
     ]
    },
    {
     "name": "stderr",
     "output_type": "stream",
     "text": [
      " 35%|███▍      | 348010/1000000 [2:11:12<4:48:18, 37.69it/s]"
     ]
    },
    {
     "name": "stdout",
     "output_type": "stream",
     "text": [
      "training loss at epoch 348000: 0.2452864795923233\n"
     ]
    },
    {
     "name": "stderr",
     "output_type": "stream",
     "text": [
      " 35%|███▍      | 349009/1000000 [2:11:35<5:00:15, 36.14it/s]"
     ]
    },
    {
     "name": "stdout",
     "output_type": "stream",
     "text": [
      "training loss at epoch 349000: 0.25779110193252563\n"
     ]
    },
    {
     "name": "stderr",
     "output_type": "stream",
     "text": [
      " 35%|███▌      | 350008/1000000 [2:11:57<4:50:59, 37.23it/s]"
     ]
    },
    {
     "name": "stdout",
     "output_type": "stream",
     "text": [
      "training loss at epoch 350000: 0.2571165859699249\n",
      "for node Q7646863- {} closest are nodes:\n",
      "{}\n",
      "{}\n",
      "{'name': 'The Crabb Family'}\n",
      "for node Q11309120- {'name': 'Jason Falkner'} closest are nodes:\n",
      "{'name': 'Roger Joseph Manning, Jr.'}\n",
      "{'name': 'Jason Falkner'}\n",
      "{'name': 'Brian Reitzell'}\n",
      "for node Q5313197- {'name': 'Dukes of September Rhythm Revue'} closest are nodes:\n",
      "{'name': 'Dukes of September Rhythm Revue'}\n",
      "{'name': 'Steely Dan'}\n",
      "{'name': 'Dinosaur Jr.'}\n"
     ]
    },
    {
     "name": "stderr",
     "output_type": "stream",
     "text": [
      " 35%|███▌      | 351008/1000000 [2:12:20<4:43:47, 38.11it/s]"
     ]
    },
    {
     "name": "stdout",
     "output_type": "stream",
     "text": [
      "training loss at epoch 351000: 0.25168171525001526\n"
     ]
    },
    {
     "name": "stderr",
     "output_type": "stream",
     "text": [
      " 35%|███▌      | 352008/1000000 [2:12:42<4:56:37, 36.41it/s]"
     ]
    },
    {
     "name": "stdout",
     "output_type": "stream",
     "text": [
      "training loss at epoch 352000: 0.2757640480995178\n"
     ]
    },
    {
     "name": "stderr",
     "output_type": "stream",
     "text": [
      " 35%|███▌      | 353008/1000000 [2:13:05<4:42:26, 38.18it/s]"
     ]
    },
    {
     "name": "stdout",
     "output_type": "stream",
     "text": [
      "training loss at epoch 353000: 0.2501657009124756\n"
     ]
    },
    {
     "name": "stderr",
     "output_type": "stream",
     "text": [
      " 35%|███▌      | 354008/1000000 [2:13:27<4:42:09, 38.16it/s]"
     ]
    },
    {
     "name": "stdout",
     "output_type": "stream",
     "text": [
      "training loss at epoch 354000: 0.23776519298553467\n"
     ]
    },
    {
     "name": "stderr",
     "output_type": "stream",
     "text": [
      " 36%|███▌      | 355008/1000000 [2:13:49<4:49:00, 37.19it/s]"
     ]
    },
    {
     "name": "stdout",
     "output_type": "stream",
     "text": [
      "training loss at epoch 355000: 0.24166828393936157\n"
     ]
    },
    {
     "name": "stderr",
     "output_type": "stream",
     "text": [
      " 36%|███▌      | 356009/1000000 [2:14:13<4:53:33, 36.56it/s]"
     ]
    },
    {
     "name": "stdout",
     "output_type": "stream",
     "text": [
      "training loss at epoch 356000: 0.25610649585723877\n"
     ]
    },
    {
     "name": "stderr",
     "output_type": "stream",
     "text": [
      " 36%|███▌      | 357008/1000000 [2:14:36<5:10:33, 34.51it/s]"
     ]
    },
    {
     "name": "stdout",
     "output_type": "stream",
     "text": [
      "training loss at epoch 357000: 0.22452983260154724\n"
     ]
    },
    {
     "name": "stderr",
     "output_type": "stream",
     "text": [
      " 36%|███▌      | 358005/1000000 [2:15:00<5:32:55, 32.14it/s]"
     ]
    },
    {
     "name": "stdout",
     "output_type": "stream",
     "text": [
      "training loss at epoch 358000: 0.21611171960830688\n"
     ]
    },
    {
     "name": "stderr",
     "output_type": "stream",
     "text": [
      " 36%|███▌      | 359005/1000000 [2:15:23<5:23:17, 33.05it/s]"
     ]
    },
    {
     "name": "stdout",
     "output_type": "stream",
     "text": [
      "training loss at epoch 359000: 0.24094785749912262\n"
     ]
    },
    {
     "name": "stderr",
     "output_type": "stream",
     "text": [
      " 36%|███▌      | 360006/1000000 [2:15:46<4:58:59, 35.67it/s]"
     ]
    },
    {
     "name": "stdout",
     "output_type": "stream",
     "text": [
      "training loss at epoch 360000: 0.22411194443702698\n",
      "for node Q4703640- {'name': 'Al Caiola'} closest are nodes:\n",
      "{'name': 'Al Caiola'}\n",
      "{'name': 'Walt Levinsky'}\n",
      "{'name': 'Henri René'}\n",
      "for node Q265222- {'name': 'NOFX'} closest are nodes:\n",
      "{'name': 'NOFX'}\n",
      "{'name': 'Imperial Teen'}\n",
      "{'name': 'Cartel'}\n",
      "for node Q7740170- {'name': 'The Honor System'} closest are nodes:\n",
      "{'name': \"Let's Go Bowling\"}\n",
      "{'name': 'Cheap Girls'}\n",
      "{'name': 'Andrew Jackson Jihad'}\n"
     ]
    },
    {
     "name": "stderr",
     "output_type": "stream",
     "text": [
      " 36%|███▌      | 361008/1000000 [2:16:09<5:24:05, 32.86it/s]"
     ]
    },
    {
     "name": "stdout",
     "output_type": "stream",
     "text": [
      "training loss at epoch 361000: 0.22782115638256073\n"
     ]
    },
    {
     "name": "stderr",
     "output_type": "stream",
     "text": [
      " 36%|███▌      | 362005/1000000 [2:16:33<5:07:34, 34.57it/s]"
     ]
    },
    {
     "name": "stdout",
     "output_type": "stream",
     "text": [
      "training loss at epoch 362000: 0.18355967104434967\n"
     ]
    },
    {
     "name": "stderr",
     "output_type": "stream",
     "text": [
      " 36%|███▋      | 363010/1000000 [2:16:56<4:56:20, 35.82it/s]"
     ]
    },
    {
     "name": "stdout",
     "output_type": "stream",
     "text": [
      "training loss at epoch 363000: 0.20963898301124573\n"
     ]
    },
    {
     "name": "stderr",
     "output_type": "stream",
     "text": [
      " 36%|███▋      | 364010/1000000 [2:17:19<4:33:45, 38.72it/s]"
     ]
    },
    {
     "name": "stdout",
     "output_type": "stream",
     "text": [
      "training loss at epoch 364000: 0.25221818685531616\n"
     ]
    },
    {
     "name": "stderr",
     "output_type": "stream",
     "text": [
      " 37%|███▋      | 365010/1000000 [2:17:41<4:40:05, 37.78it/s]"
     ]
    },
    {
     "name": "stdout",
     "output_type": "stream",
     "text": [
      "training loss at epoch 365000: 0.245496928691864\n"
     ]
    },
    {
     "name": "stderr",
     "output_type": "stream",
     "text": [
      " 37%|███▋      | 366005/1000000 [2:18:04<5:13:04, 33.75it/s]"
     ]
    },
    {
     "name": "stdout",
     "output_type": "stream",
     "text": [
      "training loss at epoch 366000: 0.2544247508049011\n"
     ]
    },
    {
     "name": "stderr",
     "output_type": "stream",
     "text": [
      " 37%|███▋      | 367009/1000000 [2:18:27<5:01:08, 35.03it/s]"
     ]
    },
    {
     "name": "stdout",
     "output_type": "stream",
     "text": [
      "training loss at epoch 367000: 0.23812997341156006\n"
     ]
    },
    {
     "name": "stderr",
     "output_type": "stream",
     "text": [
      " 37%|███▋      | 368008/1000000 [2:18:49<4:46:50, 36.72it/s]"
     ]
    },
    {
     "name": "stdout",
     "output_type": "stream",
     "text": [
      "training loss at epoch 368000: 0.24498668313026428\n"
     ]
    },
    {
     "name": "stderr",
     "output_type": "stream",
     "text": [
      " 37%|███▋      | 369008/1000000 [2:19:12<4:48:37, 36.44it/s]"
     ]
    },
    {
     "name": "stdout",
     "output_type": "stream",
     "text": [
      "training loss at epoch 369000: 0.24479733407497406\n"
     ]
    },
    {
     "name": "stderr",
     "output_type": "stream",
     "text": [
      " 37%|███▋      | 370007/1000000 [2:19:35<4:43:27, 37.04it/s]"
     ]
    },
    {
     "name": "stdout",
     "output_type": "stream",
     "text": [
      "training loss at epoch 370000: 0.21489186584949493\n",
      "for node Q1701591- {'name': 'John Robinson'} closest are nodes:\n",
      "{'name': 'James Ingram'}\n",
      "{'name': 'David Paich'}\n",
      "{'name': 'Greg Phillinganes'}\n",
      "for node Q631050- {'name': 'Chickenfoot'} closest are nodes:\n",
      "{'name': 'Chickenfoot'}\n",
      "{}\n",
      "{'name': 'All That Remains'}\n",
      "for node Q1641839- {'name': 'experimental rock'} closest are nodes:\n",
      "{'name': 'Matt Scannell'}\n",
      "{'name': 'Backstabbers Incorporated'}\n",
      "{'name': \"Class of '99\"}\n"
     ]
    },
    {
     "name": "stderr",
     "output_type": "stream",
     "text": [
      " 37%|███▋      | 371007/1000000 [2:19:57<4:42:32, 37.10it/s]"
     ]
    },
    {
     "name": "stdout",
     "output_type": "stream",
     "text": [
      "training loss at epoch 371000: 0.2231276035308838\n"
     ]
    },
    {
     "name": "stderr",
     "output_type": "stream",
     "text": [
      " 37%|███▋      | 372007/1000000 [2:20:20<4:50:24, 36.04it/s]"
     ]
    },
    {
     "name": "stdout",
     "output_type": "stream",
     "text": [
      "training loss at epoch 372000: 0.20744852721691132\n"
     ]
    },
    {
     "name": "stderr",
     "output_type": "stream",
     "text": [
      " 37%|███▋      | 373007/1000000 [2:20:43<4:41:21, 37.14it/s]"
     ]
    },
    {
     "name": "stdout",
     "output_type": "stream",
     "text": [
      "training loss at epoch 373000: 0.24043576419353485\n"
     ]
    },
    {
     "name": "stderr",
     "output_type": "stream",
     "text": [
      " 37%|███▋      | 374007/1000000 [2:21:05<4:41:35, 37.05it/s]"
     ]
    },
    {
     "name": "stdout",
     "output_type": "stream",
     "text": [
      "training loss at epoch 374000: 0.20932245254516602\n"
     ]
    },
    {
     "name": "stderr",
     "output_type": "stream",
     "text": [
      " 38%|███▊      | 375006/1000000 [2:21:28<4:43:22, 36.76it/s]"
     ]
    },
    {
     "name": "stdout",
     "output_type": "stream",
     "text": [
      "training loss at epoch 375000: 0.23070286214351654\n"
     ]
    },
    {
     "name": "stderr",
     "output_type": "stream",
     "text": [
      " 38%|███▊      | 376006/1000000 [2:21:50<4:26:35, 39.01it/s]"
     ]
    },
    {
     "name": "stdout",
     "output_type": "stream",
     "text": [
      "training loss at epoch 376000: 0.21076805889606476\n"
     ]
    },
    {
     "name": "stderr",
     "output_type": "stream",
     "text": [
      " 38%|███▊      | 377006/1000000 [2:22:13<4:37:09, 37.46it/s]"
     ]
    },
    {
     "name": "stdout",
     "output_type": "stream",
     "text": [
      "training loss at epoch 377000: 0.23665785789489746\n"
     ]
    },
    {
     "name": "stderr",
     "output_type": "stream",
     "text": [
      " 38%|███▊      | 378006/1000000 [2:22:36<4:41:42, 36.80it/s]"
     ]
    },
    {
     "name": "stdout",
     "output_type": "stream",
     "text": [
      "training loss at epoch 378000: 0.21991951763629913\n"
     ]
    },
    {
     "name": "stderr",
     "output_type": "stream",
     "text": [
      " 38%|███▊      | 379006/1000000 [2:22:58<4:41:13, 36.80it/s]"
     ]
    },
    {
     "name": "stdout",
     "output_type": "stream",
     "text": [
      "training loss at epoch 379000: 0.2491799145936966\n"
     ]
    },
    {
     "name": "stderr",
     "output_type": "stream",
     "text": [
      " 38%|███▊      | 380005/1000000 [2:23:21<5:19:36, 32.33it/s]"
     ]
    },
    {
     "name": "stdout",
     "output_type": "stream",
     "text": [
      "training loss at epoch 380000: 0.23523956537246704\n",
      "for node Q63283426- {'name': 'Sean Collins'} closest are nodes:\n",
      "{'name': 'Dakota Ringer'}\n",
      "{'name': 'Gunnar Dahlstrom'}\n",
      "{'name': 'Alexander Grant'}\n",
      "for node Q4942298- {'name': 'Bonnie Brown'} closest are nodes:\n",
      "{'name': 'Maxine Brown'}\n",
      "{'name': 'Jim Ed Brown'}\n",
      "{'name': 'Bonnie Brown'}\n",
      "for node Q3968433- {'name': 'Starz'} closest are nodes:\n",
      "{'name': 'The Illusion'}\n",
      "{'name': \"Tomorrow's Child\"}\n",
      "{'name': 'Moistboyz'}\n"
     ]
    },
    {
     "name": "stderr",
     "output_type": "stream",
     "text": [
      " 38%|███▊      | 381009/1000000 [2:23:44<4:39:32, 36.90it/s]"
     ]
    },
    {
     "name": "stdout",
     "output_type": "stream",
     "text": [
      "training loss at epoch 381000: 0.20933835208415985\n"
     ]
    },
    {
     "name": "stderr",
     "output_type": "stream",
     "text": [
      " 38%|███▊      | 382009/1000000 [2:24:06<4:29:03, 38.28it/s]"
     ]
    },
    {
     "name": "stdout",
     "output_type": "stream",
     "text": [
      "training loss at epoch 382000: 0.2729778289794922\n"
     ]
    },
    {
     "name": "stderr",
     "output_type": "stream",
     "text": [
      " 38%|███▊      | 383009/1000000 [2:24:29<4:25:34, 38.72it/s]"
     ]
    },
    {
     "name": "stdout",
     "output_type": "stream",
     "text": [
      "training loss at epoch 383000: 0.20479576289653778\n"
     ]
    },
    {
     "name": "stderr",
     "output_type": "stream",
     "text": [
      " 38%|███▊      | 384009/1000000 [2:24:52<4:35:19, 37.29it/s]"
     ]
    },
    {
     "name": "stdout",
     "output_type": "stream",
     "text": [
      "training loss at epoch 384000: 0.19732098281383514\n"
     ]
    },
    {
     "name": "stderr",
     "output_type": "stream",
     "text": [
      " 39%|███▊      | 385009/1000000 [2:25:14<4:45:01, 35.96it/s]"
     ]
    },
    {
     "name": "stdout",
     "output_type": "stream",
     "text": [
      "training loss at epoch 385000: 0.2568746507167816\n"
     ]
    },
    {
     "name": "stderr",
     "output_type": "stream",
     "text": [
      " 39%|███▊      | 386007/1000000 [2:25:37<4:44:25, 35.98it/s]"
     ]
    },
    {
     "name": "stdout",
     "output_type": "stream",
     "text": [
      "training loss at epoch 386000: 0.24647970497608185\n"
     ]
    },
    {
     "name": "stderr",
     "output_type": "stream",
     "text": [
      " 39%|███▊      | 387007/1000000 [2:26:00<4:31:13, 37.67it/s]"
     ]
    },
    {
     "name": "stdout",
     "output_type": "stream",
     "text": [
      "training loss at epoch 387000: 0.24947810173034668\n"
     ]
    },
    {
     "name": "stderr",
     "output_type": "stream",
     "text": [
      " 39%|███▉      | 388007/1000000 [2:26:22<4:36:29, 36.89it/s]"
     ]
    },
    {
     "name": "stdout",
     "output_type": "stream",
     "text": [
      "training loss at epoch 388000: 0.22897925972938538\n"
     ]
    },
    {
     "name": "stderr",
     "output_type": "stream",
     "text": [
      " 39%|███▉      | 389007/1000000 [2:26:45<4:25:59, 38.28it/s]"
     ]
    },
    {
     "name": "stdout",
     "output_type": "stream",
     "text": [
      "training loss at epoch 389000: 0.29027286171913147\n"
     ]
    },
    {
     "name": "stderr",
     "output_type": "stream",
     "text": [
      " 39%|███▉      | 390007/1000000 [2:27:08<4:34:15, 37.07it/s]"
     ]
    },
    {
     "name": "stdout",
     "output_type": "stream",
     "text": [
      "training loss at epoch 390000: 0.22585849463939667\n",
      "for node Q2055055- {'name': 'Partners in Kryme'} closest are nodes:\n",
      "{'name': 'Partners in Kryme'}\n",
      "{'name': 'The Pointer Sisters'}\n",
      "{'name': 'Da rich kidzz'}\n",
      "for node Q55900775- {'name': 'Odyssey the Band'} closest are nodes:\n",
      "{'name': 'Odyssey the Band'}\n",
      "{'name': 'Hazmat Modine'}\n",
      "{'name': 'Landmine Marathon'}\n",
      "for node Q7572536- {'name': 'Space Twins'} closest are nodes:\n",
      "{'name': 'The Relationship'}\n",
      "{'name': 'Space Twins'}\n",
      "{}\n"
     ]
    },
    {
     "name": "stderr",
     "output_type": "stream",
     "text": [
      " 39%|███▉      | 391007/1000000 [2:27:30<4:27:56, 37.88it/s]"
     ]
    },
    {
     "name": "stdout",
     "output_type": "stream",
     "text": [
      "training loss at epoch 391000: 0.24970358610153198\n"
     ]
    },
    {
     "name": "stderr",
     "output_type": "stream",
     "text": [
      " 39%|███▉      | 392007/1000000 [2:27:53<4:40:22, 36.14it/s]"
     ]
    },
    {
     "name": "stdout",
     "output_type": "stream",
     "text": [
      "training loss at epoch 392000: 0.19409413635730743\n"
     ]
    },
    {
     "name": "stderr",
     "output_type": "stream",
     "text": [
      " 39%|███▉      | 393007/1000000 [2:28:15<4:37:41, 36.43it/s]"
     ]
    },
    {
     "name": "stdout",
     "output_type": "stream",
     "text": [
      "training loss at epoch 393000: 0.22541528940200806\n"
     ]
    },
    {
     "name": "stderr",
     "output_type": "stream",
     "text": [
      " 39%|███▉      | 394007/1000000 [2:28:38<4:36:05, 36.58it/s]"
     ]
    },
    {
     "name": "stdout",
     "output_type": "stream",
     "text": [
      "training loss at epoch 394000: 0.2539348304271698\n"
     ]
    },
    {
     "name": "stderr",
     "output_type": "stream",
     "text": [
      " 40%|███▉      | 395007/1000000 [2:29:01<4:29:45, 37.38it/s]"
     ]
    },
    {
     "name": "stdout",
     "output_type": "stream",
     "text": [
      "training loss at epoch 395000: 0.22518885135650635\n"
     ]
    },
    {
     "name": "stderr",
     "output_type": "stream",
     "text": [
      " 40%|███▉      | 396007/1000000 [2:29:23<4:25:02, 37.98it/s]"
     ]
    },
    {
     "name": "stdout",
     "output_type": "stream",
     "text": [
      "training loss at epoch 396000: 0.22370393574237823\n"
     ]
    },
    {
     "name": "stderr",
     "output_type": "stream",
     "text": [
      " 40%|███▉      | 397007/1000000 [2:29:46<4:33:57, 36.68it/s]"
     ]
    },
    {
     "name": "stdout",
     "output_type": "stream",
     "text": [
      "training loss at epoch 397000: 0.23376265168190002\n"
     ]
    },
    {
     "name": "stderr",
     "output_type": "stream",
     "text": [
      " 40%|███▉      | 398007/1000000 [2:30:09<4:25:28, 37.79it/s]"
     ]
    },
    {
     "name": "stdout",
     "output_type": "stream",
     "text": [
      "training loss at epoch 398000: 0.20658664405345917\n"
     ]
    },
    {
     "name": "stderr",
     "output_type": "stream",
     "text": [
      " 40%|███▉      | 399007/1000000 [2:30:31<4:31:05, 36.95it/s]"
     ]
    },
    {
     "name": "stdout",
     "output_type": "stream",
     "text": [
      "training loss at epoch 399000: 0.20070971548557281\n"
     ]
    },
    {
     "name": "stderr",
     "output_type": "stream",
     "text": [
      " 40%|████      | 400007/1000000 [2:30:54<4:43:59, 35.21it/s]"
     ]
    },
    {
     "name": "stdout",
     "output_type": "stream",
     "text": [
      "training loss at epoch 400000: 0.21016669273376465\n",
      "for node Q2035976- {'name': 'Nintendocore'} closest are nodes:\n",
      "{'name': 'Nintendocore'}\n",
      "{'name': 'Celtic punk'}\n",
      "{'name': 'Hangar 18'}\n",
      "for node Q943592- {'name': 'Wreckx-n-Effect'} closest are nodes:\n",
      "{'name': 'Wreckx-n-Effect'}\n",
      "{'name': 'Dickey Betts'}\n",
      "{}\n",
      "for node Q4354845- {} closest are nodes:\n",
      "{}\n",
      "{}\n",
      "{}\n"
     ]
    },
    {
     "name": "stderr",
     "output_type": "stream",
     "text": [
      " 40%|████      | 401006/1000000 [2:31:16<4:25:10, 37.65it/s]"
     ]
    },
    {
     "name": "stdout",
     "output_type": "stream",
     "text": [
      "training loss at epoch 401000: 0.22674457728862762\n"
     ]
    },
    {
     "name": "stderr",
     "output_type": "stream",
     "text": [
      " 40%|████      | 402006/1000000 [2:31:39<4:27:30, 37.26it/s]"
     ]
    },
    {
     "name": "stdout",
     "output_type": "stream",
     "text": [
      "training loss at epoch 402000: 0.1975264847278595\n"
     ]
    },
    {
     "name": "stderr",
     "output_type": "stream",
     "text": [
      " 40%|████      | 403006/1000000 [2:32:02<4:25:11, 37.52it/s]"
     ]
    },
    {
     "name": "stdout",
     "output_type": "stream",
     "text": [
      "training loss at epoch 403000: 0.23736093938350677\n"
     ]
    },
    {
     "name": "stderr",
     "output_type": "stream",
     "text": [
      " 40%|████      | 404006/1000000 [2:32:24<4:20:21, 38.15it/s]"
     ]
    },
    {
     "name": "stdout",
     "output_type": "stream",
     "text": [
      "training loss at epoch 404000: 0.2213374227285385\n"
     ]
    },
    {
     "name": "stderr",
     "output_type": "stream",
     "text": [
      " 41%|████      | 405006/1000000 [2:32:47<4:22:50, 37.73it/s]"
     ]
    },
    {
     "name": "stdout",
     "output_type": "stream",
     "text": [
      "training loss at epoch 405000: 0.21328552067279816\n"
     ]
    },
    {
     "name": "stderr",
     "output_type": "stream",
     "text": [
      " 41%|████      | 406005/1000000 [2:33:09<4:37:22, 35.69it/s]"
     ]
    },
    {
     "name": "stdout",
     "output_type": "stream",
     "text": [
      "training loss at epoch 406000: 0.18340827524662018\n"
     ]
    },
    {
     "name": "stderr",
     "output_type": "stream",
     "text": [
      " 41%|████      | 407010/1000000 [2:33:32<4:19:49, 38.04it/s]"
     ]
    },
    {
     "name": "stdout",
     "output_type": "stream",
     "text": [
      "training loss at epoch 407000: 0.23315568268299103\n"
     ]
    },
    {
     "name": "stderr",
     "output_type": "stream",
     "text": [
      " 41%|████      | 408010/1000000 [2:33:55<4:27:45, 36.85it/s]"
     ]
    },
    {
     "name": "stdout",
     "output_type": "stream",
     "text": [
      "training loss at epoch 408000: 0.2289375364780426\n"
     ]
    },
    {
     "name": "stderr",
     "output_type": "stream",
     "text": [
      " 41%|████      | 409010/1000000 [2:34:18<4:20:54, 37.75it/s]"
     ]
    },
    {
     "name": "stdout",
     "output_type": "stream",
     "text": [
      "training loss at epoch 409000: 0.21008357405662537\n"
     ]
    },
    {
     "name": "stderr",
     "output_type": "stream",
     "text": [
      " 41%|████      | 410005/1000000 [2:34:40<4:43:51, 34.64it/s]"
     ]
    },
    {
     "name": "stdout",
     "output_type": "stream",
     "text": [
      "training loss at epoch 410000: 0.22082214057445526\n",
      "for node Q619281- {'name': 'Terry Butler'} closest are nodes:\n",
      "{'name': 'Kenny Andrews'}\n",
      "{'name': 'Trevor Peres'}\n",
      "{'name': 'Terry Butler'}\n",
      "for node Q18349525- {'name': 'ASTR'} closest are nodes:\n",
      "{'name': 'ASTR'}\n",
      "{'name': 'Wovenhand'}\n",
      "{'name': 'Junius'}\n",
      "for node Q154543- {'name': 'D12'} closest are nodes:\n",
      "{'name': 'D12'}\n",
      "{'name': 'Byzantine'}\n",
      "{'name': 'Counting Crows'}\n"
     ]
    },
    {
     "name": "stderr",
     "output_type": "stream",
     "text": [
      " 41%|████      | 411010/1000000 [2:35:03<4:19:41, 37.80it/s]"
     ]
    },
    {
     "name": "stdout",
     "output_type": "stream",
     "text": [
      "training loss at epoch 411000: 0.24831296503543854\n"
     ]
    },
    {
     "name": "stderr",
     "output_type": "stream",
     "text": [
      " 41%|████      | 412010/1000000 [2:35:25<4:17:52, 38.00it/s]"
     ]
    },
    {
     "name": "stdout",
     "output_type": "stream",
     "text": [
      "training loss at epoch 412000: 0.2097243070602417\n"
     ]
    },
    {
     "name": "stderr",
     "output_type": "stream",
     "text": [
      " 41%|████▏     | 413010/1000000 [2:35:48<4:18:26, 37.85it/s]"
     ]
    },
    {
     "name": "stdout",
     "output_type": "stream",
     "text": [
      "training loss at epoch 413000: 0.20349305868148804\n"
     ]
    },
    {
     "name": "stderr",
     "output_type": "stream",
     "text": [
      " 41%|████▏     | 414010/1000000 [2:36:11<4:27:06, 36.56it/s]"
     ]
    },
    {
     "name": "stdout",
     "output_type": "stream",
     "text": [
      "training loss at epoch 414000: 0.21645908057689667\n"
     ]
    },
    {
     "name": "stderr",
     "output_type": "stream",
     "text": [
      " 42%|████▏     | 415005/1000000 [2:36:33<4:45:20, 34.17it/s]"
     ]
    },
    {
     "name": "stdout",
     "output_type": "stream",
     "text": [
      "training loss at epoch 415000: 0.18215595185756683\n"
     ]
    },
    {
     "name": "stderr",
     "output_type": "stream",
     "text": [
      " 42%|████▏     | 416005/1000000 [2:36:56<4:49:58, 33.57it/s]"
     ]
    },
    {
     "name": "stdout",
     "output_type": "stream",
     "text": [
      "training loss at epoch 416000: 0.2312866598367691\n"
     ]
    },
    {
     "name": "stderr",
     "output_type": "stream",
     "text": [
      " 42%|████▏     | 417009/1000000 [2:37:18<4:13:40, 38.30it/s]"
     ]
    },
    {
     "name": "stdout",
     "output_type": "stream",
     "text": [
      "training loss at epoch 417000: 0.2383481115102768\n"
     ]
    },
    {
     "name": "stderr",
     "output_type": "stream",
     "text": [
      " 42%|████▏     | 418009/1000000 [2:37:41<4:17:16, 37.70it/s]"
     ]
    },
    {
     "name": "stdout",
     "output_type": "stream",
     "text": [
      "training loss at epoch 418000: 0.208642840385437\n"
     ]
    },
    {
     "name": "stderr",
     "output_type": "stream",
     "text": [
      " 42%|████▏     | 419009/1000000 [2:38:04<4:27:58, 36.14it/s]"
     ]
    },
    {
     "name": "stdout",
     "output_type": "stream",
     "text": [
      "training loss at epoch 419000: 0.23331688344478607\n"
     ]
    },
    {
     "name": "stderr",
     "output_type": "stream",
     "text": [
      " 42%|████▏     | 420009/1000000 [2:38:26<4:17:08, 37.59it/s]"
     ]
    },
    {
     "name": "stdout",
     "output_type": "stream",
     "text": [
      "training loss at epoch 420000: 0.20929750800132751\n",
      "for node Q742642- {'name': 'Joseph Simmons'} closest are nodes:\n",
      "{'name': 'Joseph Simmons'}\n",
      "{'name': 'Jam Master Jay'}\n",
      "{'name': 'Darryl McDaniels'}\n",
      "for node Q5605221- {'name': \"Greg 'Curly' Keranen\"} closest are nodes:\n",
      "{'name': \"Greg 'Curly' Keranen\"}\n",
      "{'name': 'Taylor Goldsmith'}\n",
      "{'name': 'blink.'}\n",
      "for node Q2832975- {'name': 'Alex Katunich'} closest are nodes:\n",
      "{'name': 'Alex Katunich'}\n",
      "{}\n",
      "{'name': 'Full of Hell'}\n"
     ]
    },
    {
     "name": "stderr",
     "output_type": "stream",
     "text": [
      " 42%|████▏     | 421009/1000000 [2:38:49<4:14:17, 37.95it/s]"
     ]
    },
    {
     "name": "stdout",
     "output_type": "stream",
     "text": [
      "training loss at epoch 421000: 0.24270737171173096\n"
     ]
    },
    {
     "name": "stderr",
     "output_type": "stream",
     "text": [
      " 42%|████▏     | 422009/1000000 [2:39:12<4:21:27, 36.84it/s]"
     ]
    },
    {
     "name": "stdout",
     "output_type": "stream",
     "text": [
      "training loss at epoch 422000: 0.23164822161197662\n"
     ]
    },
    {
     "name": "stderr",
     "output_type": "stream",
     "text": [
      " 42%|████▏     | 423009/1000000 [2:39:34<4:13:51, 37.88it/s]"
     ]
    },
    {
     "name": "stdout",
     "output_type": "stream",
     "text": [
      "training loss at epoch 423000: 0.19960425794124603\n"
     ]
    },
    {
     "name": "stderr",
     "output_type": "stream",
     "text": [
      " 42%|████▏     | 424009/1000000 [2:39:57<4:26:58, 35.96it/s]"
     ]
    },
    {
     "name": "stdout",
     "output_type": "stream",
     "text": [
      "training loss at epoch 424000: 0.21656739711761475\n"
     ]
    },
    {
     "name": "stderr",
     "output_type": "stream",
     "text": [
      " 43%|████▎     | 425008/1000000 [2:40:19<4:14:39, 37.63it/s]"
     ]
    },
    {
     "name": "stdout",
     "output_type": "stream",
     "text": [
      "training loss at epoch 425000: 0.22938589751720428\n"
     ]
    },
    {
     "name": "stderr",
     "output_type": "stream",
     "text": [
      " 43%|████▎     | 426008/1000000 [2:40:42<4:20:59, 36.65it/s]"
     ]
    },
    {
     "name": "stdout",
     "output_type": "stream",
     "text": [
      "training loss at epoch 426000: 0.22649820148944855\n"
     ]
    },
    {
     "name": "stderr",
     "output_type": "stream",
     "text": [
      " 43%|████▎     | 427006/1000000 [2:41:05<4:16:48, 37.19it/s]"
     ]
    },
    {
     "name": "stdout",
     "output_type": "stream",
     "text": [
      "training loss at epoch 427000: 0.2279248684644699\n"
     ]
    },
    {
     "name": "stderr",
     "output_type": "stream",
     "text": [
      " 43%|████▎     | 428006/1000000 [2:41:27<4:15:42, 37.28it/s]"
     ]
    },
    {
     "name": "stdout",
     "output_type": "stream",
     "text": [
      "training loss at epoch 428000: 0.24427928030490875\n"
     ]
    },
    {
     "name": "stderr",
     "output_type": "stream",
     "text": [
      " 43%|████▎     | 429006/1000000 [2:41:50<4:18:13, 36.85it/s]"
     ]
    },
    {
     "name": "stdout",
     "output_type": "stream",
     "text": [
      "training loss at epoch 429000: 0.21531492471694946\n"
     ]
    },
    {
     "name": "stderr",
     "output_type": "stream",
     "text": [
      " 43%|████▎     | 430006/1000000 [2:42:13<4:20:52, 36.41it/s]"
     ]
    },
    {
     "name": "stdout",
     "output_type": "stream",
     "text": [
      "training loss at epoch 430000: 0.21528615057468414\n",
      "for node Q4924413- {'name': 'Blake Judd'} closest are nodes:\n",
      "{'name': 'Blake Judd'}\n",
      "{}\n",
      "{'name': 'Tsunami Brothers'}\n",
      "for node Q4779529- {'name': 'Aphasia'} closest are nodes:\n",
      "{'name': 'Aphasia'}\n",
      "{'name': 'Luna'}\n",
      "{'name': 'The Rockets'}\n",
      "for node Q7880190- {'name': 'Ultimate Fakebook'} closest are nodes:\n",
      "{'name': 'Vallejo'}\n",
      "{'name': 'Ultimate Fakebook'}\n",
      "{'name': 'Bolt Upright'}\n"
     ]
    },
    {
     "name": "stderr",
     "output_type": "stream",
     "text": [
      " 43%|████▎     | 431006/1000000 [2:42:35<4:18:50, 36.64it/s]"
     ]
    },
    {
     "name": "stdout",
     "output_type": "stream",
     "text": [
      "training loss at epoch 431000: 0.17920362949371338\n"
     ]
    },
    {
     "name": "stderr",
     "output_type": "stream",
     "text": [
      " 43%|████▎     | 432006/1000000 [2:42:58<4:59:46, 31.58it/s]"
     ]
    },
    {
     "name": "stdout",
     "output_type": "stream",
     "text": [
      "training loss at epoch 432000: 0.19987212121486664\n"
     ]
    },
    {
     "name": "stderr",
     "output_type": "stream",
     "text": [
      " 43%|████▎     | 433006/1000000 [2:43:21<4:20:46, 36.24it/s]"
     ]
    },
    {
     "name": "stdout",
     "output_type": "stream",
     "text": [
      "training loss at epoch 433000: 0.22664161026477814\n"
     ]
    },
    {
     "name": "stderr",
     "output_type": "stream",
     "text": [
      " 43%|████▎     | 434006/1000000 [2:43:43<4:14:28, 37.07it/s]"
     ]
    },
    {
     "name": "stdout",
     "output_type": "stream",
     "text": [
      "training loss at epoch 434000: 0.21502463519573212\n"
     ]
    },
    {
     "name": "stderr",
     "output_type": "stream",
     "text": [
      " 44%|████▎     | 435006/1000000 [2:44:06<4:07:11, 38.09it/s]"
     ]
    },
    {
     "name": "stdout",
     "output_type": "stream",
     "text": [
      "training loss at epoch 435000: 0.21824732422828674\n"
     ]
    },
    {
     "name": "stderr",
     "output_type": "stream",
     "text": [
      " 44%|████▎     | 436006/1000000 [2:44:29<4:25:17, 35.43it/s]"
     ]
    },
    {
     "name": "stdout",
     "output_type": "stream",
     "text": [
      "training loss at epoch 436000: 0.21038760244846344\n"
     ]
    },
    {
     "name": "stderr",
     "output_type": "stream",
     "text": [
      " 44%|████▎     | 437006/1000000 [2:44:51<4:12:53, 37.10it/s]"
     ]
    },
    {
     "name": "stdout",
     "output_type": "stream",
     "text": [
      "training loss at epoch 437000: 0.22972914576530457\n"
     ]
    },
    {
     "name": "stderr",
     "output_type": "stream",
     "text": [
      " 44%|████▍     | 438006/1000000 [2:45:14<4:26:05, 35.20it/s]"
     ]
    },
    {
     "name": "stdout",
     "output_type": "stream",
     "text": [
      "training loss at epoch 438000: 0.2217617928981781\n"
     ]
    },
    {
     "name": "stderr",
     "output_type": "stream",
     "text": [
      " 44%|████▍     | 439010/1000000 [2:45:37<4:17:51, 36.26it/s]"
     ]
    },
    {
     "name": "stdout",
     "output_type": "stream",
     "text": [
      "training loss at epoch 439000: 0.1955195814371109\n"
     ]
    },
    {
     "name": "stderr",
     "output_type": "stream",
     "text": [
      " 44%|████▍     | 440010/1000000 [2:45:59<4:19:04, 36.03it/s]"
     ]
    },
    {
     "name": "stdout",
     "output_type": "stream",
     "text": [
      "training loss at epoch 440000: 0.1870795488357544\n",
      "for node Q1416545- {'name': 'West, Bruce and Laing'} closest are nodes:\n",
      "{'name': 'Tinfed'}\n",
      "{'name': 'Goes Cube'}\n",
      "{'name': 'The Wild Feathers'}\n",
      "for node Q5190166- {'name': 'Crusaders for Real Hip-Hop'} closest are nodes:\n",
      "{'name': 'Crusaders for Real Hip-Hop'}\n",
      "{'name': 'Nemesis'}\n",
      "{'name': 'Da rich kidzz'}\n",
      "for node Q4840187- {'name': 'Bad Books'} closest are nodes:\n",
      "{'name': 'Bad Books'}\n",
      "{'name': 'Anterrabae'}\n",
      "{'name': 'From Indian Lakes'}\n"
     ]
    },
    {
     "name": "stderr",
     "output_type": "stream",
     "text": [
      " 44%|████▍     | 441010/1000000 [2:46:22<4:07:05, 37.70it/s]"
     ]
    },
    {
     "name": "stdout",
     "output_type": "stream",
     "text": [
      "training loss at epoch 441000: 0.2106834352016449\n"
     ]
    },
    {
     "name": "stderr",
     "output_type": "stream",
     "text": [
      " 44%|████▍     | 442005/1000000 [2:46:44<4:34:52, 33.83it/s]"
     ]
    },
    {
     "name": "stdout",
     "output_type": "stream",
     "text": [
      "training loss at epoch 442000: 0.2321905940771103\n"
     ]
    },
    {
     "name": "stderr",
     "output_type": "stream",
     "text": [
      " 44%|████▍     | 443010/1000000 [2:47:07<4:15:01, 36.40it/s]"
     ]
    },
    {
     "name": "stdout",
     "output_type": "stream",
     "text": [
      "training loss at epoch 443000: 0.20607349276542664\n"
     ]
    },
    {
     "name": "stderr",
     "output_type": "stream",
     "text": [
      " 44%|████▍     | 444009/1000000 [2:47:30<4:12:59, 36.63it/s]"
     ]
    },
    {
     "name": "stdout",
     "output_type": "stream",
     "text": [
      "training loss at epoch 444000: 0.21951331198215485\n"
     ]
    },
    {
     "name": "stderr",
     "output_type": "stream",
     "text": [
      " 45%|████▍     | 445009/1000000 [2:47:53<4:06:15, 37.56it/s]"
     ]
    },
    {
     "name": "stdout",
     "output_type": "stream",
     "text": [
      "training loss at epoch 445000: 0.22097596526145935\n"
     ]
    },
    {
     "name": "stderr",
     "output_type": "stream",
     "text": [
      " 45%|████▍     | 446007/1000000 [2:48:15<4:03:11, 37.97it/s]"
     ]
    },
    {
     "name": "stdout",
     "output_type": "stream",
     "text": [
      "training loss at epoch 446000: 0.23225311934947968\n"
     ]
    },
    {
     "name": "stderr",
     "output_type": "stream",
     "text": [
      " 45%|████▍     | 447007/1000000 [2:48:38<4:04:41, 37.67it/s]"
     ]
    },
    {
     "name": "stdout",
     "output_type": "stream",
     "text": [
      "training loss at epoch 447000: 0.27698442339897156\n"
     ]
    },
    {
     "name": "stderr",
     "output_type": "stream",
     "text": [
      " 45%|████▍     | 448007/1000000 [2:49:00<4:13:36, 36.28it/s]"
     ]
    },
    {
     "name": "stdout",
     "output_type": "stream",
     "text": [
      "training loss at epoch 448000: 0.18735499680042267\n"
     ]
    },
    {
     "name": "stderr",
     "output_type": "stream",
     "text": [
      " 45%|████▍     | 449007/1000000 [2:49:23<4:03:09, 37.77it/s]"
     ]
    },
    {
     "name": "stdout",
     "output_type": "stream",
     "text": [
      "training loss at epoch 449000: 0.23392850160598755\n"
     ]
    },
    {
     "name": "stderr",
     "output_type": "stream",
     "text": [
      " 45%|████▌     | 450007/1000000 [2:49:45<4:12:03, 36.37it/s]"
     ]
    },
    {
     "name": "stdout",
     "output_type": "stream",
     "text": [
      "training loss at epoch 450000: 0.20743316411972046\n",
      "for node Q7142713- {} closest are nodes:\n",
      "{}\n",
      "{'name': 'Generationals'}\n",
      "{}\n",
      "for node Q39048708- {} closest are nodes:\n",
      "{}\n",
      "{}\n",
      "{}\n",
      "for node Q16838019- {'name': 'Futrel'} closest are nodes:\n",
      "{'name': 'Allen & Allen'}\n",
      "{'name': 'Futrel'}\n",
      "{'name': 'The McCrarys'}\n"
     ]
    },
    {
     "name": "stderr",
     "output_type": "stream",
     "text": [
      " 45%|████▌     | 451007/1000000 [2:50:08<4:17:37, 35.52it/s]"
     ]
    },
    {
     "name": "stdout",
     "output_type": "stream",
     "text": [
      "training loss at epoch 451000: 0.22214274108409882\n"
     ]
    },
    {
     "name": "stderr",
     "output_type": "stream",
     "text": [
      " 45%|████▌     | 452007/1000000 [2:50:30<4:04:12, 37.40it/s]"
     ]
    },
    {
     "name": "stdout",
     "output_type": "stream",
     "text": [
      "training loss at epoch 452000: 0.18217024207115173\n"
     ]
    },
    {
     "name": "stderr",
     "output_type": "stream",
     "text": [
      " 45%|████▌     | 453007/1000000 [2:50:53<4:11:55, 36.19it/s]"
     ]
    },
    {
     "name": "stdout",
     "output_type": "stream",
     "text": [
      "training loss at epoch 453000: 0.21303269267082214\n"
     ]
    },
    {
     "name": "stderr",
     "output_type": "stream",
     "text": [
      " 45%|████▌     | 454007/1000000 [2:51:15<3:58:31, 38.15it/s]"
     ]
    },
    {
     "name": "stdout",
     "output_type": "stream",
     "text": [
      "training loss at epoch 454000: 0.19830404222011566\n"
     ]
    },
    {
     "name": "stderr",
     "output_type": "stream",
     "text": [
      " 46%|████▌     | 455007/1000000 [2:51:37<4:05:01, 37.07it/s]"
     ]
    },
    {
     "name": "stdout",
     "output_type": "stream",
     "text": [
      "training loss at epoch 455000: 0.20834733545780182\n"
     ]
    },
    {
     "name": "stderr",
     "output_type": "stream",
     "text": [
      " 46%|████▌     | 456007/1000000 [2:52:00<4:01:09, 37.60it/s]"
     ]
    },
    {
     "name": "stdout",
     "output_type": "stream",
     "text": [
      "training loss at epoch 456000: 0.1999983936548233\n"
     ]
    },
    {
     "name": "stderr",
     "output_type": "stream",
     "text": [
      " 46%|████▌     | 457007/1000000 [2:52:23<4:08:50, 36.37it/s]"
     ]
    },
    {
     "name": "stdout",
     "output_type": "stream",
     "text": [
      "training loss at epoch 457000: 0.2235107123851776\n"
     ]
    },
    {
     "name": "stderr",
     "output_type": "stream",
     "text": [
      " 46%|████▌     | 458007/1000000 [2:52:45<4:10:46, 36.02it/s]"
     ]
    },
    {
     "name": "stdout",
     "output_type": "stream",
     "text": [
      "training loss at epoch 458000: 0.21557794511318207\n"
     ]
    },
    {
     "name": "stderr",
     "output_type": "stream",
     "text": [
      " 46%|████▌     | 459007/1000000 [2:53:08<4:05:55, 36.66it/s]"
     ]
    },
    {
     "name": "stdout",
     "output_type": "stream",
     "text": [
      "training loss at epoch 459000: 0.2032192200422287\n"
     ]
    },
    {
     "name": "stderr",
     "output_type": "stream",
     "text": [
      " 46%|████▌     | 460007/1000000 [2:53:30<4:03:40, 36.93it/s]"
     ]
    },
    {
     "name": "stdout",
     "output_type": "stream",
     "text": [
      "training loss at epoch 460000: 0.23216870427131653\n",
      "for node Q2294012- {'name': 'Sleepercar'} closest are nodes:\n",
      "{'name': 'Sleepercar'}\n",
      "{'name': 'Thomas Barnett'}\n",
      "{'name': 'Sparta'}\n",
      "for node Q7765963- {'name': 'The Spits'} closest are nodes:\n",
      "{'name': 'The Spits'}\n",
      "{'name': 'The Ergs!'}\n",
      "{'name': 'The Exploding Hearts'}\n",
      "for node Q2390439- {'name': 'Talkdemonic'} closest are nodes:\n",
      "{'name': 'Talkdemonic'}\n",
      "{'name': 'Hem'}\n",
      "{'name': 'The Gloria Record'}\n"
     ]
    },
    {
     "name": "stderr",
     "output_type": "stream",
     "text": [
      " 46%|████▌     | 461007/1000000 [2:53:53<3:53:21, 38.50it/s]"
     ]
    },
    {
     "name": "stdout",
     "output_type": "stream",
     "text": [
      "training loss at epoch 461000: 0.22178663313388824\n"
     ]
    },
    {
     "name": "stderr",
     "output_type": "stream",
     "text": [
      " 46%|████▌     | 462007/1000000 [2:54:15<3:57:02, 37.83it/s]"
     ]
    },
    {
     "name": "stdout",
     "output_type": "stream",
     "text": [
      "training loss at epoch 462000: 0.24066269397735596\n"
     ]
    },
    {
     "name": "stderr",
     "output_type": "stream",
     "text": [
      " 46%|████▋     | 463007/1000000 [2:54:38<4:03:54, 36.69it/s]"
     ]
    },
    {
     "name": "stdout",
     "output_type": "stream",
     "text": [
      "training loss at epoch 463000: 0.2053556889295578\n"
     ]
    },
    {
     "name": "stderr",
     "output_type": "stream",
     "text": [
      " 46%|████▋     | 464007/1000000 [2:55:01<4:14:48, 35.06it/s]"
     ]
    },
    {
     "name": "stdout",
     "output_type": "stream",
     "text": [
      "training loss at epoch 464000: 0.21221226453781128\n"
     ]
    },
    {
     "name": "stderr",
     "output_type": "stream",
     "text": [
      " 47%|████▋     | 465007/1000000 [2:55:23<4:04:16, 36.50it/s]"
     ]
    },
    {
     "name": "stdout",
     "output_type": "stream",
     "text": [
      "training loss at epoch 465000: 0.19921649992465973\n"
     ]
    },
    {
     "name": "stderr",
     "output_type": "stream",
     "text": [
      " 47%|████▋     | 466010/1000000 [2:55:46<3:56:49, 37.58it/s]"
     ]
    },
    {
     "name": "stdout",
     "output_type": "stream",
     "text": [
      "training loss at epoch 466000: 0.19769930839538574\n"
     ]
    },
    {
     "name": "stderr",
     "output_type": "stream",
     "text": [
      " 47%|████▋     | 467010/1000000 [2:56:08<4:02:11, 36.68it/s]"
     ]
    },
    {
     "name": "stdout",
     "output_type": "stream",
     "text": [
      "training loss at epoch 467000: 0.2213924527168274\n"
     ]
    },
    {
     "name": "stderr",
     "output_type": "stream",
     "text": [
      " 47%|████▋     | 468010/1000000 [2:56:31<3:50:02, 38.54it/s]"
     ]
    },
    {
     "name": "stdout",
     "output_type": "stream",
     "text": [
      "training loss at epoch 468000: 0.21076537668704987\n"
     ]
    },
    {
     "name": "stderr",
     "output_type": "stream",
     "text": [
      " 47%|████▋     | 469010/1000000 [2:56:54<4:05:24, 36.06it/s]"
     ]
    },
    {
     "name": "stdout",
     "output_type": "stream",
     "text": [
      "training loss at epoch 469000: 0.2007395178079605\n"
     ]
    },
    {
     "name": "stderr",
     "output_type": "stream",
     "text": [
      " 47%|████▋     | 470005/1000000 [2:57:16<4:18:51, 34.12it/s]"
     ]
    },
    {
     "name": "stdout",
     "output_type": "stream",
     "text": [
      "training loss at epoch 470000: 0.194799542427063\n",
      "for node Q62085864- {} closest are nodes:\n",
      "{}\n",
      "{'name': 'Leroy Burgess'}\n",
      "{}\n",
      "for node Q17089402- {'name': 'Talk Normal'} closest are nodes:\n",
      "{'name': 'Rocket Fuel Is The Key'}\n",
      "{'name': 'Roomrunner'}\n",
      "{'name': 'Rat at Rat R'}\n",
      "for node Q1534202- {'name': 'Vital Information'} closest are nodes:\n",
      "{'name': 'Vital Information'}\n",
      "{'name': 'Cobra Skulls'}\n",
      "{'name': \"Mutha's Day Out\"}\n"
     ]
    },
    {
     "name": "stderr",
     "output_type": "stream",
     "text": [
      " 47%|████▋     | 471010/1000000 [2:57:39<3:53:00, 37.84it/s]"
     ]
    },
    {
     "name": "stdout",
     "output_type": "stream",
     "text": [
      "training loss at epoch 471000: 0.20408503711223602\n"
     ]
    },
    {
     "name": "stderr",
     "output_type": "stream",
     "text": [
      " 47%|████▋     | 472010/1000000 [2:58:01<4:04:50, 35.94it/s]"
     ]
    },
    {
     "name": "stdout",
     "output_type": "stream",
     "text": [
      "training loss at epoch 472000: 0.2391815185546875\n"
     ]
    },
    {
     "name": "stderr",
     "output_type": "stream",
     "text": [
      " 47%|████▋     | 473010/1000000 [2:58:24<3:54:15, 37.49it/s]"
     ]
    },
    {
     "name": "stdout",
     "output_type": "stream",
     "text": [
      "training loss at epoch 473000: 0.22169825434684753\n"
     ]
    },
    {
     "name": "stderr",
     "output_type": "stream",
     "text": [
      " 47%|████▋     | 474010/1000000 [2:58:46<4:02:03, 36.22it/s]"
     ]
    },
    {
     "name": "stdout",
     "output_type": "stream",
     "text": [
      "training loss at epoch 474000: 0.2303040474653244\n"
     ]
    },
    {
     "name": "stderr",
     "output_type": "stream",
     "text": [
      " 48%|████▊     | 475010/1000000 [2:59:09<3:49:12, 38.17it/s]"
     ]
    },
    {
     "name": "stdout",
     "output_type": "stream",
     "text": [
      "training loss at epoch 475000: 0.19250370562076569\n"
     ]
    },
    {
     "name": "stderr",
     "output_type": "stream",
     "text": [
      " 48%|████▊     | 476010/1000000 [2:59:31<3:46:37, 38.54it/s]"
     ]
    },
    {
     "name": "stdout",
     "output_type": "stream",
     "text": [
      "training loss at epoch 476000: 0.19657179713249207\n"
     ]
    },
    {
     "name": "stderr",
     "output_type": "stream",
     "text": [
      " 48%|████▊     | 477005/1000000 [2:59:54<4:07:56, 35.16it/s]"
     ]
    },
    {
     "name": "stdout",
     "output_type": "stream",
     "text": [
      "training loss at epoch 477000: 0.22613483667373657\n"
     ]
    },
    {
     "name": "stderr",
     "output_type": "stream",
     "text": [
      " 48%|████▊     | 478009/1000000 [3:00:16<3:56:39, 36.76it/s]"
     ]
    },
    {
     "name": "stdout",
     "output_type": "stream",
     "text": [
      "training loss at epoch 478000: 0.21375691890716553\n"
     ]
    },
    {
     "name": "stderr",
     "output_type": "stream",
     "text": [
      " 48%|████▊     | 479009/1000000 [3:00:39<3:55:43, 36.84it/s]"
     ]
    },
    {
     "name": "stdout",
     "output_type": "stream",
     "text": [
      "training loss at epoch 479000: 0.17837201058864594\n"
     ]
    },
    {
     "name": "stderr",
     "output_type": "stream",
     "text": [
      " 48%|████▊     | 480009/1000000 [3:01:01<3:52:19, 37.30it/s]"
     ]
    },
    {
     "name": "stdout",
     "output_type": "stream",
     "text": [
      "training loss at epoch 480000: 0.1798345297574997\n",
      "for node Q285341- {'name': 'Mark Arm'} closest are nodes:\n",
      "{'name': 'Guy Maddison'}\n",
      "{'name': 'Mark Arm'}\n",
      "{'name': 'Steve Turner'}\n",
      "for node Q3206157- {'name': 'LSG'} closest are nodes:\n",
      "{'name': 'LSG'}\n",
      "{'name': 'reggae'}\n",
      "{'name': 'Mike Mainieri'}\n",
      "for node Q2455772- {'name': 'Trotsky Icepick'} closest are nodes:\n",
      "{'name': \"Bl'ast\"}\n",
      "{'name': 'Slovenly'}\n",
      "{'name': 'Sister Double Happiness'}\n"
     ]
    },
    {
     "name": "stderr",
     "output_type": "stream",
     "text": [
      " 48%|████▊     | 481009/1000000 [3:01:24<3:58:40, 36.24it/s]"
     ]
    },
    {
     "name": "stdout",
     "output_type": "stream",
     "text": [
      "training loss at epoch 481000: 0.2190253734588623\n"
     ]
    },
    {
     "name": "stderr",
     "output_type": "stream",
     "text": [
      " 48%|████▊     | 482009/1000000 [3:01:46<3:50:48, 37.40it/s]"
     ]
    },
    {
     "name": "stdout",
     "output_type": "stream",
     "text": [
      "training loss at epoch 482000: 0.21840213239192963\n"
     ]
    },
    {
     "name": "stderr",
     "output_type": "stream",
     "text": [
      " 48%|████▊     | 483009/1000000 [3:02:09<3:56:08, 36.49it/s]"
     ]
    },
    {
     "name": "stdout",
     "output_type": "stream",
     "text": [
      "training loss at epoch 483000: 0.2123004049062729\n"
     ]
    },
    {
     "name": "stderr",
     "output_type": "stream",
     "text": [
      " 48%|████▊     | 484009/1000000 [3:02:31<3:48:06, 37.70it/s]"
     ]
    },
    {
     "name": "stdout",
     "output_type": "stream",
     "text": [
      "training loss at epoch 484000: 0.20093455910682678\n"
     ]
    },
    {
     "name": "stderr",
     "output_type": "stream",
     "text": [
      " 49%|████▊     | 485009/1000000 [3:02:54<3:47:46, 37.68it/s]"
     ]
    },
    {
     "name": "stdout",
     "output_type": "stream",
     "text": [
      "training loss at epoch 485000: 0.18468496203422546\n"
     ]
    },
    {
     "name": "stderr",
     "output_type": "stream",
     "text": [
      " 49%|████▊     | 486009/1000000 [3:03:16<3:49:05, 37.39it/s]"
     ]
    },
    {
     "name": "stdout",
     "output_type": "stream",
     "text": [
      "training loss at epoch 486000: 0.1809067726135254\n"
     ]
    },
    {
     "name": "stderr",
     "output_type": "stream",
     "text": [
      " 49%|████▊     | 487009/1000000 [3:03:39<3:47:39, 37.56it/s]"
     ]
    },
    {
     "name": "stdout",
     "output_type": "stream",
     "text": [
      "training loss at epoch 487000: 0.1931898444890976\n"
     ]
    },
    {
     "name": "stderr",
     "output_type": "stream",
     "text": [
      " 49%|████▉     | 488008/1000000 [3:04:01<3:49:22, 37.20it/s]"
     ]
    },
    {
     "name": "stdout",
     "output_type": "stream",
     "text": [
      "training loss at epoch 488000: 0.2551632821559906\n"
     ]
    },
    {
     "name": "stderr",
     "output_type": "stream",
     "text": [
      " 49%|████▉     | 489007/1000000 [3:04:24<3:57:07, 35.92it/s]"
     ]
    },
    {
     "name": "stdout",
     "output_type": "stream",
     "text": [
      "training loss at epoch 489000: 0.2173401415348053\n"
     ]
    },
    {
     "name": "stderr",
     "output_type": "stream",
     "text": [
      " 49%|████▉     | 490006/1000000 [3:04:46<3:55:48, 36.05it/s]"
     ]
    },
    {
     "name": "stdout",
     "output_type": "stream",
     "text": [
      "training loss at epoch 490000: 0.18596945703029633\n",
      "for node Q803876- {'name': 'Biohazard'} closest are nodes:\n",
      "{'name': 'Biohazard'}\n",
      "{}\n",
      "{'name': 'Nate Ruess'}\n",
      "for node Q7798298- {} closest are nodes:\n",
      "{}\n",
      "{'name': 'Bowling for Soup'}\n",
      "{'name': 'Wavorly'}\n",
      "for node Q15963313- {'name': 'X Ambassadors'} closest are nodes:\n",
      "{'name': 'X Ambassadors'}\n",
      "{'name': 'Sleeping at Last'}\n",
      "{'name': 'The Brian Setzer Orchestra'}\n"
     ]
    },
    {
     "name": "stderr",
     "output_type": "stream",
     "text": [
      " 49%|████▉     | 491006/1000000 [3:05:09<3:44:54, 37.72it/s]"
     ]
    },
    {
     "name": "stdout",
     "output_type": "stream",
     "text": [
      "training loss at epoch 491000: 0.19182105362415314\n"
     ]
    },
    {
     "name": "stderr",
     "output_type": "stream",
     "text": [
      " 49%|████▉     | 492006/1000000 [3:05:32<3:47:46, 37.17it/s]"
     ]
    },
    {
     "name": "stdout",
     "output_type": "stream",
     "text": [
      "training loss at epoch 492000: 0.18291820585727692\n"
     ]
    },
    {
     "name": "stderr",
     "output_type": "stream",
     "text": [
      " 49%|████▉     | 493006/1000000 [3:05:54<3:45:46, 37.43it/s]"
     ]
    },
    {
     "name": "stdout",
     "output_type": "stream",
     "text": [
      "training loss at epoch 493000: 0.21566800773143768\n"
     ]
    },
    {
     "name": "stderr",
     "output_type": "stream",
     "text": [
      " 49%|████▉     | 494006/1000000 [3:06:17<4:30:46, 31.14it/s]"
     ]
    },
    {
     "name": "stdout",
     "output_type": "stream",
     "text": [
      "training loss at epoch 494000: 0.178399458527565\n"
     ]
    },
    {
     "name": "stderr",
     "output_type": "stream",
     "text": [
      " 50%|████▉     | 495010/1000000 [3:06:39<3:40:34, 38.16it/s]"
     ]
    },
    {
     "name": "stdout",
     "output_type": "stream",
     "text": [
      "training loss at epoch 495000: 0.19853219389915466\n"
     ]
    },
    {
     "name": "stderr",
     "output_type": "stream",
     "text": [
      " 50%|████▉     | 496010/1000000 [3:07:02<3:45:05, 37.32it/s]"
     ]
    },
    {
     "name": "stdout",
     "output_type": "stream",
     "text": [
      "training loss at epoch 496000: 0.19607332348823547\n"
     ]
    },
    {
     "name": "stderr",
     "output_type": "stream",
     "text": [
      " 50%|████▉     | 497010/1000000 [3:07:24<3:43:32, 37.50it/s]"
     ]
    },
    {
     "name": "stdout",
     "output_type": "stream",
     "text": [
      "training loss at epoch 497000: 0.19876617193222046\n"
     ]
    },
    {
     "name": "stderr",
     "output_type": "stream",
     "text": [
      " 50%|████▉     | 498005/1000000 [3:07:47<4:07:30, 33.80it/s]"
     ]
    },
    {
     "name": "stdout",
     "output_type": "stream",
     "text": [
      "training loss at epoch 498000: 0.1932523399591446\n"
     ]
    },
    {
     "name": "stderr",
     "output_type": "stream",
     "text": [
      " 50%|████▉     | 499009/1000000 [3:08:10<3:46:13, 36.91it/s]"
     ]
    },
    {
     "name": "stdout",
     "output_type": "stream",
     "text": [
      "training loss at epoch 499000: 0.20980888605117798\n"
     ]
    },
    {
     "name": "stderr",
     "output_type": "stream",
     "text": [
      " 50%|█████     | 500009/1000000 [3:08:32<3:41:16, 37.66it/s]"
     ]
    },
    {
     "name": "stdout",
     "output_type": "stream",
     "text": [
      "training loss at epoch 500000: 0.17123113572597504\n",
      "for node Q16849876- {'name': 'JC Brooks & the Uptown Sound'} closest are nodes:\n",
      "{'name': 'JC Brooks & the Uptown Sound'}\n",
      "{'name': 'The Yayhoos'}\n",
      "{'name': 'Foxboro Hot Tubs'}\n",
      "for node Q7633614- {'name': 'Suddenly, Tammy!'} closest are nodes:\n",
      "{'name': 'Suddenly, Tammy!'}\n",
      "{'name': 'Pilotdrift'}\n",
      "{'name': 'The Welcome Wagon'}\n",
      "for node Q1680710- {'name': 'The Rave-Ups'} closest are nodes:\n",
      "{'name': 'Never Shout Never'}\n",
      "{'name': 'Robert Rodriguez'}\n",
      "{'name': 'Sleepy Sun'}\n"
     ]
    },
    {
     "name": "stderr",
     "output_type": "stream",
     "text": [
      " 50%|█████     | 501009/1000000 [3:08:55<3:46:28, 36.72it/s]"
     ]
    },
    {
     "name": "stdout",
     "output_type": "stream",
     "text": [
      "training loss at epoch 501000: 0.16964662075042725\n"
     ]
    },
    {
     "name": "stderr",
     "output_type": "stream",
     "text": [
      " 50%|█████     | 502009/1000000 [3:09:17<3:42:46, 37.26it/s]"
     ]
    },
    {
     "name": "stdout",
     "output_type": "stream",
     "text": [
      "training loss at epoch 502000: 0.19959671795368195\n"
     ]
    },
    {
     "name": "stderr",
     "output_type": "stream",
     "text": [
      " 50%|█████     | 503009/1000000 [3:09:40<3:41:32, 37.39it/s]"
     ]
    },
    {
     "name": "stdout",
     "output_type": "stream",
     "text": [
      "training loss at epoch 503000: 0.182189479470253\n"
     ]
    },
    {
     "name": "stderr",
     "output_type": "stream",
     "text": [
      " 50%|█████     | 504009/1000000 [3:10:02<3:46:04, 36.56it/s]"
     ]
    },
    {
     "name": "stdout",
     "output_type": "stream",
     "text": [
      "training loss at epoch 504000: 0.22265850007534027\n"
     ]
    },
    {
     "name": "stderr",
     "output_type": "stream",
     "text": [
      " 51%|█████     | 505008/1000000 [3:10:25<3:41:01, 37.33it/s]"
     ]
    },
    {
     "name": "stdout",
     "output_type": "stream",
     "text": [
      "training loss at epoch 505000: 0.1977749466896057\n"
     ]
    },
    {
     "name": "stderr",
     "output_type": "stream",
     "text": [
      " 51%|█████     | 506008/1000000 [3:10:48<3:54:19, 35.14it/s]"
     ]
    },
    {
     "name": "stdout",
     "output_type": "stream",
     "text": [
      "training loss at epoch 506000: 0.23606939613819122\n"
     ]
    },
    {
     "name": "stderr",
     "output_type": "stream",
     "text": [
      " 51%|█████     | 507007/1000000 [3:11:10<3:46:24, 36.29it/s]"
     ]
    },
    {
     "name": "stdout",
     "output_type": "stream",
     "text": [
      "training loss at epoch 507000: 0.19218295812606812\n"
     ]
    },
    {
     "name": "stderr",
     "output_type": "stream",
     "text": [
      " 51%|█████     | 508007/1000000 [3:11:33<3:38:38, 37.50it/s]"
     ]
    },
    {
     "name": "stdout",
     "output_type": "stream",
     "text": [
      "training loss at epoch 508000: 0.23207217454910278\n"
     ]
    },
    {
     "name": "stderr",
     "output_type": "stream",
     "text": [
      " 51%|█████     | 509007/1000000 [3:11:56<3:43:18, 36.65it/s]"
     ]
    },
    {
     "name": "stdout",
     "output_type": "stream",
     "text": [
      "training loss at epoch 509000: 0.2083672285079956\n"
     ]
    },
    {
     "name": "stderr",
     "output_type": "stream",
     "text": [
      " 51%|█████     | 510007/1000000 [3:12:18<3:37:28, 37.55it/s]"
     ]
    },
    {
     "name": "stdout",
     "output_type": "stream",
     "text": [
      "training loss at epoch 510000: 0.2033645659685135\n",
      "for node Q7852923- {} closest are nodes:\n",
      "{}\n",
      "{'name': 'Rehasher'}\n",
      "{'name': 'Symphony in Peril'}\n",
      "for node Q3201552- {'name': 'Joey Bada$$'} closest are nodes:\n",
      "{'name': 'CJ Fly'}\n",
      "{'name': 'Joey Bada$$'}\n",
      "{'name': 'Kirk Knight'}\n",
      "for node Q7751195- {'name': 'The Metro All Stars'} closest are nodes:\n",
      "{'name': 'King Harvest'}\n",
      "{'name': 'Jackopierce'}\n",
      "{'name': 'The Metro All Stars'}\n"
     ]
    },
    {
     "name": "stderr",
     "output_type": "stream",
     "text": [
      " 51%|█████     | 511007/1000000 [3:12:41<3:29:56, 38.82it/s]"
     ]
    },
    {
     "name": "stdout",
     "output_type": "stream",
     "text": [
      "training loss at epoch 511000: 0.22469112277030945\n"
     ]
    },
    {
     "name": "stderr",
     "output_type": "stream",
     "text": [
      " 51%|█████     | 512007/1000000 [3:13:03<3:34:15, 37.96it/s]"
     ]
    },
    {
     "name": "stdout",
     "output_type": "stream",
     "text": [
      "training loss at epoch 512000: 0.21337883174419403\n"
     ]
    },
    {
     "name": "stderr",
     "output_type": "stream",
     "text": [
      " 51%|█████▏    | 513007/1000000 [3:13:26<3:48:02, 35.59it/s]"
     ]
    },
    {
     "name": "stdout",
     "output_type": "stream",
     "text": [
      "training loss at epoch 513000: 0.1741773635149002\n"
     ]
    },
    {
     "name": "stderr",
     "output_type": "stream",
     "text": [
      " 51%|█████▏    | 514007/1000000 [3:13:48<3:44:29, 36.08it/s]"
     ]
    },
    {
     "name": "stdout",
     "output_type": "stream",
     "text": [
      "training loss at epoch 514000: 0.19300881028175354\n"
     ]
    },
    {
     "name": "stderr",
     "output_type": "stream",
     "text": [
      " 52%|█████▏    | 515007/1000000 [3:14:11<3:37:50, 37.10it/s]"
     ]
    },
    {
     "name": "stdout",
     "output_type": "stream",
     "text": [
      "training loss at epoch 515000: 0.19158890843391418\n"
     ]
    },
    {
     "name": "stderr",
     "output_type": "stream",
     "text": [
      " 52%|█████▏    | 516010/1000000 [3:14:33<3:41:59, 36.34it/s]"
     ]
    },
    {
     "name": "stdout",
     "output_type": "stream",
     "text": [
      "training loss at epoch 516000: 0.18672332167625427\n"
     ]
    },
    {
     "name": "stderr",
     "output_type": "stream",
     "text": [
      " 52%|█████▏    | 517010/1000000 [3:14:56<3:43:20, 36.04it/s]"
     ]
    },
    {
     "name": "stdout",
     "output_type": "stream",
     "text": [
      "training loss at epoch 517000: 0.17455586791038513\n"
     ]
    },
    {
     "name": "stderr",
     "output_type": "stream",
     "text": [
      " 52%|█████▏    | 518010/1000000 [3:15:19<3:30:44, 38.12it/s]"
     ]
    },
    {
     "name": "stdout",
     "output_type": "stream",
     "text": [
      "training loss at epoch 518000: 0.2055356204509735\n"
     ]
    },
    {
     "name": "stderr",
     "output_type": "stream",
     "text": [
      " 52%|█████▏    | 519005/1000000 [3:15:41<3:49:09, 34.98it/s]"
     ]
    },
    {
     "name": "stdout",
     "output_type": "stream",
     "text": [
      "training loss at epoch 519000: 0.17165502905845642\n"
     ]
    },
    {
     "name": "stderr",
     "output_type": "stream",
     "text": [
      " 52%|█████▏    | 520005/1000000 [3:16:04<3:59:39, 33.38it/s]"
     ]
    },
    {
     "name": "stdout",
     "output_type": "stream",
     "text": [
      "training loss at epoch 520000: 0.1867954581975937\n",
      "for node Q16954438- {'name': 'The Disco Fries'} closest are nodes:\n",
      "{'name': 'The Disco Fries'}\n",
      "{'name': 'Cubic Zirconia'}\n",
      "{'name': 'Liars'}\n",
      "for node Q7534403- {'name': 'Skeleton Key'} closest are nodes:\n",
      "{'name': 'Skeleton Key'}\n",
      "{'name': 'School of Fish'}\n",
      "{'name': 'Little Daylight'}\n",
      "for node Q7771859- {'name': 'The V-Roys'} closest are nodes:\n",
      "{'name': 'The V-Roys'}\n",
      "{'name': \"The Dirty Guv'nahs\"}\n",
      "{'name': 'Houndmouth'}\n"
     ]
    },
    {
     "name": "stderr",
     "output_type": "stream",
     "text": [
      " 52%|█████▏    | 521010/1000000 [3:16:26<3:33:00, 37.48it/s]"
     ]
    },
    {
     "name": "stdout",
     "output_type": "stream",
     "text": [
      "training loss at epoch 521000: 0.16203999519348145\n"
     ]
    },
    {
     "name": "stderr",
     "output_type": "stream",
     "text": [
      " 52%|█████▏    | 522010/1000000 [3:16:49<3:31:42, 37.63it/s]"
     ]
    },
    {
     "name": "stdout",
     "output_type": "stream",
     "text": [
      "training loss at epoch 522000: 0.19523885846138\n"
     ]
    },
    {
     "name": "stderr",
     "output_type": "stream",
     "text": [
      " 52%|█████▏    | 523010/1000000 [3:17:12<3:35:47, 36.84it/s]"
     ]
    },
    {
     "name": "stdout",
     "output_type": "stream",
     "text": [
      "training loss at epoch 523000: 0.15491820871829987\n"
     ]
    },
    {
     "name": "stderr",
     "output_type": "stream",
     "text": [
      " 52%|█████▏    | 524010/1000000 [3:17:34<3:33:31, 37.15it/s]"
     ]
    },
    {
     "name": "stdout",
     "output_type": "stream",
     "text": [
      "training loss at epoch 524000: 0.24509169161319733\n"
     ]
    },
    {
     "name": "stderr",
     "output_type": "stream",
     "text": [
      " 53%|█████▎    | 525010/1000000 [3:17:57<3:28:37, 37.95it/s]"
     ]
    },
    {
     "name": "stdout",
     "output_type": "stream",
     "text": [
      "training loss at epoch 525000: 0.19985103607177734\n"
     ]
    },
    {
     "name": "stderr",
     "output_type": "stream",
     "text": [
      " 53%|█████▎    | 526010/1000000 [3:18:19<3:36:30, 36.49it/s]"
     ]
    },
    {
     "name": "stdout",
     "output_type": "stream",
     "text": [
      "training loss at epoch 526000: 0.23184965550899506\n"
     ]
    },
    {
     "name": "stderr",
     "output_type": "stream",
     "text": [
      " 53%|█████▎    | 527010/1000000 [3:18:42<3:26:12, 38.23it/s]"
     ]
    },
    {
     "name": "stdout",
     "output_type": "stream",
     "text": [
      "training loss at epoch 527000: 0.14359687268733978\n"
     ]
    },
    {
     "name": "stderr",
     "output_type": "stream",
     "text": [
      " 53%|█████▎    | 528010/1000000 [3:19:04<3:32:38, 37.00it/s]"
     ]
    },
    {
     "name": "stdout",
     "output_type": "stream",
     "text": [
      "training loss at epoch 528000: 0.18391400575637817\n"
     ]
    },
    {
     "name": "stderr",
     "output_type": "stream",
     "text": [
      " 53%|█████▎    | 529010/1000000 [3:19:27<3:26:35, 38.00it/s]"
     ]
    },
    {
     "name": "stdout",
     "output_type": "stream",
     "text": [
      "training loss at epoch 529000: 0.18563507497310638\n"
     ]
    },
    {
     "name": "stderr",
     "output_type": "stream",
     "text": [
      " 53%|█████▎    | 530010/1000000 [3:19:49<3:27:56, 37.67it/s]"
     ]
    },
    {
     "name": "stdout",
     "output_type": "stream",
     "text": [
      "training loss at epoch 530000: 0.20126459002494812\n",
      "for node Q18163448- {'name': 'This Wild Life'} closest are nodes:\n",
      "{'name': 'Sing It Loud'}\n",
      "{'name': 'Farewell'}\n",
      "{'name': 'Vanna'}\n",
      "for node Q6272528- {'name': 'Jon Batiste'} closest are nodes:\n",
      "{'name': 'Joe Saylor'}\n",
      "{'name': 'Maddie Rice'}\n",
      "{'name': 'Jon Batiste'}\n",
      "for node Q5106011- {'name': 'Chris Brown and Kate Fenner'} closest are nodes:\n",
      "{'name': 'Chris Brown and Kate Fenner'}\n",
      "{}\n",
      "{'name': 'The Mynabirds'}\n"
     ]
    },
    {
     "name": "stderr",
     "output_type": "stream",
     "text": [
      " 53%|█████▎    | 531010/1000000 [3:20:12<3:25:57, 37.95it/s]"
     ]
    },
    {
     "name": "stdout",
     "output_type": "stream",
     "text": [
      "training loss at epoch 531000: 0.1829851120710373\n"
     ]
    },
    {
     "name": "stderr",
     "output_type": "stream",
     "text": [
      " 53%|█████▎    | 532009/1000000 [3:20:35<3:35:25, 36.21it/s]"
     ]
    },
    {
     "name": "stdout",
     "output_type": "stream",
     "text": [
      "training loss at epoch 532000: 0.2022152543067932\n"
     ]
    },
    {
     "name": "stderr",
     "output_type": "stream",
     "text": [
      " 53%|█████▎    | 533009/1000000 [3:20:57<3:22:18, 38.47it/s]"
     ]
    },
    {
     "name": "stdout",
     "output_type": "stream",
     "text": [
      "training loss at epoch 533000: 0.18100428581237793\n"
     ]
    },
    {
     "name": "stderr",
     "output_type": "stream",
     "text": [
      " 53%|█████▎    | 534009/1000000 [3:21:20<3:34:33, 36.20it/s]"
     ]
    },
    {
     "name": "stdout",
     "output_type": "stream",
     "text": [
      "training loss at epoch 534000: 0.19498060643672943\n"
     ]
    },
    {
     "name": "stderr",
     "output_type": "stream",
     "text": [
      " 54%|█████▎    | 535009/1000000 [3:21:42<3:23:41, 38.05it/s]"
     ]
    },
    {
     "name": "stdout",
     "output_type": "stream",
     "text": [
      "training loss at epoch 535000: 0.19216378033161163\n"
     ]
    },
    {
     "name": "stderr",
     "output_type": "stream",
     "text": [
      " 54%|█████▎    | 536008/1000000 [3:22:05<3:36:42, 35.69it/s]"
     ]
    },
    {
     "name": "stdout",
     "output_type": "stream",
     "text": [
      "training loss at epoch 536000: 0.20667771995067596\n"
     ]
    },
    {
     "name": "stderr",
     "output_type": "stream",
     "text": [
      " 54%|█████▎    | 537008/1000000 [3:22:27<3:19:52, 38.61it/s]"
     ]
    },
    {
     "name": "stdout",
     "output_type": "stream",
     "text": [
      "training loss at epoch 537000: 0.1865517944097519\n"
     ]
    },
    {
     "name": "stderr",
     "output_type": "stream",
     "text": [
      " 54%|█████▍    | 538008/1000000 [3:22:50<3:23:40, 37.80it/s]"
     ]
    },
    {
     "name": "stdout",
     "output_type": "stream",
     "text": [
      "training loss at epoch 538000: 0.16764242947101593\n"
     ]
    },
    {
     "name": "stderr",
     "output_type": "stream",
     "text": [
      " 54%|█████▍    | 539008/1000000 [3:23:12<3:28:45, 36.80it/s]"
     ]
    },
    {
     "name": "stdout",
     "output_type": "stream",
     "text": [
      "training loss at epoch 539000: 0.1827470064163208\n"
     ]
    },
    {
     "name": "stderr",
     "output_type": "stream",
     "text": [
      " 54%|█████▍    | 540008/1000000 [3:23:35<3:32:59, 35.99it/s]"
     ]
    },
    {
     "name": "stdout",
     "output_type": "stream",
     "text": [
      "training loss at epoch 540000: 0.19341155886650085\n",
      "for node Q540095- {'name': 'Steve Shelley'} closest are nodes:\n",
      "{'name': 'Steve Shelley'}\n",
      "{'name': 'Mark Ibold'}\n",
      "{'name': 'Kim Gordon'}\n",
      "for node Q16215294- {'name': 'Hutch Harris'} closest are nodes:\n",
      "{'name': 'Hutch Harris'}\n",
      "{'name': 'Kathy Foster'}\n",
      "{'name': 'pre)Thing'}\n",
      "for node Q2160448- {'name': 'Rock Kills Kid'} closest are nodes:\n",
      "{'name': 'Rock Kills Kid'}\n",
      "{'name': 'Wage War'}\n",
      "{'name': 'So They Say'}\n"
     ]
    },
    {
     "name": "stderr",
     "output_type": "stream",
     "text": [
      " 54%|█████▍    | 541008/1000000 [3:23:57<3:23:03, 37.67it/s]"
     ]
    },
    {
     "name": "stdout",
     "output_type": "stream",
     "text": [
      "training loss at epoch 541000: 0.18299448490142822\n"
     ]
    },
    {
     "name": "stderr",
     "output_type": "stream",
     "text": [
      " 54%|█████▍    | 542008/1000000 [3:24:20<3:17:52, 38.58it/s]"
     ]
    },
    {
     "name": "stdout",
     "output_type": "stream",
     "text": [
      "training loss at epoch 542000: 0.1805405467748642\n"
     ]
    },
    {
     "name": "stderr",
     "output_type": "stream",
     "text": [
      " 54%|█████▍    | 543008/1000000 [3:24:42<3:23:22, 37.45it/s]"
     ]
    },
    {
     "name": "stdout",
     "output_type": "stream",
     "text": [
      "training loss at epoch 543000: 0.19106999039649963\n"
     ]
    },
    {
     "name": "stderr",
     "output_type": "stream",
     "text": [
      " 54%|█████▍    | 544006/1000000 [3:25:05<3:18:56, 38.20it/s]"
     ]
    },
    {
     "name": "stdout",
     "output_type": "stream",
     "text": [
      "training loss at epoch 544000: 0.18233875930309296\n"
     ]
    },
    {
     "name": "stderr",
     "output_type": "stream",
     "text": [
      " 55%|█████▍    | 545006/1000000 [3:25:27<3:26:33, 36.71it/s]"
     ]
    },
    {
     "name": "stdout",
     "output_type": "stream",
     "text": [
      "training loss at epoch 545000: 0.19905687868595123\n"
     ]
    },
    {
     "name": "stderr",
     "output_type": "stream",
     "text": [
      " 55%|█████▍    | 546006/1000000 [3:25:50<3:20:07, 37.81it/s]"
     ]
    },
    {
     "name": "stdout",
     "output_type": "stream",
     "text": [
      "training loss at epoch 546000: 0.19121479988098145\n"
     ]
    },
    {
     "name": "stderr",
     "output_type": "stream",
     "text": [
      " 55%|█████▍    | 547009/1000000 [3:26:13<3:27:46, 36.34it/s]"
     ]
    },
    {
     "name": "stdout",
     "output_type": "stream",
     "text": [
      "training loss at epoch 547000: 0.19089306890964508\n"
     ]
    },
    {
     "name": "stderr",
     "output_type": "stream",
     "text": [
      " 55%|█████▍    | 548009/1000000 [3:26:35<3:23:37, 36.99it/s]"
     ]
    },
    {
     "name": "stdout",
     "output_type": "stream",
     "text": [
      "training loss at epoch 548000: 0.21256858110427856\n"
     ]
    },
    {
     "name": "stderr",
     "output_type": "stream",
     "text": [
      " 55%|█████▍    | 549009/1000000 [3:26:58<3:27:49, 36.17it/s]"
     ]
    },
    {
     "name": "stdout",
     "output_type": "stream",
     "text": [
      "training loss at epoch 549000: 0.19908304512500763\n"
     ]
    },
    {
     "name": "stderr",
     "output_type": "stream",
     "text": [
      " 55%|█████▌    | 550009/1000000 [3:27:21<3:28:48, 35.92it/s]"
     ]
    },
    {
     "name": "stdout",
     "output_type": "stream",
     "text": [
      "training loss at epoch 550000: 0.17941917479038239\n",
      "for node Q3647810- {'name': 'Buzzoven'} closest are nodes:\n",
      "{'name': 'Rwake'}\n",
      "{'name': 'Black Tusk'}\n",
      "{'name': '16'}\n",
      "for node Q6782895- {'name': 'Mascott'} closest are nodes:\n",
      "{'name': 'PAS/CAL'}\n",
      "{'name': 'Braid'}\n",
      "{'name': \"I Don't Know How But They Found Me\"}\n",
      "for node Q6807963- {'name': 'Meg & Dia'} closest are nodes:\n",
      "{'name': 'The Bigger Lights'}\n",
      "{'name': 'Cable'}\n",
      "{'name': 'Jet Lag Gemini'}\n"
     ]
    },
    {
     "name": "stderr",
     "output_type": "stream",
     "text": [
      " 55%|█████▌    | 551009/1000000 [3:27:43<3:33:45, 35.01it/s]"
     ]
    },
    {
     "name": "stdout",
     "output_type": "stream",
     "text": [
      "training loss at epoch 551000: 0.20549966394901276\n"
     ]
    },
    {
     "name": "stderr",
     "output_type": "stream",
     "text": [
      " 55%|█████▌    | 552009/1000000 [3:28:06<3:20:25, 37.25it/s]"
     ]
    },
    {
     "name": "stdout",
     "output_type": "stream",
     "text": [
      "training loss at epoch 552000: 0.2106923758983612\n"
     ]
    },
    {
     "name": "stderr",
     "output_type": "stream",
     "text": [
      " 55%|█████▌    | 553009/1000000 [3:28:29<3:19:33, 37.33it/s]"
     ]
    },
    {
     "name": "stdout",
     "output_type": "stream",
     "text": [
      "training loss at epoch 553000: 0.20627988874912262\n"
     ]
    },
    {
     "name": "stderr",
     "output_type": "stream",
     "text": [
      " 55%|█████▌    | 554008/1000000 [3:28:51<3:20:48, 37.02it/s]"
     ]
    },
    {
     "name": "stdout",
     "output_type": "stream",
     "text": [
      "training loss at epoch 554000: 0.19954238831996918\n"
     ]
    },
    {
     "name": "stderr",
     "output_type": "stream",
     "text": [
      " 56%|█████▌    | 555008/1000000 [3:29:14<3:30:49, 35.18it/s]"
     ]
    },
    {
     "name": "stdout",
     "output_type": "stream",
     "text": [
      "training loss at epoch 555000: 0.19040422141551971\n"
     ]
    },
    {
     "name": "stderr",
     "output_type": "stream",
     "text": [
      " 56%|█████▌    | 556006/1000000 [3:29:37<3:21:00, 36.81it/s]"
     ]
    },
    {
     "name": "stdout",
     "output_type": "stream",
     "text": [
      "training loss at epoch 556000: 0.17262127995491028\n"
     ]
    },
    {
     "name": "stderr",
     "output_type": "stream",
     "text": [
      " 56%|█████▌    | 557006/1000000 [3:29:59<3:22:29, 36.46it/s]"
     ]
    },
    {
     "name": "stdout",
     "output_type": "stream",
     "text": [
      "training loss at epoch 557000: 0.19151054322719574\n"
     ]
    },
    {
     "name": "stderr",
     "output_type": "stream",
     "text": [
      " 56%|█████▌    | 558006/1000000 [3:30:22<3:10:33, 38.66it/s]"
     ]
    },
    {
     "name": "stdout",
     "output_type": "stream",
     "text": [
      "training loss at epoch 558000: 0.19580966234207153\n"
     ]
    },
    {
     "name": "stderr",
     "output_type": "stream",
     "text": [
      " 56%|█████▌    | 559006/1000000 [3:30:44<3:15:26, 37.61it/s]"
     ]
    },
    {
     "name": "stdout",
     "output_type": "stream",
     "text": [
      "training loss at epoch 559000: 0.2093227654695511\n"
     ]
    },
    {
     "name": "stderr",
     "output_type": "stream",
     "text": [
      " 56%|█████▌    | 560006/1000000 [3:31:07<3:17:31, 37.13it/s]"
     ]
    },
    {
     "name": "stdout",
     "output_type": "stream",
     "text": [
      "training loss at epoch 560000: 0.18742263317108154\n",
      "for node Q1544942- {'name': 'Greg Kurstin'} closest are nodes:\n",
      "{'name': 'Greg Kurstin'}\n",
      "{'name': 'Bound Stems'}\n",
      "{'name': 'Unashamed'}\n",
      "for node Q7752143- {'name': 'The Moody Brothers'} closest are nodes:\n",
      "{'name': 'The Moody Brothers'}\n",
      "{'name': 'The Thompson Brothers Band'}\n",
      "{}\n",
      "for node Q7994941- {'name': 'White Jimmy'} closest are nodes:\n",
      "{'name': 'White Jimmy'}\n",
      "{'name': 'Mark McGrath'}\n",
      "{}\n"
     ]
    },
    {
     "name": "stderr",
     "output_type": "stream",
     "text": [
      " 56%|█████▌    | 561006/1000000 [3:31:29<3:21:56, 36.23it/s]"
     ]
    },
    {
     "name": "stdout",
     "output_type": "stream",
     "text": [
      "training loss at epoch 561000: 0.16984951496124268\n"
     ]
    },
    {
     "name": "stderr",
     "output_type": "stream",
     "text": [
      " 56%|█████▌    | 562009/1000000 [3:31:52<3:08:49, 38.66it/s]"
     ]
    },
    {
     "name": "stdout",
     "output_type": "stream",
     "text": [
      "training loss at epoch 562000: 0.16695469617843628\n"
     ]
    },
    {
     "name": "stderr",
     "output_type": "stream",
     "text": [
      " 56%|█████▋    | 563009/1000000 [3:32:15<3:18:10, 36.75it/s]"
     ]
    },
    {
     "name": "stdout",
     "output_type": "stream",
     "text": [
      "training loss at epoch 563000: 0.17699414491653442\n"
     ]
    },
    {
     "name": "stderr",
     "output_type": "stream",
     "text": [
      " 56%|█████▋    | 564009/1000000 [3:32:37<3:08:40, 38.51it/s]"
     ]
    },
    {
     "name": "stdout",
     "output_type": "stream",
     "text": [
      "training loss at epoch 564000: 0.20191827416419983\n"
     ]
    },
    {
     "name": "stderr",
     "output_type": "stream",
     "text": [
      " 57%|█████▋    | 565009/1000000 [3:33:00<3:20:09, 36.22it/s]"
     ]
    },
    {
     "name": "stdout",
     "output_type": "stream",
     "text": [
      "training loss at epoch 565000: 0.18254795670509338\n"
     ]
    },
    {
     "name": "stderr",
     "output_type": "stream",
     "text": [
      " 57%|█████▋    | 566008/1000000 [3:33:23<3:20:04, 36.15it/s]"
     ]
    },
    {
     "name": "stdout",
     "output_type": "stream",
     "text": [
      "training loss at epoch 566000: 0.18053780496120453\n"
     ]
    },
    {
     "name": "stderr",
     "output_type": "stream",
     "text": [
      " 57%|█████▋    | 567008/1000000 [3:33:45<3:27:58, 34.70it/s]"
     ]
    },
    {
     "name": "stdout",
     "output_type": "stream",
     "text": [
      "training loss at epoch 567000: 0.18787266314029694\n"
     ]
    },
    {
     "name": "stderr",
     "output_type": "stream",
     "text": [
      " 57%|█████▋    | 568006/1000000 [3:34:08<3:05:51, 38.74it/s]"
     ]
    },
    {
     "name": "stdout",
     "output_type": "stream",
     "text": [
      "training loss at epoch 568000: 0.19498631358146667\n"
     ]
    },
    {
     "name": "stderr",
     "output_type": "stream",
     "text": [
      " 57%|█████▋    | 569006/1000000 [3:34:30<3:14:56, 36.85it/s]"
     ]
    },
    {
     "name": "stdout",
     "output_type": "stream",
     "text": [
      "training loss at epoch 569000: 0.17867712676525116\n"
     ]
    },
    {
     "name": "stderr",
     "output_type": "stream",
     "text": [
      " 57%|█████▋    | 570006/1000000 [3:34:53<3:18:10, 36.16it/s]"
     ]
    },
    {
     "name": "stdout",
     "output_type": "stream",
     "text": [
      "training loss at epoch 570000: 0.19469524919986725\n",
      "for node Q1514- {'name': 'Janis Joplin'} closest are nodes:\n",
      "{'name': 'Janis Joplin'}\n",
      "{'name': 'Of Verona'}\n",
      "{'name': 'Warlord'}\n",
      "for node Q16958037- {} closest are nodes:\n",
      "{}\n",
      "{'name': 'Birds of Prey'}\n",
      "{'name': 'David Roback'}\n",
      "for node Q16962224- {} closest are nodes:\n",
      "{}\n",
      "{'name': 'The Extra Lens'}\n",
      "{'name': 'Def Tech'}\n"
     ]
    },
    {
     "name": "stderr",
     "output_type": "stream",
     "text": [
      " 57%|█████▋    | 571006/1000000 [3:35:16<3:11:05, 37.41it/s]"
     ]
    },
    {
     "name": "stdout",
     "output_type": "stream",
     "text": [
      "training loss at epoch 571000: 0.16331027448177338\n"
     ]
    },
    {
     "name": "stderr",
     "output_type": "stream",
     "text": [
      " 57%|█████▋    | 572006/1000000 [3:35:39<3:18:04, 36.01it/s]"
     ]
    },
    {
     "name": "stdout",
     "output_type": "stream",
     "text": [
      "training loss at epoch 572000: 0.24210339784622192\n"
     ]
    },
    {
     "name": "stderr",
     "output_type": "stream",
     "text": [
      " 57%|█████▋    | 573009/1000000 [3:36:01<3:16:53, 36.14it/s]"
     ]
    },
    {
     "name": "stdout",
     "output_type": "stream",
     "text": [
      "training loss at epoch 573000: 0.21433112025260925\n"
     ]
    },
    {
     "name": "stderr",
     "output_type": "stream",
     "text": [
      " 57%|█████▋    | 574008/1000000 [3:36:24<3:13:15, 36.74it/s]"
     ]
    },
    {
     "name": "stdout",
     "output_type": "stream",
     "text": [
      "training loss at epoch 574000: 0.16673709452152252\n"
     ]
    },
    {
     "name": "stderr",
     "output_type": "stream",
     "text": [
      " 58%|█████▊    | 575008/1000000 [3:36:46<3:08:24, 37.60it/s]"
     ]
    },
    {
     "name": "stdout",
     "output_type": "stream",
     "text": [
      "training loss at epoch 575000: 0.1785992830991745\n"
     ]
    },
    {
     "name": "stderr",
     "output_type": "stream",
     "text": [
      " 58%|█████▊    | 576008/1000000 [3:37:09<3:11:04, 36.98it/s]"
     ]
    },
    {
     "name": "stdout",
     "output_type": "stream",
     "text": [
      "training loss at epoch 576000: 0.20051275193691254\n"
     ]
    },
    {
     "name": "stderr",
     "output_type": "stream",
     "text": [
      " 58%|█████▊    | 577008/1000000 [3:37:32<3:06:07, 37.88it/s]"
     ]
    },
    {
     "name": "stdout",
     "output_type": "stream",
     "text": [
      "training loss at epoch 577000: 0.1966504007577896\n"
     ]
    },
    {
     "name": "stderr",
     "output_type": "stream",
     "text": [
      " 58%|█████▊    | 578008/1000000 [3:37:55<3:09:59, 37.02it/s]"
     ]
    },
    {
     "name": "stdout",
     "output_type": "stream",
     "text": [
      "training loss at epoch 578000: 0.16933822631835938\n"
     ]
    },
    {
     "name": "stderr",
     "output_type": "stream",
     "text": [
      " 58%|█████▊    | 579008/1000000 [3:38:17<3:15:01, 35.98it/s]"
     ]
    },
    {
     "name": "stdout",
     "output_type": "stream",
     "text": [
      "training loss at epoch 579000: 0.18970568478107452\n"
     ]
    },
    {
     "name": "stderr",
     "output_type": "stream",
     "text": [
      " 58%|█████▊    | 580008/1000000 [3:38:40<3:10:16, 36.79it/s]"
     ]
    },
    {
     "name": "stdout",
     "output_type": "stream",
     "text": [
      "training loss at epoch 580000: 0.19410771131515503\n",
      "for node Q5248267- {'name': 'Deborah Holland'} closest are nodes:\n",
      "{'name': 'Deborah Holland'}\n",
      "{'name': 'Wendy Waldman'}\n",
      "{'name': 'Cidny Bullens'}\n",
      "for node Q5720103- {'name': 'Henry D. Haynes'} closest are nodes:\n",
      "{'name': 'Henry D. Haynes'}\n",
      "{'name': 'Little Anthony and the Imperials'}\n",
      "{'name': 'Detective'}\n",
      "for node Q3987840- {'name': 'The Knickerbockers'} closest are nodes:\n",
      "{'name': 'The Knickerbockers'}\n",
      "{'name': \"D'wayne Wiggins\"}\n",
      "{'name': 'Hal Russell'}\n"
     ]
    },
    {
     "name": "stderr",
     "output_type": "stream",
     "text": [
      " 58%|█████▊    | 581007/1000000 [3:39:02<3:10:57, 36.57it/s]"
     ]
    },
    {
     "name": "stdout",
     "output_type": "stream",
     "text": [
      "training loss at epoch 581000: 0.19571641087532043\n"
     ]
    },
    {
     "name": "stderr",
     "output_type": "stream",
     "text": [
      " 58%|█████▊    | 582009/1000000 [3:39:25<3:04:19, 37.79it/s]"
     ]
    },
    {
     "name": "stdout",
     "output_type": "stream",
     "text": [
      "training loss at epoch 582000: 0.20201745629310608\n"
     ]
    },
    {
     "name": "stderr",
     "output_type": "stream",
     "text": [
      " 58%|█████▊    | 583009/1000000 [3:39:47<3:08:55, 36.78it/s]"
     ]
    },
    {
     "name": "stdout",
     "output_type": "stream",
     "text": [
      "training loss at epoch 583000: 0.17716753482818604\n"
     ]
    },
    {
     "name": "stderr",
     "output_type": "stream",
     "text": [
      " 58%|█████▊    | 584009/1000000 [3:40:10<3:09:17, 36.63it/s]"
     ]
    },
    {
     "name": "stdout",
     "output_type": "stream",
     "text": [
      "training loss at epoch 584000: 0.1943546086549759\n"
     ]
    },
    {
     "name": "stderr",
     "output_type": "stream",
     "text": [
      " 59%|█████▊    | 585006/1000000 [3:40:33<3:21:10, 34.38it/s]"
     ]
    },
    {
     "name": "stdout",
     "output_type": "stream",
     "text": [
      "training loss at epoch 585000: 0.1979437619447708\n"
     ]
    },
    {
     "name": "stderr",
     "output_type": "stream",
     "text": [
      " 59%|█████▊    | 586006/1000000 [3:40:55<3:08:45, 36.55it/s]"
     ]
    },
    {
     "name": "stdout",
     "output_type": "stream",
     "text": [
      "training loss at epoch 586000: 0.19462473690509796\n"
     ]
    },
    {
     "name": "stderr",
     "output_type": "stream",
     "text": [
      " 59%|█████▊    | 587006/1000000 [3:41:18<3:00:37, 38.11it/s]"
     ]
    },
    {
     "name": "stdout",
     "output_type": "stream",
     "text": [
      "training loss at epoch 587000: 0.18638628721237183\n"
     ]
    },
    {
     "name": "stderr",
     "output_type": "stream",
     "text": [
      " 59%|█████▉    | 588006/1000000 [3:41:41<3:18:16, 34.63it/s]"
     ]
    },
    {
     "name": "stdout",
     "output_type": "stream",
     "text": [
      "training loss at epoch 588000: 0.2034953087568283\n"
     ]
    },
    {
     "name": "stderr",
     "output_type": "stream",
     "text": [
      " 59%|█████▉    | 589005/1000000 [3:42:03<3:15:31, 35.03it/s]"
     ]
    },
    {
     "name": "stdout",
     "output_type": "stream",
     "text": [
      "training loss at epoch 589000: 0.17219221591949463\n"
     ]
    },
    {
     "name": "stderr",
     "output_type": "stream",
     "text": [
      " 59%|█████▉    | 590005/1000000 [3:42:26<3:17:25, 34.61it/s]"
     ]
    },
    {
     "name": "stdout",
     "output_type": "stream",
     "text": [
      "training loss at epoch 590000: 0.1809050589799881\n",
      "for node Q546223- {'name': 'Army of Anyone'} closest are nodes:\n",
      "{'name': 'Army of Anyone'}\n",
      "{'name': 'The Tennessee Three'}\n",
      "{'name': 'Nick Cordle'}\n",
      "for node Q6749945- {'name': \"Manitoba's Wild Kingdom\"} closest are nodes:\n",
      "{'name': \"Manitoba's Wild Kingdom\"}\n",
      "{'name': 'Reut Regev'}\n",
      "{'name': 'Maite Kelly'}\n",
      "for node Q1503180- {} closest are nodes:\n",
      "{}\n",
      "{}\n",
      "{'name': 'Celtic punk'}\n"
     ]
    },
    {
     "name": "stderr",
     "output_type": "stream",
     "text": [
      " 59%|█████▉    | 591010/1000000 [3:42:48<2:56:33, 38.61it/s]"
     ]
    },
    {
     "name": "stdout",
     "output_type": "stream",
     "text": [
      "training loss at epoch 591000: 0.17606620490550995\n"
     ]
    },
    {
     "name": "stderr",
     "output_type": "stream",
     "text": [
      " 59%|█████▉    | 592010/1000000 [3:43:11<2:59:06, 37.96it/s]"
     ]
    },
    {
     "name": "stdout",
     "output_type": "stream",
     "text": [
      "training loss at epoch 592000: 0.21187573671340942\n"
     ]
    },
    {
     "name": "stderr",
     "output_type": "stream",
     "text": [
      " 59%|█████▉    | 593005/1000000 [3:43:33<3:16:46, 34.47it/s]"
     ]
    },
    {
     "name": "stdout",
     "output_type": "stream",
     "text": [
      "training loss at epoch 593000: 0.1730271875858307\n"
     ]
    },
    {
     "name": "stderr",
     "output_type": "stream",
     "text": [
      " 59%|█████▉    | 594010/1000000 [3:43:56<3:04:02, 36.77it/s]"
     ]
    },
    {
     "name": "stdout",
     "output_type": "stream",
     "text": [
      "training loss at epoch 594000: 0.16792957484722137\n"
     ]
    },
    {
     "name": "stderr",
     "output_type": "stream",
     "text": [
      " 60%|█████▉    | 595009/1000000 [3:44:18<3:02:37, 36.96it/s]"
     ]
    },
    {
     "name": "stdout",
     "output_type": "stream",
     "text": [
      "training loss at epoch 595000: 0.17650388181209564\n"
     ]
    },
    {
     "name": "stderr",
     "output_type": "stream",
     "text": [
      " 60%|█████▉    | 596009/1000000 [3:44:41<3:06:21, 36.13it/s]"
     ]
    },
    {
     "name": "stdout",
     "output_type": "stream",
     "text": [
      "training loss at epoch 596000: 0.19012442231178284\n"
     ]
    },
    {
     "name": "stderr",
     "output_type": "stream",
     "text": [
      " 60%|█████▉    | 597009/1000000 [3:45:04<3:08:38, 35.60it/s]"
     ]
    },
    {
     "name": "stdout",
     "output_type": "stream",
     "text": [
      "training loss at epoch 597000: 0.17850251495838165\n"
     ]
    },
    {
     "name": "stderr",
     "output_type": "stream",
     "text": [
      " 60%|█████▉    | 598009/1000000 [3:45:26<3:13:27, 34.63it/s]"
     ]
    },
    {
     "name": "stdout",
     "output_type": "stream",
     "text": [
      "training loss at epoch 598000: 0.1684035062789917\n"
     ]
    },
    {
     "name": "stderr",
     "output_type": "stream",
     "text": [
      " 60%|█████▉    | 599008/1000000 [3:45:49<3:04:09, 36.29it/s]"
     ]
    },
    {
     "name": "stdout",
     "output_type": "stream",
     "text": [
      "training loss at epoch 599000: 0.16053026914596558\n"
     ]
    },
    {
     "name": "stderr",
     "output_type": "stream",
     "text": [
      " 60%|██████    | 600009/1000000 [3:46:12<3:06:20, 35.78it/s]"
     ]
    },
    {
     "name": "stdout",
     "output_type": "stream",
     "text": [
      "training loss at epoch 600000: 0.22061844170093536\n",
      "for node Q17153455- {'name': 'Magic Man'} closest are nodes:\n",
      "{'name': 'The Limousines'}\n",
      "{'name': 'Plain Jane Automobile'}\n",
      "{'name': 'Magic Man'}\n",
      "for node Q6090545- {'name': \"It's OK!\"} closest are nodes:\n",
      "{'name': \"It's OK!\"}\n",
      "{'name': 'Mickey Madden'}\n",
      "{'name': 'Philip Labonte'}\n",
      "for node Q23007809- {'name': 'Tim Kubart'} closest are nodes:\n",
      "{'name': 'Robyn Adele Anderson'}\n",
      "{'name': 'Ariana Savalas'}\n",
      "{'name': 'Aubrey Logan'}\n"
     ]
    },
    {
     "name": "stderr",
     "output_type": "stream",
     "text": [
      " 60%|██████    | 601009/1000000 [3:46:34<2:58:27, 37.26it/s]"
     ]
    },
    {
     "name": "stdout",
     "output_type": "stream",
     "text": [
      "training loss at epoch 601000: 0.19787876307964325\n"
     ]
    },
    {
     "name": "stderr",
     "output_type": "stream",
     "text": [
      " 60%|██████    | 602009/1000000 [3:46:57<3:05:32, 35.75it/s]"
     ]
    },
    {
     "name": "stdout",
     "output_type": "stream",
     "text": [
      "training loss at epoch 602000: 0.18351668119430542\n"
     ]
    },
    {
     "name": "stderr",
     "output_type": "stream",
     "text": [
      " 60%|██████    | 603009/1000000 [3:47:20<3:05:45, 35.62it/s]"
     ]
    },
    {
     "name": "stdout",
     "output_type": "stream",
     "text": [
      "training loss at epoch 603000: 0.23597227036952972\n"
     ]
    },
    {
     "name": "stderr",
     "output_type": "stream",
     "text": [
      " 60%|██████    | 604009/1000000 [3:47:42<3:03:23, 35.99it/s]"
     ]
    },
    {
     "name": "stdout",
     "output_type": "stream",
     "text": [
      "training loss at epoch 604000: 0.1743115931749344\n"
     ]
    },
    {
     "name": "stderr",
     "output_type": "stream",
     "text": [
      " 61%|██████    | 605008/1000000 [3:48:05<2:54:33, 37.71it/s]"
     ]
    },
    {
     "name": "stdout",
     "output_type": "stream",
     "text": [
      "training loss at epoch 605000: 0.16761711239814758\n"
     ]
    },
    {
     "name": "stderr",
     "output_type": "stream",
     "text": [
      " 61%|██████    | 606008/1000000 [3:48:27<2:57:43, 36.95it/s]"
     ]
    },
    {
     "name": "stdout",
     "output_type": "stream",
     "text": [
      "training loss at epoch 606000: 0.1722954511642456\n"
     ]
    },
    {
     "name": "stderr",
     "output_type": "stream",
     "text": [
      " 61%|██████    | 607007/1000000 [3:48:50<2:48:59, 38.76it/s]"
     ]
    },
    {
     "name": "stdout",
     "output_type": "stream",
     "text": [
      "training loss at epoch 607000: 0.2157997339963913\n"
     ]
    },
    {
     "name": "stderr",
     "output_type": "stream",
     "text": [
      " 61%|██████    | 608007/1000000 [3:49:12<2:51:44, 38.04it/s]"
     ]
    },
    {
     "name": "stdout",
     "output_type": "stream",
     "text": [
      "training loss at epoch 608000: 0.17662104964256287\n"
     ]
    },
    {
     "name": "stderr",
     "output_type": "stream",
     "text": [
      " 61%|██████    | 609007/1000000 [3:49:35<3:02:58, 35.62it/s]"
     ]
    },
    {
     "name": "stdout",
     "output_type": "stream",
     "text": [
      "training loss at epoch 609000: 0.2099718302488327\n"
     ]
    },
    {
     "name": "stderr",
     "output_type": "stream",
     "text": [
      " 61%|██████    | 610009/1000000 [3:49:58<2:54:48, 37.18it/s]"
     ]
    },
    {
     "name": "stdout",
     "output_type": "stream",
     "text": [
      "training loss at epoch 610000: 0.1885269433259964\n",
      "for node Q3909384- {} closest are nodes:\n",
      "{}\n",
      "{'name': 'Gary Lewis & the Playboys'}\n",
      "{'name': 'The Color Morale'}\n",
      "for node Q56649733- {'name': 'Arthur Rizk'} closest are nodes:\n",
      "{'name': 'Arthur Rizk'}\n",
      "{'name': 'Paul Robb'}\n",
      "{'name': 'Year Long Disaster'}\n",
      "for node Q5420702- {'name': 'Exotic Birds'} closest are nodes:\n",
      "{'name': 'Exotic Birds'}\n",
      "{'name': 'Five Iron Frenzy'}\n",
      "{'name': 'bluegrass music'}\n"
     ]
    },
    {
     "name": "stderr",
     "output_type": "stream",
     "text": [
      " 61%|██████    | 611009/1000000 [3:50:20<2:58:57, 36.23it/s]"
     ]
    },
    {
     "name": "stdout",
     "output_type": "stream",
     "text": [
      "training loss at epoch 611000: 0.17448587715625763\n"
     ]
    },
    {
     "name": "stderr",
     "output_type": "stream",
     "text": [
      " 61%|██████    | 612009/1000000 [3:50:43<2:50:27, 37.93it/s]"
     ]
    },
    {
     "name": "stdout",
     "output_type": "stream",
     "text": [
      "training loss at epoch 612000: 0.17137250304222107\n"
     ]
    },
    {
     "name": "stderr",
     "output_type": "stream",
     "text": [
      " 61%|██████▏   | 613009/1000000 [3:51:06<2:54:17, 37.01it/s]"
     ]
    },
    {
     "name": "stdout",
     "output_type": "stream",
     "text": [
      "training loss at epoch 613000: 0.16345985233783722\n"
     ]
    },
    {
     "name": "stderr",
     "output_type": "stream",
     "text": [
      " 61%|██████▏   | 614009/1000000 [3:51:28<2:50:47, 37.67it/s]"
     ]
    },
    {
     "name": "stdout",
     "output_type": "stream",
     "text": [
      "training loss at epoch 614000: 0.14558887481689453\n"
     ]
    },
    {
     "name": "stderr",
     "output_type": "stream",
     "text": [
      " 62%|██████▏   | 615009/1000000 [3:51:51<3:13:05, 33.23it/s]"
     ]
    },
    {
     "name": "stdout",
     "output_type": "stream",
     "text": [
      "training loss at epoch 615000: 0.17116223275661469\n"
     ]
    },
    {
     "name": "stderr",
     "output_type": "stream",
     "text": [
      " 62%|██████▏   | 616009/1000000 [3:52:14<3:00:54, 35.38it/s]"
     ]
    },
    {
     "name": "stdout",
     "output_type": "stream",
     "text": [
      "training loss at epoch 616000: 0.18897221982479095\n"
     ]
    },
    {
     "name": "stderr",
     "output_type": "stream",
     "text": [
      " 62%|██████▏   | 617009/1000000 [3:52:36<2:46:15, 38.39it/s]"
     ]
    },
    {
     "name": "stdout",
     "output_type": "stream",
     "text": [
      "training loss at epoch 617000: 0.17862802743911743\n"
     ]
    },
    {
     "name": "stderr",
     "output_type": "stream",
     "text": [
      " 62%|██████▏   | 618009/1000000 [3:52:59<2:46:17, 38.29it/s]"
     ]
    },
    {
     "name": "stdout",
     "output_type": "stream",
     "text": [
      "training loss at epoch 618000: 0.19016879796981812\n"
     ]
    },
    {
     "name": "stderr",
     "output_type": "stream",
     "text": [
      " 62%|██████▏   | 619008/1000000 [3:53:21<2:43:06, 38.93it/s]"
     ]
    },
    {
     "name": "stdout",
     "output_type": "stream",
     "text": [
      "training loss at epoch 619000: 0.14502766728401184\n"
     ]
    },
    {
     "name": "stderr",
     "output_type": "stream",
     "text": [
      " 62%|██████▏   | 620007/1000000 [3:53:44<3:07:24, 33.79it/s]"
     ]
    },
    {
     "name": "stdout",
     "output_type": "stream",
     "text": [
      "training loss at epoch 620000: 0.1742621809244156\n",
      "for node Q2166120- {'name': 'Corey Glover'} closest are nodes:\n",
      "{'name': 'Corey Glover'}\n",
      "{'name': 'Felt'}\n",
      "{'name': 'The Turtles'}\n",
      "for node Q1738987- {'name': 'Kenny Vance'} closest are nodes:\n",
      "{'name': 'Kenny Vance'}\n",
      "{'name': 'Teengirl Fantasy'}\n",
      "{'name': 'Trauma'}\n",
      "for node Q17513175- {'name': \"Dave's True Story\"} closest are nodes:\n",
      "{'name': \"Dave's True Story\"}\n",
      "{'name': 'Vitreous Humor'}\n",
      "{'name': 'Sweet Smoke'}\n"
     ]
    },
    {
     "name": "stderr",
     "output_type": "stream",
     "text": [
      " 62%|██████▏   | 621009/1000000 [3:54:07<2:44:17, 38.45it/s]"
     ]
    },
    {
     "name": "stdout",
     "output_type": "stream",
     "text": [
      "training loss at epoch 621000: 0.16887521743774414\n"
     ]
    },
    {
     "name": "stderr",
     "output_type": "stream",
     "text": [
      " 62%|██████▏   | 622009/1000000 [3:54:29<2:45:05, 38.16it/s]"
     ]
    },
    {
     "name": "stdout",
     "output_type": "stream",
     "text": [
      "training loss at epoch 622000: 0.15675917267799377\n"
     ]
    },
    {
     "name": "stderr",
     "output_type": "stream",
     "text": [
      " 62%|██████▏   | 623008/1000000 [3:54:52<2:48:03, 37.39it/s]"
     ]
    },
    {
     "name": "stdout",
     "output_type": "stream",
     "text": [
      "training loss at epoch 623000: 0.19993145763874054\n"
     ]
    },
    {
     "name": "stderr",
     "output_type": "stream",
     "text": [
      " 62%|██████▏   | 624008/1000000 [3:55:14<2:51:42, 36.49it/s]"
     ]
    },
    {
     "name": "stdout",
     "output_type": "stream",
     "text": [
      "training loss at epoch 624000: 0.18275322020053864\n"
     ]
    },
    {
     "name": "stderr",
     "output_type": "stream",
     "text": [
      " 63%|██████▎   | 625008/1000000 [3:55:37<2:47:14, 37.37it/s]"
     ]
    },
    {
     "name": "stdout",
     "output_type": "stream",
     "text": [
      "training loss at epoch 625000: 0.16063597798347473\n"
     ]
    },
    {
     "name": "stderr",
     "output_type": "stream",
     "text": [
      " 63%|██████▎   | 626008/1000000 [3:56:00<2:44:56, 37.79it/s]"
     ]
    },
    {
     "name": "stdout",
     "output_type": "stream",
     "text": [
      "training loss at epoch 626000: 0.1770496815443039\n"
     ]
    },
    {
     "name": "stderr",
     "output_type": "stream",
     "text": [
      " 63%|██████▎   | 627008/1000000 [3:56:22<2:44:59, 37.68it/s]"
     ]
    },
    {
     "name": "stdout",
     "output_type": "stream",
     "text": [
      "training loss at epoch 627000: 0.18819531798362732\n"
     ]
    },
    {
     "name": "stderr",
     "output_type": "stream",
     "text": [
      " 63%|██████▎   | 628008/1000000 [3:56:45<2:45:23, 37.49it/s]"
     ]
    },
    {
     "name": "stdout",
     "output_type": "stream",
     "text": [
      "training loss at epoch 628000: 0.16786687076091766\n"
     ]
    },
    {
     "name": "stderr",
     "output_type": "stream",
     "text": [
      " 63%|██████▎   | 629008/1000000 [3:57:07<2:54:49, 35.37it/s]"
     ]
    },
    {
     "name": "stdout",
     "output_type": "stream",
     "text": [
      "training loss at epoch 629000: 0.21772408485412598\n"
     ]
    },
    {
     "name": "stderr",
     "output_type": "stream",
     "text": [
      " 63%|██████▎   | 630007/1000000 [3:57:30<2:51:31, 35.95it/s]"
     ]
    },
    {
     "name": "stdout",
     "output_type": "stream",
     "text": [
      "training loss at epoch 630000: 0.16482888162136078\n",
      "for node Q7786721- {'name': 'Thom Donovan'} closest are nodes:\n",
      "{'name': 'Thom Donovan'}\n",
      "{'name': 'K.G. Garin'}\n",
      "{'name': 'Innaway'}\n",
      "for node Q7559400- {'name': 'Some Girls'} closest are nodes:\n",
      "{'name': 'Some Girls'}\n",
      "{'name': 'Exit-13'}\n",
      "{'name': 'Papa Roach'}\n",
      "for node Q78909864- {'name': \"The Po' Ramblin' Boys\"} closest are nodes:\n",
      "{'name': 'Levon'}\n",
      "{'name': 'The Thompson Brothers Band'}\n",
      "{'name': 'Midland'}\n"
     ]
    },
    {
     "name": "stderr",
     "output_type": "stream",
     "text": [
      " 63%|██████▎   | 631007/1000000 [3:57:53<2:52:53, 35.57it/s]"
     ]
    },
    {
     "name": "stdout",
     "output_type": "stream",
     "text": [
      "training loss at epoch 631000: 0.13693341612815857\n"
     ]
    },
    {
     "name": "stderr",
     "output_type": "stream",
     "text": [
      " 63%|██████▎   | 632009/1000000 [3:58:16<2:51:14, 35.82it/s]"
     ]
    },
    {
     "name": "stdout",
     "output_type": "stream",
     "text": [
      "training loss at epoch 632000: 0.19466345012187958\n"
     ]
    },
    {
     "name": "stderr",
     "output_type": "stream",
     "text": [
      " 63%|██████▎   | 633008/1000000 [3:58:38<2:41:08, 37.96it/s]"
     ]
    },
    {
     "name": "stdout",
     "output_type": "stream",
     "text": [
      "training loss at epoch 633000: 0.1727660894393921\n"
     ]
    },
    {
     "name": "stderr",
     "output_type": "stream",
     "text": [
      " 63%|██████▎   | 634008/1000000 [3:59:01<2:45:21, 36.89it/s]"
     ]
    },
    {
     "name": "stdout",
     "output_type": "stream",
     "text": [
      "training loss at epoch 634000: 0.16436287760734558\n"
     ]
    },
    {
     "name": "stderr",
     "output_type": "stream",
     "text": [
      " 64%|██████▎   | 635006/1000000 [3:59:23<2:47:42, 36.27it/s]"
     ]
    },
    {
     "name": "stdout",
     "output_type": "stream",
     "text": [
      "training loss at epoch 635000: 0.18508189916610718\n"
     ]
    },
    {
     "name": "stderr",
     "output_type": "stream",
     "text": [
      " 64%|██████▎   | 636006/1000000 [3:59:46<2:45:45, 36.60it/s]"
     ]
    },
    {
     "name": "stdout",
     "output_type": "stream",
     "text": [
      "training loss at epoch 636000: 0.1727641075849533\n"
     ]
    },
    {
     "name": "stderr",
     "output_type": "stream",
     "text": [
      " 64%|██████▎   | 637006/1000000 [4:00:09<2:43:46, 36.94it/s]"
     ]
    },
    {
     "name": "stdout",
     "output_type": "stream",
     "text": [
      "training loss at epoch 637000: 0.1811399608850479\n"
     ]
    },
    {
     "name": "stderr",
     "output_type": "stream",
     "text": [
      " 64%|██████▍   | 638006/1000000 [4:00:31<2:52:01, 35.07it/s]"
     ]
    },
    {
     "name": "stdout",
     "output_type": "stream",
     "text": [
      "training loss at epoch 638000: 0.1722027063369751\n"
     ]
    },
    {
     "name": "stderr",
     "output_type": "stream",
     "text": [
      " 64%|██████▍   | 639006/1000000 [4:00:54<2:43:11, 36.87it/s]"
     ]
    },
    {
     "name": "stdout",
     "output_type": "stream",
     "text": [
      "training loss at epoch 639000: 0.18195058405399323\n"
     ]
    },
    {
     "name": "stderr",
     "output_type": "stream",
     "text": [
      " 64%|██████▍   | 640005/1000000 [4:01:17<2:49:19, 35.43it/s]"
     ]
    },
    {
     "name": "stdout",
     "output_type": "stream",
     "text": [
      "training loss at epoch 640000: 0.1617315262556076\n",
      "for node Q5299952- {'name': 'Double X Posse'} closest are nodes:\n",
      "{'name': 'DFC'}\n",
      "{'name': 'Double X Posse'}\n",
      "{'name': \"Quad City DJ's\"}\n",
      "for node Q7194486- {'name': 'Pilotdrift'} closest are nodes:\n",
      "{'name': 'Pilotdrift'}\n",
      "{'name': 'Electric Guest'}\n",
      "{'name': 'Bad Moon Rising'}\n",
      "for node Q7770510- {'name': 'The Trucks'} closest are nodes:\n",
      "{'name': 'The Trucks'}\n",
      "{'name': 'Black Eyes & Neckties'}\n",
      "{'name': 'Scatterbox'}\n"
     ]
    },
    {
     "name": "stderr",
     "output_type": "stream",
     "text": [
      " 64%|██████▍   | 641009/1000000 [4:01:40<2:46:28, 35.94it/s]"
     ]
    },
    {
     "name": "stdout",
     "output_type": "stream",
     "text": [
      "training loss at epoch 641000: 0.1869889348745346\n"
     ]
    },
    {
     "name": "stderr",
     "output_type": "stream",
     "text": [
      " 64%|██████▍   | 642008/1000000 [4:02:02<2:46:29, 35.84it/s]"
     ]
    },
    {
     "name": "stdout",
     "output_type": "stream",
     "text": [
      "training loss at epoch 642000: 0.15168938040733337\n"
     ]
    },
    {
     "name": "stderr",
     "output_type": "stream",
     "text": [
      " 64%|██████▍   | 643008/1000000 [4:02:25<2:38:38, 37.51it/s]"
     ]
    },
    {
     "name": "stdout",
     "output_type": "stream",
     "text": [
      "training loss at epoch 643000: 0.18123085796833038\n"
     ]
    },
    {
     "name": "stderr",
     "output_type": "stream",
     "text": [
      " 64%|██████▍   | 644008/1000000 [4:02:47<2:38:55, 37.33it/s]"
     ]
    },
    {
     "name": "stdout",
     "output_type": "stream",
     "text": [
      "training loss at epoch 644000: 0.15612348914146423\n"
     ]
    },
    {
     "name": "stderr",
     "output_type": "stream",
     "text": [
      " 65%|██████▍   | 645008/1000000 [4:03:10<2:33:19, 38.59it/s]"
     ]
    },
    {
     "name": "stdout",
     "output_type": "stream",
     "text": [
      "training loss at epoch 645000: 0.17383815348148346\n"
     ]
    },
    {
     "name": "stderr",
     "output_type": "stream",
     "text": [
      " 65%|██████▍   | 646008/1000000 [4:03:32<2:37:11, 37.53it/s]"
     ]
    },
    {
     "name": "stdout",
     "output_type": "stream",
     "text": [
      "training loss at epoch 646000: 0.16537576913833618\n"
     ]
    },
    {
     "name": "stderr",
     "output_type": "stream",
     "text": [
      " 65%|██████▍   | 647008/1000000 [4:03:55<2:36:56, 37.49it/s]"
     ]
    },
    {
     "name": "stdout",
     "output_type": "stream",
     "text": [
      "training loss at epoch 647000: 0.19393786787986755\n"
     ]
    },
    {
     "name": "stderr",
     "output_type": "stream",
     "text": [
      " 65%|██████▍   | 648008/1000000 [4:04:17<2:35:53, 37.63it/s]"
     ]
    },
    {
     "name": "stdout",
     "output_type": "stream",
     "text": [
      "training loss at epoch 648000: 0.17004941403865814\n"
     ]
    },
    {
     "name": "stderr",
     "output_type": "stream",
     "text": [
      " 65%|██████▍   | 649007/1000000 [4:04:40<2:38:31, 36.90it/s]"
     ]
    },
    {
     "name": "stdout",
     "output_type": "stream",
     "text": [
      "training loss at epoch 649000: 0.15387997031211853\n"
     ]
    },
    {
     "name": "stderr",
     "output_type": "stream",
     "text": [
      " 65%|██████▌   | 650005/1000000 [4:05:03<2:53:37, 33.60it/s]"
     ]
    },
    {
     "name": "stdout",
     "output_type": "stream",
     "text": [
      "training loss at epoch 650000: 0.19421769678592682\n",
      "for node Q5577795- {'name': 'Going Home'} closest are nodes:\n",
      "{'name': 'Karate High School'}\n",
      "{'name': 'Milemarker'}\n",
      "{'name': 'Pompeii'}\n",
      "for node Q645865- {'name': 'The Headhunters'} closest are nodes:\n",
      "{'name': 'The Headhunters'}\n",
      "{'name': 'The Neville Brothers'}\n",
      "{}\n",
      "for node Q7754544- {'name': 'The Nymphs'} closest are nodes:\n",
      "{'name': 'The Nymphs'}\n",
      "{'name': 'Black Lab'}\n",
      "{'name': 'Junkyard'}\n"
     ]
    },
    {
     "name": "stderr",
     "output_type": "stream",
     "text": [
      " 65%|██████▌   | 651008/1000000 [4:05:25<2:42:18, 35.84it/s]"
     ]
    },
    {
     "name": "stdout",
     "output_type": "stream",
     "text": [
      "training loss at epoch 651000: 0.18750490248203278\n"
     ]
    },
    {
     "name": "stderr",
     "output_type": "stream",
     "text": [
      " 65%|██████▌   | 652007/1000000 [4:05:48<2:33:33, 37.77it/s]"
     ]
    },
    {
     "name": "stdout",
     "output_type": "stream",
     "text": [
      "training loss at epoch 652000: 0.15373475849628448\n"
     ]
    },
    {
     "name": "stderr",
     "output_type": "stream",
     "text": [
      " 65%|██████▌   | 653007/1000000 [4:06:11<2:30:25, 38.45it/s]"
     ]
    },
    {
     "name": "stdout",
     "output_type": "stream",
     "text": [
      "training loss at epoch 653000: 0.1579885631799698\n"
     ]
    },
    {
     "name": "stderr",
     "output_type": "stream",
     "text": [
      " 65%|██████▌   | 654007/1000000 [4:06:33<2:33:00, 37.69it/s]"
     ]
    },
    {
     "name": "stdout",
     "output_type": "stream",
     "text": [
      "training loss at epoch 654000: 0.16435615718364716\n"
     ]
    },
    {
     "name": "stderr",
     "output_type": "stream",
     "text": [
      " 66%|██████▌   | 655007/1000000 [4:06:56<2:33:06, 37.55it/s]"
     ]
    },
    {
     "name": "stdout",
     "output_type": "stream",
     "text": [
      "training loss at epoch 655000: 0.15649423003196716\n"
     ]
    },
    {
     "name": "stderr",
     "output_type": "stream",
     "text": [
      " 66%|██████▌   | 656007/1000000 [4:07:18<2:32:01, 37.71it/s]"
     ]
    },
    {
     "name": "stdout",
     "output_type": "stream",
     "text": [
      "training loss at epoch 656000: 0.18145644664764404\n"
     ]
    },
    {
     "name": "stderr",
     "output_type": "stream",
     "text": [
      " 66%|██████▌   | 657007/1000000 [4:07:41<2:34:42, 36.95it/s]"
     ]
    },
    {
     "name": "stdout",
     "output_type": "stream",
     "text": [
      "training loss at epoch 657000: 0.17846640944480896\n"
     ]
    },
    {
     "name": "stderr",
     "output_type": "stream",
     "text": [
      " 66%|██████▌   | 658007/1000000 [4:08:03<2:35:36, 36.63it/s]"
     ]
    },
    {
     "name": "stdout",
     "output_type": "stream",
     "text": [
      "training loss at epoch 658000: 0.172582745552063\n"
     ]
    },
    {
     "name": "stderr",
     "output_type": "stream",
     "text": [
      " 66%|██████▌   | 659007/1000000 [4:08:26<2:35:39, 36.51it/s]"
     ]
    },
    {
     "name": "stdout",
     "output_type": "stream",
     "text": [
      "training loss at epoch 659000: 0.18359889090061188\n"
     ]
    },
    {
     "name": "stderr",
     "output_type": "stream",
     "text": [
      " 66%|██████▌   | 660009/1000000 [4:08:49<2:29:28, 37.91it/s]"
     ]
    },
    {
     "name": "stdout",
     "output_type": "stream",
     "text": [
      "training loss at epoch 660000: 0.17375826835632324\n",
      "for node Q3906822- {} closest are nodes:\n",
      "{}\n",
      "{}\n",
      "{'name': 'Material'}\n",
      "for node Q700359- {} closest are nodes:\n",
      "{}\n",
      "{}\n",
      "{'name': 'Richard Peter Davis'}\n",
      "for node Q3726825- {'name': 'epic metal'} closest are nodes:\n",
      "{'name': 'epic metal'}\n",
      "{'name': 'traditional heavy metal'}\n",
      "{'name': 'hardcore hip hop'}\n"
     ]
    },
    {
     "name": "stderr",
     "output_type": "stream",
     "text": [
      " 66%|██████▌   | 661008/1000000 [4:09:12<2:36:05, 36.20it/s]"
     ]
    },
    {
     "name": "stdout",
     "output_type": "stream",
     "text": [
      "training loss at epoch 661000: 0.18452979624271393\n"
     ]
    },
    {
     "name": "stderr",
     "output_type": "stream",
     "text": [
      " 66%|██████▌   | 662006/1000000 [4:09:34<2:32:56, 36.83it/s]"
     ]
    },
    {
     "name": "stdout",
     "output_type": "stream",
     "text": [
      "training loss at epoch 662000: 0.18166646361351013\n"
     ]
    },
    {
     "name": "stderr",
     "output_type": "stream",
     "text": [
      " 66%|██████▋   | 663006/1000000 [4:09:57<2:28:35, 37.80it/s]"
     ]
    },
    {
     "name": "stdout",
     "output_type": "stream",
     "text": [
      "training loss at epoch 663000: 0.14794191718101501\n"
     ]
    },
    {
     "name": "stderr",
     "output_type": "stream",
     "text": [
      " 66%|██████▋   | 664006/1000000 [4:10:19<2:28:16, 37.77it/s]"
     ]
    },
    {
     "name": "stdout",
     "output_type": "stream",
     "text": [
      "training loss at epoch 664000: 0.17257864773273468\n"
     ]
    },
    {
     "name": "stderr",
     "output_type": "stream",
     "text": [
      " 67%|██████▋   | 665006/1000000 [4:10:42<2:25:16, 38.43it/s]"
     ]
    },
    {
     "name": "stdout",
     "output_type": "stream",
     "text": [
      "training loss at epoch 665000: 0.18379254639148712\n"
     ]
    },
    {
     "name": "stderr",
     "output_type": "stream",
     "text": [
      " 67%|██████▋   | 666006/1000000 [4:11:04<2:26:34, 37.98it/s]"
     ]
    },
    {
     "name": "stdout",
     "output_type": "stream",
     "text": [
      "training loss at epoch 666000: 0.15328796207904816\n"
     ]
    },
    {
     "name": "stderr",
     "output_type": "stream",
     "text": [
      " 67%|██████▋   | 667006/1000000 [4:11:27<2:30:58, 36.76it/s]"
     ]
    },
    {
     "name": "stdout",
     "output_type": "stream",
     "text": [
      "training loss at epoch 667000: 0.17355112731456757\n"
     ]
    },
    {
     "name": "stderr",
     "output_type": "stream",
     "text": [
      " 67%|██████▋   | 668009/1000000 [4:11:49<2:23:15, 38.62it/s]"
     ]
    },
    {
     "name": "stdout",
     "output_type": "stream",
     "text": [
      "training loss at epoch 668000: 0.14880266785621643\n"
     ]
    },
    {
     "name": "stderr",
     "output_type": "stream",
     "text": [
      " 67%|██████▋   | 669009/1000000 [4:12:12<2:24:24, 38.20it/s]"
     ]
    },
    {
     "name": "stdout",
     "output_type": "stream",
     "text": [
      "training loss at epoch 669000: 0.18658627569675446\n"
     ]
    },
    {
     "name": "stderr",
     "output_type": "stream",
     "text": [
      " 67%|██████▋   | 670009/1000000 [4:12:34<2:35:47, 35.30it/s]"
     ]
    },
    {
     "name": "stdout",
     "output_type": "stream",
     "text": [
      "training loss at epoch 670000: 0.18633273243904114\n",
      "for node Q7727426- {'name': 'The Constellations'} closest are nodes:\n",
      "{'name': 'The Roches'}\n",
      "{'name': 'The Constellations'}\n",
      "{'name': 'Spice 1'}\n",
      "for node Q18163676- {'name': 'Seahaven'} closest are nodes:\n",
      "{'name': 'Cloakroom'}\n",
      "{'name': 'Seahaven'}\n",
      "{'name': 'Adventures'}\n",
      "for node Q69975967- {'name': 'Jeanette Jacobs'} closest are nodes:\n",
      "{'name': 'Barbara Morillo'}\n",
      "{'name': 'Jeanette Jacobs'}\n",
      "{'name': 'Eleanor Barooshian'}\n"
     ]
    },
    {
     "name": "stderr",
     "output_type": "stream",
     "text": [
      " 67%|██████▋   | 671007/1000000 [4:12:57<2:32:53, 35.86it/s]"
     ]
    },
    {
     "name": "stdout",
     "output_type": "stream",
     "text": [
      "training loss at epoch 671000: 0.19013860821723938\n"
     ]
    },
    {
     "name": "stderr",
     "output_type": "stream",
     "text": [
      " 67%|██████▋   | 672006/1000000 [4:13:20<2:25:14, 37.64it/s]"
     ]
    },
    {
     "name": "stdout",
     "output_type": "stream",
     "text": [
      "training loss at epoch 672000: 0.16095110774040222\n"
     ]
    },
    {
     "name": "stderr",
     "output_type": "stream",
     "text": [
      " 67%|██████▋   | 673006/1000000 [4:13:43<2:32:38, 35.70it/s]"
     ]
    },
    {
     "name": "stdout",
     "output_type": "stream",
     "text": [
      "training loss at epoch 673000: 0.1713862121105194\n"
     ]
    },
    {
     "name": "stderr",
     "output_type": "stream",
     "text": [
      " 67%|██████▋   | 674006/1000000 [4:14:06<2:22:52, 38.03it/s]"
     ]
    },
    {
     "name": "stdout",
     "output_type": "stream",
     "text": [
      "training loss at epoch 674000: 0.19119206070899963\n"
     ]
    },
    {
     "name": "stderr",
     "output_type": "stream",
     "text": [
      " 68%|██████▊   | 675006/1000000 [4:14:28<2:32:09, 35.60it/s]"
     ]
    },
    {
     "name": "stdout",
     "output_type": "stream",
     "text": [
      "training loss at epoch 675000: 0.16421259939670563\n"
     ]
    },
    {
     "name": "stderr",
     "output_type": "stream",
     "text": [
      " 68%|██████▊   | 676005/1000000 [4:14:51<2:32:10, 35.48it/s]"
     ]
    },
    {
     "name": "stdout",
     "output_type": "stream",
     "text": [
      "training loss at epoch 676000: 0.16785003244876862\n"
     ]
    },
    {
     "name": "stderr",
     "output_type": "stream",
     "text": [
      " 68%|██████▊   | 677010/1000000 [4:15:13<2:41:34, 33.32it/s]"
     ]
    },
    {
     "name": "stdout",
     "output_type": "stream",
     "text": [
      "training loss at epoch 677000: 0.17106138169765472\n"
     ]
    },
    {
     "name": "stderr",
     "output_type": "stream",
     "text": [
      " 68%|██████▊   | 678010/1000000 [4:15:36<2:24:36, 37.11it/s]"
     ]
    },
    {
     "name": "stdout",
     "output_type": "stream",
     "text": [
      "training loss at epoch 678000: 0.1615603268146515\n"
     ]
    },
    {
     "name": "stderr",
     "output_type": "stream",
     "text": [
      " 68%|██████▊   | 679010/1000000 [4:15:58<2:20:46, 38.00it/s]"
     ]
    },
    {
     "name": "stdout",
     "output_type": "stream",
     "text": [
      "training loss at epoch 679000: 0.16449132561683655\n"
     ]
    },
    {
     "name": "stderr",
     "output_type": "stream",
     "text": [
      " 68%|██████▊   | 680005/1000000 [4:16:21<2:36:31, 34.07it/s]"
     ]
    },
    {
     "name": "stdout",
     "output_type": "stream",
     "text": [
      "training loss at epoch 680000: 0.1839626431465149\n",
      "for node Q7763279- {'name': 'The Semantics'} closest are nodes:\n",
      "{'name': 'The Semantics'}\n",
      "{'name': 'Vomitchapel'}\n",
      "{'name': 'Jay and the Americans'}\n",
      "for node Q7759478- {'name': 'The Rats'} closest are nodes:\n",
      "{'name': 'The Rats'}\n",
      "{'name': 'The Range Rats'}\n",
      "{'name': 'Dead Moon'}\n",
      "for node Q448193- {'name': 'Sadie Benning'} closest are nodes:\n",
      "{'name': 'Sadie Benning'}\n",
      "{'name': 'Johanna Fateman'}\n",
      "{'name': 'Storm & Stress'}\n"
     ]
    },
    {
     "name": "stderr",
     "output_type": "stream",
     "text": [
      " 68%|██████▊   | 681010/1000000 [4:16:43<2:20:19, 37.89it/s]"
     ]
    },
    {
     "name": "stdout",
     "output_type": "stream",
     "text": [
      "training loss at epoch 681000: 0.16196519136428833\n"
     ]
    },
    {
     "name": "stderr",
     "output_type": "stream",
     "text": [
      " 68%|██████▊   | 682008/1000000 [4:17:06<2:27:59, 35.81it/s]"
     ]
    },
    {
     "name": "stdout",
     "output_type": "stream",
     "text": [
      "training loss at epoch 682000: 0.1579841822385788\n"
     ]
    },
    {
     "name": "stderr",
     "output_type": "stream",
     "text": [
      " 68%|██████▊   | 683008/1000000 [4:17:28<2:17:19, 38.47it/s]"
     ]
    },
    {
     "name": "stdout",
     "output_type": "stream",
     "text": [
      "training loss at epoch 683000: 0.14328308403491974\n"
     ]
    },
    {
     "name": "stderr",
     "output_type": "stream",
     "text": [
      " 68%|██████▊   | 684008/1000000 [4:17:51<2:29:58, 35.12it/s]"
     ]
    },
    {
     "name": "stdout",
     "output_type": "stream",
     "text": [
      "training loss at epoch 684000: 0.16190561652183533\n"
     ]
    },
    {
     "name": "stderr",
     "output_type": "stream",
     "text": [
      " 69%|██████▊   | 685007/1000000 [4:18:14<2:16:18, 38.51it/s]"
     ]
    },
    {
     "name": "stdout",
     "output_type": "stream",
     "text": [
      "training loss at epoch 685000: 0.1467043161392212\n"
     ]
    },
    {
     "name": "stderr",
     "output_type": "stream",
     "text": [
      " 69%|██████▊   | 686006/1000000 [4:18:36<2:24:59, 36.09it/s]"
     ]
    },
    {
     "name": "stdout",
     "output_type": "stream",
     "text": [
      "training loss at epoch 686000: 0.13532131910324097\n"
     ]
    },
    {
     "name": "stderr",
     "output_type": "stream",
     "text": [
      " 69%|██████▊   | 687006/1000000 [4:18:59<2:18:24, 37.69it/s]"
     ]
    },
    {
     "name": "stdout",
     "output_type": "stream",
     "text": [
      "training loss at epoch 687000: 0.14333708584308624\n"
     ]
    },
    {
     "name": "stderr",
     "output_type": "stream",
     "text": [
      " 69%|██████▉   | 688006/1000000 [4:19:21<2:19:30, 37.27it/s]"
     ]
    },
    {
     "name": "stdout",
     "output_type": "stream",
     "text": [
      "training loss at epoch 688000: 0.14796702563762665\n"
     ]
    },
    {
     "name": "stderr",
     "output_type": "stream",
     "text": [
      " 69%|██████▉   | 689006/1000000 [4:19:44<2:14:32, 38.52it/s]"
     ]
    },
    {
     "name": "stdout",
     "output_type": "stream",
     "text": [
      "training loss at epoch 689000: 0.1948070377111435\n"
     ]
    },
    {
     "name": "stderr",
     "output_type": "stream",
     "text": [
      " 69%|██████▉   | 690006/1000000 [4:20:07<2:30:57, 34.22it/s]"
     ]
    },
    {
     "name": "stdout",
     "output_type": "stream",
     "text": [
      "training loss at epoch 690000: 0.15519459545612335\n",
      "for node Q6254588- {'name': 'John Reis'} closest are nodes:\n",
      "{'name': 'John Reis'}\n",
      "{'name': 'Brian Fair'}\n",
      "{'name': 'Todd Fink'}\n",
      "for node Q587919- {'name': 'Phil Demmel'} closest are nodes:\n",
      "{'name': 'Phil Demmel'}\n",
      "{'name': 'Chris Kontos'}\n",
      "{'name': 'Robb Flynn'}\n",
      "for node Q7756065- {'name': 'The Paradons'} closest are nodes:\n",
      "{'name': 'The Paradons'}\n",
      "{'name': 'The Platters'}\n",
      "{'name': 'Rosie & The Originals'}\n"
     ]
    },
    {
     "name": "stderr",
     "output_type": "stream",
     "text": [
      " 69%|██████▉   | 691009/1000000 [4:20:30<2:14:28, 38.29it/s]"
     ]
    },
    {
     "name": "stdout",
     "output_type": "stream",
     "text": [
      "training loss at epoch 691000: 0.14546501636505127\n"
     ]
    },
    {
     "name": "stderr",
     "output_type": "stream",
     "text": [
      " 69%|██████▉   | 692009/1000000 [4:20:52<2:15:07, 37.99it/s]"
     ]
    },
    {
     "name": "stdout",
     "output_type": "stream",
     "text": [
      "training loss at epoch 692000: 0.1428772509098053\n"
     ]
    },
    {
     "name": "stderr",
     "output_type": "stream",
     "text": [
      " 69%|██████▉   | 693008/1000000 [4:21:15<2:22:32, 35.90it/s]"
     ]
    },
    {
     "name": "stdout",
     "output_type": "stream",
     "text": [
      "training loss at epoch 693000: 0.15292905271053314\n"
     ]
    },
    {
     "name": "stderr",
     "output_type": "stream",
     "text": [
      " 69%|██████▉   | 694008/1000000 [4:21:37<2:15:44, 37.57it/s]"
     ]
    },
    {
     "name": "stdout",
     "output_type": "stream",
     "text": [
      "training loss at epoch 694000: 0.14465740323066711\n"
     ]
    },
    {
     "name": "stderr",
     "output_type": "stream",
     "text": [
      " 70%|██████▉   | 695008/1000000 [4:22:00<2:15:05, 37.63it/s]"
     ]
    },
    {
     "name": "stdout",
     "output_type": "stream",
     "text": [
      "training loss at epoch 695000: 0.1587171107530594\n"
     ]
    },
    {
     "name": "stderr",
     "output_type": "stream",
     "text": [
      " 70%|██████▉   | 696008/1000000 [4:22:23<2:15:29, 37.39it/s]"
     ]
    },
    {
     "name": "stdout",
     "output_type": "stream",
     "text": [
      "training loss at epoch 696000: 0.16911250352859497\n"
     ]
    },
    {
     "name": "stderr",
     "output_type": "stream",
     "text": [
      " 70%|██████▉   | 697008/1000000 [4:22:45<2:20:03, 36.06it/s]"
     ]
    },
    {
     "name": "stdout",
     "output_type": "stream",
     "text": [
      "training loss at epoch 697000: 0.19760292768478394\n"
     ]
    },
    {
     "name": "stderr",
     "output_type": "stream",
     "text": [
      " 70%|██████▉   | 698008/1000000 [4:23:08<2:11:40, 38.22it/s]"
     ]
    },
    {
     "name": "stdout",
     "output_type": "stream",
     "text": [
      "training loss at epoch 698000: 0.16075201332569122\n"
     ]
    },
    {
     "name": "stderr",
     "output_type": "stream",
     "text": [
      " 70%|██████▉   | 699008/1000000 [4:23:31<2:15:38, 36.98it/s]"
     ]
    },
    {
     "name": "stdout",
     "output_type": "stream",
     "text": [
      "training loss at epoch 699000: 0.17131131887435913\n"
     ]
    },
    {
     "name": "stderr",
     "output_type": "stream",
     "text": [
      " 70%|███████   | 700008/1000000 [4:23:53<2:11:05, 38.14it/s]"
     ]
    },
    {
     "name": "stdout",
     "output_type": "stream",
     "text": [
      "training loss at epoch 700000: 0.1601998656988144\n",
      "for node Q378491- {'name': 'Player'} closest are nodes:\n",
      "{'name': 'Player'}\n",
      "{'name': 'Apollonia 6'}\n",
      "{'name': 'Pop Evil'}\n",
      "for node Q8034303- {} closest are nodes:\n",
      "{}\n",
      "{}\n",
      "{}\n",
      "for node Q7005416- {'name': 'New Bad Things'} closest are nodes:\n",
      "{'name': 'New Bad Things'}\n",
      "{'name': 'experimental music'}\n",
      "{'name': 'country music'}\n"
     ]
    },
    {
     "name": "stderr",
     "output_type": "stream",
     "text": [
      " 70%|███████   | 701008/1000000 [4:24:16<2:08:08, 38.89it/s]"
     ]
    },
    {
     "name": "stdout",
     "output_type": "stream",
     "text": [
      "training loss at epoch 701000: 0.18810001015663147\n"
     ]
    },
    {
     "name": "stderr",
     "output_type": "stream",
     "text": [
      " 70%|███████   | 702008/1000000 [4:24:39<2:09:56, 38.22it/s]"
     ]
    },
    {
     "name": "stdout",
     "output_type": "stream",
     "text": [
      "training loss at epoch 702000: 0.1649012267589569\n"
     ]
    },
    {
     "name": "stderr",
     "output_type": "stream",
     "text": [
      " 70%|███████   | 703008/1000000 [4:25:01<2:13:02, 37.20it/s]"
     ]
    },
    {
     "name": "stdout",
     "output_type": "stream",
     "text": [
      "training loss at epoch 703000: 0.16650433838367462\n"
     ]
    },
    {
     "name": "stderr",
     "output_type": "stream",
     "text": [
      " 70%|███████   | 704008/1000000 [4:25:24<2:07:40, 38.64it/s]"
     ]
    },
    {
     "name": "stdout",
     "output_type": "stream",
     "text": [
      "training loss at epoch 704000: 0.16641540825366974\n"
     ]
    },
    {
     "name": "stderr",
     "output_type": "stream",
     "text": [
      " 71%|███████   | 705008/1000000 [4:25:47<2:10:43, 37.61it/s]"
     ]
    },
    {
     "name": "stdout",
     "output_type": "stream",
     "text": [
      "training loss at epoch 705000: 0.13579824566841125\n"
     ]
    },
    {
     "name": "stderr",
     "output_type": "stream",
     "text": [
      " 71%|███████   | 706008/1000000 [4:26:09<2:08:14, 38.21it/s]"
     ]
    },
    {
     "name": "stdout",
     "output_type": "stream",
     "text": [
      "training loss at epoch 706000: 0.14371003210544586\n"
     ]
    },
    {
     "name": "stderr",
     "output_type": "stream",
     "text": [
      " 71%|███████   | 707008/1000000 [4:26:32<2:12:22, 36.89it/s]"
     ]
    },
    {
     "name": "stdout",
     "output_type": "stream",
     "text": [
      "training loss at epoch 707000: 0.18327410519123077\n"
     ]
    },
    {
     "name": "stderr",
     "output_type": "stream",
     "text": [
      " 71%|███████   | 708007/1000000 [4:26:55<2:21:47, 34.32it/s]"
     ]
    },
    {
     "name": "stdout",
     "output_type": "stream",
     "text": [
      "training loss at epoch 708000: 0.1976928859949112\n"
     ]
    },
    {
     "name": "stderr",
     "output_type": "stream",
     "text": [
      " 71%|███████   | 709010/1000000 [4:27:17<2:05:33, 38.62it/s]"
     ]
    },
    {
     "name": "stdout",
     "output_type": "stream",
     "text": [
      "training loss at epoch 709000: 0.1780977100133896\n"
     ]
    },
    {
     "name": "stderr",
     "output_type": "stream",
     "text": [
      " 71%|███████   | 710005/1000000 [4:27:40<2:30:17, 32.16it/s]"
     ]
    },
    {
     "name": "stdout",
     "output_type": "stream",
     "text": [
      "training loss at epoch 710000: 0.16022264957427979\n",
      "for node Q540283- {'name': 'John Taylor'} closest are nodes:\n",
      "{'name': 'Robert Palmer'}\n",
      "{'name': 'Tony Thompson'}\n",
      "{'name': 'Andy Taylor'}\n",
      "for node Q4770198- {'name': 'Anotha Level'} closest are nodes:\n",
      "{'name': '5th Ward Boyz'}\n",
      "{'name': 'Low Profile'}\n",
      "{'name': 'Reparata and the Delrons'}\n",
      "for node Q474495- {'name': 'Ampere'} closest are nodes:\n",
      "{'name': 'Ampere'}\n",
      "{'name': 'Portraits of Past'}\n",
      "{'name': 'Look Back and Laugh'}\n"
     ]
    },
    {
     "name": "stderr",
     "output_type": "stream",
     "text": [
      " 71%|███████   | 711010/1000000 [4:28:03<2:11:50, 36.53it/s]"
     ]
    },
    {
     "name": "stdout",
     "output_type": "stream",
     "text": [
      "training loss at epoch 711000: 0.15784364938735962\n"
     ]
    },
    {
     "name": "stderr",
     "output_type": "stream",
     "text": [
      " 71%|███████   | 712010/1000000 [4:28:25<2:03:51, 38.75it/s]"
     ]
    },
    {
     "name": "stdout",
     "output_type": "stream",
     "text": [
      "training loss at epoch 712000: 0.16520807147026062\n"
     ]
    },
    {
     "name": "stderr",
     "output_type": "stream",
     "text": [
      " 71%|███████▏  | 713010/1000000 [4:28:48<2:02:33, 39.03it/s]"
     ]
    },
    {
     "name": "stdout",
     "output_type": "stream",
     "text": [
      "training loss at epoch 713000: 0.15715283155441284\n"
     ]
    },
    {
     "name": "stderr",
     "output_type": "stream",
     "text": [
      " 71%|███████▏  | 714010/1000000 [4:29:10<2:05:08, 38.09it/s]"
     ]
    },
    {
     "name": "stdout",
     "output_type": "stream",
     "text": [
      "training loss at epoch 714000: 0.1850367933511734\n"
     ]
    },
    {
     "name": "stderr",
     "output_type": "stream",
     "text": [
      " 72%|███████▏  | 715010/1000000 [4:29:33<2:07:30, 37.25it/s]"
     ]
    },
    {
     "name": "stdout",
     "output_type": "stream",
     "text": [
      "training loss at epoch 715000: 0.14922940731048584\n"
     ]
    },
    {
     "name": "stderr",
     "output_type": "stream",
     "text": [
      " 72%|███████▏  | 716009/1000000 [4:29:55<2:04:20, 38.07it/s]"
     ]
    },
    {
     "name": "stdout",
     "output_type": "stream",
     "text": [
      "training loss at epoch 716000: 0.17529481649398804\n"
     ]
    },
    {
     "name": "stderr",
     "output_type": "stream",
     "text": [
      " 72%|███████▏  | 717009/1000000 [4:30:18<2:03:38, 38.15it/s]"
     ]
    },
    {
     "name": "stdout",
     "output_type": "stream",
     "text": [
      "training loss at epoch 717000: 0.1695728898048401\n"
     ]
    },
    {
     "name": "stderr",
     "output_type": "stream",
     "text": [
      " 72%|███████▏  | 718009/1000000 [4:30:41<2:02:45, 38.29it/s]"
     ]
    },
    {
     "name": "stdout",
     "output_type": "stream",
     "text": [
      "training loss at epoch 718000: 0.14790818095207214\n"
     ]
    },
    {
     "name": "stderr",
     "output_type": "stream",
     "text": [
      " 72%|███████▏  | 719009/1000000 [4:31:03<2:03:18, 37.98it/s]"
     ]
    },
    {
     "name": "stdout",
     "output_type": "stream",
     "text": [
      "training loss at epoch 719000: 0.1507827490568161\n"
     ]
    },
    {
     "name": "stderr",
     "output_type": "stream",
     "text": [
      " 72%|███████▏  | 720009/1000000 [4:31:26<2:05:47, 37.10it/s]"
     ]
    },
    {
     "name": "stdout",
     "output_type": "stream",
     "text": [
      "training loss at epoch 720000: 0.17931385338306427\n",
      "for node Q2094256- {'name': 'Luna'} closest are nodes:\n",
      "{'name': 'Luna'}\n",
      "{}\n",
      "{'name': 'California Breed'}\n",
      "for node Q7720615- {'name': 'The Bunny the Bear'} closest are nodes:\n",
      "{'name': 'Driver Side Impact'}\n",
      "{'name': 'Chase Long Beach'}\n",
      "{'name': 'The Bunny the Bear'}\n",
      "for node Q237922- {'name': 'Brody Dalle'} closest are nodes:\n",
      "{'name': 'Ryan Sinn'}\n",
      "{'name': 'Brody Dalle'}\n",
      "{'name': 'Tony Bevilacqua'}\n"
     ]
    },
    {
     "name": "stderr",
     "output_type": "stream",
     "text": [
      " 72%|███████▏  | 721009/1000000 [4:31:49<2:05:44, 36.98it/s]"
     ]
    },
    {
     "name": "stdout",
     "output_type": "stream",
     "text": [
      "training loss at epoch 721000: 0.14838483929634094\n"
     ]
    },
    {
     "name": "stderr",
     "output_type": "stream",
     "text": [
      " 72%|███████▏  | 722009/1000000 [4:32:11<2:10:38, 35.47it/s]"
     ]
    },
    {
     "name": "stdout",
     "output_type": "stream",
     "text": [
      "training loss at epoch 722000: 0.16591916978359222\n"
     ]
    },
    {
     "name": "stderr",
     "output_type": "stream",
     "text": [
      " 72%|███████▏  | 723009/1000000 [4:32:33<2:00:48, 38.21it/s]"
     ]
    },
    {
     "name": "stdout",
     "output_type": "stream",
     "text": [
      "training loss at epoch 723000: 0.19167345762252808\n"
     ]
    },
    {
     "name": "stderr",
     "output_type": "stream",
     "text": [
      " 72%|███████▏  | 724009/1000000 [4:32:56<2:00:11, 38.27it/s]"
     ]
    },
    {
     "name": "stdout",
     "output_type": "stream",
     "text": [
      "training loss at epoch 724000: 0.12154847383499146\n"
     ]
    },
    {
     "name": "stderr",
     "output_type": "stream",
     "text": [
      " 73%|███████▎  | 725009/1000000 [4:33:19<2:09:53, 35.28it/s]"
     ]
    },
    {
     "name": "stdout",
     "output_type": "stream",
     "text": [
      "training loss at epoch 725000: 0.18562203645706177\n"
     ]
    },
    {
     "name": "stderr",
     "output_type": "stream",
     "text": [
      " 73%|███████▎  | 726009/1000000 [4:33:41<2:02:15, 37.35it/s]"
     ]
    },
    {
     "name": "stdout",
     "output_type": "stream",
     "text": [
      "training loss at epoch 726000: 0.1343051791191101\n"
     ]
    },
    {
     "name": "stderr",
     "output_type": "stream",
     "text": [
      " 73%|███████▎  | 727006/1000000 [4:34:04<2:02:03, 37.28it/s]"
     ]
    },
    {
     "name": "stdout",
     "output_type": "stream",
     "text": [
      "training loss at epoch 727000: 0.14525958895683289\n"
     ]
    },
    {
     "name": "stderr",
     "output_type": "stream",
     "text": [
      " 73%|███████▎  | 728006/1000000 [4:34:27<1:56:24, 38.94it/s]"
     ]
    },
    {
     "name": "stdout",
     "output_type": "stream",
     "text": [
      "training loss at epoch 728000: 0.2007148265838623\n"
     ]
    },
    {
     "name": "stderr",
     "output_type": "stream",
     "text": [
      " 73%|███████▎  | 729005/1000000 [4:34:49<2:08:41, 35.10it/s]"
     ]
    },
    {
     "name": "stdout",
     "output_type": "stream",
     "text": [
      "training loss at epoch 729000: 0.17912916839122772\n"
     ]
    },
    {
     "name": "stderr",
     "output_type": "stream",
     "text": [
      " 73%|███████▎  | 730008/1000000 [4:35:12<2:08:09, 35.11it/s]"
     ]
    },
    {
     "name": "stdout",
     "output_type": "stream",
     "text": [
      "training loss at epoch 730000: 0.18434756994247437\n",
      "for node Q7847554- {'name': 'True Widow'} closest are nodes:\n",
      "{'name': 'This Providence'}\n",
      "{'name': 'King Woman'}\n",
      "{}\n",
      "for node Q260649- {'name': 'Edie Brickell'} closest are nodes:\n",
      "{'name': 'Edie Brickell'}\n",
      "{'name': 'Michael Beinhorn'}\n",
      "{'name': 'East to West'}\n",
      "for node Q709640- {'name': 'Paul Wall'} closest are nodes:\n",
      "{'name': 'Paul Wall'}\n",
      "{'name': 'City Girls'}\n",
      "{'name': 'Devour the Day'}\n"
     ]
    },
    {
     "name": "stderr",
     "output_type": "stream",
     "text": [
      " 73%|███████▎  | 731006/1000000 [4:35:35<1:57:39, 38.10it/s]"
     ]
    },
    {
     "name": "stdout",
     "output_type": "stream",
     "text": [
      "training loss at epoch 731000: 0.15588776767253876\n"
     ]
    },
    {
     "name": "stderr",
     "output_type": "stream",
     "text": [
      " 73%|███████▎  | 732009/1000000 [4:35:58<2:00:32, 37.05it/s]"
     ]
    },
    {
     "name": "stdout",
     "output_type": "stream",
     "text": [
      "training loss at epoch 732000: 0.15359292924404144\n"
     ]
    },
    {
     "name": "stderr",
     "output_type": "stream",
     "text": [
      " 73%|███████▎  | 733009/1000000 [4:36:20<1:55:57, 38.37it/s]"
     ]
    },
    {
     "name": "stdout",
     "output_type": "stream",
     "text": [
      "training loss at epoch 733000: 0.1627475768327713\n"
     ]
    },
    {
     "name": "stderr",
     "output_type": "stream",
     "text": [
      " 73%|███████▎  | 734009/1000000 [4:36:43<2:04:00, 35.75it/s]"
     ]
    },
    {
     "name": "stdout",
     "output_type": "stream",
     "text": [
      "training loss at epoch 734000: 0.19276782870292664\n"
     ]
    },
    {
     "name": "stderr",
     "output_type": "stream",
     "text": [
      " 74%|███████▎  | 735009/1000000 [4:37:06<1:59:08, 37.07it/s]"
     ]
    },
    {
     "name": "stdout",
     "output_type": "stream",
     "text": [
      "training loss at epoch 735000: 0.1873600333929062\n"
     ]
    },
    {
     "name": "stderr",
     "output_type": "stream",
     "text": [
      " 74%|███████▎  | 736009/1000000 [4:37:28<2:03:11, 35.71it/s]"
     ]
    },
    {
     "name": "stdout",
     "output_type": "stream",
     "text": [
      "training loss at epoch 736000: 0.15880249440670013\n"
     ]
    },
    {
     "name": "stderr",
     "output_type": "stream",
     "text": [
      " 74%|███████▎  | 737009/1000000 [4:37:51<1:56:26, 37.64it/s]"
     ]
    },
    {
     "name": "stdout",
     "output_type": "stream",
     "text": [
      "training loss at epoch 737000: 0.13332754373550415\n"
     ]
    },
    {
     "name": "stderr",
     "output_type": "stream",
     "text": [
      " 74%|███████▍  | 738009/1000000 [4:38:13<2:02:12, 35.73it/s]"
     ]
    },
    {
     "name": "stdout",
     "output_type": "stream",
     "text": [
      "training loss at epoch 738000: 0.18415701389312744\n"
     ]
    },
    {
     "name": "stderr",
     "output_type": "stream",
     "text": [
      " 74%|███████▍  | 739007/1000000 [4:38:36<1:56:55, 37.20it/s]"
     ]
    },
    {
     "name": "stdout",
     "output_type": "stream",
     "text": [
      "training loss at epoch 739000: 0.16736964881420135\n"
     ]
    },
    {
     "name": "stderr",
     "output_type": "stream",
     "text": [
      " 74%|███████▍  | 740007/1000000 [4:38:58<1:55:32, 37.50it/s]"
     ]
    },
    {
     "name": "stdout",
     "output_type": "stream",
     "text": [
      "training loss at epoch 740000: 0.16639624536037445\n",
      "for node Q6211809- {'name': 'Joe Pisapia'} closest are nodes:\n",
      "{'name': 'Joe Pisapia'}\n",
      "{'name': 'Enon'}\n",
      "{'name': 'DeVante Swing'}\n",
      "for node Q2414335- {'name': 'Sons of the Pioneers'} closest are nodes:\n",
      "{'name': 'Sons of the Pioneers'}\n",
      "{'name': 'Jade Puget'}\n",
      "{'name': 'Sea Wolf'}\n",
      "for node Q63224869- {'name': 'Gen-XX'} closest are nodes:\n",
      "{'name': 'Eric Griffin'}\n",
      "{'name': 'Gen-XX'}\n",
      "{'name': 'Gwar'}\n"
     ]
    },
    {
     "name": "stderr",
     "output_type": "stream",
     "text": [
      " 74%|███████▍  | 741007/1000000 [4:39:21<2:03:52, 34.85it/s]"
     ]
    },
    {
     "name": "stdout",
     "output_type": "stream",
     "text": [
      "training loss at epoch 741000: 0.1532607525587082\n"
     ]
    },
    {
     "name": "stderr",
     "output_type": "stream",
     "text": [
      " 74%|███████▍  | 742007/1000000 [4:39:43<1:55:00, 37.39it/s]"
     ]
    },
    {
     "name": "stdout",
     "output_type": "stream",
     "text": [
      "training loss at epoch 742000: 0.17749251425266266\n"
     ]
    },
    {
     "name": "stderr",
     "output_type": "stream",
     "text": [
      " 74%|███████▍  | 743007/1000000 [4:40:06<1:53:26, 37.76it/s]"
     ]
    },
    {
     "name": "stdout",
     "output_type": "stream",
     "text": [
      "training loss at epoch 743000: 0.16913631558418274\n"
     ]
    },
    {
     "name": "stderr",
     "output_type": "stream",
     "text": [
      " 74%|███████▍  | 744007/1000000 [4:40:28<1:55:58, 36.79it/s]"
     ]
    },
    {
     "name": "stdout",
     "output_type": "stream",
     "text": [
      "training loss at epoch 744000: 0.1449841856956482\n"
     ]
    },
    {
     "name": "stderr",
     "output_type": "stream",
     "text": [
      " 75%|███████▍  | 745007/1000000 [4:40:51<1:56:55, 36.35it/s]"
     ]
    },
    {
     "name": "stdout",
     "output_type": "stream",
     "text": [
      "training loss at epoch 745000: 0.13183532655239105\n"
     ]
    },
    {
     "name": "stderr",
     "output_type": "stream",
     "text": [
      " 75%|███████▍  | 746007/1000000 [4:41:14<1:50:14, 38.40it/s]"
     ]
    },
    {
     "name": "stdout",
     "output_type": "stream",
     "text": [
      "training loss at epoch 746000: 0.16753774881362915\n"
     ]
    },
    {
     "name": "stderr",
     "output_type": "stream",
     "text": [
      " 75%|███████▍  | 747007/1000000 [4:41:37<1:49:38, 38.46it/s]"
     ]
    },
    {
     "name": "stdout",
     "output_type": "stream",
     "text": [
      "training loss at epoch 747000: 0.16579826176166534\n"
     ]
    },
    {
     "name": "stderr",
     "output_type": "stream",
     "text": [
      " 75%|███████▍  | 748007/1000000 [4:41:59<1:54:07, 36.80it/s]"
     ]
    },
    {
     "name": "stdout",
     "output_type": "stream",
     "text": [
      "training loss at epoch 748000: 0.14765574038028717\n"
     ]
    },
    {
     "name": "stderr",
     "output_type": "stream",
     "text": [
      " 75%|███████▍  | 749006/1000000 [4:42:22<2:00:00, 34.86it/s]"
     ]
    },
    {
     "name": "stdout",
     "output_type": "stream",
     "text": [
      "training loss at epoch 749000: 0.12621009349822998\n"
     ]
    },
    {
     "name": "stderr",
     "output_type": "stream",
     "text": [
      " 75%|███████▌  | 750005/1000000 [4:42:45<2:02:12, 34.10it/s]"
     ]
    },
    {
     "name": "stdout",
     "output_type": "stream",
     "text": [
      "training loss at epoch 750000: 0.1880757063627243\n",
      "for node Q26927744- {'name': 'George Hirsch'} closest are nodes:\n",
      "{'name': 'George Hirsch'}\n",
      "{'name': 'Vitapup'}\n",
      "{'name': 'The Chelsea Smiles'}\n",
      "for node Q615186- {'name': 'The Chantels'} closest are nodes:\n",
      "{'name': 'The Chantels'}\n",
      "{'name': 'Ruby & the Romantics'}\n",
      "{'name': 'Ruben and the Jets'}\n",
      "for node Q3391213- {'name': 'The Mercury Program'} closest are nodes:\n",
      "{'name': 'The Mercury Program'}\n",
      "{'name': 'Tortoise'}\n",
      "{'name': 'Pop Evil'}\n"
     ]
    },
    {
     "name": "stderr",
     "output_type": "stream",
     "text": [
      " 75%|███████▌  | 751008/1000000 [4:43:07<1:50:06, 37.69it/s]"
     ]
    },
    {
     "name": "stdout",
     "output_type": "stream",
     "text": [
      "training loss at epoch 751000: 0.1605667769908905\n"
     ]
    },
    {
     "name": "stderr",
     "output_type": "stream",
     "text": [
      " 75%|███████▌  | 752008/1000000 [4:43:30<1:53:50, 36.31it/s]"
     ]
    },
    {
     "name": "stdout",
     "output_type": "stream",
     "text": [
      "training loss at epoch 752000: 0.15250810980796814\n"
     ]
    },
    {
     "name": "stderr",
     "output_type": "stream",
     "text": [
      " 75%|███████▌  | 753008/1000000 [4:43:53<1:52:55, 36.45it/s]"
     ]
    },
    {
     "name": "stdout",
     "output_type": "stream",
     "text": [
      "training loss at epoch 753000: 0.12542960047721863\n"
     ]
    },
    {
     "name": "stderr",
     "output_type": "stream",
     "text": [
      " 75%|███████▌  | 754008/1000000 [4:44:15<1:47:30, 38.14it/s]"
     ]
    },
    {
     "name": "stdout",
     "output_type": "stream",
     "text": [
      "training loss at epoch 754000: 0.14628541469573975\n"
     ]
    },
    {
     "name": "stderr",
     "output_type": "stream",
     "text": [
      " 76%|███████▌  | 755008/1000000 [4:44:38<1:54:18, 35.72it/s]"
     ]
    },
    {
     "name": "stdout",
     "output_type": "stream",
     "text": [
      "training loss at epoch 755000: 0.16290512681007385\n"
     ]
    },
    {
     "name": "stderr",
     "output_type": "stream",
     "text": [
      " 76%|███████▌  | 756008/1000000 [4:45:00<1:46:32, 38.17it/s]"
     ]
    },
    {
     "name": "stdout",
     "output_type": "stream",
     "text": [
      "training loss at epoch 756000: 0.16752265393733978\n"
     ]
    },
    {
     "name": "stderr",
     "output_type": "stream",
     "text": [
      " 76%|███████▌  | 757007/1000000 [4:45:23<1:53:06, 35.80it/s]"
     ]
    },
    {
     "name": "stdout",
     "output_type": "stream",
     "text": [
      "training loss at epoch 757000: 0.1677122861146927\n"
     ]
    },
    {
     "name": "stderr",
     "output_type": "stream",
     "text": [
      " 76%|███████▌  | 758010/1000000 [4:45:46<1:50:36, 36.46it/s]"
     ]
    },
    {
     "name": "stdout",
     "output_type": "stream",
     "text": [
      "training loss at epoch 758000: 0.1421610563993454\n"
     ]
    },
    {
     "name": "stderr",
     "output_type": "stream",
     "text": [
      " 76%|███████▌  | 759009/1000000 [4:46:09<1:57:32, 34.17it/s]"
     ]
    },
    {
     "name": "stdout",
     "output_type": "stream",
     "text": [
      "training loss at epoch 759000: 0.16745927929878235\n"
     ]
    },
    {
     "name": "stderr",
     "output_type": "stream",
     "text": [
      " 76%|███████▌  | 760008/1000000 [4:46:31<1:56:59, 34.19it/s]"
     ]
    },
    {
     "name": "stdout",
     "output_type": "stream",
     "text": [
      "training loss at epoch 760000: 0.1562609225511551\n",
      "for node Q266645- {} closest are nodes:\n",
      "{}\n",
      "{}\n",
      "{}\n",
      "for node Q7339319- {'name': 'Road Dawgs'} closest are nodes:\n",
      "{'name': 'Road Dawgs'}\n",
      "{'name': 'Allfrumtha I'}\n",
      "{'name': 'Pretty Ricky'}\n",
      "for node Q7300748- {'name': 'Reagan Jones'} closest are nodes:\n",
      "{'name': 'Reagan Jones'}\n",
      "{'name': 'Buckshot'}\n",
      "{'name': 'Tom Gurl Four'}\n"
     ]
    },
    {
     "name": "stderr",
     "output_type": "stream",
     "text": [
      " 76%|███████▌  | 761007/1000000 [4:46:54<1:47:18, 37.12it/s]"
     ]
    },
    {
     "name": "stdout",
     "output_type": "stream",
     "text": [
      "training loss at epoch 761000: 0.17550715804100037\n"
     ]
    },
    {
     "name": "stderr",
     "output_type": "stream",
     "text": [
      " 76%|███████▌  | 762007/1000000 [4:47:17<1:44:42, 37.88it/s]"
     ]
    },
    {
     "name": "stdout",
     "output_type": "stream",
     "text": [
      "training loss at epoch 762000: 0.16001468896865845\n"
     ]
    },
    {
     "name": "stderr",
     "output_type": "stream",
     "text": [
      " 76%|███████▋  | 763007/1000000 [4:47:39<1:48:19, 36.46it/s]"
     ]
    },
    {
     "name": "stdout",
     "output_type": "stream",
     "text": [
      "training loss at epoch 763000: 0.19067102670669556\n"
     ]
    },
    {
     "name": "stderr",
     "output_type": "stream",
     "text": [
      " 76%|███████▋  | 764006/1000000 [4:48:02<1:52:27, 34.97it/s]"
     ]
    },
    {
     "name": "stdout",
     "output_type": "stream",
     "text": [
      "training loss at epoch 764000: 0.12244375050067902\n"
     ]
    },
    {
     "name": "stderr",
     "output_type": "stream",
     "text": [
      " 77%|███████▋  | 765010/1000000 [4:48:25<1:46:44, 36.69it/s]"
     ]
    },
    {
     "name": "stdout",
     "output_type": "stream",
     "text": [
      "training loss at epoch 765000: 0.18178683519363403\n"
     ]
    },
    {
     "name": "stderr",
     "output_type": "stream",
     "text": [
      " 77%|███████▋  | 766010/1000000 [4:48:47<1:41:56, 38.26it/s]"
     ]
    },
    {
     "name": "stdout",
     "output_type": "stream",
     "text": [
      "training loss at epoch 766000: 0.21809834241867065\n"
     ]
    },
    {
     "name": "stderr",
     "output_type": "stream",
     "text": [
      " 77%|███████▋  | 767009/1000000 [4:49:10<1:49:50, 35.36it/s]"
     ]
    },
    {
     "name": "stdout",
     "output_type": "stream",
     "text": [
      "training loss at epoch 767000: 0.15069469809532166\n"
     ]
    },
    {
     "name": "stderr",
     "output_type": "stream",
     "text": [
      " 77%|███████▋  | 768008/1000000 [4:49:33<1:48:25, 35.66it/s]"
     ]
    },
    {
     "name": "stdout",
     "output_type": "stream",
     "text": [
      "training loss at epoch 768000: 0.1390087604522705\n"
     ]
    },
    {
     "name": "stderr",
     "output_type": "stream",
     "text": [
      " 77%|███████▋  | 769010/1000000 [4:49:55<1:39:28, 38.70it/s]"
     ]
    },
    {
     "name": "stdout",
     "output_type": "stream",
     "text": [
      "training loss at epoch 769000: 0.15869595110416412\n"
     ]
    },
    {
     "name": "stderr",
     "output_type": "stream",
     "text": [
      " 77%|███████▋  | 770009/1000000 [4:50:18<1:51:33, 34.36it/s]"
     ]
    },
    {
     "name": "stdout",
     "output_type": "stream",
     "text": [
      "training loss at epoch 770000: 0.16164261102676392\n",
      "for node Q6815852- {'name': 'Memphis Nighthawks'} closest are nodes:\n",
      "{'name': 'NRG Ensemble'}\n",
      "{'name': 'Memphis Nighthawks'}\n",
      "{'name': 'Deep Blue Organ Trio'}\n",
      "for node Q7440677- {'name': 'Seam'} closest are nodes:\n",
      "{'name': 'Seam'}\n",
      "{'name': 'Great Plains'}\n",
      "{'name': 'To My Surprise'}\n",
      "for node Q5460207- {'name': 'Flop'} closest are nodes:\n",
      "{'name': 'Flop'}\n",
      "{'name': 'Ultimate Fakebook'}\n",
      "{'name': 'Larry and His Flask'}\n"
     ]
    },
    {
     "name": "stderr",
     "output_type": "stream",
     "text": [
      " 77%|███████▋  | 771009/1000000 [4:50:41<1:44:37, 36.48it/s]"
     ]
    },
    {
     "name": "stdout",
     "output_type": "stream",
     "text": [
      "training loss at epoch 771000: 0.14439110457897186\n"
     ]
    },
    {
     "name": "stderr",
     "output_type": "stream",
     "text": [
      " 77%|███████▋  | 772008/1000000 [4:51:04<1:40:39, 37.75it/s]"
     ]
    },
    {
     "name": "stdout",
     "output_type": "stream",
     "text": [
      "training loss at epoch 772000: 0.15114055573940277\n"
     ]
    },
    {
     "name": "stderr",
     "output_type": "stream",
     "text": [
      " 77%|███████▋  | 773006/1000000 [4:51:26<1:42:23, 36.95it/s]"
     ]
    },
    {
     "name": "stdout",
     "output_type": "stream",
     "text": [
      "training loss at epoch 773000: 0.12425263226032257\n"
     ]
    },
    {
     "name": "stderr",
     "output_type": "stream",
     "text": [
      " 77%|███████▋  | 774005/1000000 [4:51:49<1:45:18, 35.77it/s]"
     ]
    },
    {
     "name": "stdout",
     "output_type": "stream",
     "text": [
      "training loss at epoch 774000: 0.11670570820569992\n"
     ]
    },
    {
     "name": "stderr",
     "output_type": "stream",
     "text": [
      " 78%|███████▊  | 775009/1000000 [4:52:12<1:46:03, 35.35it/s]"
     ]
    },
    {
     "name": "stdout",
     "output_type": "stream",
     "text": [
      "training loss at epoch 775000: 0.13555625081062317\n"
     ]
    },
    {
     "name": "stderr",
     "output_type": "stream",
     "text": [
      " 78%|███████▊  | 776009/1000000 [4:52:34<1:37:35, 38.25it/s]"
     ]
    },
    {
     "name": "stdout",
     "output_type": "stream",
     "text": [
      "training loss at epoch 776000: 0.1221470832824707\n"
     ]
    },
    {
     "name": "stderr",
     "output_type": "stream",
     "text": [
      " 78%|███████▊  | 777009/1000000 [4:52:57<1:37:25, 38.15it/s]"
     ]
    },
    {
     "name": "stdout",
     "output_type": "stream",
     "text": [
      "training loss at epoch 777000: 0.15654146671295166\n"
     ]
    },
    {
     "name": "stderr",
     "output_type": "stream",
     "text": [
      " 78%|███████▊  | 778009/1000000 [4:53:20<1:39:43, 37.10it/s]"
     ]
    },
    {
     "name": "stdout",
     "output_type": "stream",
     "text": [
      "training loss at epoch 778000: 0.16163213551044464\n"
     ]
    },
    {
     "name": "stderr",
     "output_type": "stream",
     "text": [
      " 78%|███████▊  | 779008/1000000 [4:53:42<1:41:26, 36.31it/s]"
     ]
    },
    {
     "name": "stdout",
     "output_type": "stream",
     "text": [
      "training loss at epoch 779000: 0.1378714144229889\n"
     ]
    },
    {
     "name": "stderr",
     "output_type": "stream",
     "text": [
      " 78%|███████▊  | 780008/1000000 [4:54:05<1:44:14, 35.17it/s]"
     ]
    },
    {
     "name": "stdout",
     "output_type": "stream",
     "text": [
      "training loss at epoch 780000: 0.1529638171195984\n",
      "for node Q905984- {'name': 'The Lounge Lizards'} closest are nodes:\n",
      "{'name': 'The Lounge Lizards'}\n",
      "{'name': 'The Rugburns'}\n",
      "{'name': 'Nile'}\n",
      "for node Q388906- {'name': 'hardcore techno'} closest are nodes:\n",
      "{'name': 'electro'}\n",
      "{'name': 'hip house'}\n",
      "{'name': 'electronic dance music'}\n",
      "for node Q5443663- {} closest are nodes:\n",
      "{}\n",
      "{'name': 'Bongwater'}\n",
      "{'name': 'Nausea'}\n"
     ]
    },
    {
     "name": "stderr",
     "output_type": "stream",
     "text": [
      " 78%|███████▊  | 781008/1000000 [4:54:28<1:40:25, 36.34it/s]"
     ]
    },
    {
     "name": "stdout",
     "output_type": "stream",
     "text": [
      "training loss at epoch 781000: 0.13638602197170258\n"
     ]
    },
    {
     "name": "stderr",
     "output_type": "stream",
     "text": [
      " 78%|███████▊  | 782008/1000000 [4:54:51<1:39:10, 36.63it/s]"
     ]
    },
    {
     "name": "stdout",
     "output_type": "stream",
     "text": [
      "training loss at epoch 782000: 0.15838418900966644\n"
     ]
    },
    {
     "name": "stderr",
     "output_type": "stream",
     "text": [
      " 78%|███████▊  | 783008/1000000 [4:55:13<1:36:55, 37.31it/s]"
     ]
    },
    {
     "name": "stdout",
     "output_type": "stream",
     "text": [
      "training loss at epoch 783000: 0.15380488336086273\n"
     ]
    },
    {
     "name": "stderr",
     "output_type": "stream",
     "text": [
      " 78%|███████▊  | 784008/1000000 [4:55:36<1:35:02, 37.88it/s]"
     ]
    },
    {
     "name": "stdout",
     "output_type": "stream",
     "text": [
      "training loss at epoch 784000: 0.14691083133220673\n"
     ]
    },
    {
     "name": "stderr",
     "output_type": "stream",
     "text": [
      " 79%|███████▊  | 785008/1000000 [4:55:58<1:37:43, 36.66it/s]"
     ]
    },
    {
     "name": "stdout",
     "output_type": "stream",
     "text": [
      "training loss at epoch 785000: 0.16287861764431\n"
     ]
    },
    {
     "name": "stderr",
     "output_type": "stream",
     "text": [
      " 79%|███████▊  | 786008/1000000 [4:56:21<1:34:09, 37.88it/s]"
     ]
    },
    {
     "name": "stdout",
     "output_type": "stream",
     "text": [
      "training loss at epoch 786000: 0.14517900347709656\n"
     ]
    },
    {
     "name": "stderr",
     "output_type": "stream",
     "text": [
      " 79%|███████▊  | 787008/1000000 [4:56:44<1:39:24, 35.71it/s]"
     ]
    },
    {
     "name": "stdout",
     "output_type": "stream",
     "text": [
      "training loss at epoch 787000: 0.10445250570774078\n"
     ]
    },
    {
     "name": "stderr",
     "output_type": "stream",
     "text": [
      " 79%|███████▉  | 788008/1000000 [4:57:06<1:37:30, 36.24it/s]"
     ]
    },
    {
     "name": "stdout",
     "output_type": "stream",
     "text": [
      "training loss at epoch 788000: 0.14437459409236908\n"
     ]
    },
    {
     "name": "stderr",
     "output_type": "stream",
     "text": [
      " 79%|███████▉  | 789008/1000000 [4:57:29<1:36:24, 36.48it/s]"
     ]
    },
    {
     "name": "stdout",
     "output_type": "stream",
     "text": [
      "training loss at epoch 789000: 0.1231805756688118\n"
     ]
    },
    {
     "name": "stderr",
     "output_type": "stream",
     "text": [
      " 79%|███████▉  | 790007/1000000 [4:57:52<1:38:51, 35.40it/s]"
     ]
    },
    {
     "name": "stdout",
     "output_type": "stream",
     "text": [
      "training loss at epoch 790000: 0.15038825571537018\n",
      "for node Q4770206- {'name': 'Another Animal'} closest are nodes:\n",
      "{'name': 'Another Animal'}\n",
      "{'name': 'Medication'}\n",
      "{'name': 'Nine Inch Nails'}\n",
      "for node Q1636465- {'name': 'Puscifer'} closest are nodes:\n",
      "{'name': 'Puscifer'}\n",
      "{'name': 'Tool'}\n",
      "{'name': 'Chamillionaire'}\n",
      "for node Q20685754- {'name': 'Terror Universal'} closest are nodes:\n",
      "{'name': 'Terror Universal'}\n",
      "{'name': 'Butterfly Train'}\n",
      "{'name': 'The Fall Risk'}\n"
     ]
    },
    {
     "name": "stderr",
     "output_type": "stream",
     "text": [
      " 79%|███████▉  | 791007/1000000 [4:58:15<1:32:29, 37.66it/s]"
     ]
    },
    {
     "name": "stdout",
     "output_type": "stream",
     "text": [
      "training loss at epoch 791000: 0.18361620604991913\n"
     ]
    },
    {
     "name": "stderr",
     "output_type": "stream",
     "text": [
      " 79%|███████▉  | 792007/1000000 [4:58:37<1:33:57, 36.89it/s]"
     ]
    },
    {
     "name": "stdout",
     "output_type": "stream",
     "text": [
      "training loss at epoch 792000: 0.15888327360153198\n"
     ]
    },
    {
     "name": "stderr",
     "output_type": "stream",
     "text": [
      " 79%|███████▉  | 793007/1000000 [4:59:00<1:29:28, 38.56it/s]"
     ]
    },
    {
     "name": "stdout",
     "output_type": "stream",
     "text": [
      "training loss at epoch 793000: 0.1683780401945114\n"
     ]
    },
    {
     "name": "stderr",
     "output_type": "stream",
     "text": [
      " 79%|███████▉  | 794007/1000000 [4:59:22<1:30:51, 37.79it/s]"
     ]
    },
    {
     "name": "stdout",
     "output_type": "stream",
     "text": [
      "training loss at epoch 794000: 0.1360325813293457\n"
     ]
    },
    {
     "name": "stderr",
     "output_type": "stream",
     "text": [
      " 80%|███████▉  | 795006/1000000 [4:59:45<1:42:47, 33.24it/s]"
     ]
    },
    {
     "name": "stdout",
     "output_type": "stream",
     "text": [
      "training loss at epoch 795000: 0.15320736169815063\n"
     ]
    },
    {
     "name": "stderr",
     "output_type": "stream",
     "text": [
      " 80%|███████▉  | 796005/1000000 [5:00:08<1:40:56, 33.68it/s]"
     ]
    },
    {
     "name": "stdout",
     "output_type": "stream",
     "text": [
      "training loss at epoch 796000: 0.1841992437839508\n"
     ]
    },
    {
     "name": "stderr",
     "output_type": "stream",
     "text": [
      " 80%|███████▉  | 797009/1000000 [5:00:31<1:28:20, 38.30it/s]"
     ]
    },
    {
     "name": "stdout",
     "output_type": "stream",
     "text": [
      "training loss at epoch 797000: 0.14422783255577087\n"
     ]
    },
    {
     "name": "stderr",
     "output_type": "stream",
     "text": [
      " 80%|███████▉  | 798009/1000000 [5:00:54<1:40:42, 33.43it/s]"
     ]
    },
    {
     "name": "stdout",
     "output_type": "stream",
     "text": [
      "training loss at epoch 798000: 0.15242670476436615\n"
     ]
    },
    {
     "name": "stderr",
     "output_type": "stream",
     "text": [
      " 80%|███████▉  | 799009/1000000 [5:01:16<1:31:17, 36.70it/s]"
     ]
    },
    {
     "name": "stdout",
     "output_type": "stream",
     "text": [
      "training loss at epoch 799000: 0.1382518857717514\n"
     ]
    },
    {
     "name": "stderr",
     "output_type": "stream",
     "text": [
      " 80%|████████  | 800007/1000000 [5:01:39<1:33:09, 35.78it/s]"
     ]
    },
    {
     "name": "stdout",
     "output_type": "stream",
     "text": [
      "training loss at epoch 800000: 0.17254158854484558\n",
      "for node Q22121837- {'name': 'Everdown'} closest are nodes:\n",
      "{'name': 'Warlord'}\n",
      "{'name': 'Twelve Gauge Valentine'}\n",
      "{'name': 'The Ongoing Concept'}\n",
      "for node Q906381- {'name': 'The Buzzhorn'} closest are nodes:\n",
      "{'name': 'Pound'}\n",
      "{'name': 'Sponge'}\n",
      "{'name': 'The Buzzhorn'}\n",
      "for node Q5168360- {'name': 'Copeland'} closest are nodes:\n",
      "{'name': 'Chatterbox'}\n",
      "{'name': 'Children 18:3'}\n",
      "{'name': 'Ghoti Hook'}\n"
     ]
    },
    {
     "name": "stderr",
     "output_type": "stream",
     "text": [
      " 80%|████████  | 801007/1000000 [5:02:02<1:27:16, 38.00it/s]"
     ]
    },
    {
     "name": "stdout",
     "output_type": "stream",
     "text": [
      "training loss at epoch 801000: 0.13170713186264038\n"
     ]
    },
    {
     "name": "stderr",
     "output_type": "stream",
     "text": [
      " 80%|████████  | 802007/1000000 [5:02:25<1:27:31, 37.70it/s]"
     ]
    },
    {
     "name": "stdout",
     "output_type": "stream",
     "text": [
      "training loss at epoch 802000: 0.1293826550245285\n"
     ]
    },
    {
     "name": "stderr",
     "output_type": "stream",
     "text": [
      " 80%|████████  | 803009/1000000 [5:02:47<1:32:33, 35.47it/s]"
     ]
    },
    {
     "name": "stdout",
     "output_type": "stream",
     "text": [
      "training loss at epoch 803000: 0.1707451194524765\n"
     ]
    },
    {
     "name": "stderr",
     "output_type": "stream",
     "text": [
      " 80%|████████  | 804009/1000000 [5:03:10<1:27:42, 37.24it/s]"
     ]
    },
    {
     "name": "stdout",
     "output_type": "stream",
     "text": [
      "training loss at epoch 804000: 0.12805168330669403\n"
     ]
    },
    {
     "name": "stderr",
     "output_type": "stream",
     "text": [
      " 81%|████████  | 805009/1000000 [5:03:33<1:25:52, 37.84it/s]"
     ]
    },
    {
     "name": "stdout",
     "output_type": "stream",
     "text": [
      "training loss at epoch 805000: 0.16179469227790833\n"
     ]
    },
    {
     "name": "stderr",
     "output_type": "stream",
     "text": [
      " 81%|████████  | 806008/1000000 [5:03:56<1:42:19, 31.60it/s]"
     ]
    },
    {
     "name": "stdout",
     "output_type": "stream",
     "text": [
      "training loss at epoch 806000: 0.148422509431839\n"
     ]
    },
    {
     "name": "stderr",
     "output_type": "stream",
     "text": [
      " 81%|████████  | 807006/1000000 [5:04:19<1:29:27, 35.96it/s]"
     ]
    },
    {
     "name": "stdout",
     "output_type": "stream",
     "text": [
      "training loss at epoch 807000: 0.17269031703472137\n"
     ]
    },
    {
     "name": "stderr",
     "output_type": "stream",
     "text": [
      " 81%|████████  | 808010/1000000 [5:04:42<1:26:19, 37.06it/s]"
     ]
    },
    {
     "name": "stdout",
     "output_type": "stream",
     "text": [
      "training loss at epoch 808000: 0.14889897406101227\n"
     ]
    },
    {
     "name": "stderr",
     "output_type": "stream",
     "text": [
      " 81%|████████  | 809010/1000000 [5:05:04<1:22:32, 38.56it/s]"
     ]
    },
    {
     "name": "stdout",
     "output_type": "stream",
     "text": [
      "training loss at epoch 809000: 0.18376486003398895\n"
     ]
    },
    {
     "name": "stderr",
     "output_type": "stream",
     "text": [
      " 81%|████████  | 810010/1000000 [5:05:27<1:24:05, 37.66it/s]"
     ]
    },
    {
     "name": "stdout",
     "output_type": "stream",
     "text": [
      "training loss at epoch 810000: 0.14024952054023743\n",
      "for node Q878410- {} closest are nodes:\n",
      "{}\n",
      "{'name': 'Allman Brothers Band'}\n",
      "{'name': 'Millions'}\n",
      "for node Q28403451- {'name': 'The Top Notes'} closest are nodes:\n",
      "{'name': 'Grouplove'}\n",
      "{'name': 'Consumer Rapport'}\n",
      "{'name': 'Cecilia'}\n",
      "for node Q41359948- {'name': 'PrettyMuch'} closest are nodes:\n",
      "{'name': 'Red'}\n",
      "{'name': 'PrettyMuch'}\n",
      "{'name': 'Greg Kihn'}\n"
     ]
    },
    {
     "name": "stderr",
     "output_type": "stream",
     "text": [
      " 81%|████████  | 811010/1000000 [5:05:50<1:22:46, 38.06it/s]"
     ]
    },
    {
     "name": "stdout",
     "output_type": "stream",
     "text": [
      "training loss at epoch 811000: 0.13585789501667023\n"
     ]
    },
    {
     "name": "stderr",
     "output_type": "stream",
     "text": [
      " 81%|████████  | 812009/1000000 [5:06:13<1:27:13, 35.92it/s]"
     ]
    },
    {
     "name": "stdout",
     "output_type": "stream",
     "text": [
      "training loss at epoch 812000: 0.1667175590991974\n"
     ]
    },
    {
     "name": "stderr",
     "output_type": "stream",
     "text": [
      " 81%|████████▏ | 813008/1000000 [5:06:36<1:24:58, 36.68it/s]"
     ]
    },
    {
     "name": "stdout",
     "output_type": "stream",
     "text": [
      "training loss at epoch 813000: 0.16229206323623657\n"
     ]
    },
    {
     "name": "stderr",
     "output_type": "stream",
     "text": [
      " 81%|████████▏ | 814008/1000000 [5:06:58<1:23:55, 36.94it/s]"
     ]
    },
    {
     "name": "stdout",
     "output_type": "stream",
     "text": [
      "training loss at epoch 814000: 0.14879022538661957\n"
     ]
    },
    {
     "name": "stderr",
     "output_type": "stream",
     "text": [
      " 82%|████████▏ | 815008/1000000 [5:07:21<1:21:40, 37.75it/s]"
     ]
    },
    {
     "name": "stdout",
     "output_type": "stream",
     "text": [
      "training loss at epoch 815000: 0.1368524581193924\n"
     ]
    },
    {
     "name": "stderr",
     "output_type": "stream",
     "text": [
      " 82%|████████▏ | 816008/1000000 [5:07:43<1:21:12, 37.76it/s]"
     ]
    },
    {
     "name": "stdout",
     "output_type": "stream",
     "text": [
      "training loss at epoch 816000: 0.14730675518512726\n"
     ]
    },
    {
     "name": "stderr",
     "output_type": "stream",
     "text": [
      " 82%|████████▏ | 817008/1000000 [5:08:06<1:21:11, 37.56it/s]"
     ]
    },
    {
     "name": "stdout",
     "output_type": "stream",
     "text": [
      "training loss at epoch 817000: 0.16094857454299927\n"
     ]
    },
    {
     "name": "stderr",
     "output_type": "stream",
     "text": [
      " 82%|████████▏ | 818008/1000000 [5:08:29<1:22:42, 36.67it/s]"
     ]
    },
    {
     "name": "stdout",
     "output_type": "stream",
     "text": [
      "training loss at epoch 818000: 0.16270659863948822\n"
     ]
    },
    {
     "name": "stderr",
     "output_type": "stream",
     "text": [
      " 82%|████████▏ | 819008/1000000 [5:08:51<1:20:38, 37.41it/s]"
     ]
    },
    {
     "name": "stdout",
     "output_type": "stream",
     "text": [
      "training loss at epoch 819000: 0.14914469420909882\n"
     ]
    },
    {
     "name": "stderr",
     "output_type": "stream",
     "text": [
      " 82%|████████▏ | 820006/1000000 [5:09:14<1:24:20, 35.57it/s]"
     ]
    },
    {
     "name": "stdout",
     "output_type": "stream",
     "text": [
      "training loss at epoch 820000: 0.13646812736988068\n",
      "for node Q20687132- {} closest are nodes:\n",
      "{}\n",
      "{'name': 'Rumpletilskinz'}\n",
      "{'name': 'Milo Greene'}\n",
      "for node Q2890509- {'name': 'Burnham'} closest are nodes:\n",
      "{'name': 'Timeflies'}\n",
      "{'name': 'The Drums'}\n",
      "{'name': 'Burnham'}\n",
      "for node Q4659131- {'name': 'A Ragamuffin Band'} closest are nodes:\n",
      "{'name': 'A Ragamuffin Band'}\n",
      "{'name': 'The Prayer Chain'}\n",
      "{'name': 'Anthem Lights'}\n"
     ]
    },
    {
     "name": "stderr",
     "output_type": "stream",
     "text": [
      " 82%|████████▏ | 821009/1000000 [5:09:37<1:23:28, 35.74it/s]"
     ]
    },
    {
     "name": "stdout",
     "output_type": "stream",
     "text": [
      "training loss at epoch 821000: 0.13484379649162292\n"
     ]
    },
    {
     "name": "stderr",
     "output_type": "stream",
     "text": [
      " 82%|████████▏ | 822008/1000000 [5:10:00<1:18:01, 38.02it/s]"
     ]
    },
    {
     "name": "stdout",
     "output_type": "stream",
     "text": [
      "training loss at epoch 822000: 0.1292659044265747\n"
     ]
    },
    {
     "name": "stderr",
     "output_type": "stream",
     "text": [
      " 82%|████████▏ | 823008/1000000 [5:10:22<1:18:08, 37.75it/s]"
     ]
    },
    {
     "name": "stdout",
     "output_type": "stream",
     "text": [
      "training loss at epoch 823000: 0.15566852688789368\n"
     ]
    },
    {
     "name": "stderr",
     "output_type": "stream",
     "text": [
      " 82%|████████▏ | 824008/1000000 [5:10:45<1:18:58, 37.14it/s]"
     ]
    },
    {
     "name": "stdout",
     "output_type": "stream",
     "text": [
      "training loss at epoch 824000: 0.15015676617622375\n"
     ]
    },
    {
     "name": "stderr",
     "output_type": "stream",
     "text": [
      " 83%|████████▎ | 825008/1000000 [5:11:08<1:21:10, 35.93it/s]"
     ]
    },
    {
     "name": "stdout",
     "output_type": "stream",
     "text": [
      "training loss at epoch 825000: 0.14580340683460236\n"
     ]
    },
    {
     "name": "stderr",
     "output_type": "stream",
     "text": [
      " 83%|████████▎ | 826008/1000000 [5:11:30<1:15:15, 38.53it/s]"
     ]
    },
    {
     "name": "stdout",
     "output_type": "stream",
     "text": [
      "training loss at epoch 826000: 0.16101525723934174\n"
     ]
    },
    {
     "name": "stderr",
     "output_type": "stream",
     "text": [
      " 83%|████████▎ | 827007/1000000 [5:11:53<1:17:42, 37.10it/s]"
     ]
    },
    {
     "name": "stdout",
     "output_type": "stream",
     "text": [
      "training loss at epoch 827000: 0.13238933682441711\n"
     ]
    },
    {
     "name": "stderr",
     "output_type": "stream",
     "text": [
      " 83%|████████▎ | 828009/1000000 [5:12:16<1:16:49, 37.32it/s]"
     ]
    },
    {
     "name": "stdout",
     "output_type": "stream",
     "text": [
      "training loss at epoch 828000: 0.12997442483901978\n"
     ]
    },
    {
     "name": "stderr",
     "output_type": "stream",
     "text": [
      " 83%|████████▎ | 829009/1000000 [5:12:39<1:14:08, 38.44it/s]"
     ]
    },
    {
     "name": "stdout",
     "output_type": "stream",
     "text": [
      "training loss at epoch 829000: 0.1730526238679886\n"
     ]
    },
    {
     "name": "stderr",
     "output_type": "stream",
     "text": [
      " 83%|████████▎ | 830009/1000000 [5:13:02<1:20:46, 35.08it/s]"
     ]
    },
    {
     "name": "stdout",
     "output_type": "stream",
     "text": [
      "training loss at epoch 830000: 0.1424664705991745\n",
      "for node Q951665- {'name': 'The Mavericks'} closest are nodes:\n",
      "{'name': 'The Mavericks'}\n",
      "{'name': 'McAlyster'}\n",
      "{'name': 'Psyclon Nine'}\n",
      "for node Q173637- {'name': 'Ice Cube'} closest are nodes:\n",
      "{'name': 'Eazy-E'}\n",
      "{'name': 'Ice Cube'}\n",
      "{'name': 'Arabian Prince'}\n",
      "for node Q3416067- {'name': \"Rachel's\"} closest are nodes:\n",
      "{'name': \"Rachel's\"}\n",
      "{'name': 'CocoRosie'}\n",
      "{'name': 'Blight'}\n"
     ]
    },
    {
     "name": "stderr",
     "output_type": "stream",
     "text": [
      " 83%|████████▎ | 831008/1000000 [5:13:24<1:21:42, 34.47it/s]"
     ]
    },
    {
     "name": "stdout",
     "output_type": "stream",
     "text": [
      "training loss at epoch 831000: 0.1530352681875229\n"
     ]
    },
    {
     "name": "stderr",
     "output_type": "stream",
     "text": [
      " 83%|████████▎ | 832007/1000000 [5:13:47<1:18:54, 35.48it/s]"
     ]
    },
    {
     "name": "stdout",
     "output_type": "stream",
     "text": [
      "training loss at epoch 832000: 0.15167397260665894\n"
     ]
    },
    {
     "name": "stderr",
     "output_type": "stream",
     "text": [
      " 83%|████████▎ | 833010/1000000 [5:14:10<1:13:47, 37.71it/s]"
     ]
    },
    {
     "name": "stdout",
     "output_type": "stream",
     "text": [
      "training loss at epoch 833000: 0.137091726064682\n"
     ]
    },
    {
     "name": "stderr",
     "output_type": "stream",
     "text": [
      " 83%|████████▎ | 834010/1000000 [5:14:33<1:14:19, 37.22it/s]"
     ]
    },
    {
     "name": "stdout",
     "output_type": "stream",
     "text": [
      "training loss at epoch 834000: 0.13986685872077942\n"
     ]
    },
    {
     "name": "stderr",
     "output_type": "stream",
     "text": [
      " 84%|████████▎ | 835010/1000000 [5:14:55<1:16:07, 36.12it/s]"
     ]
    },
    {
     "name": "stdout",
     "output_type": "stream",
     "text": [
      "training loss at epoch 835000: 0.14518007636070251\n"
     ]
    },
    {
     "name": "stderr",
     "output_type": "stream",
     "text": [
      " 84%|████████▎ | 836010/1000000 [5:15:18<1:11:32, 38.20it/s]"
     ]
    },
    {
     "name": "stdout",
     "output_type": "stream",
     "text": [
      "training loss at epoch 836000: 0.17083892226219177\n"
     ]
    },
    {
     "name": "stderr",
     "output_type": "stream",
     "text": [
      " 84%|████████▎ | 837010/1000000 [5:15:41<1:12:26, 37.50it/s]"
     ]
    },
    {
     "name": "stdout",
     "output_type": "stream",
     "text": [
      "training loss at epoch 837000: 0.16544467210769653\n"
     ]
    },
    {
     "name": "stderr",
     "output_type": "stream",
     "text": [
      " 84%|████████▍ | 838010/1000000 [5:16:03<1:12:04, 37.45it/s]"
     ]
    },
    {
     "name": "stdout",
     "output_type": "stream",
     "text": [
      "training loss at epoch 838000: 0.15442128479480743\n"
     ]
    },
    {
     "name": "stderr",
     "output_type": "stream",
     "text": [
      " 84%|████████▍ | 839009/1000000 [5:16:26<1:11:31, 37.51it/s]"
     ]
    },
    {
     "name": "stdout",
     "output_type": "stream",
     "text": [
      "training loss at epoch 839000: 0.14503073692321777\n"
     ]
    },
    {
     "name": "stderr",
     "output_type": "stream",
     "text": [
      " 84%|████████▍ | 840008/1000000 [5:16:49<1:19:10, 33.68it/s]"
     ]
    },
    {
     "name": "stdout",
     "output_type": "stream",
     "text": [
      "training loss at epoch 840000: 0.11834140121936798\n",
      "for node Q4761369- {'name': 'Andy Sturmer'} closest are nodes:\n",
      "{'name': 'Andy Sturmer'}\n",
      "{}\n",
      "{'name': 'Frank Iero'}\n",
      "for node Q2724408- {'name': 'Matt Sharp'} closest are nodes:\n",
      "{'name': 'Matt Sharp'}\n",
      "{'name': 'Ranch Romance'}\n",
      "{'name': 'Rhiannon Giddens'}\n",
      "for node Q805038- {'name': 'Balkan Beat Box'} closest are nodes:\n",
      "{'name': 'Balkan Beat Box'}\n",
      "{'name': 'Michael Galinsky'}\n",
      "{'name': 'Whodini'}\n"
     ]
    },
    {
     "name": "stderr",
     "output_type": "stream",
     "text": [
      " 84%|████████▍ | 841010/1000000 [5:17:12<1:12:50, 36.38it/s]"
     ]
    },
    {
     "name": "stdout",
     "output_type": "stream",
     "text": [
      "training loss at epoch 841000: 0.13964715600013733\n"
     ]
    },
    {
     "name": "stderr",
     "output_type": "stream",
     "text": [
      " 84%|████████▍ | 842010/1000000 [5:17:34<1:08:48, 38.27it/s]"
     ]
    },
    {
     "name": "stdout",
     "output_type": "stream",
     "text": [
      "training loss at epoch 842000: 0.13495007157325745\n"
     ]
    },
    {
     "name": "stderr",
     "output_type": "stream",
     "text": [
      " 84%|████████▍ | 843009/1000000 [5:17:57<1:09:27, 37.67it/s]"
     ]
    },
    {
     "name": "stdout",
     "output_type": "stream",
     "text": [
      "training loss at epoch 843000: 0.14728811383247375\n"
     ]
    },
    {
     "name": "stderr",
     "output_type": "stream",
     "text": [
      " 84%|████████▍ | 844009/1000000 [5:18:20<1:10:00, 37.13it/s]"
     ]
    },
    {
     "name": "stdout",
     "output_type": "stream",
     "text": [
      "training loss at epoch 844000: 0.15058453381061554\n"
     ]
    },
    {
     "name": "stderr",
     "output_type": "stream",
     "text": [
      " 85%|████████▍ | 845009/1000000 [5:18:43<1:11:07, 36.32it/s]"
     ]
    },
    {
     "name": "stdout",
     "output_type": "stream",
     "text": [
      "training loss at epoch 845000: 0.17597047984600067\n"
     ]
    },
    {
     "name": "stderr",
     "output_type": "stream",
     "text": [
      " 85%|████████▍ | 846009/1000000 [5:19:06<1:11:07, 36.08it/s]"
     ]
    },
    {
     "name": "stdout",
     "output_type": "stream",
     "text": [
      "training loss at epoch 846000: 0.14681187272071838\n"
     ]
    },
    {
     "name": "stderr",
     "output_type": "stream",
     "text": [
      " 85%|████████▍ | 847009/1000000 [5:19:28<1:09:11, 36.85it/s]"
     ]
    },
    {
     "name": "stdout",
     "output_type": "stream",
     "text": [
      "training loss at epoch 847000: 0.14681518077850342\n"
     ]
    },
    {
     "name": "stderr",
     "output_type": "stream",
     "text": [
      " 85%|████████▍ | 848009/1000000 [5:19:51<1:08:03, 37.22it/s]"
     ]
    },
    {
     "name": "stdout",
     "output_type": "stream",
     "text": [
      "training loss at epoch 848000: 0.14269761741161346\n"
     ]
    },
    {
     "name": "stderr",
     "output_type": "stream",
     "text": [
      " 85%|████████▍ | 849008/1000000 [5:20:14<1:12:33, 34.68it/s]"
     ]
    },
    {
     "name": "stdout",
     "output_type": "stream",
     "text": [
      "training loss at epoch 849000: 0.13012024760246277\n"
     ]
    },
    {
     "name": "stderr",
     "output_type": "stream",
     "text": [
      " 85%|████████▌ | 850008/1000000 [5:20:37<1:11:56, 34.75it/s]"
     ]
    },
    {
     "name": "stdout",
     "output_type": "stream",
     "text": [
      "training loss at epoch 850000: 0.1773073375225067\n",
      "for node Q21077- {} closest are nodes:\n",
      "{}\n",
      "{}\n",
      "{}\n",
      "for node Q360498- {'name': 'Vinny Appice'} closest are nodes:\n",
      "{'name': 'Vinny Appice'}\n",
      "{'name': 'Bill Tolley'}\n",
      "{'name': 'The Chelsea Smiles'}\n",
      "for node Q2924957- {'name': 'Brian McMahan'} closest are nodes:\n",
      "{'name': 'Brian McMahan'}\n",
      "{'name': 'Black Buddafly'}\n",
      "{'name': \"The B-52's\"}\n"
     ]
    },
    {
     "name": "stderr",
     "output_type": "stream",
     "text": [
      " 85%|████████▌ | 851008/1000000 [5:21:00<1:05:28, 37.93it/s]"
     ]
    },
    {
     "name": "stdout",
     "output_type": "stream",
     "text": [
      "training loss at epoch 851000: 0.17700904607772827\n"
     ]
    },
    {
     "name": "stderr",
     "output_type": "stream",
     "text": [
      " 85%|████████▌ | 852008/1000000 [5:21:22<1:04:12, 38.42it/s]"
     ]
    },
    {
     "name": "stdout",
     "output_type": "stream",
     "text": [
      "training loss at epoch 852000: 0.1480012834072113\n"
     ]
    },
    {
     "name": "stderr",
     "output_type": "stream",
     "text": [
      " 85%|████████▌ | 853010/1000000 [5:21:45<1:07:43, 36.17it/s]"
     ]
    },
    {
     "name": "stdout",
     "output_type": "stream",
     "text": [
      "training loss at epoch 853000: 0.13904544711112976\n"
     ]
    },
    {
     "name": "stderr",
     "output_type": "stream",
     "text": [
      " 85%|████████▌ | 854010/1000000 [5:22:08<1:02:47, 38.75it/s]"
     ]
    },
    {
     "name": "stdout",
     "output_type": "stream",
     "text": [
      "training loss at epoch 854000: 0.13566572964191437\n"
     ]
    },
    {
     "name": "stderr",
     "output_type": "stream",
     "text": [
      " 86%|████████▌ | 855007/1000000 [5:22:31<1:04:32, 37.44it/s]"
     ]
    },
    {
     "name": "stdout",
     "output_type": "stream",
     "text": [
      "training loss at epoch 855000: 0.16847087442874908\n"
     ]
    },
    {
     "name": "stderr",
     "output_type": "stream",
     "text": [
      " 86%|████████▌ | 856007/1000000 [5:22:54<1:03:07, 38.02it/s]"
     ]
    },
    {
     "name": "stdout",
     "output_type": "stream",
     "text": [
      "training loss at epoch 856000: 0.1618526130914688\n"
     ]
    },
    {
     "name": "stderr",
     "output_type": "stream",
     "text": [
      " 86%|████████▌ | 857007/1000000 [5:23:16<1:01:52, 38.51it/s]"
     ]
    },
    {
     "name": "stdout",
     "output_type": "stream",
     "text": [
      "training loss at epoch 857000: 0.1349971443414688\n"
     ]
    },
    {
     "name": "stderr",
     "output_type": "stream",
     "text": [
      " 86%|████████▌ | 858007/1000000 [5:23:39<1:06:59, 35.32it/s]"
     ]
    },
    {
     "name": "stdout",
     "output_type": "stream",
     "text": [
      "training loss at epoch 858000: 0.1315298080444336\n"
     ]
    },
    {
     "name": "stderr",
     "output_type": "stream",
     "text": [
      " 86%|████████▌ | 859006/1000000 [5:24:02<1:03:47, 36.84it/s]"
     ]
    },
    {
     "name": "stdout",
     "output_type": "stream",
     "text": [
      "training loss at epoch 859000: 0.15653757750988007\n"
     ]
    },
    {
     "name": "stderr",
     "output_type": "stream",
     "text": [
      " 86%|████████▌ | 860006/1000000 [5:24:25<1:13:28, 31.76it/s]"
     ]
    },
    {
     "name": "stdout",
     "output_type": "stream",
     "text": [
      "training loss at epoch 860000: 0.1397111713886261\n",
      "for node Q1760008- {'name': 'P$C'} closest are nodes:\n",
      "{'name': 'P$C'}\n",
      "{'name': 'Bryan Hilyard'}\n",
      "{'name': 'Sleep'}\n",
      "for node Q16962755- {'name': 'Lismore'} closest are nodes:\n",
      "{'name': 'Lismore'}\n",
      "{'name': 'The Golden Filter'}\n",
      "{'name': 'soul music'}\n",
      "for node Q7994941- {'name': 'White Jimmy'} closest are nodes:\n",
      "{'name': 'White Jimmy'}\n",
      "{'name': 'Gasoline'}\n",
      "{'name': 'The Eeries'}\n"
     ]
    },
    {
     "name": "stderr",
     "output_type": "stream",
     "text": [
      " 86%|████████▌ | 861006/1000000 [5:24:47<1:02:44, 36.92it/s]"
     ]
    },
    {
     "name": "stdout",
     "output_type": "stream",
     "text": [
      "training loss at epoch 861000: 0.14098462462425232\n"
     ]
    },
    {
     "name": "stderr",
     "output_type": "stream",
     "text": [
      " 86%|████████▌ | 862006/1000000 [5:25:10<59:53, 38.40it/s]  "
     ]
    },
    {
     "name": "stdout",
     "output_type": "stream",
     "text": [
      "training loss at epoch 862000: 0.15077610313892365\n"
     ]
    },
    {
     "name": "stderr",
     "output_type": "stream",
     "text": [
      " 86%|████████▋ | 863006/1000000 [5:25:33<1:01:40, 37.02it/s]"
     ]
    },
    {
     "name": "stdout",
     "output_type": "stream",
     "text": [
      "training loss at epoch 863000: 0.12457875907421112\n"
     ]
    },
    {
     "name": "stderr",
     "output_type": "stream",
     "text": [
      " 86%|████████▋ | 864006/1000000 [5:25:56<1:01:21, 36.94it/s]"
     ]
    },
    {
     "name": "stdout",
     "output_type": "stream",
     "text": [
      "training loss at epoch 864000: 0.16836173832416534\n"
     ]
    },
    {
     "name": "stderr",
     "output_type": "stream",
     "text": [
      " 87%|████████▋ | 865005/1000000 [5:26:18<1:01:19, 36.69it/s]"
     ]
    },
    {
     "name": "stdout",
     "output_type": "stream",
     "text": [
      "training loss at epoch 865000: 0.12223663181066513\n"
     ]
    },
    {
     "name": "stderr",
     "output_type": "stream",
     "text": [
      " 87%|████████▋ | 866010/1000000 [5:26:41<59:57, 37.24it/s]  "
     ]
    },
    {
     "name": "stdout",
     "output_type": "stream",
     "text": [
      "training loss at epoch 866000: 0.16310782730579376\n"
     ]
    },
    {
     "name": "stderr",
     "output_type": "stream",
     "text": [
      " 87%|████████▋ | 867009/1000000 [5:27:03<1:01:45, 35.89it/s]"
     ]
    },
    {
     "name": "stdout",
     "output_type": "stream",
     "text": [
      "training loss at epoch 867000: 0.16811753809452057\n"
     ]
    },
    {
     "name": "stderr",
     "output_type": "stream",
     "text": [
      " 87%|████████▋ | 868009/1000000 [5:27:26<59:33, 36.94it/s]  "
     ]
    },
    {
     "name": "stdout",
     "output_type": "stream",
     "text": [
      "training loss at epoch 868000: 0.15987105667591095\n"
     ]
    },
    {
     "name": "stderr",
     "output_type": "stream",
     "text": [
      " 87%|████████▋ | 869007/1000000 [5:27:49<59:50, 36.48it/s]  "
     ]
    },
    {
     "name": "stdout",
     "output_type": "stream",
     "text": [
      "training loss at epoch 869000: 0.1715705543756485\n"
     ]
    },
    {
     "name": "stderr",
     "output_type": "stream",
     "text": [
      " 87%|████████▋ | 870006/1000000 [5:28:12<1:03:03, 34.35it/s]"
     ]
    },
    {
     "name": "stdout",
     "output_type": "stream",
     "text": [
      "training loss at epoch 870000: 0.1512989103794098\n",
      "for node Q649726- {'name': 'The Showdown'} closest are nodes:\n",
      "{'name': 'The Showdown'}\n",
      "{'name': 'Deas Vail'}\n",
      "{'name': 'Dry Kill Logic'}\n",
      "for node Q1254522- {} closest are nodes:\n",
      "{}\n",
      "{}\n",
      "{'name': 'Casting Crowns'}\n",
      "for node Q3497711- {'name': 'Steve Taylor'} closest are nodes:\n",
      "{'name': 'Steve Taylor'}\n",
      "{'name': 'Prunella Scales'}\n",
      "{'name': 'punk rock'}\n"
     ]
    },
    {
     "name": "stderr",
     "output_type": "stream",
     "text": [
      " 87%|████████▋ | 871007/1000000 [5:28:34<55:46, 38.55it/s]  "
     ]
    },
    {
     "name": "stdout",
     "output_type": "stream",
     "text": [
      "training loss at epoch 871000: 0.14277558028697968\n"
     ]
    },
    {
     "name": "stderr",
     "output_type": "stream",
     "text": [
      " 87%|████████▋ | 872006/1000000 [5:28:57<1:00:13, 35.42it/s]"
     ]
    },
    {
     "name": "stdout",
     "output_type": "stream",
     "text": [
      "training loss at epoch 872000: 0.1287500113248825\n"
     ]
    },
    {
     "name": "stderr",
     "output_type": "stream",
     "text": [
      " 87%|████████▋ | 873005/1000000 [5:29:19<58:35, 36.12it/s]  "
     ]
    },
    {
     "name": "stdout",
     "output_type": "stream",
     "text": [
      "training loss at epoch 873000: 0.14322324097156525\n"
     ]
    },
    {
     "name": "stderr",
     "output_type": "stream",
     "text": [
      " 87%|████████▋ | 874008/1000000 [5:29:42<55:10, 38.05it/s]"
     ]
    },
    {
     "name": "stdout",
     "output_type": "stream",
     "text": [
      "training loss at epoch 874000: 0.14604011178016663\n"
     ]
    },
    {
     "name": "stderr",
     "output_type": "stream",
     "text": [
      " 88%|████████▊ | 875007/1000000 [5:30:05<56:09, 37.10it/s]  "
     ]
    },
    {
     "name": "stdout",
     "output_type": "stream",
     "text": [
      "training loss at epoch 875000: 0.1565479189157486\n"
     ]
    },
    {
     "name": "stderr",
     "output_type": "stream",
     "text": [
      " 88%|████████▊ | 876006/1000000 [5:30:28<54:20, 38.03it/s]"
     ]
    },
    {
     "name": "stdout",
     "output_type": "stream",
     "text": [
      "training loss at epoch 876000: 0.14815542101860046\n"
     ]
    },
    {
     "name": "stderr",
     "output_type": "stream",
     "text": [
      " 88%|████████▊ | 877005/1000000 [5:30:50<57:07, 35.88it/s]"
     ]
    },
    {
     "name": "stdout",
     "output_type": "stream",
     "text": [
      "training loss at epoch 877000: 0.14159618318080902\n"
     ]
    },
    {
     "name": "stderr",
     "output_type": "stream",
     "text": [
      " 88%|████████▊ | 878009/1000000 [5:31:13<56:23, 36.05it/s]"
     ]
    },
    {
     "name": "stdout",
     "output_type": "stream",
     "text": [
      "training loss at epoch 878000: 0.1456654816865921\n"
     ]
    },
    {
     "name": "stderr",
     "output_type": "stream",
     "text": [
      " 88%|████████▊ | 879008/1000000 [5:31:36<56:18, 35.81it/s]"
     ]
    },
    {
     "name": "stdout",
     "output_type": "stream",
     "text": [
      "training loss at epoch 879000: 0.16132499277591705\n"
     ]
    },
    {
     "name": "stderr",
     "output_type": "stream",
     "text": [
      " 88%|████████▊ | 880007/1000000 [5:31:59<1:00:38, 32.98it/s]"
     ]
    },
    {
     "name": "stdout",
     "output_type": "stream",
     "text": [
      "training loss at epoch 880000: 0.10840015113353729\n",
      "for node Q880845- {'name': 'Blackhawk'} closest are nodes:\n",
      "{'name': 'Blackhawk'}\n",
      "{'name': 'Jypsi'}\n",
      "{'name': 'The Henningsens'}\n",
      "for node Q18217727- {'name': 'Patrick Wimberly'} closest are nodes:\n",
      "{'name': 'Aaron Pfenning'}\n",
      "{'name': 'Patrick Wimberly'}\n",
      "{'name': 'Caroline Polachek'}\n",
      "for node Q5300517- {'name': 'Doug Gray'} closest are nodes:\n",
      "{'name': 'Doug Gray'}\n",
      "{'name': 'Orquesta La Solución de Puerto Rico'}\n",
      "{'name': 'Holy Sons'}\n"
     ]
    },
    {
     "name": "stderr",
     "output_type": "stream",
     "text": [
      " 88%|████████▊ | 881009/1000000 [5:32:21<57:02, 34.77it/s]  "
     ]
    },
    {
     "name": "stdout",
     "output_type": "stream",
     "text": [
      "training loss at epoch 881000: 0.1397482454776764\n"
     ]
    },
    {
     "name": "stderr",
     "output_type": "stream",
     "text": [
      " 88%|████████▊ | 882010/1000000 [5:32:44<52:35, 37.39it/s]"
     ]
    },
    {
     "name": "stdout",
     "output_type": "stream",
     "text": [
      "training loss at epoch 882000: 0.1461186707019806\n"
     ]
    },
    {
     "name": "stderr",
     "output_type": "stream",
     "text": [
      " 88%|████████▊ | 883010/1000000 [5:33:07<53:45, 36.27it/s]"
     ]
    },
    {
     "name": "stdout",
     "output_type": "stream",
     "text": [
      "training loss at epoch 883000: 0.16320644319057465\n"
     ]
    },
    {
     "name": "stderr",
     "output_type": "stream",
     "text": [
      " 88%|████████▊ | 884009/1000000 [5:33:30<56:16, 34.36it/s]"
     ]
    },
    {
     "name": "stdout",
     "output_type": "stream",
     "text": [
      "training loss at epoch 884000: 0.1536799967288971\n"
     ]
    },
    {
     "name": "stderr",
     "output_type": "stream",
     "text": [
      " 89%|████████▊ | 885007/1000000 [5:33:52<52:31, 36.49it/s]"
     ]
    },
    {
     "name": "stdout",
     "output_type": "stream",
     "text": [
      "training loss at epoch 885000: 0.16071520745754242\n"
     ]
    },
    {
     "name": "stderr",
     "output_type": "stream",
     "text": [
      " 89%|████████▊ | 886008/1000000 [5:34:15<52:09, 36.43it/s]"
     ]
    },
    {
     "name": "stdout",
     "output_type": "stream",
     "text": [
      "training loss at epoch 886000: 0.15358048677444458\n"
     ]
    },
    {
     "name": "stderr",
     "output_type": "stream",
     "text": [
      " 89%|████████▊ | 887008/1000000 [5:34:38<50:00, 37.66it/s]"
     ]
    },
    {
     "name": "stdout",
     "output_type": "stream",
     "text": [
      "training loss at epoch 887000: 0.14608843624591827\n"
     ]
    },
    {
     "name": "stderr",
     "output_type": "stream",
     "text": [
      " 89%|████████▉ | 888009/1000000 [5:35:01<50:34, 36.91it/s]"
     ]
    },
    {
     "name": "stdout",
     "output_type": "stream",
     "text": [
      "training loss at epoch 888000: 0.16664232313632965\n"
     ]
    },
    {
     "name": "stderr",
     "output_type": "stream",
     "text": [
      " 89%|████████▉ | 889008/1000000 [5:35:24<54:19, 34.05it/s]"
     ]
    },
    {
     "name": "stdout",
     "output_type": "stream",
     "text": [
      "training loss at epoch 889000: 0.13388213515281677\n"
     ]
    },
    {
     "name": "stderr",
     "output_type": "stream",
     "text": [
      " 89%|████████▉ | 890006/1000000 [5:35:47<48:53, 37.49it/s]"
     ]
    },
    {
     "name": "stdout",
     "output_type": "stream",
     "text": [
      "training loss at epoch 890000: 0.14794611930847168\n",
      "for node Q1123938- {'name': 'The Dresden Dolls'} closest are nodes:\n",
      "{'name': 'Evelyn Evelyn'}\n",
      "{'name': 'The Dresden Dolls'}\n",
      "{'name': 'Kool A.D.'}\n",
      "for node Q6213319- {'name': 'Joel Cohen'} closest are nodes:\n",
      "{'name': 'Joel Cohen'}\n",
      "{'name': 'Dov Rosenblatt'}\n",
      "{}\n",
      "for node Q16835666- {'name': 'The Esoteric'} closest are nodes:\n",
      "{'name': 'The Esoteric'}\n",
      "{'name': 'Tad'}\n",
      "{}\n"
     ]
    },
    {
     "name": "stderr",
     "output_type": "stream",
     "text": [
      " 89%|████████▉ | 891006/1000000 [5:36:10<50:28, 35.99it/s]"
     ]
    },
    {
     "name": "stdout",
     "output_type": "stream",
     "text": [
      "training loss at epoch 891000: 0.14456650614738464\n"
     ]
    },
    {
     "name": "stderr",
     "output_type": "stream",
     "text": [
      " 89%|████████▉ | 892006/1000000 [5:36:32<48:56, 36.78it/s]"
     ]
    },
    {
     "name": "stdout",
     "output_type": "stream",
     "text": [
      "training loss at epoch 892000: 0.15027335286140442\n"
     ]
    },
    {
     "name": "stderr",
     "output_type": "stream",
     "text": [
      " 89%|████████▉ | 893006/1000000 [5:36:55<48:31, 36.75it/s]"
     ]
    },
    {
     "name": "stdout",
     "output_type": "stream",
     "text": [
      "training loss at epoch 893000: 0.14558812975883484\n"
     ]
    },
    {
     "name": "stderr",
     "output_type": "stream",
     "text": [
      " 89%|████████▉ | 894006/1000000 [5:37:18<46:56, 37.63it/s]"
     ]
    },
    {
     "name": "stdout",
     "output_type": "stream",
     "text": [
      "training loss at epoch 894000: 0.11610759794712067\n"
     ]
    },
    {
     "name": "stderr",
     "output_type": "stream",
     "text": [
      " 90%|████████▉ | 895006/1000000 [5:37:40<45:30, 38.46it/s]"
     ]
    },
    {
     "name": "stdout",
     "output_type": "stream",
     "text": [
      "training loss at epoch 895000: 0.13072311878204346\n"
     ]
    },
    {
     "name": "stderr",
     "output_type": "stream",
     "text": [
      " 90%|████████▉ | 896006/1000000 [5:38:03<48:18, 35.88it/s]"
     ]
    },
    {
     "name": "stdout",
     "output_type": "stream",
     "text": [
      "training loss at epoch 896000: 0.16461758315563202\n"
     ]
    },
    {
     "name": "stderr",
     "output_type": "stream",
     "text": [
      " 90%|████████▉ | 897006/1000000 [5:38:26<46:01, 37.29it/s]"
     ]
    },
    {
     "name": "stdout",
     "output_type": "stream",
     "text": [
      "training loss at epoch 897000: 0.1414886713027954\n"
     ]
    },
    {
     "name": "stderr",
     "output_type": "stream",
     "text": [
      " 90%|████████▉ | 898006/1000000 [5:38:48<44:52, 37.88it/s]"
     ]
    },
    {
     "name": "stdout",
     "output_type": "stream",
     "text": [
      "training loss at epoch 898000: 0.11666373163461685\n"
     ]
    },
    {
     "name": "stderr",
     "output_type": "stream",
     "text": [
      " 90%|████████▉ | 899005/1000000 [5:39:11<47:25, 35.50it/s]"
     ]
    },
    {
     "name": "stdout",
     "output_type": "stream",
     "text": [
      "training loss at epoch 899000: 0.15756303071975708\n"
     ]
    },
    {
     "name": "stderr",
     "output_type": "stream",
     "text": [
      " 90%|█████████ | 900007/1000000 [5:39:34<45:04, 36.97it/s]"
     ]
    },
    {
     "name": "stdout",
     "output_type": "stream",
     "text": [
      "training loss at epoch 900000: 0.16309362649917603\n",
      "for node Q5212716- {'name': 'Damn the Machine'} closest are nodes:\n",
      "{'name': 'Damn the Machine'}\n",
      "{'name': 'Krallice'}\n",
      "{}\n",
      "for node Q7447658- {} closest are nodes:\n",
      "{}\n",
      "{}\n",
      "{'name': 'Latin Playboys'}\n",
      "for node Q5439478- {'name': 'Fearless Four'} closest are nodes:\n",
      "{'name': 'Fearless Four'}\n",
      "{'name': 'The Wood Brothers'}\n",
      "{'name': 'Funky 4 + 1'}\n"
     ]
    },
    {
     "name": "stderr",
     "output_type": "stream",
     "text": [
      " 90%|█████████ | 901007/1000000 [5:39:57<44:06, 37.40it/s]"
     ]
    },
    {
     "name": "stdout",
     "output_type": "stream",
     "text": [
      "training loss at epoch 901000: 0.12463103234767914\n"
     ]
    },
    {
     "name": "stderr",
     "output_type": "stream",
     "text": [
      " 90%|█████████ | 902007/1000000 [5:40:19<42:51, 38.11it/s]"
     ]
    },
    {
     "name": "stdout",
     "output_type": "stream",
     "text": [
      "training loss at epoch 902000: 0.1394311636686325\n"
     ]
    },
    {
     "name": "stderr",
     "output_type": "stream",
     "text": [
      " 90%|█████████ | 903007/1000000 [5:40:42<43:20, 37.29it/s]"
     ]
    },
    {
     "name": "stdout",
     "output_type": "stream",
     "text": [
      "training loss at epoch 903000: 0.1706347018480301\n"
     ]
    },
    {
     "name": "stderr",
     "output_type": "stream",
     "text": [
      " 90%|█████████ | 904006/1000000 [5:41:05<43:24, 36.86it/s]"
     ]
    },
    {
     "name": "stdout",
     "output_type": "stream",
     "text": [
      "training loss at epoch 904000: 0.1675587296485901\n"
     ]
    },
    {
     "name": "stderr",
     "output_type": "stream",
     "text": [
      " 91%|█████████ | 905006/1000000 [5:41:28<41:21, 38.29it/s]"
     ]
    },
    {
     "name": "stdout",
     "output_type": "stream",
     "text": [
      "training loss at epoch 905000: 0.14512629806995392\n"
     ]
    },
    {
     "name": "stderr",
     "output_type": "stream",
     "text": [
      " 91%|█████████ | 906006/1000000 [5:41:50<42:56, 36.48it/s]"
     ]
    },
    {
     "name": "stdout",
     "output_type": "stream",
     "text": [
      "training loss at epoch 906000: 0.14387443661689758\n"
     ]
    },
    {
     "name": "stderr",
     "output_type": "stream",
     "text": [
      " 91%|█████████ | 907006/1000000 [5:42:13<42:42, 36.28it/s]"
     ]
    },
    {
     "name": "stdout",
     "output_type": "stream",
     "text": [
      "training loss at epoch 907000: 0.13201206922531128\n"
     ]
    },
    {
     "name": "stderr",
     "output_type": "stream",
     "text": [
      " 91%|█████████ | 908008/1000000 [5:42:36<39:43, 38.60it/s]"
     ]
    },
    {
     "name": "stdout",
     "output_type": "stream",
     "text": [
      "training loss at epoch 908000: 0.1054520532488823\n"
     ]
    },
    {
     "name": "stderr",
     "output_type": "stream",
     "text": [
      " 91%|█████████ | 909007/1000000 [5:42:59<42:28, 35.71it/s]"
     ]
    },
    {
     "name": "stdout",
     "output_type": "stream",
     "text": [
      "training loss at epoch 909000: 0.13685502111911774\n"
     ]
    },
    {
     "name": "stderr",
     "output_type": "stream",
     "text": [
      " 91%|█████████ | 910006/1000000 [5:43:21<43:27, 34.51it/s]"
     ]
    },
    {
     "name": "stdout",
     "output_type": "stream",
     "text": [
      "training loss at epoch 910000: 0.13625195622444153\n",
      "for node Q2005372- {'name': 'Gregg Alexander'} closest are nodes:\n",
      "{'name': 'Gregg Alexander'}\n",
      "{'name': 'Longbranch/Pennywhistle'}\n",
      "{'name': 'Residente'}\n",
      "for node Q7735357- {'name': 'The Front Bottoms'} closest are nodes:\n",
      "{'name': 'The Front Bottoms'}\n",
      "{'name': 'Chocolate USA'}\n",
      "{}\n",
      "for node Q7727375- {'name': 'The Connie Dungs'} closest are nodes:\n",
      "{'name': 'The Connie Dungs'}\n",
      "{'name': 'Two Tongues'}\n",
      "{'name': 'Cash Cash'}\n"
     ]
    },
    {
     "name": "stderr",
     "output_type": "stream",
     "text": [
      " 91%|█████████ | 911006/1000000 [5:43:44<41:21, 35.86it/s]"
     ]
    },
    {
     "name": "stdout",
     "output_type": "stream",
     "text": [
      "training loss at epoch 911000: 0.15492691099643707\n"
     ]
    },
    {
     "name": "stderr",
     "output_type": "stream",
     "text": [
      " 91%|█████████ | 912006/1000000 [5:44:06<38:15, 38.33it/s]"
     ]
    },
    {
     "name": "stdout",
     "output_type": "stream",
     "text": [
      "training loss at epoch 912000: 0.13866783678531647\n"
     ]
    },
    {
     "name": "stderr",
     "output_type": "stream",
     "text": [
      " 91%|█████████▏| 913010/1000000 [5:44:29<38:32, 37.61it/s]"
     ]
    },
    {
     "name": "stdout",
     "output_type": "stream",
     "text": [
      "training loss at epoch 913000: 0.137506365776062\n"
     ]
    },
    {
     "name": "stderr",
     "output_type": "stream",
     "text": [
      " 91%|█████████▏| 914010/1000000 [5:44:52<38:18, 37.40it/s]"
     ]
    },
    {
     "name": "stdout",
     "output_type": "stream",
     "text": [
      "training loss at epoch 914000: 0.1290893703699112\n"
     ]
    },
    {
     "name": "stderr",
     "output_type": "stream",
     "text": [
      " 92%|█████████▏| 915009/1000000 [5:45:15<40:19, 35.13it/s]"
     ]
    },
    {
     "name": "stdout",
     "output_type": "stream",
     "text": [
      "training loss at epoch 915000: 0.13442383706569672\n"
     ]
    },
    {
     "name": "stderr",
     "output_type": "stream",
     "text": [
      " 92%|█████████▏| 916009/1000000 [5:45:38<37:23, 37.44it/s]"
     ]
    },
    {
     "name": "stdout",
     "output_type": "stream",
     "text": [
      "training loss at epoch 916000: 0.1552579700946808\n"
     ]
    },
    {
     "name": "stderr",
     "output_type": "stream",
     "text": [
      " 92%|█████████▏| 917007/1000000 [5:46:01<42:12, 32.77it/s]"
     ]
    },
    {
     "name": "stdout",
     "output_type": "stream",
     "text": [
      "training loss at epoch 917000: 0.14927521347999573\n"
     ]
    },
    {
     "name": "stderr",
     "output_type": "stream",
     "text": [
      " 92%|█████████▏| 918007/1000000 [5:46:24<41:01, 33.31it/s]"
     ]
    },
    {
     "name": "stdout",
     "output_type": "stream",
     "text": [
      "training loss at epoch 918000: 0.11842222511768341\n"
     ]
    },
    {
     "name": "stderr",
     "output_type": "stream",
     "text": [
      " 92%|█████████▏| 919009/1000000 [5:46:46<37:29, 36.01it/s]"
     ]
    },
    {
     "name": "stdout",
     "output_type": "stream",
     "text": [
      "training loss at epoch 919000: 0.12890590727329254\n"
     ]
    },
    {
     "name": "stderr",
     "output_type": "stream",
     "text": [
      " 92%|█████████▏| 920008/1000000 [5:47:09<35:17, 37.77it/s]"
     ]
    },
    {
     "name": "stdout",
     "output_type": "stream",
     "text": [
      "training loss at epoch 920000: 0.14304497838020325\n",
      "for node Q1051751- {'name': 'Cavalera Conspiracy'} closest are nodes:\n",
      "{'name': 'Cavalera Conspiracy'}\n",
      "{'name': 'The Roots'}\n",
      "{'name': 'Trivium'}\n",
      "for node Q1950423- {'name': 'Slum Village'} closest are nodes:\n",
      "{'name': \"Eternity's Children\"}\n",
      "{'name': 'Seatrain'}\n",
      "{'name': 'King Harvest'}\n",
      "for node Q5754809- {} closest are nodes:\n",
      "{}\n",
      "{}\n",
      "{'name': 'David Hood'}\n"
     ]
    },
    {
     "name": "stderr",
     "output_type": "stream",
     "text": [
      " 92%|█████████▏| 921008/1000000 [5:47:31<34:20, 38.34it/s]"
     ]
    },
    {
     "name": "stdout",
     "output_type": "stream",
     "text": [
      "training loss at epoch 921000: 0.15915928781032562\n"
     ]
    },
    {
     "name": "stderr",
     "output_type": "stream",
     "text": [
      " 92%|█████████▏| 922007/1000000 [5:47:54<33:36, 38.68it/s]"
     ]
    },
    {
     "name": "stdout",
     "output_type": "stream",
     "text": [
      "training loss at epoch 922000: 0.15332521498203278\n"
     ]
    },
    {
     "name": "stderr",
     "output_type": "stream",
     "text": [
      " 92%|█████████▏| 923007/1000000 [5:48:17<34:08, 37.58it/s]"
     ]
    },
    {
     "name": "stdout",
     "output_type": "stream",
     "text": [
      "training loss at epoch 923000: 0.19027045369148254\n"
     ]
    },
    {
     "name": "stderr",
     "output_type": "stream",
     "text": [
      " 92%|█████████▏| 924007/1000000 [5:48:39<33:21, 37.98it/s]"
     ]
    },
    {
     "name": "stdout",
     "output_type": "stream",
     "text": [
      "training loss at epoch 924000: 0.1284622997045517\n"
     ]
    },
    {
     "name": "stderr",
     "output_type": "stream",
     "text": [
      " 93%|█████████▎| 925006/1000000 [5:49:02<36:01, 34.70it/s]"
     ]
    },
    {
     "name": "stdout",
     "output_type": "stream",
     "text": [
      "training loss at epoch 925000: 0.15266840159893036\n"
     ]
    },
    {
     "name": "stderr",
     "output_type": "stream",
     "text": [
      " 93%|█████████▎| 926005/1000000 [5:49:25<37:01, 33.31it/s]"
     ]
    },
    {
     "name": "stdout",
     "output_type": "stream",
     "text": [
      "training loss at epoch 926000: 0.15489228069782257\n"
     ]
    },
    {
     "name": "stderr",
     "output_type": "stream",
     "text": [
      " 93%|█████████▎| 927008/1000000 [5:49:48<35:11, 34.57it/s]"
     ]
    },
    {
     "name": "stdout",
     "output_type": "stream",
     "text": [
      "training loss at epoch 927000: 0.14047758281230927\n"
     ]
    },
    {
     "name": "stderr",
     "output_type": "stream",
     "text": [
      " 93%|█████████▎| 928007/1000000 [5:50:11<33:48, 35.49it/s]"
     ]
    },
    {
     "name": "stdout",
     "output_type": "stream",
     "text": [
      "training loss at epoch 928000: 0.11665637791156769\n"
     ]
    },
    {
     "name": "stderr",
     "output_type": "stream",
     "text": [
      " 93%|█████████▎| 929006/1000000 [5:50:34<31:45, 37.25it/s]"
     ]
    },
    {
     "name": "stdout",
     "output_type": "stream",
     "text": [
      "training loss at epoch 929000: 0.13198882341384888\n"
     ]
    },
    {
     "name": "stderr",
     "output_type": "stream",
     "text": [
      " 93%|█████████▎| 930006/1000000 [5:50:56<30:46, 37.90it/s]"
     ]
    },
    {
     "name": "stdout",
     "output_type": "stream",
     "text": [
      "training loss at epoch 930000: 0.1565161496400833\n",
      "for node Q428798- {'name': 'Krist Novoselic'} closest are nodes:\n",
      "{'name': 'Krist Novoselic'}\n",
      "{'name': 'Corin Tucker'}\n",
      "{'name': 'J Dilla'}\n",
      "for node Q592398- {'name': 'The Young Veins'} closest are nodes:\n",
      "{'name': 'The Young Veins'}\n",
      "{'name': 'Nivek Ogre'}\n",
      "{'name': 'The Black Crowes'}\n",
      "for node Q1705347- {'name': 'Andy McCoy'} closest are nodes:\n",
      "{'name': 'Andy McCoy'}\n",
      "{'name': 'Dave Tregunna'}\n",
      "{'name': 'Paul Garisto'}\n"
     ]
    },
    {
     "name": "stderr",
     "output_type": "stream",
     "text": [
      " 93%|█████████▎| 931010/1000000 [5:51:19<29:52, 38.49it/s]"
     ]
    },
    {
     "name": "stdout",
     "output_type": "stream",
     "text": [
      "training loss at epoch 931000: 0.14377905428409576\n"
     ]
    },
    {
     "name": "stderr",
     "output_type": "stream",
     "text": [
      " 93%|█████████▎| 932010/1000000 [5:51:42<30:48, 36.78it/s]"
     ]
    },
    {
     "name": "stdout",
     "output_type": "stream",
     "text": [
      "training loss at epoch 932000: 0.12812699377536774\n"
     ]
    },
    {
     "name": "stderr",
     "output_type": "stream",
     "text": [
      " 93%|█████████▎| 933008/1000000 [5:52:05<28:54, 38.63it/s]"
     ]
    },
    {
     "name": "stdout",
     "output_type": "stream",
     "text": [
      "training loss at epoch 933000: 0.15043646097183228\n"
     ]
    },
    {
     "name": "stderr",
     "output_type": "stream",
     "text": [
      " 93%|█████████▎| 934008/1000000 [5:52:28<28:36, 38.44it/s]"
     ]
    },
    {
     "name": "stdout",
     "output_type": "stream",
     "text": [
      "training loss at epoch 934000: 0.14157742261886597\n"
     ]
    },
    {
     "name": "stderr",
     "output_type": "stream",
     "text": [
      " 94%|█████████▎| 935008/1000000 [5:52:50<29:12, 37.09it/s]"
     ]
    },
    {
     "name": "stdout",
     "output_type": "stream",
     "text": [
      "training loss at epoch 935000: 0.13713327050209045\n"
     ]
    },
    {
     "name": "stderr",
     "output_type": "stream",
     "text": [
      " 94%|█████████▎| 936006/1000000 [5:53:13<29:07, 36.61it/s]"
     ]
    },
    {
     "name": "stdout",
     "output_type": "stream",
     "text": [
      "training loss at epoch 936000: 0.1420268565416336\n"
     ]
    },
    {
     "name": "stderr",
     "output_type": "stream",
     "text": [
      " 94%|█████████▎| 937006/1000000 [5:53:36<27:06, 38.73it/s]"
     ]
    },
    {
     "name": "stdout",
     "output_type": "stream",
     "text": [
      "training loss at epoch 937000: 0.15012146532535553\n"
     ]
    },
    {
     "name": "stderr",
     "output_type": "stream",
     "text": [
      " 94%|█████████▍| 938006/1000000 [5:53:59<28:49, 35.85it/s]"
     ]
    },
    {
     "name": "stdout",
     "output_type": "stream",
     "text": [
      "training loss at epoch 938000: 0.12475722283124924\n"
     ]
    },
    {
     "name": "stderr",
     "output_type": "stream",
     "text": [
      " 94%|█████████▍| 939006/1000000 [5:54:22<27:26, 37.04it/s]"
     ]
    },
    {
     "name": "stdout",
     "output_type": "stream",
     "text": [
      "training loss at epoch 939000: 0.11235719919204712\n"
     ]
    },
    {
     "name": "stderr",
     "output_type": "stream",
     "text": [
      " 94%|█████████▍| 940005/1000000 [5:54:44<28:52, 34.62it/s]"
     ]
    },
    {
     "name": "stdout",
     "output_type": "stream",
     "text": [
      "training loss at epoch 940000: 0.12938790023326874\n",
      "for node Q507327- {'name': 'Allman Brothers Band'} closest are nodes:\n",
      "{'name': 'Allman Brothers Band'}\n",
      "{'name': 'Tommy Stewart'}\n",
      "{'name': 'Antigone Rising'}\n",
      "for node Q353269- {'name': 'Eddie Edwards'} closest are nodes:\n",
      "{'name': 'Larry Shields'}\n",
      "{'name': 'Eddie Edwards'}\n",
      "{'name': 'Henry Ragas'}\n",
      "for node Q1473012- {'name': 'Lazlo Bane'} closest are nodes:\n",
      "{'name': 'Lazlo Bane'}\n",
      "{'name': 'Cupcakes'}\n",
      "{'name': 'Bad Astronaut'}\n"
     ]
    },
    {
     "name": "stderr",
     "output_type": "stream",
     "text": [
      " 94%|█████████▍| 941010/1000000 [5:55:07<25:52, 37.99it/s]"
     ]
    },
    {
     "name": "stdout",
     "output_type": "stream",
     "text": [
      "training loss at epoch 941000: 0.14185261726379395\n"
     ]
    },
    {
     "name": "stderr",
     "output_type": "stream",
     "text": [
      " 94%|█████████▍| 942006/1000000 [5:55:30<27:51, 34.69it/s]"
     ]
    },
    {
     "name": "stdout",
     "output_type": "stream",
     "text": [
      "training loss at epoch 942000: 0.1469516009092331\n"
     ]
    },
    {
     "name": "stderr",
     "output_type": "stream",
     "text": [
      " 94%|█████████▍| 943006/1000000 [5:55:53<27:25, 34.64it/s]"
     ]
    },
    {
     "name": "stdout",
     "output_type": "stream",
     "text": [
      "training loss at epoch 943000: 0.1384296864271164\n"
     ]
    },
    {
     "name": "stderr",
     "output_type": "stream",
     "text": [
      " 94%|█████████▍| 944005/1000000 [5:56:16<26:12, 35.60it/s]"
     ]
    },
    {
     "name": "stdout",
     "output_type": "stream",
     "text": [
      "training loss at epoch 944000: 0.15250179171562195\n"
     ]
    },
    {
     "name": "stderr",
     "output_type": "stream",
     "text": [
      " 95%|█████████▍| 945010/1000000 [5:56:39<26:15, 34.90it/s]"
     ]
    },
    {
     "name": "stdout",
     "output_type": "stream",
     "text": [
      "training loss at epoch 945000: 0.11408935487270355\n"
     ]
    },
    {
     "name": "stderr",
     "output_type": "stream",
     "text": [
      " 95%|█████████▍| 946010/1000000 [5:57:02<23:52, 37.68it/s]"
     ]
    },
    {
     "name": "stdout",
     "output_type": "stream",
     "text": [
      "training loss at epoch 946000: 0.19025880098342896\n"
     ]
    },
    {
     "name": "stderr",
     "output_type": "stream",
     "text": [
      " 95%|█████████▍| 947008/1000000 [5:57:24<22:50, 38.68it/s]"
     ]
    },
    {
     "name": "stdout",
     "output_type": "stream",
     "text": [
      "training loss at epoch 947000: 0.15079575777053833\n"
     ]
    },
    {
     "name": "stderr",
     "output_type": "stream",
     "text": [
      " 95%|█████████▍| 948008/1000000 [5:57:47<22:37, 38.29it/s]"
     ]
    },
    {
     "name": "stdout",
     "output_type": "stream",
     "text": [
      "training loss at epoch 948000: 0.17465092241764069\n"
     ]
    },
    {
     "name": "stderr",
     "output_type": "stream",
     "text": [
      " 95%|█████████▍| 949008/1000000 [5:58:09<22:01, 38.59it/s]"
     ]
    },
    {
     "name": "stdout",
     "output_type": "stream",
     "text": [
      "training loss at epoch 949000: 0.12188614159822464\n"
     ]
    },
    {
     "name": "stderr",
     "output_type": "stream",
     "text": [
      " 95%|█████████▌| 950005/1000000 [5:58:32<24:40, 33.77it/s]"
     ]
    },
    {
     "name": "stdout",
     "output_type": "stream",
     "text": [
      "training loss at epoch 950000: 0.14523003995418549\n",
      "for node Q6901277- {'name': 'Mono Men'} closest are nodes:\n",
      "{'name': 'Blood Circus'}\n",
      "{'name': 'Dickless'}\n",
      "{'name': 'Mono Men'}\n",
      "for node Q4817234- {'name': 'Atombombpocketknife'} closest are nodes:\n",
      "{'name': 'Atombombpocketknife'}\n",
      "{'name': '90 Day Men'}\n",
      "{'name': 'Rex'}\n",
      "for node Q4031903- {'name': '5ive'} closest are nodes:\n",
      "{'name': '5ive'}\n",
      "{'name': 'House of Low Culture'}\n",
      "{'name': 'Adam Nathanson'}\n"
     ]
    },
    {
     "name": "stderr",
     "output_type": "stream",
     "text": [
      " 95%|█████████▌| 951010/1000000 [5:58:55<20:53, 39.09it/s]"
     ]
    },
    {
     "name": "stdout",
     "output_type": "stream",
     "text": [
      "training loss at epoch 951000: 0.10937780886888504\n"
     ]
    },
    {
     "name": "stderr",
     "output_type": "stream",
     "text": [
      " 95%|█████████▌| 952010/1000000 [5:59:18<22:41, 35.24it/s]"
     ]
    },
    {
     "name": "stdout",
     "output_type": "stream",
     "text": [
      "training loss at epoch 952000: 0.1195160299539566\n"
     ]
    },
    {
     "name": "stderr",
     "output_type": "stream",
     "text": [
      " 95%|█████████▌| 953007/1000000 [5:59:40<20:33, 38.08it/s]"
     ]
    },
    {
     "name": "stdout",
     "output_type": "stream",
     "text": [
      "training loss at epoch 953000: 0.12415791302919388\n"
     ]
    },
    {
     "name": "stderr",
     "output_type": "stream",
     "text": [
      " 95%|█████████▌| 954006/1000000 [6:00:03<21:05, 36.36it/s]"
     ]
    },
    {
     "name": "stdout",
     "output_type": "stream",
     "text": [
      "training loss at epoch 954000: 0.15296074748039246\n"
     ]
    },
    {
     "name": "stderr",
     "output_type": "stream",
     "text": [
      " 96%|█████████▌| 955007/1000000 [6:00:26<22:05, 33.95it/s]"
     ]
    },
    {
     "name": "stdout",
     "output_type": "stream",
     "text": [
      "training loss at epoch 955000: 0.1661010980606079\n"
     ]
    },
    {
     "name": "stderr",
     "output_type": "stream",
     "text": [
      " 96%|█████████▌| 956009/1000000 [6:00:50<19:46, 37.06it/s]"
     ]
    },
    {
     "name": "stdout",
     "output_type": "stream",
     "text": [
      "training loss at epoch 956000: 0.1435118168592453\n"
     ]
    },
    {
     "name": "stderr",
     "output_type": "stream",
     "text": [
      " 96%|█████████▌| 957009/1000000 [6:01:13<20:50, 34.38it/s]"
     ]
    },
    {
     "name": "stdout",
     "output_type": "stream",
     "text": [
      "training loss at epoch 957000: 0.15448440611362457\n"
     ]
    },
    {
     "name": "stderr",
     "output_type": "stream",
     "text": [
      " 96%|█████████▌| 958009/1000000 [6:01:35<18:59, 36.85it/s]"
     ]
    },
    {
     "name": "stdout",
     "output_type": "stream",
     "text": [
      "training loss at epoch 958000: 0.15523172914981842\n"
     ]
    },
    {
     "name": "stderr",
     "output_type": "stream",
     "text": [
      " 96%|█████████▌| 959009/1000000 [6:01:58<17:54, 38.14it/s]"
     ]
    },
    {
     "name": "stdout",
     "output_type": "stream",
     "text": [
      "training loss at epoch 959000: 0.14023366570472717\n"
     ]
    },
    {
     "name": "stderr",
     "output_type": "stream",
     "text": [
      " 96%|█████████▌| 960007/1000000 [6:02:21<18:05, 36.84it/s]"
     ]
    },
    {
     "name": "stdout",
     "output_type": "stream",
     "text": [
      "training loss at epoch 960000: 0.1437605619430542\n",
      "for node Q1673071- {'name': 'Iron Cross'} closest are nodes:\n",
      "{'name': 'Gray Matter'}\n",
      "{'name': 'Fire Party'}\n",
      "{'name': 'Government Issue'}\n",
      "for node Q5969709- {'name': 'The Thad Jones/Mel Lewis Orchestra'} closest are nodes:\n",
      "{'name': 'The Thad Jones/Mel Lewis Orchestra'}\n",
      "{'name': 'Medeski Martin & Wood'}\n",
      "{'name': 'Sweet Smoke'}\n",
      "for node Q16834062- {'name': 'Dungeonesse'} closest are nodes:\n",
      "{'name': 'Dungeonesse'}\n",
      "{'name': 'Windsor for the Derby'}\n",
      "{}\n"
     ]
    },
    {
     "name": "stderr",
     "output_type": "stream",
     "text": [
      " 96%|█████████▌| 961008/1000000 [6:02:45<18:24, 35.30it/s]"
     ]
    },
    {
     "name": "stdout",
     "output_type": "stream",
     "text": [
      "training loss at epoch 961000: 0.16400057077407837\n"
     ]
    },
    {
     "name": "stderr",
     "output_type": "stream",
     "text": [
      " 96%|█████████▌| 962008/1000000 [6:03:08<16:59, 37.28it/s]"
     ]
    },
    {
     "name": "stdout",
     "output_type": "stream",
     "text": [
      "training loss at epoch 962000: 0.1514236330986023\n"
     ]
    },
    {
     "name": "stderr",
     "output_type": "stream",
     "text": [
      " 96%|█████████▋| 963006/1000000 [6:03:31<16:07, 38.23it/s]"
     ]
    },
    {
     "name": "stdout",
     "output_type": "stream",
     "text": [
      "training loss at epoch 963000: 0.11913923174142838\n"
     ]
    },
    {
     "name": "stderr",
     "output_type": "stream",
     "text": [
      " 96%|█████████▋| 964006/1000000 [6:03:54<15:35, 38.47it/s]"
     ]
    },
    {
     "name": "stdout",
     "output_type": "stream",
     "text": [
      "training loss at epoch 964000: 0.15981371700763702\n"
     ]
    },
    {
     "name": "stderr",
     "output_type": "stream",
     "text": [
      " 97%|█████████▋| 965005/1000000 [6:04:16<17:23, 33.55it/s]"
     ]
    },
    {
     "name": "stdout",
     "output_type": "stream",
     "text": [
      "training loss at epoch 965000: 0.13091637194156647\n"
     ]
    },
    {
     "name": "stderr",
     "output_type": "stream",
     "text": [
      " 97%|█████████▋| 966009/1000000 [6:04:39<15:36, 36.28it/s]"
     ]
    },
    {
     "name": "stdout",
     "output_type": "stream",
     "text": [
      "training loss at epoch 966000: 0.1512419432401657\n"
     ]
    },
    {
     "name": "stderr",
     "output_type": "stream",
     "text": [
      " 97%|█████████▋| 967009/1000000 [6:05:02<15:17, 35.97it/s]"
     ]
    },
    {
     "name": "stdout",
     "output_type": "stream",
     "text": [
      "training loss at epoch 967000: 0.14504796266555786\n"
     ]
    },
    {
     "name": "stderr",
     "output_type": "stream",
     "text": [
      " 97%|█████████▋| 968006/1000000 [6:05:25<14:13, 37.48it/s]"
     ]
    },
    {
     "name": "stdout",
     "output_type": "stream",
     "text": [
      "training loss at epoch 968000: 0.14855287969112396\n"
     ]
    },
    {
     "name": "stderr",
     "output_type": "stream",
     "text": [
      " 97%|█████████▋| 969008/1000000 [6:05:48<13:33, 38.10it/s]"
     ]
    },
    {
     "name": "stdout",
     "output_type": "stream",
     "text": [
      "training loss at epoch 969000: 0.1461706906557083\n"
     ]
    },
    {
     "name": "stderr",
     "output_type": "stream",
     "text": [
      " 97%|█████████▋| 970007/1000000 [6:06:11<14:19, 34.89it/s]"
     ]
    },
    {
     "name": "stdout",
     "output_type": "stream",
     "text": [
      "training loss at epoch 970000: 0.16095224022865295\n",
      "for node Q7975669- {'name': 'Wax Murdaraz'} closest are nodes:\n",
      "{'name': 'Wax Murdaraz'}\n",
      "{'name': 'Lil Soldiers'}\n",
      "{'name': 'Ghetto Commission'}\n",
      "for node Q7969695- {} closest are nodes:\n",
      "{}\n",
      "{'name': 'Over It'}\n",
      "{}\n",
      "for node Q800133- {'name': 'I Set My Friends On Fire'} closest are nodes:\n",
      "{'name': 'Hiretsukan'}\n",
      "{'name': 'Loma Prieta'}\n",
      "{'name': 'Pg. 99'}\n"
     ]
    },
    {
     "name": "stderr",
     "output_type": "stream",
     "text": [
      " 97%|█████████▋| 971009/1000000 [6:06:34<13:28, 35.85it/s]"
     ]
    },
    {
     "name": "stdout",
     "output_type": "stream",
     "text": [
      "training loss at epoch 971000: 0.1395043432712555\n"
     ]
    },
    {
     "name": "stderr",
     "output_type": "stream",
     "text": [
      " 97%|█████████▋| 972007/1000000 [6:06:57<13:15, 35.21it/s]"
     ]
    },
    {
     "name": "stdout",
     "output_type": "stream",
     "text": [
      "training loss at epoch 972000: 0.12982255220413208\n"
     ]
    },
    {
     "name": "stderr",
     "output_type": "stream",
     "text": [
      " 97%|█████████▋| 973007/1000000 [6:07:19<12:04, 37.26it/s]"
     ]
    },
    {
     "name": "stdout",
     "output_type": "stream",
     "text": [
      "training loss at epoch 973000: 0.1111828088760376\n"
     ]
    },
    {
     "name": "stderr",
     "output_type": "stream",
     "text": [
      " 97%|█████████▋| 974007/1000000 [6:07:42<11:35, 37.37it/s]"
     ]
    },
    {
     "name": "stdout",
     "output_type": "stream",
     "text": [
      "training loss at epoch 974000: 0.12812291085720062\n"
     ]
    },
    {
     "name": "stderr",
     "output_type": "stream",
     "text": [
      " 98%|█████████▊| 975009/1000000 [6:08:05<12:15, 33.98it/s]"
     ]
    },
    {
     "name": "stdout",
     "output_type": "stream",
     "text": [
      "training loss at epoch 975000: 0.12688595056533813\n"
     ]
    },
    {
     "name": "stderr",
     "output_type": "stream",
     "text": [
      " 98%|█████████▊| 976007/1000000 [6:08:27<11:10, 35.80it/s]"
     ]
    },
    {
     "name": "stdout",
     "output_type": "stream",
     "text": [
      "training loss at epoch 976000: 0.1380462944507599\n"
     ]
    },
    {
     "name": "stderr",
     "output_type": "stream",
     "text": [
      " 98%|█████████▊| 977007/1000000 [6:08:50<09:56, 38.55it/s]"
     ]
    },
    {
     "name": "stdout",
     "output_type": "stream",
     "text": [
      "training loss at epoch 977000: 0.12482606619596481\n"
     ]
    },
    {
     "name": "stderr",
     "output_type": "stream",
     "text": [
      " 98%|█████████▊| 978007/1000000 [6:09:13<09:51, 37.20it/s]"
     ]
    },
    {
     "name": "stdout",
     "output_type": "stream",
     "text": [
      "training loss at epoch 978000: 0.1272461861371994\n"
     ]
    },
    {
     "name": "stderr",
     "output_type": "stream",
     "text": [
      " 98%|█████████▊| 979010/1000000 [6:09:35<09:37, 36.36it/s]"
     ]
    },
    {
     "name": "stdout",
     "output_type": "stream",
     "text": [
      "training loss at epoch 979000: 0.12847277522087097\n"
     ]
    },
    {
     "name": "stderr",
     "output_type": "stream",
     "text": [
      " 98%|█████████▊| 980009/1000000 [6:09:58<09:21, 35.59it/s]"
     ]
    },
    {
     "name": "stdout",
     "output_type": "stream",
     "text": [
      "training loss at epoch 980000: 0.17222172021865845\n",
      "for node Q2872627- {'name': 'Automato'} closest are nodes:\n",
      "{'name': 'Da Lench Mob'}\n",
      "{'name': 'Hotstylz'}\n",
      "{'name': 'Bravehearts'}\n",
      "for node Q27037164- {} closest are nodes:\n",
      "{}\n",
      "{}\n",
      "{'name': 'Season to Risk'}\n",
      "for node Q631595- {'name': 'Arcana'} closest are nodes:\n",
      "{'name': 'Material'}\n",
      "{'name': 'Arcana'}\n",
      "{'name': 'Praxis'}\n"
     ]
    },
    {
     "name": "stderr",
     "output_type": "stream",
     "text": [
      " 98%|█████████▊| 981009/1000000 [6:10:21<10:18, 30.71it/s]"
     ]
    },
    {
     "name": "stdout",
     "output_type": "stream",
     "text": [
      "training loss at epoch 981000: 0.13768227398395538\n"
     ]
    },
    {
     "name": "stderr",
     "output_type": "stream",
     "text": [
      " 98%|█████████▊| 982009/1000000 [6:10:43<08:11, 36.62it/s]"
     ]
    },
    {
     "name": "stdout",
     "output_type": "stream",
     "text": [
      "training loss at epoch 982000: 0.11204962432384491\n"
     ]
    },
    {
     "name": "stderr",
     "output_type": "stream",
     "text": [
      " 98%|█████████▊| 983009/1000000 [6:11:06<07:32, 37.57it/s]"
     ]
    },
    {
     "name": "stdout",
     "output_type": "stream",
     "text": [
      "training loss at epoch 983000: 0.13202020525932312\n"
     ]
    },
    {
     "name": "stderr",
     "output_type": "stream",
     "text": [
      " 98%|█████████▊| 984007/1000000 [6:11:29<07:09, 37.25it/s]"
     ]
    },
    {
     "name": "stdout",
     "output_type": "stream",
     "text": [
      "training loss at epoch 984000: 0.13800372183322906\n"
     ]
    },
    {
     "name": "stderr",
     "output_type": "stream",
     "text": [
      " 99%|█████████▊| 985010/1000000 [6:11:52<07:08, 34.99it/s]"
     ]
    },
    {
     "name": "stdout",
     "output_type": "stream",
     "text": [
      "training loss at epoch 985000: 0.1632503867149353\n"
     ]
    },
    {
     "name": "stderr",
     "output_type": "stream",
     "text": [
      " 99%|█████████▊| 986009/1000000 [6:12:14<06:37, 35.20it/s]"
     ]
    },
    {
     "name": "stdout",
     "output_type": "stream",
     "text": [
      "training loss at epoch 986000: 0.1589427888393402\n"
     ]
    },
    {
     "name": "stderr",
     "output_type": "stream",
     "text": [
      " 99%|█████████▊| 987007/1000000 [6:12:37<07:03, 30.70it/s]"
     ]
    },
    {
     "name": "stdout",
     "output_type": "stream",
     "text": [
      "training loss at epoch 987000: 0.13392552733421326\n"
     ]
    },
    {
     "name": "stderr",
     "output_type": "stream",
     "text": [
      " 99%|█████████▉| 988006/1000000 [6:13:00<05:23, 37.11it/s]"
     ]
    },
    {
     "name": "stdout",
     "output_type": "stream",
     "text": [
      "training loss at epoch 988000: 0.12684640288352966\n"
     ]
    },
    {
     "name": "stderr",
     "output_type": "stream",
     "text": [
      " 99%|█████████▉| 989006/1000000 [6:13:23<04:53, 37.44it/s]"
     ]
    },
    {
     "name": "stdout",
     "output_type": "stream",
     "text": [
      "training loss at epoch 989000: 0.13261961936950684\n"
     ]
    },
    {
     "name": "stderr",
     "output_type": "stream",
     "text": [
      " 99%|█████████▉| 990007/1000000 [6:13:45<04:41, 35.46it/s]"
     ]
    },
    {
     "name": "stdout",
     "output_type": "stream",
     "text": [
      "training loss at epoch 990000: 0.1437162458896637\n",
      "for node Q2901172- {'name': 'The Butchies'} closest are nodes:\n",
      "{'name': 'The Butchies'}\n",
      "{'name': 'Steve Whiteman'}\n",
      "{'name': 'The Kickovers'}\n",
      "for node Q17182426- {'name': 'The Friggs'} closest are nodes:\n",
      "{'name': 'The Friggs'}\n",
      "{'name': 'LoCash'}\n",
      "{'name': \"Compton's Most Wanted\"}\n",
      "for node Q4770198- {'name': 'Anotha Level'} closest are nodes:\n",
      "{'name': 'Anotha Level'}\n",
      "{'name': 'TRU'}\n",
      "{'name': 'Purple Ribbon All-Stars'}\n"
     ]
    },
    {
     "name": "stderr",
     "output_type": "stream",
     "text": [
      " 99%|█████████▉| 991007/1000000 [6:14:08<04:03, 36.89it/s]"
     ]
    },
    {
     "name": "stdout",
     "output_type": "stream",
     "text": [
      "training loss at epoch 991000: 0.1548917591571808\n"
     ]
    },
    {
     "name": "stderr",
     "output_type": "stream",
     "text": [
      " 99%|█████████▉| 992005/1000000 [6:14:32<03:57, 33.66it/s]"
     ]
    },
    {
     "name": "stdout",
     "output_type": "stream",
     "text": [
      "training loss at epoch 992000: 0.14541038870811462\n"
     ]
    },
    {
     "name": "stderr",
     "output_type": "stream",
     "text": [
      " 99%|█████████▉| 993008/1000000 [6:14:54<03:03, 38.09it/s]"
     ]
    },
    {
     "name": "stdout",
     "output_type": "stream",
     "text": [
      "training loss at epoch 993000: 0.13910020887851715\n"
     ]
    },
    {
     "name": "stderr",
     "output_type": "stream",
     "text": [
      " 99%|█████████▉| 994009/1000000 [6:15:17<02:39, 37.64it/s]"
     ]
    },
    {
     "name": "stdout",
     "output_type": "stream",
     "text": [
      "training loss at epoch 994000: 0.11915678530931473\n"
     ]
    },
    {
     "name": "stderr",
     "output_type": "stream",
     "text": [
      "100%|█████████▉| 995010/1000000 [6:15:40<02:11, 37.89it/s]"
     ]
    },
    {
     "name": "stdout",
     "output_type": "stream",
     "text": [
      "training loss at epoch 995000: 0.13477495312690735\n"
     ]
    },
    {
     "name": "stderr",
     "output_type": "stream",
     "text": [
      "100%|█████████▉| 996009/1000000 [6:16:03<01:45, 37.75it/s]"
     ]
    },
    {
     "name": "stdout",
     "output_type": "stream",
     "text": [
      "training loss at epoch 996000: 0.10794022679328918\n"
     ]
    },
    {
     "name": "stderr",
     "output_type": "stream",
     "text": [
      "100%|█████████▉| 997009/1000000 [6:16:26<01:19, 37.49it/s]"
     ]
    },
    {
     "name": "stdout",
     "output_type": "stream",
     "text": [
      "training loss at epoch 997000: 0.14541037380695343\n"
     ]
    },
    {
     "name": "stderr",
     "output_type": "stream",
     "text": [
      "100%|█████████▉| 998007/1000000 [6:16:49<00:52, 38.16it/s]"
     ]
    },
    {
     "name": "stdout",
     "output_type": "stream",
     "text": [
      "training loss at epoch 998000: 0.13463060557842255\n"
     ]
    },
    {
     "name": "stderr",
     "output_type": "stream",
     "text": [
      "100%|█████████▉| 999005/1000000 [6:17:12<00:29, 34.30it/s]"
     ]
    },
    {
     "name": "stdout",
     "output_type": "stream",
     "text": [
      "training loss at epoch 999000: 0.11244864016771317\n"
     ]
    },
    {
     "name": "stderr",
     "output_type": "stream",
     "text": [
      "100%|██████████| 1000000/1000000 [6:17:34<00:00, 44.14it/s]\n"
     ]
    }
   ],
   "source": [
    "\"\"\"\n",
    "Training loop.\n",
    "\n",
    "Sample sets of relationships from sampled nodes and minimize their sampled_softmax_loss on\n",
    "all the nodes in the graph.\n",
    "\n",
    "Occasionally evaluate the most-similar output node vectors to our predictions\n",
    "\"\"\"\n",
    "PRINT_EVERY = 1000\n",
    "EVAL_EVERY = 10000\n",
    "INCREASE_BS_EVERY = 2000\n",
    "LEARNING_RATE = 0.5\n",
    "BATCH_SIZE = 4\n",
    "MAX_BATCH_SIZE = 256\n",
    "\n",
    "# increase batch size linearly\n",
    "def increase_bs(bs, mx):\n",
    "    return np.min([bs + 4, mx])\n",
    "\n",
    "optimizer = tf.optimizers.SGD(LEARNING_RATE)\n",
    "\n",
    "# monitor loss\n",
    "train_losses = []\n",
    "bs = BATCH_SIZE\n",
    "for ep in tqdm(range(0, 1000000)):\n",
    "    train_losses.append(run_optimization(*(l.get_batch(bs)), optimizer))\n",
    "    \n",
    "    if ep % PRINT_EVERY == 0:\n",
    "        print(f\"training loss at epoch {ep}: {np.mean(train_losses)}\")\n",
    "        train_losses = train_losses[-20:]\n",
    "        \n",
    "    if (ep % INCREASE_BS_EVERY == 0) and ep != 0:\n",
    "        increase_bs(bs, MAX_BATCH_SIZE)\n",
    "\n",
    "    # run an evaluation loop; pick random nodes+relations and find the most similar output nodes\n",
    "    if (ep % EVAL_EVERY == 0) and ep != 0:\n",
    "        batch_x, batch_y = l.get_batch(bs)\n",
    "        sim = evaluate(get_embedding(batch_x)).numpy()\n",
    "        for i in range(3):\n",
    "            top_k = 3  # number of nearest neighbors.\n",
    "            nearest = (-sim[i, :]).argsort()[:top_k]\n",
    "            print(f\"for node {l.node_id_inv[int(batch_y[i])]}- {music.nodes[l.node_id_inv[int(batch_y[i])]]} closest are nodes:\")\n",
    "\n",
    "            for k in range(top_k):\n",
    "                print(music.nodes[l.node_id_inv[nearest[k]]])"
   ]
  },
  {
   "cell_type": "code",
   "execution_count": 80,
   "metadata": {},
   "outputs": [
    {
     "name": "stdout",
     "output_type": "stream",
     "text": [
      "{'name': 'Traveling Wilburys'} 0.6650992\n"
     ]
    }
   ],
   "source": [
    "# ask the model a question\n",
    "def get_query(node_names, query_nodes):\n",
    "    query_nodes = [\n",
    "        l.node_ids[\n",
    "            [\n",
    "                i\n",
    "                for i in music.nodes\n",
    "                if \"name\" in music.nodes[i] and music.nodes[i][\"name\"] == z\n",
    "            ][0]\n",
    "        ]\n",
    "        for z in node_names\n",
    "    ]\n",
    "\n",
    "    query_rels = [l.rel_ids[z] for z in relationships]\n",
    "    return query_nodes, query_rels\n",
    "\n",
    "# \"what band has the relationship 'has_member' with both Tom Petty and Roy Orbison\"\n",
    "node_names = [\"Tom Petty\", \"Roy Orbison\"]\n",
    "relationships = [\"has_member\", \"has_member\"]\n",
    "\n",
    "query_nodes, query_rels = get_query(node_names, relationships)\n",
    "batch_x = [np.array(query_nodes).reshape(-1, 1),\n",
    "            np.array(query_rels).reshape(-1, 1)]\n",
    "\n",
    "# get most similar output vectors\n",
    "sim = evaluate(get_embedding(batch_x)).numpy()\n",
    "top_k = 1\n",
    "nearest = (-sim[0, :]).argsort()[:top_k]\n",
    "nearest_scores = [sim[0, j] for j in nearest]\n",
    "\n",
    "for k in range(top_k):\n",
    "    print(music.nodes[l.node_id_inv[nearest[k]]], nearest_scores[k])"
   ]
  },
  {
   "cell_type": "code",
   "execution_count": 78,
   "metadata": {},
   "outputs": [
    {
     "name": "stdout",
     "output_type": "stream",
     "text": [
      "{'name': 'Allman Brothers Band'} 0.6447925\n"
     ]
    }
   ],
   "source": [
    "# what about genres?\n",
    "node_names = [\"classic rock\"]\n",
    "relationships = [\"has_genre\"]\n",
    "\n",
    "query_nodes, query_rels = get_query(node_names, relationships)\n",
    "\n",
    "batch_x = [np.array(query_nodes).reshape(-1, 1),\n",
    "            np.array(query_rels).reshape(-1, 1)]\n",
    "\n",
    "sim = evaluate(get_embedding(batch_x)).numpy()\n",
    "top_k = 1  # number of nearest neighbors.\n",
    "nearest = (-sim[0, :]).argsort()[:top_k]\n",
    "nearest_scores = [sim[0, j] for j in nearest]\n",
    "\n",
    "for k in range(top_k):\n",
    "    print(music.nodes[l.node_id_inv[nearest[k]]], nearest_scores[k])"
   ]
  },
  {
   "cell_type": "code",
   "execution_count": null,
   "metadata": {},
   "outputs": [],
   "source": []
  },
  {
   "cell_type": "code",
   "execution_count": null,
   "metadata": {},
   "outputs": [],
   "source": []
  }
 ],
 "metadata": {
  "kernelspec": {
   "display_name": "Python 3",
   "language": "python",
   "name": "python3"
  },
  "language_info": {
   "codemirror_mode": {
    "name": "ipython",
    "version": 3
   },
   "file_extension": ".py",
   "mimetype": "text/x-python",
   "name": "python",
   "nbconvert_exporter": "python",
   "pygments_lexer": "ipython3",
   "version": "3.7.5"
  }
 },
 "nbformat": 4,
 "nbformat_minor": 4
}
